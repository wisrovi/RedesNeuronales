{
  "nbformat": 4,
  "nbformat_minor": 0,
  "metadata": {
    "colab": {
      "name": "Te damos la bienvenida a Colaboratory",
      "provenance": [],
      "collapsed_sections": [],
      "machine_shape": "hm",
      "include_colab_link": true
    },
    "kernelspec": {
      "name": "python3",
      "display_name": "Python 3"
    },
    "accelerator": "GPU"
  },
  "cells": [
    {
      "cell_type": "markdown",
      "metadata": {
        "id": "view-in-github",
        "colab_type": "text"
      },
      "source": [
        "<a href=\"https://colab.research.google.com/github/wisrovi/RedesNeuronales/blob/master/07MAIR-WilliamSteveRodriguezVillamizar.ipynb\" target=\"_parent\"><img src=\"https://colab.research.google.com/assets/colab-badge.svg\" alt=\"Open In Colab\"/></a>"
      ]
    },
    {
      "cell_type": "markdown",
      "metadata": {
        "id": "zqqRVNReQKkT",
        "colab_type": "text"
      },
      "source": [
        "# 0. Nota sobre notebook (leer antes de ejecutar otra linea)"
      ]
    },
    {
      "cell_type": "markdown",
      "metadata": {
        "id": "6ElxHm9ROsr6",
        "colab_type": "text"
      },
      "source": [
        ""
      ]
    },
    {
      "cell_type": "markdown",
      "metadata": {
        "id": "uOeT2G9KOffA",
        "colab_type": "text"
      },
      "source": [
        "# 1. Bibliografia"
      ]
    },
    {
      "cell_type": "code",
      "metadata": {
        "id": "__eVaqBTw3T8",
        "colab_type": "code",
        "colab": {}
      },
      "source": [
        "#urlArchivos = \"https://drive.google.com/drive/folders/1w2w5dAF269C646RBwwU33YLNUG4JRfh9?usp=sharing\""
      ],
      "execution_count": 0,
      "outputs": []
    },
    {
      "cell_type": "code",
      "metadata": {
        "id": "nTrQGtyJQNaE",
        "colab_type": "code",
        "colab": {}
      },
      "source": [
        "#!pip install tensorflow==2.0.0-alpha0"
      ],
      "execution_count": 0,
      "outputs": []
    },
    {
      "cell_type": "code",
      "metadata": {
        "id": "PjFtuL8AMOG-",
        "colab_type": "code",
        "colab": {}
      },
      "source": [
        "#https://github.com/jbagnato/machine-learning\n",
        "#https://www.datacamp.com/community/tutorials/convolutional-neural-networks-python#cnn\n",
        "#https://www.datacamp.com/community/blog/keras-cheat-sheet\n",
        "#https://www.pyimagesearch.com/2018/12/24/how-to-use-keras-fit-and-fit_generator-a-hands-on-tutorial/\n",
        "#https://www.pyimagesearch.com/2019/07/08/keras-imagedatagenerator-and-data-augmentation/\n",
        "#https://machinelearningmastery.com/how-to-configure-image-data-augmentation-when-training-deep-learning-neural-networks/"
      ],
      "execution_count": 0,
      "outputs": []
    },
    {
      "cell_type": "markdown",
      "metadata": {
        "id": "0AS0xQFPxgrA",
        "colab_type": "text"
      },
      "source": [
        "# 2. Iniciar Sistema"
      ]
    },
    {
      "cell_type": "markdown",
      "metadata": {
        "id": "lMLXo3q98M3S",
        "colab_type": "text"
      },
      "source": [
        "## 2.1. Importar Librerias"
      ]
    },
    {
      "cell_type": "code",
      "metadata": {
        "id": "8F6gZxIS7Kyp",
        "colab_type": "code",
        "outputId": "b5d218df-d613-4d04-8baf-f9e6a01912ea",
        "colab": {
          "base_uri": "https://localhost:8080/",
          "height": 0
        }
      },
      "source": [
        "#importo las librerias que se van a necesitar\n",
        "import pickle\n",
        "import matplotlib.pyplot as plt\n",
        "import numpy as np\n",
        "from numpy import array\n",
        "from numpy import expand_dims\n",
        "\n",
        "from keras import models\n",
        "from keras import layers\n",
        "\n",
        "from sklearn.model_selection import train_test_split\n",
        "\n",
        "from keras.utils import to_categorical #para que las salidas queden parametrizadas en binario\n",
        "\n",
        "from sklearn.metrics import classification_report #para ver parametros \n",
        "\n",
        "from keras.applications.inception_v3 import decode_predictions #para ver varios items de prediccion\n",
        "\n",
        "#para autoescalar la imagen al tamaño requerido por la red a reentrenar\n",
        "from keras.applications.inception_v3 import preprocess_input\n",
        "\n",
        "#Incrementar el número de ejemplos para evitar overfitting (junto con dropout)\n",
        "#Generar datos a partir de los presentes, a través de transformaciones\n",
        "from keras.preprocessing.image import ImageDataGenerator\n",
        "\n",
        "\n",
        "\n",
        "# Para las librerias para la red neuronal\n",
        "from keras.models import Sequential,Model\n",
        "from keras.layers import Dense, Dropout, Flatten\n",
        "from keras.layers import Conv2D, MaxPooling2D\n",
        "\n",
        "#callback para mejorar los entrenamientos\n",
        "from keras.callbacks import EarlyStopping, ReduceLROnPlateau, ModelCheckpoint, Callback  "
      ],
      "execution_count": 5,
      "outputs": [
        {
          "output_type": "stream",
          "text": [
            "Using TensorFlow backend.\n"
          ],
          "name": "stderr"
        },
        {
          "output_type": "display_data",
          "data": {
            "text/html": [
              "<p style=\"color: red;\">\n",
              "The default version of TensorFlow in Colab will soon switch to TensorFlow 2.x.<br>\n",
              "We recommend you <a href=\"https://www.tensorflow.org/guide/migrate\" target=\"_blank\">upgrade</a> now \n",
              "or ensure your notebook will continue to use TensorFlow 1.x via the <code>%tensorflow_version 1.x</code> magic:\n",
              "<a href=\"https://colab.research.google.com/notebooks/tensorflow_version.ipynb\" target=\"_blank\">more info</a>.</p>\n"
            ],
            "text/plain": [
              "<IPython.core.display.HTML object>"
            ]
          },
          "metadata": {
            "tags": []
          }
        }
      ]
    },
    {
      "cell_type": "markdown",
      "metadata": {
        "id": "iAiLv5Xp8BBN",
        "colab_type": "text"
      },
      "source": [
        "## 2.2. Conexion con Google y Drive"
      ]
    },
    {
      "cell_type": "code",
      "metadata": {
        "id": "P_BsT13NeVYg",
        "colab_type": "code",
        "outputId": "8d12ac5a-41b6-4b2d-b226-45443d2b1667",
        "colab": {
          "base_uri": "https://localhost:8080/",
          "height": 0
        }
      },
      "source": [
        "from google.colab import drive\n",
        "drive.mount('/content/gdrive')"
      ],
      "execution_count": 6,
      "outputs": [
        {
          "output_type": "stream",
          "text": [
            "Drive already mounted at /content/gdrive; to attempt to forcibly remount, call drive.mount(\"/content/gdrive\", force_remount=True).\n"
          ],
          "name": "stdout"
        }
      ]
    },
    {
      "cell_type": "code",
      "metadata": {
        "id": "XiJJMYSeqTR4",
        "colab_type": "code",
        "colab": {}
      },
      "source": [
        "###################################################################################################\n",
        "BASE_FOLDER = '/content/gdrive/My Drive/Master IA/Redes Neuronales/'\n",
        "###################################################################################################"
      ],
      "execution_count": 0,
      "outputs": []
    },
    {
      "cell_type": "code",
      "metadata": {
        "id": "qbb2hnaUtniZ",
        "colab_type": "code",
        "colab": {}
      },
      "source": [
        "#le indicamos al colaboratory que las importaciones de librerias propias se haran tambien desde el directorio base\n",
        "import sys\n",
        "sys.path.append(BASE_FOLDER)"
      ],
      "execution_count": 0,
      "outputs": []
    },
    {
      "cell_type": "markdown",
      "metadata": {
        "id": "-O_gtPMX8G0L",
        "colab_type": "text"
      },
      "source": [
        "## 2.3 Importar Librerias propias"
      ]
    },
    {
      "cell_type": "code",
      "metadata": {
        "id": "7fM3bqw1unIk",
        "colab_type": "code",
        "colab": {}
      },
      "source": [
        "from ModeloExterno import ModeloExterno"
      ],
      "execution_count": 0,
      "outputs": []
    },
    {
      "cell_type": "markdown",
      "metadata": {
        "id": "PVmc76dP7v2k",
        "colab_type": "text"
      },
      "source": [
        "## 2.4. Funciones"
      ]
    },
    {
      "cell_type": "code",
      "metadata": {
        "id": "M9QOVrN_7ejl",
        "colab_type": "code",
        "colab": {}
      },
      "source": [
        "#Algunas funciones utiles\n",
        "def plot_image(img, title=\"\"):\n",
        "    #plt.figure(figsize=(8, 8))\n",
        "    plt.imshow(img)\n",
        "    plt.title(title)\n",
        "    #plt.axis('off')\n",
        "    plt.show()\n",
        "\n",
        "def convertLabelsToNumbers(y_train):\n",
        "    # Transformando las labels de texto a valores numéricos\n",
        "    y = np.unique(y_train)\n",
        "    mapping = { key : value for key,value in zip(y,range(len(y)))}\n",
        "    processed_y = np.array([mapping[i] for i in y_train])\n",
        "    #print(len(mapping))\n",
        "    return processed_y\n",
        "\n",
        "def DividirDatos_Train_Test_Predic(x, y, porcentaje=0.33, randomDiv=52):\n",
        "    print(\"Datos para división recibidos\")\n",
        "\n",
        "    # dividir los datos entre training, test y predic\n",
        "    X_train, X_test, y_train, y_test = train_test_split(\n",
        "        x_train_all, processed_y, \n",
        "        test_size=porcentaje, \n",
        "        random_state=randomDiv)\n",
        "    print(\"División todo el dataset en: train y test completa\")\n",
        "\n",
        "    X_test, X_predic, y_test, y_predic = train_test_split(\n",
        "        X_test, y_test, \n",
        "        test_size=porcentaje, \n",
        "        random_state=randomDiv)\n",
        "    print(\"División dataset test en: test y predict completa\")\n",
        "    \n",
        "    #Hacemos el One-hot Encoding\n",
        "    train_Y_one_hot = to_categorical(y_train)\n",
        "    test_Y_one_hot = to_categorical(y_test)\n",
        "    predic_Y_one_hot = to_categorical(y_predic)\n",
        "    print(\"Conversión de salidas en categorias completa\")\n",
        "\n",
        "    return (X_train, train_Y_one_hot), (X_test, test_Y_one_hot), (X_predic, predic_Y_one_hot)\n",
        "\n",
        "def plot_history(history):\n",
        "    # list all data in history\n",
        "    print(history.history.keys())\n",
        "    # summarize history for accuracy\n",
        "\n",
        "    # summarize history for loss\n",
        "    plt.plot(history.history['loss'])\n",
        "    plt.plot(history.history['acc'])\n",
        "    plt.title('model loss')\n",
        "    plt.ylabel('loss')\n",
        "    plt.xlabel('epoch')\n",
        "    plt.legend(['train', 'test'], loc='upper left')\n",
        "    plt.show()\n",
        "\n",
        "def plot_pred(pred):\n",
        "    plt.figure(figsize=(8, 2))\n",
        "    classes = [c[1] for c in pred]\n",
        "    probas = [c[2] for c in pred]\n",
        "    y_pos = np.arange(len(classes))\n",
        "    plt.barh(y_pos, probas, align='center')\n",
        "    plt.yticks(y_pos, classes)\n",
        "    plt.gca().invert_yaxis()\n",
        "    plt.xlabel('Probability')\n",
        "    plt.xlim(0, 1)\n",
        "\n",
        "def DefineCallback(nameFileIfSave): #guardar el mejor modelo w.r.t en val_losses\n",
        "    \"\"\"\n",
        "    Agradecimientos a Data Talks, \n",
        "    url: https://www.youtube.com/watch?v=Gl-N3xr5zLI\n",
        "    \"\"\"    \n",
        "    #EarlyStopping, detener el entrenamiento una vez que su pérdida comienza a aumentar \n",
        "    early_stop = EarlyStopping(\n",
        "        monitor='val_loss', \n",
        "        patience=5, #argumento de patience representa el número de épocas antes de detenerse una vez que su pérdida comienza a aumentar (deja de mejorar). \n",
        "        min_delta=0,  #es un umbral para cuantificar una pérdida en alguna época como mejora o no. Si la diferencia de pérdida es inferior a min_delta , se cuantifica como no mejora. Es mejor dejarlo como 0 ya que estamos interesados ​​en cuando la pérdida empeora.\n",
        "        mode='auto')\n",
        "        \n",
        "    mcp_save = ModelCheckpoint(\n",
        "        nameFileIfSave + 'model-{Epoch:03d}-{acc:03f}-{val_acc:03f}.h5', \n",
        "        monitor='val_loss',\n",
        "        save_best_only=True, \n",
        "        mode='min')\n",
        "\n",
        "    #ReduceLROnPlateau, que si el entrenamiento no mejora tras unos epochs específicos, reduce el valor de learning rate del modelo\n",
        "    reduce_lr = ReduceLROnPlateau(\n",
        "        monitor='val_loss', \n",
        "        factor=0.1, \n",
        "        patience=5, \n",
        "        epsilon=1e-4, \n",
        "        mode='min')\n",
        "    \n",
        "    callbacks_list = [early_stop, reduce_lr, mcp_save]  \n",
        "    return callbacks_list\n",
        "\n",
        "#hago las conversiones a la imagen\n",
        "dataAumentationApliqued = False\n",
        "def ConverImageUsingImageDataGenerator(datagen, imagen, nombre, cantidadConversiones):\n",
        "    listaConversiones = []\n",
        "    listaEtiquetasCadaConversion = []\n",
        "    imagen4dimensiones = expand_dims(imagenConvertir, 0)\n",
        "    imagen3dimensiones = np.squeeze(imagen4dimensiones)\n",
        "    listaConversiones.append(convertNumpyToList(imagen3dimensiones))\n",
        "\n",
        "    iterator_datagen_train = datagen.flow(imagen4dimensiones, batch_size=1)\n",
        "\n",
        "    for i in range(cantidadConversiones):\n",
        "        batch = iterator_datagen_train.next()\n",
        "        image = np.squeeze(batch[0])\n",
        "        listaConversiones.append(convertNumpyToList(image))\n",
        "\n",
        "    for i in range(len(listaConversiones)):\n",
        "        listaEtiquetasCadaConversion.append(nombreImagen)\n",
        "    \n",
        "\n",
        "    return listaConversiones, listaEtiquetasCadaConversion\n",
        "\n",
        "def convertNumpyToList(imagenNumpy):\n",
        "    return list(imagenNumpy)\n",
        "\n",
        "def convertListoToNumpy(imagenList):\n",
        "    return array(imagenList)"
      ],
      "execution_count": 0,
      "outputs": []
    },
    {
      "cell_type": "markdown",
      "metadata": {
        "id": "_43c4mc_8XTF",
        "colab_type": "text"
      },
      "source": [
        "## 2.5. Importar Dataseet y clases"
      ]
    },
    {
      "cell_type": "code",
      "metadata": {
        "id": "JpNLDp__8daj",
        "colab_type": "code",
        "outputId": "7d4b7c92-b102-45b7-cb97-6bdcf77f2f59",
        "colab": {
          "base_uri": "https://localhost:8080/",
          "height": 52
        }
      },
      "source": [
        "#Cargo los archivos de clases y las imagenes\n",
        "with open(BASE_FOLDER+\"pickle_all_images_df-002.pickle\", \"rb\") as input_file:\n",
        "    x_train_all = pickle.load(input_file)\n",
        "with open(BASE_FOLDER+\"pickle_all_classes.pickle\", \"rb\") as input_file:\n",
        "    y_train_all = pickle.load(input_file)\n",
        "\n",
        "number_of_classes = len(y_train_all)\n",
        "\n",
        "print(\"Entradas: \",x_train_all.shape)\n",
        "print(\"Salidas: \", number_of_classes)"
      ],
      "execution_count": 11,
      "outputs": [
        {
          "output_type": "stream",
          "text": [
            "Entradas:  (9145, 128, 128, 3)\n",
            "Salidas:  9145\n"
          ],
          "name": "stdout"
        }
      ]
    },
    {
      "cell_type": "code",
      "metadata": {
        "id": "aAxLBVYlPrz2",
        "colab_type": "code",
        "outputId": "b90ff975-22aa-4902-9f73-85a6d842ef67",
        "colab": {
          "base_uri": "https://localhost:8080/",
          "height": 268
        }
      },
      "source": [
        "#show a image\n",
        "plot_image(x_train_all[15])"
      ],
      "execution_count": 12,
      "outputs": [
        {
          "output_type": "display_data",
          "data": {
            "image/png": "[encoded data removed]",
            "text/plain": [
              "<Figure size 432x288 with 1 Axes>"
            ]
          },
          "metadata": {
            "tags": []
          }
        }
      ]
    },
    {
      "cell_type": "markdown",
      "metadata": {
        "id": "6Ih72Coy6Jis",
        "colab_type": "text"
      },
      "source": [
        "## 2.6. Aumentar el set de datos con DataGenerator (Opcional pero mejora los modelos cuando se utiliza)"
      ]
    },
    {
      "cell_type": "markdown",
      "metadata": {
        "id": "bHxbyzfq6PMV",
        "colab_type": "text"
      },
      "source": [
        "### 2.6.1 Creando el modelo generador de datos"
      ]
    },
    {
      "cell_type": "code",
      "metadata": {
        "id": "lPlhv1W1GoOR",
        "colab_type": "code",
        "colab": {}
      },
      "source": [
        "#Creamos el datagen del ImageDataGenerator para definir que cambios podria tener la imagen original\n",
        "\n",
        "datagen = ImageDataGenerator(\n",
        "    rotation_range=25, # grados de rotacion aleatoria\n",
        "    width_shift_range=0.15, # fraccion del total (1) para mover la imagen\n",
        "    height_shift_range=0.15, # fraccion del total (1) para mover la imagen\n",
        "    shear_range=0.05, # deslizamiento\n",
        "    zoom_range=0.1, # rango de zoom\n",
        "    horizontal_flip=True, # girar las imagenes horizontalmente (eje vertical)\n",
        "    fill_mode='nearest', # como rellenar posibles nuevos pixeles\n",
        "    channel_shift_range=0.2 # cambios aleatorios en los canales de la imagen\n",
        ")"
      ],
      "execution_count": 0,
      "outputs": []
    },
    {
      "cell_type": "markdown",
      "metadata": {
        "id": "rcndsS1SPIyi",
        "colab_type": "text"
      },
      "source": [
        "### 2.6.2.Aplicando el data aumentation en el dataset original"
      ]
    },
    {
      "cell_type": "code",
      "metadata": {
        "id": "Xh7scHI957Sw",
        "colab_type": "code",
        "outputId": "f9706eac-db84-4092-b668-b78d56cc9934",
        "colab": {
          "base_uri": "https://localhost:8080/",
          "height": 140
        }
      },
      "source": [
        "cantidadConversiones = 2 #probado y funcionando con valor de 4\n",
        "\n",
        "\n",
        "\n",
        "#También se incluirá la imagen original (en la practica no se suele usar la imagen original, pero para tener un dataset más grande en esta oportunidad la incluiremos)\n",
        "\n",
        "\n",
        "if dataAumentationApliqued == False:\n",
        "    print(\"Cantidad imagenes iniciales: \", len(x_train_all))\n",
        "    print(\"Cantidad etiquetas iniciales: \", len(y_train_all))\n",
        "    print(\"Tipo datos iniciales: \", type(x_train_all))\n",
        "    listadoImagenes = []\n",
        "    listaEtiquetasImagen = []\n",
        "    for imagenProcesar in range(len(x_train_all)):    \n",
        "        imagenConvertir = x_train_all[imagenProcesar] #elijo la imagen a usar de todo el dataset\n",
        "        nombreImagen = y_train_all[imagenProcesar]\n",
        "        listaConversiones, listaEtiquetasCadaConversion = ConverImageUsingImageDataGenerator(datagen, imagenConvertir, nombreImagen, cantidadConversiones-1)\n",
        "        #añado las conversiones a la lista con append\n",
        "        for i in range(len(listaConversiones)):\n",
        "            listadoImagenes.append(listaConversiones[i])\n",
        "            listaEtiquetasImagen.append(listaEtiquetasCadaConversion[i])\n",
        "\n",
        "    #convierto la lista nuevamente a numpy para entregarla a los modelos\n",
        "    x_train_all = convertListoToNumpy(listadoImagenes)\n",
        "    y_train_all = convertListoToNumpy(listaEtiquetasImagen)\n",
        "    print()\n",
        "    print(\"Cantidad imagenes finales: \", len(x_train_all))\n",
        "    print(\"Cantidad etiquetas finales: \", len(y_train_all))\n",
        "    print(\"Tipo datos finales: \", type(x_train_all))\n",
        "    dataAumentationApliqued = True\n",
        "else:\n",
        "    print(\"No se puede aplicar dataAumentation varias veces, si desea usarlo nuevamente, vuelva a reiniciar el colab (disponible en el menú de 'Entorno de ejecución').\")"
      ],
      "execution_count": 14,
      "outputs": [
        {
          "output_type": "stream",
          "text": [
            "Cantidad imagenes iniciales:  9145\n",
            "Cantidad etiquetas iniciales:  9145\n",
            "Tipo datos iniciales:  <class 'numpy.ndarray'>\n",
            "\n",
            "Cantidad imagenes finales:  18290\n",
            "Cantidad etiquetas finales:  18290\n",
            "Tipo datos finales:  <class 'numpy.ndarray'>\n"
          ],
          "name": "stdout"
        }
      ]
    },
    {
      "cell_type": "markdown",
      "metadata": {
        "id": "bS_1wQUl6hlj",
        "colab_type": "text"
      },
      "source": [
        "# 3. Repartiendo los datos entre Train, test, eval y predic"
      ]
    },
    {
      "cell_type": "code",
      "metadata": {
        "id": "kpXtBcKER_Au",
        "colab_type": "code",
        "colab": {
          "base_uri": "https://localhost:8080/",
          "height": 52
        },
        "outputId": "942b5bc7-a9ac-4daa-a96c-77e385cdcead"
      },
      "source": [
        "print(\"Cantidad imagenes: \", len(x_train_all))\n",
        "print(\"Cantidad etiquetas: \", len(y_train_all))"
      ],
      "execution_count": 15,
      "outputs": [
        {
          "output_type": "stream",
          "text": [
            "Cantidad imagenes:  18290\n",
            "Cantidad etiquetas:  18290\n"
          ],
          "name": "stdout"
        }
      ]
    },
    {
      "cell_type": "code",
      "metadata": {
        "id": "tOFDQShhM6rB",
        "colab_type": "code",
        "colab": {
          "base_uri": "https://localhost:8080/",
          "height": 34
        },
        "outputId": "ccf9b1c3-3760-472c-b818-b93c7872bf5d"
      },
      "source": [
        "processed_y = convertLabelsToNumbers(y_train_all)\n",
        "salidasCategoricas = to_categorical(processed_y)\n",
        "\n",
        "classesImageGenerator = np.unique(salidasCategoricas)\n",
        "nClassesImageGenerator = len(salidasCategoricas[1])\n",
        "print(\"Cantidad de categorias en las clases\",nClassesImageGenerator)"
      ],
      "execution_count": 16,
      "outputs": [
        {
          "output_type": "stream",
          "text": [
            "Cantidad de categorias en las clases 102\n"
          ],
          "name": "stdout"
        }
      ]
    },
    {
      "cell_type": "code",
      "metadata": {
        "id": "TqHrPX6fPmNA",
        "colab_type": "code",
        "outputId": "64ebc9ca-113c-4b60-cdbc-73edb111e22b",
        "colab": {
          "base_uri": "https://localhost:8080/",
          "height": 286
        }
      },
      "source": [
        "imagen = 7\n",
        "plot_image(x_train_all[imagen])\n",
        "print(processed_y[imagen], y_train_all[imagen])"
      ],
      "execution_count": 17,
      "outputs": [
        {
          "output_type": "display_data",
          "data": {
            "image/png": "[encoded data removed]",
            "text/plain": [
              "<Figure size 432x288 with 1 Axes>"
            ]
          },
          "metadata": {
            "tags": []
          }
        },
        {
          "output_type": "stream",
          "text": [
            "5 accordion\n"
          ],
          "name": "stdout"
        }
      ]
    },
    {
      "cell_type": "code",
      "metadata": {
        "id": "YEKKoqBN8tU8",
        "colab_type": "code",
        "outputId": "709965d8-40cb-4f23-d1c0-78bcfb706bcb",
        "colab": {
          "base_uri": "https://localhost:8080/",
          "height": 316
        }
      },
      "source": [
        "classes = np.unique(processed_y)\n",
        "nClasses = len(classes)\n",
        "\n",
        "(X_train, y_train), (X_test, y_test), (X_predic, y_predic) = DividirDatos_Train_Test_Predic(x_train_all, processed_y)\n",
        "\n",
        "print(\"Training (66.98%)\") \n",
        "print(\"X_train\", X_train.shape)\n",
        "print(\"y_train\", y_train.shape)\n",
        "print() \n",
        "print(\"Test (22.1%)\") \n",
        "print(\"X_test\", X_test.shape)\n",
        "print(\"y_test\", y_test.shape)\n",
        "print()\n",
        "print(\"Predict (10.89%)\") \n",
        "print(\"X_predic\", X_predic.shape)\n",
        "print(\"y_predic\", y_predic.shape)\n",
        "\n",
        "print()\n",
        "if y_predic.shape[1] == y_test.shape[1] and y_test.shape[1] == y_train.shape[1]:\n",
        "    print(\"Distribución correcta\")\n",
        "else:\n",
        "    print(\"Fallo en la distribución\")"
      ],
      "execution_count": 18,
      "outputs": [
        {
          "output_type": "stream",
          "text": [
            "Datos para división recibidos\n",
            "División todo el dataset en: train y test completa\n",
            "División dataset test en: test y predict completa\n",
            "Conversión de salidas en categorias completa\n",
            "Training (66.98%)\n",
            "X_train (12254, 128, 128, 3)\n",
            "y_train (12254, 102)\n",
            "\n",
            "Test (22.1%)\n",
            "X_test (4044, 128, 128, 3)\n",
            "y_test (4044, 102)\n",
            "\n",
            "Predict (10.89%)\n",
            "X_predic (1992, 128, 128, 3)\n",
            "y_predic (1992, 102)\n",
            "\n",
            "Distribución correcta\n"
          ],
          "name": "stdout"
        }
      ]
    },
    {
      "cell_type": "code",
      "metadata": {
        "id": "5q42cnB1LCyS",
        "colab_type": "code",
        "outputId": "37e96091-51f1-4a93-a7fe-fca27865558d",
        "colab": {
          "base_uri": "https://localhost:8080/",
          "height": 140
        }
      },
      "source": [
        "#Creamos el Set de Entrenamiento y Validación\n",
        "#divido los datos de entrenamiento en dos, un 80% para el entrenamiento y otro 20% para validacion\n",
        "train_X,valid_X,train_label,valid_label = train_test_split(\n",
        "    X_train, y_train, \n",
        "    test_size=0.1, random_state=43)\n",
        "\n",
        "print(\"training\")\n",
        "print(train_X.shape)\n",
        "print(train_label.shape)\n",
        "print()\n",
        "print(\"Valid\")\n",
        "print(valid_X.shape)\n",
        "print(valid_label.shape)"
      ],
      "execution_count": 19,
      "outputs": [
        {
          "output_type": "stream",
          "text": [
            "training\n",
            "(11028, 128, 128, 3)\n",
            "(11028, 102)\n",
            "\n",
            "Valid\n",
            "(1226, 128, 128, 3)\n",
            "(1226, 102)\n"
          ],
          "name": "stdout"
        }
      ]
    },
    {
      "cell_type": "markdown",
      "metadata": {
        "id": "llpE8UA871kq",
        "colab_type": "text"
      },
      "source": [
        "# 4. Nueva Red Neuronal"
      ]
    },
    {
      "cell_type": "markdown",
      "metadata": {
        "id": "EPOLVRFpOSBW",
        "colab_type": "text"
      },
      "source": [
        "## Red Neuronal"
      ]
    },
    {
      "cell_type": "code",
      "metadata": {
        "id": "vSYYNM1_azmX",
        "colab_type": "code",
        "colab": {}
      },
      "source": [
        "nombreModelo = \"wisrovi-nuevoModelo\""
      ],
      "execution_count": 0,
      "outputs": []
    },
    {
      "cell_type": "code",
      "metadata": {
        "id": "n5Puba0QN6nR",
        "colab_type": "code",
        "colab": {}
      },
      "source": [
        "modelExtern = ModeloExterno(nombreModelo=nombreModelo, rutaBase=BASE_FOLDER)"
      ],
      "execution_count": 0,
      "outputs": []
    },
    {
      "cell_type": "code",
      "metadata": {
        "id": "32aShwOn7QuE",
        "colab_type": "code",
        "outputId": "bb8a5c37-fb2a-4562-ab61-034ba8b7b138",
        "colab": {
          "base_uri": "https://localhost:8080/",
          "height": 668
        }
      },
      "source": [
        "print(\"********** Modelo *********\")\n",
        "\n",
        "new_model = Sequential()\n",
        "new_model.add(\n",
        "    Conv2D(32,\n",
        "           kernel_size=(3, 3),\n",
        "           activation='relu',\n",
        "           padding='same',\n",
        "           input_shape=(128,128,3)\n",
        "           )\n",
        "    )\n",
        "new_model.add( Conv2D(32, kernel_size=(3, 3), activation='relu', padding='same'  ) )\n",
        "new_model.add(MaxPooling2D((2, 2),padding='same'))\n",
        "new_model.add(Dropout(0.5))\n",
        "\n",
        "new_model.add( Conv2D(32, kernel_size=(3, 3), activation='relu', padding='same'  ) )\n",
        "new_model.add( Conv2D(32, kernel_size=(3, 3), activation='relu', padding='same'  ) )\n",
        "\n",
        "new_model.add(Dropout(0.25)) #apagar un 25% de manera aleatoria para reducir la cantidad de parametros\n",
        "new_model.add(Dense(64, activation='relu'))\n",
        "new_model.add(Dense(64, activation='relu'))\n",
        "\n",
        "new_model.add(Dense(64, activation='relu'))\n",
        "new_model.add(Dropout(0.5)) #apagar un 50% de manera aleatoria para reducir la cantidad de parametros\n",
        "new_model.add(Flatten()) #para aplanar todas las capas\n",
        "new_model.add(Dense(nClasses, activation='softmax')) #Genero la capa final con la cantidad de neuronas segun la cantidad de opciones de clasificacion\n",
        "\n",
        "new_model.summary()\n",
        "\n",
        "new_model.compile(optimizer='adam',\n",
        "               loss='categorical_crossentropy',\n",
        "               metrics=['accuracy'])\n",
        "\n",
        "modelExtern.GuardarModelo(new_model)"
      ],
      "execution_count": 25,
      "outputs": [
        {
          "output_type": "stream",
          "text": [
            "********** Modelo *********\n",
            "Model: \"sequential_2\"\n",
            "_________________________________________________________________\n",
            "Layer (type)                 Output Shape              Param #   \n",
            "=================================================================\n",
            "conv2d_5 (Conv2D)            (None, 128, 128, 32)      896       \n",
            "_________________________________________________________________\n",
            "conv2d_6 (Conv2D)            (None, 128, 128, 32)      9248      \n",
            "_________________________________________________________________\n",
            "max_pooling2d_2 (MaxPooling2 (None, 64, 64, 32)        0         \n",
            "_________________________________________________________________\n",
            "dropout_4 (Dropout)          (None, 64, 64, 32)        0         \n",
            "_________________________________________________________________\n",
            "conv2d_7 (Conv2D)            (None, 64, 64, 32)        9248      \n",
            "_________________________________________________________________\n",
            "conv2d_8 (Conv2D)            (None, 64, 64, 32)        9248      \n",
            "_________________________________________________________________\n",
            "dropout_5 (Dropout)          (None, 64, 64, 32)        0         \n",
            "_________________________________________________________________\n",
            "dense_5 (Dense)              (None, 64, 64, 64)        2112      \n",
            "_________________________________________________________________\n",
            "dense_6 (Dense)              (None, 64, 64, 64)        4160      \n",
            "_________________________________________________________________\n",
            "dense_7 (Dense)              (None, 64, 64, 64)        4160      \n",
            "_________________________________________________________________\n",
            "dropout_6 (Dropout)          (None, 64, 64, 64)        0         \n",
            "_________________________________________________________________\n",
            "flatten_2 (Flatten)          (None, 262144)            0         \n",
            "_________________________________________________________________\n",
            "dense_8 (Dense)              (None, 102)               26738790  \n",
            "=================================================================\n",
            "Total params: 26,777,862\n",
            "Trainable params: 26,777,862\n",
            "Non-trainable params: 0\n",
            "_________________________________________________________________\n",
            "Modelo guardado!\n"
          ],
          "name": "stdout"
        },
        {
          "output_type": "execute_result",
          "data": {
            "text/plain": [
              "True"
            ]
          },
          "metadata": {
            "tags": []
          },
          "execution_count": 25
        }
      ]
    },
    {
      "cell_type": "markdown",
      "metadata": {
        "id": "llchrJsgXXfH",
        "colab_type": "text"
      },
      "source": [
        "## Entrenar el modelo"
      ]
    },
    {
      "cell_type": "code",
      "metadata": {
        "id": "LIjNMxQL7Qzz",
        "colab_type": "code",
        "outputId": "a1149bda-9bb2-477e-fb70-1c7f8edcfdb4",
        "colab": {
          "base_uri": "https://localhost:8080/",
          "height": 494
        }
      },
      "source": [
        "#Entreno el modelo\n",
        "numeroEntrenamientos = 30 #Al final de cada entrenamiento guardo los mejores pesos\n",
        "numeroEpocas = 10  #ciclos en los cuales evaluo los datos de entrenamiento para hallar los mejores pesos\n",
        "oldModel = None\n",
        "oldAccuaricy = 0\n",
        "for i in range(numeroEntrenamientos):     \n",
        "    print()   \n",
        "    print()\n",
        "    print(\"Entrenamiento \" + str(i + 1))\n",
        "\n",
        "    history = new_model.fit(\n",
        "        train_X, train_label, \n",
        "        batch_size=64, # cantidad de imágenes que se toman a la vez en memoria\n",
        "        epochs=numeroEpocas, \n",
        "        verbose=1,\n",
        "        validation_data=(valid_X, valid_label),\n",
        "        callbacks=DefineCallback(nombreModelo)\n",
        "        )\n",
        "        \n",
        "    plot_history(history)\n",
        "    \n",
        "    test_eval = new_model.evaluate(X_test, y_test, verbose=1)\n",
        "    print('Test loss:', test_eval[0])\n",
        "    print('Test accuracy:', test_eval[1])\n",
        "\n",
        "    if oldAccuaricy < test_eval[1]:\n",
        "        oldAccuaricy = test_eval[1]\n",
        "        modelExtern.GuardarPesosModelo()\n",
        "        oldModel = new_model\n",
        "    else:\n",
        "        new_model = oldModel\n",
        "    print(\"***************\")    \n",
        "    print()"
      ],
      "execution_count": 0,
      "outputs": [
        {
          "output_type": "stream",
          "text": [
            "\n",
            "\n",
            "Entrenamiento 1\n",
            "WARNING:tensorflow:From /usr/local/lib/python3.6/dist-packages/tensorflow_core/python/ops/math_grad.py:1424: where (from tensorflow.python.ops.array_ops) is deprecated and will be removed in a future version.\n",
            "Instructions for updating:\n",
            "Use tf.where in 2.0, which has the same broadcast rule as np.where\n"
          ],
          "name": "stdout"
        },
        {
          "output_type": "stream",
          "text": [
            "/usr/local/lib/python3.6/dist-packages/keras/callbacks.py:1335: UserWarning: `epsilon` argument is deprecated and will be removed, use `min_delta` instead.\n",
            "  warnings.warn('`epsilon` argument is deprecated and '\n"
          ],
          "name": "stderr"
        },
        {
          "output_type": "stream",
          "text": [
            "WARNING:tensorflow:From /usr/local/lib/python3.6/dist-packages/keras/backend/tensorflow_backend.py:1033: The name tf.assign_add is deprecated. Please use tf.compat.v1.assign_add instead.\n",
            "\n",
            "WARNING:tensorflow:From /usr/local/lib/python3.6/dist-packages/keras/backend/tensorflow_backend.py:1020: The name tf.assign is deprecated. Please use tf.compat.v1.assign instead.\n",
            "\n",
            "WARNING:tensorflow:From /usr/local/lib/python3.6/dist-packages/keras/backend/tensorflow_backend.py:3005: The name tf.Session is deprecated. Please use tf.compat.v1.Session instead.\n",
            "\n",
            "Train on 11028 samples, validate on 1226 samples\n",
            "Epoch 1/10\n",
            "WARNING:tensorflow:From /usr/local/lib/python3.6/dist-packages/keras/backend/tensorflow_backend.py:190: The name tf.get_default_session is deprecated. Please use tf.compat.v1.get_default_session instead.\n",
            "\n",
            "WARNING:tensorflow:From /usr/local/lib/python3.6/dist-packages/keras/backend/tensorflow_backend.py:197: The name tf.ConfigProto is deprecated. Please use tf.compat.v1.ConfigProto instead.\n",
            "\n",
            "WARNING:tensorflow:From /usr/local/lib/python3.6/dist-packages/keras/backend/tensorflow_backend.py:207: The name tf.global_variables is deprecated. Please use tf.compat.v1.global_variables instead.\n",
            "\n",
            "WARNING:tensorflow:From /usr/local/lib/python3.6/dist-packages/keras/backend/tensorflow_backend.py:216: The name tf.is_variable_initialized is deprecated. Please use tf.compat.v1.is_variable_initialized instead.\n",
            "\n",
            "WARNING:tensorflow:From /usr/local/lib/python3.6/dist-packages/keras/backend/tensorflow_backend.py:223: The name tf.variables_initializer is deprecated. Please use tf.compat.v1.variables_initializer instead.\n",
            "\n"
          ],
          "name": "stdout"
        }
      ]
    },
    {
      "cell_type": "code",
      "metadata": {
        "id": "l2M6jYjDP0Dw",
        "colab_type": "code",
        "colab": {}
      },
      "source": [
        "#valido el modelo\n",
        "test_eval = new_model.evaluate(X_test, y_test, verbose=1)\n",
        "print('Test loss:', test_eval[0])\n",
        "print('Test accuracy:', test_eval[1])"
      ],
      "execution_count": 0,
      "outputs": []
    },
    {
      "cell_type": "code",
      "metadata": {
        "id": "SMBVJgXmSs6_",
        "colab_type": "code",
        "colab": {}
      },
      "source": [
        "modelExtern.GuardarPesosModelo()"
      ],
      "execution_count": 0,
      "outputs": []
    },
    {
      "cell_type": "markdown",
      "metadata": {
        "id": "afFipdWhTq01",
        "colab_type": "text"
      },
      "source": [
        "## Cargar Modelo Red Neuronal Guardado"
      ]
    },
    {
      "cell_type": "code",
      "metadata": {
        "id": "PBKMoPfRTvNX",
        "colab_type": "code",
        "colab": {}
      },
      "source": [
        "modeloCargado = modelExtern.CargarModeloGuardado(True)"
      ],
      "execution_count": 0,
      "outputs": []
    },
    {
      "cell_type": "code",
      "metadata": {
        "id": "9KKfHbGUU3fZ",
        "colab_type": "code",
        "colab": {}
      },
      "source": [
        "#valido el modelo\n",
        "test_eval = modeloCargado.evaluate(X_predic, y_predic, verbose=1)\n",
        "print('Test loss:', test_eval[0])\n",
        "print('Test accuracy:', test_eval[1])"
      ],
      "execution_count": 0,
      "outputs": []
    },
    {
      "cell_type": "markdown",
      "metadata": {
        "id": "-tAfR_p0LUz-",
        "colab_type": "text"
      },
      "source": [
        "# 5. Reentrenar un modelo de ImageNet"
      ]
    },
    {
      "cell_type": "markdown",
      "metadata": {
        "id": "gDOpf9aWLau3",
        "colab_type": "text"
      },
      "source": [
        "## Cargar Modelo ImageNet"
      ]
    },
    {
      "cell_type": "code",
      "metadata": {
        "id": "fZ43mQRW7Qpt",
        "colab_type": "code",
        "colab": {}
      },
      "source": [
        "# VGG16, VGG19, ResNet50, \n",
        "#Xception, InceptionV3, InceptionResNetV2, \n",
        "#MobileNetV2, DenseNet, RasNet\n",
        "\n",
        "\n",
        "#https://www.learnopencv.com/keras-tutorial-fine-tuning-using-pre-trained-models/\n",
        "\n",
        "from keras.applications import VGG16 \n",
        "conv_base = VGG16(weights='imagenet',\n",
        "                 include_top=False, # Si se deben incluir o no las capas de salida originales del modelo\n",
        "                 input_shape=(128,128,3))\n",
        "\n",
        "congelarTodoModeloImagenet = False\n",
        "if congelarTodoModeloImagenet:\n",
        "  conv_base.trainable = False\n",
        "else:\n",
        "  # Freeze the layers except the last 4 layers\n",
        "  cantidadCapasFinalesDescongelar = 5\n",
        "  for layer in conv_base.layers[:-cantidadCapasFinalesDescongelar]:\n",
        "      layer.trainable = False\n",
        "      pass\n",
        "\n",
        "  # Check the trainable status of the individual layers\n",
        "  for layer in conv_base.layers:\n",
        "      pass\n",
        "      print(layer, layer.trainable)\n",
        "\n",
        "conv_base.summary()"
      ],
      "execution_count": 0,
      "outputs": []
    },
    {
      "cell_type": "markdown",
      "metadata": {
        "id": "Xx926sqBLk0z",
        "colab_type": "text"
      },
      "source": [
        "## Crear nuestro modelo e incluirle el modelo de imageNet"
      ]
    },
    {
      "cell_type": "code",
      "metadata": {
        "id": "tFV7dCp27QnE",
        "colab_type": "code",
        "colab": {}
      },
      "source": [
        "modeloTrasnferenciaConocimiento = ModeloExterno(nombreModelo=\"wisrovi-transferLearning\", rutaBase=BASE_FOLDER)"
      ],
      "execution_count": 0,
      "outputs": []
    },
    {
      "cell_type": "code",
      "metadata": {
        "id": "5soqPRWlDcZ3",
        "colab_type": "code",
        "colab": {}
      },
      "source": [
        "pre_trained_model = models.Sequential()\n",
        "pre_trained_model.add(conv_base)\n",
        "\n",
        "pre_trained_model.add(Dropout(0.25)) #apagar un 25% de manera aleatoria para reducir la cantidad de parametros\n",
        "\n",
        "\n",
        "pre_trained_model.add(\n",
        "    Conv2D(32,\n",
        "           kernel_size=(3, 3),\n",
        "           activation='relu',\n",
        "           padding='same',\n",
        "           input_shape=(128,128,3)\n",
        "           )\n",
        "    )\n",
        "\n",
        "pre_trained_model.add( Conv2D(32, kernel_size=(3, 3), activation='relu', padding='same'  ) )\n",
        "\n",
        "pre_trained_model.add(Dropout(0.25)) #apagar un 25% de manera aleatoria para reducir la cantidad de parametros\n",
        "\n",
        "#para aplanar todas las capas\n",
        "#esto se hace debido a que el modelo de VG16 nos da 4 dimensiones de salida, y con esto reducimos las dimensiones a dos: numero datos, numero clases\n",
        "pre_trained_model.add(Flatten()) \n",
        "\n",
        "# conectarlo a nueva parte densa\n",
        "# Genero la capa final con la cantidad de neuronas segun la cantidad de opciones de clasificacion\n",
        "pre_trained_model.add(Dense(nClasses, activation='softmax')) \n",
        "\n",
        "pre_trained_model.summary()\n",
        "\n",
        "# compilar el modelo\n",
        "pre_trained_model.compile(optimizer='adam',\n",
        "               loss='categorical_crossentropy',\n",
        "               metrics=['accuracy'])\n",
        "\n",
        "modeloTrasnferenciaConocimiento.GuardarModelo(pre_trained_model)"
      ],
      "execution_count": 0,
      "outputs": []
    },
    {
      "cell_type": "markdown",
      "metadata": {
        "id": "6QVfy9R-RleC",
        "colab_type": "text"
      },
      "source": [
        "## Entrenar Modelo Con conocimiento Transferido"
      ]
    },
    {
      "cell_type": "code",
      "metadata": {
        "id": "_EBapwPcQF5E",
        "colab_type": "code",
        "colab": {}
      },
      "source": [
        "#Entreno el modelo\n",
        "\n",
        "#Al final de cada entrenamiento guardo los mejores pesos\n",
        "numeroEntrenamientos = 30\n",
        "\n",
        "#ciclos en los cuales evaluo los datos de entrenamiento para hallar los mejores pesos\n",
        "numeroEpocas = 15\n",
        "\n",
        "#ver datos entrenamiento\n",
        "print(\"Int: \", train_X.shape)\n",
        "print(\"Out: \", train_label.shape)\n",
        "\n",
        "oldModel = None\n",
        "oldAccuaricy = 0\n",
        "for i in range(numeroEntrenamientos):     \n",
        "    print()   \n",
        "    print()\n",
        "    print(\"Entrenamiento \" + str(i + 1))\n",
        "\n",
        "    history = pre_trained_model.fit(\n",
        "        train_X, train_label, \n",
        "        batch_size=64, # cantidad de imágenes que se toman a la vez en memoria\n",
        "        epochs=numeroEpocas,        \n",
        "        verbose=1,\n",
        "        validation_data=(valid_X, valid_label),\n",
        "        callbacks=DefineCallback()\n",
        "        )\n",
        "        \n",
        "    plot_history(history)   \n",
        "\n",
        "    test_eval = pre_trained_model.evaluate(X_test, y_test, verbose=1)\n",
        "    print('Test loss:', test_eval[0])\n",
        "    print('Test accuracy:', test_eval[1])\n",
        "\n",
        "    if oldAccuaricy < test_eval[1]:\n",
        "        oldAccuaricy = test_eval[1]\n",
        "        modeloTrasnferenciaConocimiento.GuardarPesosModelo()\n",
        "        oldModel = pre_trained_model\n",
        "    else:\n",
        "        pre_trained_model = oldModel\n",
        "    print(\"***************\")    \n",
        "    print()"
      ],
      "execution_count": 0,
      "outputs": []
    },
    {
      "cell_type": "code",
      "metadata": {
        "id": "ilio5dT7TYtM",
        "colab_type": "code",
        "colab": {}
      },
      "source": [
        "modeloCargadoTransferenciaConocimiento = modeloTrasnferenciaConocimiento.CargarModeloGuardado(True)"
      ],
      "execution_count": 0,
      "outputs": []
    },
    {
      "cell_type": "code",
      "metadata": {
        "id": "SOLwmbY-TKdq",
        "colab_type": "code",
        "colab": {}
      },
      "source": [
        "#valido el modelo\n",
        "test_eval = modeloCargadoTransferenciaConocimiento.evaluate(X_predic, y_predic, verbose=1)\n",
        "print('Test loss:', test_eval[0])\n",
        "print('Test accuracy:', test_eval[1])"
      ],
      "execution_count": 0,
      "outputs": []
    },
    {
      "cell_type": "code",
      "metadata": {
        "id": "H278QBRSTgC4",
        "colab_type": "code",
        "colab": {}
      },
      "source": [
        ""
      ],
      "execution_count": 0,
      "outputs": []
    },
    {
      "cell_type": "code",
      "metadata": {
        "id": "wbZpgusGTgBe",
        "colab_type": "code",
        "colab": {}
      },
      "source": [
        ""
      ],
      "execution_count": 0,
      "outputs": []
    },
    {
      "cell_type": "code",
      "metadata": {
        "id": "XgKFnEXjTf-A",
        "colab_type": "code",
        "colab": {}
      },
      "source": [
        ""
      ],
      "execution_count": 0,
      "outputs": []
    },
    {
      "cell_type": "code",
      "metadata": {
        "id": "Ff8k9RjVTf7j",
        "colab_type": "code",
        "colab": {}
      },
      "source": [
        ""
      ],
      "execution_count": 0,
      "outputs": []
    },
    {
      "cell_type": "code",
      "metadata": {
        "id": "4BSV4uNvHHdp",
        "colab_type": "code",
        "colab": {}
      },
      "source": [
        ""
      ],
      "execution_count": 0,
      "outputs": []
    },
    {
      "cell_type": "code",
      "metadata": {
        "id": "7XhDjV1HHHYT",
        "colab_type": "code",
        "colab": {}
      },
      "source": [
        "url = 'https://www.aprendemachinelearning.com/clasificacion-de-imagenes-en-python/'"
      ],
      "execution_count": 0,
      "outputs": []
    },
    {
      "cell_type": "markdown",
      "metadata": {
        "id": "kEVXhpUYj5J8",
        "colab_type": "text"
      },
      "source": [
        "# 6. Conclusiones"
      ]
    },
    {
      "cell_type": "markdown",
      "metadata": {
        "id": "UE0jz2pAj-oL",
        "colab_type": "text"
      },
      "source": [
        "Al usar la transferencia de conocimiento es más facil alcanzar un modelo de clasificacion óptimo para el objetivo propuesto en pocas epocas de reentrenamiento"
      ]
    },
    {
      "cell_type": "markdown",
      "metadata": {
        "id": "VgxTr9twkSS8",
        "colab_type": "text"
      },
      "source": [
        ""
      ]
    },
    {
      "cell_type": "markdown",
      "metadata": {
        "id": "LguJlC7gkSY5",
        "colab_type": "text"
      },
      "source": [
        ""
      ]
    },
    {
      "cell_type": "markdown",
      "metadata": {
        "id": "0pRDp79PkSQT",
        "colab_type": "text"
      },
      "source": [
        ""
      ]
    }
  ]
}