{
  "nbformat": 4,
  "nbformat_minor": 0,
  "metadata": {
    "colab": {
      "name": "Te damos la bienvenida a Colaboratory",
      "provenance": [],
      "collapsed_sections": [],
      "toc_visible": true,
      "include_colab_link": true
    },
    "kernelspec": {
      "name": "python3",
      "display_name": "Python 3"
    },
    "accelerator": "GPU"
  },
  "cells": [
    {
      "cell_type": "markdown",
      "metadata": {
        "id": "view-in-github",
        "colab_type": "text"
      },
      "source": [
        "<a href=\"https://colab.research.google.com/github/wisrovi/RedesNeuronales/blob/master/07MAIR-WilliamSteveRodriguezVillamizar.ipynb\" target=\"_parent\"><img src=\"https://colab.research.google.com/assets/colab-badge.svg\" alt=\"Open In Colab\"/></a>"
      ]
    },
    {
      "cell_type": "code",
      "metadata": {
        "id": "ZaCxr11koF2j",
        "colab_type": "code",
        "colab": {
          "base_uri": "https://localhost:8080/",
          "height": 125
        },
        "outputId": "402c9226-fef5-4177-a706-8daf581ea10e"
      },
      "source": [
        "from google.colab import drive\n",
        "drive.mount('/content/gdrive', force_remount=True)"
      ],
      "execution_count": 1,
      "outputs": [
        {
          "output_type": "stream",
          "text": [
            "Go to this URL in a browser: https://accounts.google.com/o/oauth2/auth?client_id=947318989803-6bn6qk8qdgf4n4g3pfee6491hc0brc4i.apps.googleusercontent.com&redirect_uri=urn%3Aietf%3Awg%3Aoauth%3A2.0%3Aoob&scope=email%20https%3A%2F%2Fwww.googleapis.com%2Fauth%2Fdocs.test%20https%3A%2F%2Fwww.googleapis.com%2Fauth%2Fdrive%20https%3A%2F%2Fwww.googleapis.com%2Fauth%2Fdrive.photos.readonly%20https%3A%2F%2Fwww.googleapis.com%2Fauth%2Fpeopleapi.readonly&response_type=code\n",
            "\n",
            "Enter your authorization code:\n",
            "··········\n",
            "Mounted at /content/gdrive\n"
          ],
          "name": "stdout"
        }
      ]
    },
    {
      "cell_type": "code",
      "metadata": {
        "id": "XiJJMYSeqTR4",
        "colab_type": "code",
        "colab": {}
      },
      "source": [
        "###################################################################################################\n",
        "BASE_FOLDER = '/content/drive/My Drive/Master IA/Redes Neuronales/'\n",
        "BASE_FOLDER = '/content/gdrive/My Drive/Master IA/Redes Neuronales/'\n",
        "###################################################################################################"
      ],
      "execution_count": 0,
      "outputs": []
    },
    {
      "cell_type": "code",
      "metadata": {
        "id": "wBxq0EZ4lAzZ",
        "colab_type": "code",
        "colab": {
          "base_uri": "https://localhost:8080/",
          "height": 34
        },
        "outputId": "2d4c367d-565d-4175-9367-0e85136dbf4c"
      },
      "source": [
        "!pwd"
      ],
      "execution_count": 5,
      "outputs": [
        {
          "output_type": "stream",
          "text": [
            "/content\n"
          ],
          "name": "stdout"
        }
      ]
    },
    {
      "cell_type": "code",
      "metadata": {
        "id": "teppWRU9mGrP",
        "colab_type": "code",
        "colab": {
          "base_uri": "https://localhost:8080/",
          "height": 386
        },
        "outputId": "7a599167-cb29-4c36-8a15-fa3a9722344a"
      },
      "source": [
        "!ls \"/content/gdrive/My Drive/Master IA/Redes Neuronales/caltech101_dataset/101_ObjectCategories\""
      ],
      "execution_count": 6,
      "outputs": [
        {
          "output_type": "stream",
          "text": [
            "accordion\t   cougar_body\t    garfield\t  menorah     snoopy\n",
            "airplanes\t   cougar_face\t    gerenuk\t  metronome   soccer_ball\n",
            "anchor\t\t   crab\t\t    gramophone\t  minaret     stapler\n",
            "ant\t\t   crayfish\t    grand_piano   Motorbikes  starfish\n",
            "BACKGROUND_Google  crocodile\t    hawksbill\t  nautilus    stegosaurus\n",
            "barrel\t\t   crocodile_head   headphone\t  octopus     stop_sign\n",
            "bass\t\t   cup\t\t    hedgehog\t  okapi       strawberry\n",
            "beaver\t\t   dalmatian\t    helicopter\t  pagoda      sunflower\n",
            "binocular\t   dollar_bill\t    ibis\t  panda       tick\n",
            "bonsai\t\t   dolphin\t    inline_skate  pigeon      trilobite\n",
            "brain\t\t   dragonfly\t    joshua_tree   pizza       umbrella\n",
            "brontosaurus\t   electric_guitar  kangaroo\t  platypus    watch\n",
            "buddha\t\t   elephant\t    ketch\t  pyramid     water_lilly\n",
            "butterfly\t   emu\t\t    lamp\t  revolver    wheelchair\n",
            "camera\t\t   euphonium\t    laptop\t  rhino       wild_cat\n",
            "cannon\t\t   ewer\t\t    Leopards\t  rooster     windsor_chair\n",
            "car_side\t   Faces\t    llama\t  saxophone   wrench\n",
            "ceiling_fan\t   Faces_easy\t    lobster\t  schooner    yin_yang\n",
            "cellphone\t   ferry\t    lotus\t  scissors\n",
            "chair\t\t   flamingo\t    mandolin\t  scorpion\n",
            "chandelier\t   flamingo_head    mayfly\t  sea_horse\n"
          ],
          "name": "stdout"
        }
      ]
    },
    {
      "cell_type": "code",
      "metadata": {
        "id": "-vJ8rz8blYdl",
        "colab_type": "code",
        "colab": {}
      },
      "source": [
        "path = BASE_FOLDER + \"caltech101_dataset/101_ObjectCategories\"\n",
        "\n",
        "import pickle\n",
        "\n",
        "os.chdir(path)\n",
        "folders = os.listdir()\n",
        "folder_paths = []\n",
        "all_images = []\n",
        "all_classes = []\n",
        "img_size = 128"
      ],
      "execution_count": 0,
      "outputs": []
    },
    {
      "cell_type": "code",
      "metadata": {
        "id": "9Muks75wnIR2",
        "colab_type": "code",
        "colab": {}
      },
      "source": [
        "from PIL import Image\n",
        "\n",
        "def make_square(image, min_size=img_size, fill_color=(0, 0, 0, 0)):\n",
        "    size = (min_size, min_size)\n",
        "    image.thumbnail(size, Image.ANTIALIAS)\n",
        "    background = Image.new('RGB', size, (255, 255, 255, 0))\n",
        "    background.paste(\n",
        "        image, (int((size[0] - image.size[0]) / 2), int((size[1] - image.size[1]) / 2))\n",
        "    )\n",
        "\n",
        "    new_img = np.array(background)\n",
        "    new_img.flatten()\n",
        "    return new_img"
      ],
      "execution_count": 0,
      "outputs": []
    },
    {
      "cell_type": "code",
      "metadata": {
        "id": "YKqT2F4BnTmx",
        "colab_type": "code",
        "colab": {}
      },
      "source": [
        "for folder in range(len(folders)):\n",
        "    folder_paths = path+str('/') + str(folders[folder])+str('/')\n",
        "    os.chdir(folder_paths)\n",
        "    image_in_folder = os.listdir()\n",
        "    \n",
        "    for image in range(len(image_in_folder)):\n",
        "        img = Image.open(image_in_folder[image])\n",
        "        img = make_square(img)\n",
        "        \n",
        "        all_images.append(img.flatten()/255)\n",
        "        all_classes.append(folders[folder])"
      ],
      "execution_count": 0,
      "outputs": []
    },
    {
      "cell_type": "code",
      "metadata": {
        "id": "hqHGD262n2Fn",
        "colab_type": "code",
        "colab": {}
      },
      "source": [
        "print(\"Clases: \",len(all_classes))\n",
        "print(\"Imagenes: \",len(all_images))"
      ],
      "execution_count": 0,
      "outputs": []
    },
    {
      "cell_type": "code",
      "metadata": {
        "id": "6ukWqZMboAbf",
        "colab_type": "code",
        "colab": {}
      },
      "source": [
        "# convert to shape 128x128x3\n",
        "all_images_df = np.asarray(all_images).reshape(len(all_images),128,128,3)\n",
        "all_images_df.shape"
      ],
      "execution_count": 0,
      "outputs": []
    },
    {
      "cell_type": "code",
      "metadata": {
        "id": "BdQm6hu_oBGu",
        "colab_type": "code",
        "colab": {}
      },
      "source": [
        "# show image\n",
        "imgplot = plt.imshow(all_images_df[129])\n",
        "plt.show()"
      ],
      "execution_count": 0,
      "outputs": []
    },
    {
      "cell_type": "code",
      "metadata": {
        "id": "nOm0dt20oDRP",
        "colab_type": "code",
        "colab": {}
      },
      "source": [
        "import sys\n",
        "sys.getsizeof(all_images_df)"
      ],
      "execution_count": 0,
      "outputs": []
    },
    {
      "cell_type": "code",
      "metadata": {
        "id": "jADyAptwoGS4",
        "colab_type": "code",
        "colab": {}
      },
      "source": [
        "import pickle\n",
        "\n",
        "os.chdir(path)\n",
        "\n",
        "pickle_out = open(\"pickle_all_images_df.pickle\",\"wb\")\n",
        "pickle.dump(all_images_df, pickle_out)\n",
        "pickle_out.close()\n",
        "\n",
        "pickle_out = open(\"pickle_all_classes.pickle\",\"wb\")\n",
        "pickle.dump(all_classes, pickle_out)\n",
        "pickle_out.close()"
      ],
      "execution_count": 0,
      "outputs": []
    },
    {
      "cell_type": "code",
      "metadata": {
        "id": "gYGPIK1aoN5B",
        "colab_type": "code",
        "colab": {}
      },
      "source": [
        "with open(r\"pickle_all_images_df.pickle\", \"rb\") as input_file:\n",
        "    load_data = pickle.load(input_file)"
      ],
      "execution_count": 0,
      "outputs": []
    },
    {
      "cell_type": "code",
      "metadata": {
        "id": "abE5FrZNqyHP",
        "colab_type": "code",
        "colab": {
          "base_uri": "https://localhost:8080/",
          "height": 258
        },
        "outputId": "ae83b461-9c29-4425-f545-22558fd73a81"
      },
      "source": [
        "# DESCARGAR Y DESCOMPRIMIR EL DATASET CALTECH_PREPROCESADO DEL GDRIVE\n",
        "# Cargar las ndarrays\n",
        "with open(BASE_FOLDER+\"pickle_all_images_df.pickle\", \"rb\") as input_file:\n",
        "    x_train = pickle.load(input_file)\n",
        "with open(BASE_FOLDER+\"pickle_all_classes.pickle\", \"rb\") as input_file:\n",
        "    y_train = pickle.load(input_file)\n",
        "\n",
        "print(x_train.shape)\n",
        "print(len(y_train))\n",
        "\n",
        "# show image\n",
        "imgplot = plt.imshow(x_train[129])\n",
        "plt.show()\n",
        "\n",
        "# Transformando las labels de texto a valores numéricos\n",
        "y = np.unique(y_train)\n",
        "mapping = { key : value for key,value in zip(y,range(len(y)))}\n",
        "processed_y = np.array([mapping[i] for i in y_train])\n",
        "\n",
        "print(processed_y[129])"
      ],
      "execution_count": 13,
      "outputs": [
        {
          "output_type": "error",
          "ename": "FileNotFoundError",
          "evalue": "ignored",
          "traceback": [
            "\u001b[0;31m---------------------------------------------------------------------------\u001b[0m",
            "\u001b[0;31mFileNotFoundError\u001b[0m                         Traceback (most recent call last)",
            "\u001b[0;32m<ipython-input-13-58f2a44d2573>\u001b[0m in \u001b[0;36m<module>\u001b[0;34m()\u001b[0m\n\u001b[1;32m     11\u001b[0m \u001b[0;31m# DESCARGAR Y DESCOMPRIMIR EL DATASET CALTECH_PREPROCESADO DEL GDRIVE\u001b[0m\u001b[0;34m\u001b[0m\u001b[0;34m\u001b[0m\u001b[0;34m\u001b[0m\u001b[0m\n\u001b[1;32m     12\u001b[0m \u001b[0;31m# Cargar las ndarrays\u001b[0m\u001b[0;34m\u001b[0m\u001b[0;34m\u001b[0m\u001b[0;34m\u001b[0m\u001b[0m\n\u001b[0;32m---> 13\u001b[0;31m \u001b[0;32mwith\u001b[0m \u001b[0mopen\u001b[0m\u001b[0;34m(\u001b[0m\u001b[0mBASE_FOLDER\u001b[0m\u001b[0;34m+\u001b[0m\u001b[0;34m\"pickle_all_images_df.pickle\"\u001b[0m\u001b[0;34m,\u001b[0m \u001b[0;34m\"rb\"\u001b[0m\u001b[0;34m)\u001b[0m \u001b[0;32mas\u001b[0m \u001b[0minput_file\u001b[0m\u001b[0;34m:\u001b[0m\u001b[0;34m\u001b[0m\u001b[0;34m\u001b[0m\u001b[0m\n\u001b[0m\u001b[1;32m     14\u001b[0m     \u001b[0mx_train\u001b[0m \u001b[0;34m=\u001b[0m \u001b[0mpickle\u001b[0m\u001b[0;34m.\u001b[0m\u001b[0mload\u001b[0m\u001b[0;34m(\u001b[0m\u001b[0minput_file\u001b[0m\u001b[0;34m)\u001b[0m\u001b[0;34m\u001b[0m\u001b[0;34m\u001b[0m\u001b[0m\n\u001b[1;32m     15\u001b[0m \u001b[0;32mwith\u001b[0m \u001b[0mopen\u001b[0m\u001b[0;34m(\u001b[0m\u001b[0mBASE_FOLDER\u001b[0m\u001b[0;34m+\u001b[0m\u001b[0;34m\"pickle_all_classes.pickle\"\u001b[0m\u001b[0;34m,\u001b[0m \u001b[0;34m\"rb\"\u001b[0m\u001b[0;34m)\u001b[0m \u001b[0;32mas\u001b[0m \u001b[0minput_file\u001b[0m\u001b[0;34m:\u001b[0m\u001b[0;34m\u001b[0m\u001b[0;34m\u001b[0m\u001b[0m\n",
            "\u001b[0;31mFileNotFoundError\u001b[0m: [Errno 2] No such file or directory: '/content/drive/My Drive/Master IA/Autores/07MAIR/Intro Deep learning/Recursos del profesor 2019/Actividad/pickle_all_images_df.pickle'"
          ]
        }
      ]
    }
  ]
}