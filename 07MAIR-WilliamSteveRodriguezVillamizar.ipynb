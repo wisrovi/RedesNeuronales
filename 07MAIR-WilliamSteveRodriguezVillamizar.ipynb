{
  "nbformat": 4,
  "nbformat_minor": 0,
  "metadata": {
    "colab": {
      "name": "Te damos la bienvenida a Colaboratory",
      "provenance": [],
      "collapsed_sections": [],
      "machine_shape": "hm",
      "include_colab_link": true
    },
    "kernelspec": {
      "name": "python3",
      "display_name": "Python 3"
    },
    "accelerator": "GPU"
  },
  "cells": [
    {
      "cell_type": "markdown",
      "metadata": {
        "id": "view-in-github",
        "colab_type": "text"
      },
      "source": [
        "<a href=\"https://colab.research.google.com/github/wisrovi/RedesNeuronales/blob/master/07MAIR-WilliamSteveRodriguezVillamizar.ipynb\" target=\"_parent\"><img src=\"https://colab.research.google.com/assets/colab-badge.svg\" alt=\"Open In Colab\"/></a>"
      ]
    },
    {
      "cell_type": "markdown",
      "metadata": {
        "id": "zqqRVNReQKkT",
        "colab_type": "text"
      },
      "source": [
        "# Bibliografia"
      ]
    },
    {
      "cell_type": "code",
      "metadata": {
        "id": "__eVaqBTw3T8",
        "colab_type": "code",
        "colab": {}
      },
      "source": [
        "#urlArchivos = \"https://drive.google.com/drive/folders/1w2w5dAF269C646RBwwU33YLNUG4JRfh9?usp=sharing\""
      ],
      "execution_count": 0,
      "outputs": []
    },
    {
      "cell_type": "code",
      "metadata": {
        "id": "nTrQGtyJQNaE",
        "colab_type": "code",
        "colab": {}
      },
      "source": [
        "#!pip install tensorflow==2.0.0-alpha0"
      ],
      "execution_count": 0,
      "outputs": []
    },
    {
      "cell_type": "code",
      "metadata": {
        "id": "PjFtuL8AMOG-",
        "colab_type": "code",
        "colab": {}
      },
      "source": [
        "#https://github.com/jbagnato/machine-learning\n",
        "#https://www.datacamp.com/community/tutorials/convolutional-neural-networks-python#cnn\n",
        "#https://www.datacamp.com/community/blog/keras-cheat-sheet\n",
        "#https://www.pyimagesearch.com/2018/12/24/how-to-use-keras-fit-and-fit_generator-a-hands-on-tutorial/"
      ],
      "execution_count": 0,
      "outputs": []
    },
    {
      "cell_type": "markdown",
      "metadata": {
        "id": "0AS0xQFPxgrA",
        "colab_type": "text"
      },
      "source": [
        "# Iniciar Sistema"
      ]
    },
    {
      "cell_type": "markdown",
      "metadata": {
        "id": "lMLXo3q98M3S",
        "colab_type": "text"
      },
      "source": [
        "## Importar Librerias"
      ]
    },
    {
      "cell_type": "code",
      "metadata": {
        "id": "8F6gZxIS7Kyp",
        "colab_type": "code",
        "colab": {}
      },
      "source": [
        "#importo las librerias que se van a necesitar\n",
        "import pickle\n",
        "import matplotlib.pyplot as plt\n",
        "import numpy as np\n",
        "from numpy import array\n",
        "\n",
        "from keras import models\n",
        "from keras import layers\n",
        "\n",
        "from sklearn.model_selection import train_test_split\n",
        "\n",
        "from keras.utils import to_categorical #para que las salidas queden parametrizadas en binario\n",
        "\n",
        "from sklearn.metrics import classification_report #para ver parametros \n",
        "\n",
        "from keras.applications.inception_v3 import decode_predictions #para ver varios items de prediccion\n",
        "\n",
        "#para autoescalar la imagen al tamaño requerido por la red a reentrenar\n",
        "from keras.applications.inception_v3 import preprocess_input\n",
        "\n",
        "#Incrementar el número de ejemplos para evitar overfitting (junto con dropout)\n",
        "#Generar datos a partir de los presentes, a través de transformaciones\n",
        "from keras.preprocessing.image import ImageDataGenerator\n",
        "\n",
        "\n",
        "\n",
        "# Para las librerias para la red neuronal\n",
        "from keras.models import Sequential,Model\n",
        "from keras.layers import Dense, Dropout, Flatten\n",
        "from keras.layers import Conv2D, MaxPooling2D\n",
        "\n",
        "#callback para mejorar los entrenamientos\n",
        "from keras.callbacks import EarlyStopping, ReduceLROnPlateau, ModelCheckpoint, Callback  "
      ],
      "execution_count": 0,
      "outputs": []
    },
    {
      "cell_type": "markdown",
      "metadata": {
        "id": "iAiLv5Xp8BBN",
        "colab_type": "text"
      },
      "source": [
        "## Conexion con Google y Drive"
      ]
    },
    {
      "cell_type": "code",
      "metadata": {
        "id": "P_BsT13NeVYg",
        "colab_type": "code",
        "outputId": "30cb8eee-9b0e-4be6-f485-5fda7a1542c6",
        "colab": {
          "base_uri": "https://localhost:8080/",
          "height": 54
        }
      },
      "source": [
        "from google.colab import drive\n",
        "drive.mount('/content/gdrive')"
      ],
      "execution_count": 36,
      "outputs": [
        {
          "output_type": "stream",
          "text": [
            "Drive already mounted at /content/gdrive; to attempt to forcibly remount, call drive.mount(\"/content/gdrive\", force_remount=True).\n"
          ],
          "name": "stdout"
        }
      ]
    },
    {
      "cell_type": "code",
      "metadata": {
        "id": "XiJJMYSeqTR4",
        "colab_type": "code",
        "colab": {}
      },
      "source": [
        "###################################################################################################\n",
        "BASE_FOLDER = '/content/gdrive/My Drive/Master IA/Redes Neuronales/'\n",
        "###################################################################################################"
      ],
      "execution_count": 0,
      "outputs": []
    },
    {
      "cell_type": "code",
      "metadata": {
        "id": "qbb2hnaUtniZ",
        "colab_type": "code",
        "colab": {}
      },
      "source": [
        "#le indicamos al colaboratory que las importaciones de librerias propias se haran tambien desde el directorio base\n",
        "import sys\n",
        "sys.path.append(BASE_FOLDER)"
      ],
      "execution_count": 0,
      "outputs": []
    },
    {
      "cell_type": "markdown",
      "metadata": {
        "id": "-O_gtPMX8G0L",
        "colab_type": "text"
      },
      "source": [
        "## Importar Librerias propias"
      ]
    },
    {
      "cell_type": "code",
      "metadata": {
        "id": "7fM3bqw1unIk",
        "colab_type": "code",
        "colab": {}
      },
      "source": [
        "from ModeloExterno import ModeloExterno"
      ],
      "execution_count": 0,
      "outputs": []
    },
    {
      "cell_type": "markdown",
      "metadata": {
        "id": "PVmc76dP7v2k",
        "colab_type": "text"
      },
      "source": [
        "## Funciones"
      ]
    },
    {
      "cell_type": "code",
      "metadata": {
        "id": "M9QOVrN_7ejl",
        "colab_type": "code",
        "colab": {}
      },
      "source": [
        "#Algunas funciones utiles\n",
        "def plot_image(img, title=\"\"):\n",
        "    #plt.figure(figsize=(8, 8))\n",
        "    plt.imshow(img)\n",
        "    plt.title(title)\n",
        "    #plt.axis('off')\n",
        "    plt.show()\n",
        "\n",
        "def convertLabelsToNumbers(y_train):\n",
        "    # Transformando las labels de texto a valores numéricos\n",
        "    y = np.unique(y_train)\n",
        "    mapping = { key : value for key,value in zip(y,range(len(y)))}\n",
        "    processed_y = np.array([mapping[i] for i in y_train])\n",
        "    #print(len(mapping))\n",
        "    return processed_y\n",
        "\n",
        "def DividirDatos_Train_Test_Predic(x, y, porcentaje=0.33, randomDiv=52):\n",
        "    # dividir los datos entre training, test y predic\n",
        "    X_train, X_test, y_train, y_test = train_test_split(\n",
        "        x_train_all, processed_y, \n",
        "        test_size=porcentaje, \n",
        "        random_state=randomDiv)\n",
        "\n",
        "    X_test, X_predic, y_test, y_predic = train_test_split(\n",
        "        X_test, y_test, \n",
        "        test_size=porcentaje, \n",
        "        random_state=randomDiv)\n",
        "    \n",
        "    #Hacemos el One-hot Encoding\n",
        "    train_Y_one_hot = to_categorical(y_train)\n",
        "    test_Y_one_hot = to_categorical(y_test)\n",
        "    predic_Y_one_hot = to_categorical(y_predic)\n",
        "\n",
        "    return (X_train, train_Y_one_hot), (X_test, test_Y_one_hot), (X_predic, predic_Y_one_hot)\n",
        "\n",
        "def plot_history(history):\n",
        "    # list all data in history\n",
        "    print(history.history.keys())\n",
        "    # summarize history for accuracy\n",
        "\n",
        "    # summarize history for loss\n",
        "    plt.plot(history.history['loss'])\n",
        "    plt.plot(history.history['acc'])\n",
        "    plt.title('model loss')\n",
        "    plt.ylabel('loss')\n",
        "    plt.xlabel('epoch')\n",
        "    plt.legend(['train', 'test'], loc='upper left')\n",
        "    plt.show()\n",
        "\n",
        "def plot_pred(pred):\n",
        "    plt.figure(figsize=(8, 2))\n",
        "    classes = [c[1] for c in pred]\n",
        "    probas = [c[2] for c in pred]\n",
        "    y_pos = np.arange(len(classes))\n",
        "    plt.barh(y_pos, probas, align='center')\n",
        "    plt.yticks(y_pos, classes)\n",
        "    plt.gca().invert_yaxis()\n",
        "    plt.xlabel('Probability')\n",
        "    plt.xlim(0, 1)\n",
        "\n",
        "def DefineCallback():\n",
        "    #EarlyStopping, para que el entrenamiento pare si ve que no mejora la función de coste tras determinados epochs\n",
        "    early_stop = EarlyStopping(monitor='val_loss', patience=8, verbose=1, min_delta=1e-4)  \n",
        "\n",
        "    #ReduceLROnPlateau, que si el entrenamiento no mejora tras unos epochs específicos, reduce el valor de learning rate del modelo\n",
        "    reduce_lr = ReduceLROnPlateau(monitor='val_loss', factor=0.1, patience=4, verbose=1, min_delta=1e-4)  \n",
        "    callbacks_list = [early_stop, reduce_lr]  \n",
        "    return callbacks_list"
      ],
      "execution_count": 0,
      "outputs": []
    },
    {
      "cell_type": "markdown",
      "metadata": {
        "id": "_43c4mc_8XTF",
        "colab_type": "text"
      },
      "source": [
        "## Importar Dataseet y clases"
      ]
    },
    {
      "cell_type": "code",
      "metadata": {
        "id": "JpNLDp__8daj",
        "colab_type": "code",
        "outputId": "b00ba79d-45a3-48ad-fa73-7fbf1a9cc0a5",
        "colab": {
          "base_uri": "https://localhost:8080/",
          "height": 52
        }
      },
      "source": [
        "#Cargo los archivos de clases y las imagenes\n",
        "with open(BASE_FOLDER+\"pickle_all_images_df-002.pickle\", \"rb\") as input_file:\n",
        "    x_train_all = pickle.load(input_file)\n",
        "with open(BASE_FOLDER+\"pickle_all_classes.pickle\", \"rb\") as input_file:\n",
        "    y_train_all = pickle.load(input_file)\n",
        "\n",
        "number_of_classes = len(y_train_all)\n",
        "\n",
        "print(\"Entradas: \",x_train_all.shape)\n",
        "print(\"Salidas: \", number_of_classes)"
      ],
      "execution_count": 41,
      "outputs": [
        {
          "output_type": "stream",
          "text": [
            "Entradas:  (9145, 128, 128, 3)\n",
            "Salidas:  9145\n"
          ],
          "name": "stdout"
        }
      ]
    },
    {
      "cell_type": "code",
      "metadata": {
        "id": "aAxLBVYlPrz2",
        "colab_type": "code",
        "colab": {
          "base_uri": "https://localhost:8080/",
          "height": 268
        },
        "outputId": "4feebe57-9c83-4198-abe9-1d70b18a9703"
      },
      "source": [
        "#show image\n",
        "plot_image(x_train_all[15])"
      ],
      "execution_count": 42,
      "outputs": [
        {
          "output_type": "display_data",
          "data": {
            "image/png": "[encoded data removed]",
            "text/plain": [
              "<Figure size 432x288 with 1 Axes>"
            ]
          },
          "metadata": {
            "tags": []
          }
        }
      ]
    },
    {
      "cell_type": "code",
      "metadata": {
        "id": "gn5W0Yyz8LXW",
        "colab_type": "code",
        "colab": {
          "base_uri": "https://localhost:8080/",
          "height": 52
        },
        "outputId": "92ae8ed8-2ecc-4f28-9ebf-565027955221"
      },
      "source": [
        "processed_y = convertLabelsToNumbers(y_train_all)\n",
        "salidasCategoricas = to_categorical(processed_y)\n",
        "\n",
        "print(len(salidasCategoricas[1]))\n",
        "\n",
        "classesImageGenerator = np.unique(salidasCategoricas)\n",
        "nClassesImageGenerator = len(salidasCategoricas[1])\n",
        "print(nClassesImageGenerator)"
      ],
      "execution_count": 43,
      "outputs": [
        {
          "output_type": "stream",
          "text": [
            "102\n",
            "102\n"
          ],
          "name": "stdout"
        }
      ]
    },
    {
      "cell_type": "markdown",
      "metadata": {
        "id": "izWHT3-ykXKY",
        "colab_type": "text"
      },
      "source": [
        "Se debe ejecutar todas las celdas antes de esta"
      ]
    },
    {
      "cell_type": "markdown",
      "metadata": {
        "id": "6Ih72Coy6Jis",
        "colab_type": "text"
      },
      "source": [
        "# Aumentar el set de datos con DataGenerator"
      ]
    },
    {
      "cell_type": "markdown",
      "metadata": {
        "id": "bHxbyzfq6PMV",
        "colab_type": "text"
      },
      "source": [
        "### Creando el modelo generador de datos"
      ]
    },
    {
      "cell_type": "code",
      "metadata": {
        "id": "Dx1mew-InfNZ",
        "colab_type": "code",
        "colab": {
          "base_uri": "https://localhost:8080/",
          "height": 554
        },
        "outputId": "4b578afd-d872-462e-e126-181dc2bc7bd2"
      },
      "source": [
        "plot_image(X_train_generator[0])\n",
        "print(type(X_train_generator))\n",
        "listadoImagenes = list(X_train_generator)\n",
        "\n",
        "#hago las conversiones a cada imagen\n",
        "#añado las conversiones a la lista con append\n",
        "#convierto la lista nuevamente a numpy para entregarla a los modelos\n",
        "\n",
        "print(type(listadoImagenes))\n",
        "numpyImagenes = array(listadoImagenes)\n",
        "plot_image(numpyImagenes[0])"
      ],
      "execution_count": 72,
      "outputs": [
        {
          "output_type": "display_data",
          "data": {
            "image/png": "[encoded data removed]",
            "text/plain": [
              "<Figure size 432x288 with 1 Axes>"
            ]
          },
          "metadata": {
            "tags": []
          }
        },
        {
          "output_type": "stream",
          "text": [
            "<class 'numpy.ndarray'>\n",
            "<class 'list'>\n"
          ],
          "name": "stdout"
        },
        {
          "output_type": "display_data",
          "data": {
            "image/png": "[encoded data removed]",
            "text/plain": [
              "<Figure size 432x288 with 1 Axes>"
            ]
          },
          "metadata": {
            "tags": []
          }
        }
      ]
    },
    {
      "cell_type": "code",
      "metadata": {
        "id": "AXfRIt1k8ce3",
        "colab_type": "code",
        "colab": {
          "base_uri": "https://localhost:8080/",
          "height": 52
        },
        "outputId": "7229fce7-d819-406b-efc0-5aa7b035108c"
      },
      "source": [
        "X_train_generator, X_test_generator, y_train_generator, y_test_generator = train_test_split(\n",
        "        x_train_all, salidasCategoricas, \n",
        "        test_size=0.33, \n",
        "        random_state=52)\n",
        "\n",
        "print(X_train_generator.shape, y_train_generator.shape)\n",
        "print(X_test_generator.shape, y_test_generator.shape)"
      ],
      "execution_count": 61,
      "outputs": [
        {
          "output_type": "stream",
          "text": [
            "(6127, 128, 128, 3) (6127, 102)\n",
            "(3018, 128, 128, 3) (3018, 102)\n"
          ],
          "name": "stdout"
        }
      ]
    },
    {
      "cell_type": "code",
      "metadata": {
        "id": "q2WV8yK6-27D",
        "colab_type": "code",
        "colab": {}
      },
      "source": [
        "modelImageGenerator = ModeloExterno(nombreModelo=\"wisrovi-imageGenerator\", rutaBase=BASE_FOLDER)"
      ],
      "execution_count": 0,
      "outputs": []
    },
    {
      "cell_type": "code",
      "metadata": {
        "id": "I3ts5_LC3EMu",
        "colab_type": "code",
        "colab": {
          "base_uri": "https://localhost:8080/",
          "height": 580
        },
        "outputId": "51205e26-00af-4cd2-c40a-1babbd18b25b"
      },
      "source": [
        "#Aumentamos el dataset para tener mas datos que procesar\n",
        "datagen = ImageDataGenerator(\n",
        "    rotation_range=25, # grados de rotacion aleatoria\n",
        "    width_shift_range=0.2, # fraccion del total (1) para mover la imagen\n",
        "    height_shift_range=0.2, # fraccion del total (1) para mover la imagen\n",
        "    shear_range=0.1, # deslizamiento\n",
        "    zoom_range=0.1, # rango de zoom\n",
        "    horizontal_flip=True, # girar las imagenes horizontalmente (eje vertical)\n",
        "    fill_mode='nearest', # como rellenar posibles nuevos pixeles\n",
        "    channel_shift_range=0.2 # cambios aleatorios en los canales de la imagen\n",
        ")\n",
        "\n",
        "convnet_augmentation = models.Sequential()\n",
        "convnet_augmentation.add(Conv2D(32,(3,3),input_shape=(128,128,3),activation='relu', padding='same'))\n",
        "convnet_augmentation.add(Conv2D(32,(3,3),activation='relu'))\n",
        "convnet_augmentation.add(MaxPooling2D((2, 2),padding='same'))\n",
        "convnet_augmentation.add(Dropout(0.5))\n",
        "convnet_augmentation.add(Conv2D(32,(3,3),activation='relu'))\n",
        "convnet_augmentation.add(MaxPooling2D((2,2)))\n",
        "convnet_augmentation.add(Flatten())\n",
        "convnet_augmentation.add(Dropout(0.25))\n",
        "convnet_augmentation.add(Dense(32,activation='relu'))\n",
        "convnet_augmentation.add(Dropout(0.5))\n",
        "convnet_augmentation.add(Dense(nClassesImageGenerator,activation='softmax'))\n",
        "\n",
        "convnet_augmentation.compile(optimizer='rmsprop',\n",
        "               loss='categorical_crossentropy', #para mas de dos clases de clasificación\n",
        "               metrics=['accuracy'])\n",
        "\n",
        "convnet_augmentation.summary()\n",
        "\n",
        "modelImageGenerator.GuardarModelo(convnet_augmentation)"
      ],
      "execution_count": 30,
      "outputs": [
        {
          "output_type": "stream",
          "text": [
            "Model: \"sequential_3\"\n",
            "_________________________________________________________________\n",
            "Layer (type)                 Output Shape              Param #   \n",
            "=================================================================\n",
            "conv2d_3 (Conv2D)            (None, 128, 128, 32)      896       \n",
            "_________________________________________________________________\n",
            "conv2d_4 (Conv2D)            (None, 126, 126, 32)      9248      \n",
            "_________________________________________________________________\n",
            "max_pooling2d_2 (MaxPooling2 (None, 63, 63, 32)        0         \n",
            "_________________________________________________________________\n",
            "dropout_6 (Dropout)          (None, 63, 63, 32)        0         \n",
            "_________________________________________________________________\n",
            "conv2d_5 (Conv2D)            (None, 61, 61, 32)        9248      \n",
            "_________________________________________________________________\n",
            "max_pooling2d_3 (MaxPooling2 (None, 30, 30, 32)        0         \n",
            "_________________________________________________________________\n",
            "flatten_3 (Flatten)          (None, 28800)             0         \n",
            "_________________________________________________________________\n",
            "dropout_7 (Dropout)          (None, 28800)             0         \n",
            "_________________________________________________________________\n",
            "dense_10 (Dense)             (None, 32)                921632    \n",
            "_________________________________________________________________\n",
            "dropout_8 (Dropout)          (None, 32)                0         \n",
            "_________________________________________________________________\n",
            "dense_11 (Dense)             (None, 102)               3366      \n",
            "=================================================================\n",
            "Total params: 944,390\n",
            "Trainable params: 944,390\n",
            "Non-trainable params: 0\n",
            "_________________________________________________________________\n",
            "Modelo guardado!\n"
          ],
          "name": "stdout"
        },
        {
          "output_type": "execute_result",
          "data": {
            "text/plain": [
              "True"
            ]
          },
          "metadata": {
            "tags": []
          },
          "execution_count": 30
        }
      ]
    },
    {
      "cell_type": "markdown",
      "metadata": {
        "id": "tK96RPvI6Vy3",
        "colab_type": "text"
      },
      "source": [
        "### Preparando y entrenando el modelo Generador de datos"
      ]
    },
    {
      "cell_type": "code",
      "metadata": {
        "id": "WuqvRObD3EJL",
        "colab_type": "code",
        "colab": {
          "base_uri": "https://localhost:8080/",
          "height": 1000
        },
        "outputId": "03b3ba7c-f354-4b22-f029-4abfaf8187ca"
      },
      "source": [
        "# es necesario especificar el numero de steps cuando se usa un generator (para saber cuando dejar de generar datos en una epoca)\n",
        "batch_size = 32\n",
        "num_samples = x_train_all.shape[0] * 10 # multiplicar por 10 el numero de ejemplos\n",
        "pasos_por_epoca = num_samples//batch_size\n",
        "iterator_datagen_train = datagen.flow( X_train_generator, y_train_generator,  batch_size=batch_size  )\n",
        "print(pasos_por_epoca)\n",
        "\n",
        "numeroEntrenamientos = 30\n",
        "numeroEpocas = 10\n",
        "oldModel = None\n",
        "oldAccuaricy = 0\n",
        "for i in range(numeroEntrenamientos):     \n",
        "    print()   \n",
        "    print()\n",
        "    print(\"Entrenamiento \" + str(i + 1))\n",
        "\n",
        "    history_augmentation = convnet_augmentation.fit_generator(\n",
        "        iterator_datagen_train,\n",
        "        epochs=numeroEpocas,\n",
        "        validation_data=(\n",
        "            X_test_generator, y_test_generator\n",
        "        ),\n",
        "        workers=4,\n",
        "        steps_per_epoch=pasos_por_epoca,\n",
        "        callbacks=DefineCallback())\n",
        "        \n",
        "    plot_history(history_augmentation)\n",
        "    \n",
        "\n",
        "\n",
        "    test_eval = convnet_augmentation.evaluate(X_test_generator, y_test_generator, verbose=1)\n",
        "    print('Test loss:', test_eval[0])\n",
        "    print('Test accuracy:', test_eval[1])\n",
        "\n",
        "    if oldAccuaricy < test_eval[1]:\n",
        "        oldAccuaricy = test_eval[1]\n",
        "        modelImageGenerator.GuardarPesosModelo()\n",
        "        oldModel = convnet_augmentation\n",
        "    else:\n",
        "        convnet_augmentation = oldModel\n",
        "\n",
        "    print(\"***************\")    \n",
        "    print()"
      ],
      "execution_count": 31,
      "outputs": [
        {
          "output_type": "stream",
          "text": [
            "2857\n",
            "\n",
            "\n",
            "Entrenamiento 1\n",
            "Epoch 1/10\n",
            "2857/2857 [==============================] - 162s 57ms/step - loss: 3.8225 - acc: 0.1863 - val_loss: 3.2529 - val_acc: 0.2962\n",
            "Epoch 2/10\n",
            "2857/2857 [==============================] - 156s 55ms/step - loss: 3.4998 - acc: 0.2475 - val_loss: 3.2193 - val_acc: 0.2777\n",
            "Epoch 3/10\n",
            "2857/2857 [==============================] - 155s 54ms/step - loss: 3.4635 - acc: 0.2539 - val_loss: 3.4436 - val_acc: 0.2187\n",
            "Epoch 4/10\n",
            "2857/2857 [==============================] - 158s 55ms/step - loss: 3.5118 - acc: 0.2489 - val_loss: 3.5010 - val_acc: 0.2376\n",
            "Epoch 5/10\n",
            "2857/2857 [==============================] - 156s 55ms/step - loss: 3.5117 - acc: 0.2496 - val_loss: 3.7206 - val_acc: 0.2127\n",
            "Epoch 6/10\n",
            "2857/2857 [==============================] - 156s 55ms/step - loss: 3.5055 - acc: 0.2535 - val_loss: 3.2868 - val_acc: 0.2850\n",
            "\n",
            "Epoch 00006: ReduceLROnPlateau reducing learning rate to 0.00010000000474974513.\n",
            "Epoch 7/10\n",
            "2857/2857 [==============================] - 155s 54ms/step - loss: 3.3078 - acc: 0.2799 - val_loss: 3.3907 - val_acc: 0.2757\n",
            "Epoch 8/10\n",
            "2857/2857 [==============================] - 157s 55ms/step - loss: 3.2849 - acc: 0.2814 - val_loss: 3.4712 - val_acc: 0.2555\n",
            "Epoch 9/10\n",
            "2857/2857 [==============================] - 157s 55ms/step - loss: 3.2683 - acc: 0.2845 - val_loss: 3.4803 - val_acc: 0.2518\n",
            "Epoch 10/10\n",
            "2857/2857 [==============================] - 156s 55ms/step - loss: 3.2551 - acc: 0.2865 - val_loss: 3.4639 - val_acc: 0.2475\n",
            "\n",
            "Epoch 00010: ReduceLROnPlateau reducing learning rate to 1.0000000474974514e-05.\n",
            "Epoch 00010: early stopping\n",
            "dict_keys(['val_loss', 'val_acc', 'loss', 'acc', 'lr'])\n"
          ],
          "name": "stdout"
        },
        {
          "output_type": "display_data",
          "data": {
            "image/png": "[encoded data removed]",
            "text/plain": [
              "<Figure size 432x288 with 1 Axes>"
            ]
          },
          "metadata": {
            "tags": []
          }
        },
        {
          "output_type": "stream",
          "text": [
            "3018/3018 [==============================] - 1s 471us/step\n",
            "Test loss: 3.463860061328248\n",
            "Test accuracy: 0.24751491054665417\n",
            "Pesos Guardados!\n",
            "***************\n",
            "\n",
            "\n",
            "\n",
            "Entrenamiento 2\n",
            "Epoch 1/10\n",
            "2857/2857 [==============================] - 158s 55ms/step - loss: 3.2428 - acc: 0.2892 - val_loss: 3.4992 - val_acc: 0.2429\n",
            "Epoch 2/10\n",
            "2857/2857 [==============================] - 155s 54ms/step - loss: 3.2283 - acc: 0.2901 - val_loss: 3.5021 - val_acc: 0.2419\n",
            "Epoch 3/10\n",
            "2857/2857 [==============================] - 158s 55ms/step - loss: 3.2352 - acc: 0.2884 - val_loss: 3.4802 - val_acc: 0.2472\n",
            "Epoch 4/10\n",
            "2857/2857 [==============================] - 154s 54ms/step - loss: 3.2382 - acc: 0.2880 - val_loss: 3.5193 - val_acc: 0.2329\n",
            "Epoch 5/10\n",
            "2857/2857 [==============================] - 156s 54ms/step - loss: 3.2313 - acc: 0.2872 - val_loss: 3.5052 - val_acc: 0.2399\n",
            "Epoch 6/10\n",
            "2857/2857 [==============================] - 155s 54ms/step - loss: 3.2301 - acc: 0.2894 - val_loss: 3.5088 - val_acc: 0.2389\n",
            "Epoch 7/10\n",
            "2857/2857 [==============================] - 155s 54ms/step - loss: 3.2288 - acc: 0.2875 - val_loss: 3.5274 - val_acc: 0.2313\n",
            "\n",
            "Epoch 00007: ReduceLROnPlateau reducing learning rate to 1.0000000656873453e-06.\n",
            "Epoch 8/10\n",
            "2857/2857 [==============================] - 155s 54ms/step - loss: 3.2249 - acc: 0.2893 - val_loss: 3.5128 - val_acc: 0.2353\n",
            "Epoch 9/10\n",
            "2857/2857 [==============================] - 153s 54ms/step - loss: 3.2238 - acc: 0.2904 - val_loss: 3.5043 - val_acc: 0.2396\n",
            "Epoch 10/10\n",
            "2857/2857 [==============================] - 155s 54ms/step - loss: 3.2241 - acc: 0.2888 - val_loss: 3.5088 - val_acc: 0.2372\n",
            "dict_keys(['val_loss', 'val_acc', 'loss', 'acc', 'lr'])\n"
          ],
          "name": "stdout"
        },
        {
          "output_type": "display_data",
          "data": {
            "image/png": "[encoded data removed]",
            "text/plain": [
              "<Figure size 432x288 with 1 Axes>"
            ]
          },
          "metadata": {
            "tags": []
          }
        },
        {
          "output_type": "stream",
          "text": [
            "3018/3018 [==============================] - 1s 438us/step\n",
            "Test loss: 3.5088184364905337\n",
            "Test accuracy: 0.23724320743200872\n",
            "***************\n",
            "\n",
            "\n",
            "\n",
            "Entrenamiento 3\n",
            "Epoch 1/10\n",
            "2857/2857 [==============================] - 154s 54ms/step - loss: 3.2247 - acc: 0.2889 - val_loss: 3.4960 - val_acc: 0.2425\n",
            "Epoch 2/10\n",
            "2857/2857 [==============================] - 155s 54ms/step - loss: 3.2317 - acc: 0.2883 - val_loss: 3.5136 - val_acc: 0.2353\n",
            "Epoch 3/10\n",
            "2857/2857 [==============================] - 155s 54ms/step - loss: 3.2204 - acc: 0.2902 - val_loss: 3.5088 - val_acc: 0.2372\n",
            "Epoch 4/10\n",
            "2857/2857 [==============================] - 155s 54ms/step - loss: 3.2175 - acc: 0.2895 - val_loss: 3.5066 - val_acc: 0.2389\n",
            "Epoch 5/10\n",
            "2857/2857 [==============================] - 155s 54ms/step - loss: 3.2214 - acc: 0.2892 - val_loss: 3.5132 - val_acc: 0.2359\n",
            "\n",
            "Epoch 00005: ReduceLROnPlateau reducing learning rate to 1.0000001111620805e-07.\n",
            "Epoch 6/10\n",
            "2857/2857 [==============================] - 154s 54ms/step - loss: 3.2214 - acc: 0.2879 - val_loss: 3.5101 - val_acc: 0.2362\n",
            "Epoch 7/10\n",
            "2857/2857 [==============================] - 153s 54ms/step - loss: 3.2216 - acc: 0.2894 - val_loss: 3.5098 - val_acc: 0.2366\n",
            "Epoch 8/10\n",
            "2857/2857 [==============================] - 156s 54ms/step - loss: 3.2266 - acc: 0.2897 - val_loss: 3.5107 - val_acc: 0.2362\n",
            "Epoch 9/10\n",
            "2857/2857 [==============================] - 154s 54ms/step - loss: 3.2216 - acc: 0.2903 - val_loss: 3.5106 - val_acc: 0.2369\n",
            "\n",
            "Epoch 00009: ReduceLROnPlateau reducing learning rate to 1.000000082740371e-08.\n",
            "Epoch 00009: early stopping\n",
            "dict_keys(['val_loss', 'val_acc', 'loss', 'acc', 'lr'])\n"
          ],
          "name": "stdout"
        },
        {
          "output_type": "display_data",
          "data": {
            "image/png": "[encoded data removed]",
            "text/plain": [
              "<Figure size 432x288 with 1 Axes>"
            ]
          },
          "metadata": {
            "tags": []
          }
        },
        {
          "output_type": "stream",
          "text": [
            "3018/3018 [==============================] - 1s 431us/step\n",
            "Test loss: 3.5106105663825375\n",
            "Test accuracy: 0.23691186217024596\n",
            "***************\n",
            "\n",
            "\n",
            "\n",
            "Entrenamiento 4\n",
            "Epoch 1/10\n",
            "2857/2857 [==============================] - 154s 54ms/step - loss: 3.2207 - acc: 0.2890 - val_loss: 3.5105 - val_acc: 0.2366\n",
            "Epoch 2/10\n",
            "2857/2857 [==============================] - 154s 54ms/step - loss: 3.2243 - acc: 0.2895 - val_loss: 3.5102 - val_acc: 0.2366\n",
            "Epoch 3/10\n",
            "2857/2857 [==============================] - 155s 54ms/step - loss: 3.2250 - acc: 0.2892 - val_loss: 3.5101 - val_acc: 0.2372\n",
            "Epoch 4/10\n",
            "2857/2857 [==============================] - 157s 55ms/step - loss: 3.2195 - acc: 0.2898 - val_loss: 3.5097 - val_acc: 0.2372\n",
            "Epoch 5/10\n",
            "2857/2857 [==============================] - 156s 55ms/step - loss: 3.2187 - acc: 0.2900 - val_loss: 3.5095 - val_acc: 0.2372\n",
            "Epoch 6/10\n",
            "2751/2857 [===========================>..] - ETA: 5s - loss: 3.2199 - acc: 0.2890Buffered data was truncated after reaching the output size limit."
          ],
          "name": "stdout"
        }
      ]
    },
    {
      "cell_type": "code",
      "metadata": {
        "id": "H58kju776ETH",
        "colab_type": "code",
        "colab": {}
      },
      "source": [
        "#falta terminar, mirar como con que modelo entrenado puedo generar las imagenes\n",
        "convnet_augmentation.eva"
      ],
      "execution_count": 0,
      "outputs": []
    },
    {
      "cell_type": "code",
      "metadata": {
        "id": "651SXoqz6EQm",
        "colab_type": "code",
        "colab": {}
      },
      "source": [
        "#falta terminar, mirar como puedo generar las imagenes sin tener que guardarlas en directorio \n",
        "#sino guardarlas en los archivos en las fuentes x_train_all y y_train_all\n",
        "datagen.flow"
      ],
      "execution_count": 0,
      "outputs": []
    },
    {
      "cell_type": "code",
      "metadata": {
        "id": "TOJrGoAS6EOc",
        "colab_type": "code",
        "colab": {}
      },
      "source": [
        "#falta terminar, buscar que en lugar de guardar en un archivo, guarde el vector\n",
        "imageGen = datagen.flow(X_test_generator[0], batch_size=1, save_to_dir=args[\"output\"],\n",
        "\tsave_prefix=\"image\", save_format=\"jpg\")\n",
        "\n",
        "for image in imageGen:\n",
        "\t# increment our counter\n",
        "\ttotal += 1\n",
        " \n",
        "\t# if we have reached the specified number of examples, break\n",
        "\t# from the loop\n",
        "\tif total == args[\"total\"]:\n",
        "\t\tbreak"
      ],
      "execution_count": 0,
      "outputs": []
    },
    {
      "cell_type": "code",
      "metadata": {
        "id": "f7HVyhpS6EMn",
        "colab_type": "code",
        "colab": {}
      },
      "source": [
        ""
      ],
      "execution_count": 0,
      "outputs": []
    },
    {
      "cell_type": "code",
      "metadata": {
        "id": "VxrgMdkf6EJI",
        "colab_type": "code",
        "colab": {}
      },
      "source": [
        ""
      ],
      "execution_count": 0,
      "outputs": []
    },
    {
      "cell_type": "markdown",
      "metadata": {
        "id": "bS_1wQUl6hlj",
        "colab_type": "text"
      },
      "source": [
        "# Repartiendo los datos entre Train, test, eval y predic"
      ]
    },
    {
      "cell_type": "code",
      "metadata": {
        "id": "TqHrPX6fPmNA",
        "colab_type": "code",
        "colab": {}
      },
      "source": [
        "imagen = 250\n",
        "#print(processed_y[imagen], y_train_all[imagen])"
      ],
      "execution_count": 0,
      "outputs": []
    },
    {
      "cell_type": "code",
      "metadata": {
        "id": "YEKKoqBN8tU8",
        "colab_type": "code",
        "outputId": "a2ced22c-3842-4799-f705-b83ca29caa5c",
        "colab": {
          "base_uri": "https://localhost:8080/",
          "height": 281
        }
      },
      "source": [
        "classes = np.unique(processed_y)\n",
        "nClasses = len(classes)\n",
        "print(\"Numero de clases diferenes:\", nClasses)\n",
        "print()\n",
        "\n",
        "(X_train, y_train), (X_test, y_test), (X_predic, y_predic) = DividirDatos_Train_Test_Predic(x_train_all, processed_y)\n",
        "\n",
        "print(\"Training (66.98%)\") \n",
        "print(\"X_train\", X_train.shape)\n",
        "print(\"y_train\", y_train.shape)\n",
        "print() \n",
        "print(\"Test (22.1%)\") \n",
        "print(\"X_test\", X_test.shape)\n",
        "print(\"y_test\", y_test.shape)\n",
        "print()\n",
        "print(\"Predict (10.89%)\") \n",
        "print(\"X_predic\", X_predic.shape)\n",
        "print(\"y_predic\", y_predic.shape)\n",
        "\n",
        "print()\n",
        "if y_predic.shape[1] == y_test.shape[1] and y_test.shape[1] == y_train.shape[1]:\n",
        "    print(\"Distribución correcta\")\n",
        "else:\n",
        "    print(\"Fallo en la distribución\")"
      ],
      "execution_count": 45,
      "outputs": [
        {
          "output_type": "stream",
          "text": [
            "Numero de clases diferenes: 102\n",
            "\n",
            "Training (66.98%)\n",
            "X_train (6127, 128, 128, 3)\n",
            "y_train (6127, 102)\n",
            "\n",
            "Test (22.1%)\n",
            "X_test (2022, 128, 128, 3)\n",
            "y_test (2022, 102)\n",
            "\n",
            "Predict (10.89%)\n",
            "X_predic (996, 128, 128, 3)\n",
            "y_predic (996, 102)\n",
            "\n",
            "Distribución correcta\n"
          ],
          "name": "stdout"
        }
      ]
    },
    {
      "cell_type": "code",
      "metadata": {
        "id": "5q42cnB1LCyS",
        "colab_type": "code",
        "outputId": "467e0022-e34c-4c5f-f798-d5b027bacbb7",
        "colab": {
          "base_uri": "https://localhost:8080/",
          "height": 140
        }
      },
      "source": [
        "#Creamos el Set de Entrenamiento y Validación\n",
        "#divido los datos de entrenamiento en dos, un 80% para el entrenamiento y otro 20% para validacion\n",
        "train_X,valid_X,train_label,valid_label = train_test_split(\n",
        "    X_train, y_train, \n",
        "    test_size=0.1, random_state=43)\n",
        "\n",
        "print(\"training\")\n",
        "print(train_X.shape)\n",
        "print(train_label.shape)\n",
        "print()\n",
        "print(\"Valid\")\n",
        "print(valid_X.shape)\n",
        "print(valid_label.shape)"
      ],
      "execution_count": 46,
      "outputs": [
        {
          "output_type": "stream",
          "text": [
            "training\n",
            "(5514, 128, 128, 3)\n",
            "(5514, 102)\n",
            "\n",
            "Valid\n",
            "(613, 128, 128, 3)\n",
            "(613, 102)\n"
          ],
          "name": "stdout"
        }
      ]
    },
    {
      "cell_type": "markdown",
      "metadata": {
        "id": "llpE8UA871kq",
        "colab_type": "text"
      },
      "source": [
        "# Nueva Red Neuronal"
      ]
    },
    {
      "cell_type": "markdown",
      "metadata": {
        "id": "EPOLVRFpOSBW",
        "colab_type": "text"
      },
      "source": [
        "## Red Neuronal"
      ]
    },
    {
      "cell_type": "code",
      "metadata": {
        "id": "n5Puba0QN6nR",
        "colab_type": "code",
        "colab": {}
      },
      "source": [
        "modelExtern = ModeloExterno(nombreModelo=\"wisrovi-nuevoModelo\", rutaBase=BASE_FOLDER)"
      ],
      "execution_count": 0,
      "outputs": []
    },
    {
      "cell_type": "code",
      "metadata": {
        "id": "32aShwOn7QuE",
        "colab_type": "code",
        "outputId": "385379fa-74aa-4004-8b8f-67da71dbdf82",
        "colab": {
          "base_uri": "https://localhost:8080/",
          "height": 668
        }
      },
      "source": [
        "print(\"********** Modelo *********\")\n",
        "\n",
        "new_model = Sequential()\n",
        "new_model.add(\n",
        "    Conv2D(32,\n",
        "           kernel_size=(3, 3),\n",
        "           activation='relu',\n",
        "           padding='same',\n",
        "           input_shape=(128,128,3)\n",
        "           )\n",
        "    )\n",
        "new_model.add( Conv2D(32, kernel_size=(3, 3), activation='relu', padding='same'  ) )\n",
        "new_model.add(MaxPooling2D((2, 2),padding='same'))\n",
        "new_model.add(Dropout(0.5))\n",
        "\n",
        "new_model.add( Conv2D(32, kernel_size=(3, 3), activation='relu', padding='same'  ) )\n",
        "new_model.add( Conv2D(32, kernel_size=(3, 3), activation='relu', padding='same'  ) )\n",
        "\n",
        "new_model.add(Dropout(0.25)) #apagar un 25% de manera aleatoria para reducir la cantidad de parametros\n",
        "new_model.add(Dense(64, activation='relu'))\n",
        "new_model.add(Dense(64, activation='relu'))\n",
        "\n",
        "new_model.add(Dense(64, activation='relu'))\n",
        "new_model.add(Dropout(0.5)) #apagar un 50% de manera aleatoria para reducir la cantidad de parametros\n",
        "new_model.add(Flatten()) #para aplanar todas las capas\n",
        "new_model.add(Dense(nClasses, activation='softmax')) #Genero la capa final con la cantidad de neuronas segun la cantidad de opciones de clasificacion\n",
        "\n",
        "new_model.summary()\n",
        "\n",
        "new_model.compile(optimizer='adam',\n",
        "               loss='categorical_crossentropy',\n",
        "               metrics=['accuracy'])\n",
        "\n",
        "modelExtern.GuardarModelo(new_model)"
      ],
      "execution_count": 51,
      "outputs": [
        {
          "output_type": "stream",
          "text": [
            "********** Modelo *********\n",
            "Model: \"sequential_6\"\n",
            "_________________________________________________________________\n",
            "Layer (type)                 Output Shape              Param #   \n",
            "=================================================================\n",
            "conv2d_14 (Conv2D)           (None, 128, 128, 32)      896       \n",
            "_________________________________________________________________\n",
            "conv2d_15 (Conv2D)           (None, 128, 128, 32)      9248      \n",
            "_________________________________________________________________\n",
            "max_pooling2d_6 (MaxPooling2 (None, 64, 64, 32)        0         \n",
            "_________________________________________________________________\n",
            "dropout_15 (Dropout)         (None, 64, 64, 32)        0         \n",
            "_________________________________________________________________\n",
            "conv2d_16 (Conv2D)           (None, 64, 64, 32)        9248      \n",
            "_________________________________________________________________\n",
            "conv2d_17 (Conv2D)           (None, 64, 64, 32)        9248      \n",
            "_________________________________________________________________\n",
            "dropout_16 (Dropout)         (None, 64, 64, 32)        0         \n",
            "_________________________________________________________________\n",
            "dense_24 (Dense)             (None, 64, 64, 64)        2112      \n",
            "_________________________________________________________________\n",
            "dense_25 (Dense)             (None, 64, 64, 64)        4160      \n",
            "_________________________________________________________________\n",
            "dense_26 (Dense)             (None, 64, 64, 64)        4160      \n",
            "_________________________________________________________________\n",
            "dropout_17 (Dropout)         (None, 64, 64, 64)        0         \n",
            "_________________________________________________________________\n",
            "flatten_6 (Flatten)          (None, 262144)            0         \n",
            "_________________________________________________________________\n",
            "dense_27 (Dense)             (None, 102)               26738790  \n",
            "=================================================================\n",
            "Total params: 26,777,862\n",
            "Trainable params: 26,777,862\n",
            "Non-trainable params: 0\n",
            "_________________________________________________________________\n",
            "Modelo guardado!\n"
          ],
          "name": "stdout"
        },
        {
          "output_type": "execute_result",
          "data": {
            "text/plain": [
              "True"
            ]
          },
          "metadata": {
            "tags": []
          },
          "execution_count": 51
        }
      ]
    },
    {
      "cell_type": "markdown",
      "metadata": {
        "id": "llchrJsgXXfH",
        "colab_type": "text"
      },
      "source": [
        "## Entrenar el modelo"
      ]
    },
    {
      "cell_type": "code",
      "metadata": {
        "id": "LIjNMxQL7Qzz",
        "colab_type": "code",
        "outputId": "f7ef049b-ff4a-4bce-aa9c-e8efd85542e1",
        "colab": {
          "base_uri": "https://localhost:8080/",
          "height": 1000
        }
      },
      "source": [
        "#Entreno el modelo\n",
        "numeroEntrenamientos = 30 #Al final de cada entrenamiento guardo los mejores pesos\n",
        "numeroEpocas = 10  #ciclos en los cuales evaluo los datos de entrenamiento para hallar los mejores pesos\n",
        "oldModel = None\n",
        "oldAccuaricy = 0\n",
        "for i in range(numeroEntrenamientos):     \n",
        "    print()   \n",
        "    print()\n",
        "    print(\"Entrenamiento \" + str(i + 1))\n",
        "\n",
        "    history = new_model.fit(\n",
        "        train_X, train_label, \n",
        "        batch_size=64, # cantidad de imágenes que se toman a la vez en memoria\n",
        "        epochs=numeroEpocas, \n",
        "        verbose=1,\n",
        "        validation_data=(valid_X, valid_label),\n",
        "        callbacks=DefineCallback()\n",
        "        )\n",
        "        \n",
        "    plot_history(history)\n",
        "    \n",
        "    test_eval = new_model.evaluate(X_test, y_test, verbose=1)\n",
        "    print('Test loss:', test_eval[0])\n",
        "    print('Test accuracy:', test_eval[1])\n",
        "\n",
        "    if oldAccuaricy < test_eval[1]:\n",
        "        oldAccuaricy = test_eval[1]\n",
        "        modelExtern.GuardarPesosModelo()\n",
        "        oldModel = new_model\n",
        "    else:\n",
        "        new_model = oldModel\n",
        "    print(\"***************\")    \n",
        "    print()"
      ],
      "execution_count": 52,
      "outputs": [
        {
          "output_type": "stream",
          "text": [
            "\n",
            "\n",
            "Entrenamiento 1\n",
            "Train on 5514 samples, validate on 613 samples\n",
            "Epoch 1/10\n",
            "5514/5514 [==============================] - 10s 2ms/step - loss: 3.8312 - acc: 0.2086 - val_loss: 3.2742 - val_acc: 0.3083\n",
            "Epoch 2/10\n",
            "5514/5514 [==============================] - 8s 1ms/step - loss: 2.8909 - acc: 0.3634 - val_loss: 2.8432 - val_acc: 0.3899\n",
            "Epoch 3/10\n",
            "5514/5514 [==============================] - 8s 1ms/step - loss: 2.3757 - acc: 0.4628 - val_loss: 2.6251 - val_acc: 0.4502\n",
            "Epoch 4/10\n",
            "5514/5514 [==============================] - 8s 1ms/step - loss: 1.6919 - acc: 0.5919 - val_loss: 2.6530 - val_acc: 0.4910\n",
            "Epoch 5/10\n",
            "5514/5514 [==============================] - 8s 1ms/step - loss: 0.9220 - acc: 0.7550 - val_loss: 3.0457 - val_acc: 0.4894\n",
            "Epoch 6/10\n",
            "5514/5514 [==============================] - 8s 1ms/step - loss: 0.3841 - acc: 0.8946 - val_loss: 3.5652 - val_acc: 0.4747\n",
            "Epoch 7/10\n",
            "5514/5514 [==============================] - 8s 1ms/step - loss: 0.1805 - acc: 0.9496 - val_loss: 3.9244 - val_acc: 0.4894\n",
            "\n",
            "Epoch 00007: ReduceLROnPlateau reducing learning rate to 0.00010000000474974513.\n",
            "Epoch 8/10\n",
            "5514/5514 [==============================] - 8s 1ms/step - loss: 0.0577 - acc: 0.9846 - val_loss: 4.4265 - val_acc: 0.5073\n",
            "Epoch 9/10\n",
            "5514/5514 [==============================] - 8s 1ms/step - loss: 0.0320 - acc: 0.9915 - val_loss: 4.5723 - val_acc: 0.4992\n",
            "Epoch 10/10\n",
            "5514/5514 [==============================] - 8s 1ms/step - loss: 0.0230 - acc: 0.9951 - val_loss: 4.7456 - val_acc: 0.4992\n",
            "dict_keys(['val_loss', 'val_acc', 'loss', 'acc', 'lr'])\n"
          ],
          "name": "stdout"
        },
        {
          "output_type": "display_data",
          "data": {
            "image/png": "[encoded data removed]",
            "text/plain": [
              "<Figure size 432x288 with 1 Axes>"
            ]
          },
          "metadata": {
            "tags": []
          }
        },
        {
          "output_type": "stream",
          "text": [
            "2022/2022 [==============================] - 2s 936us/step\n",
            "Test loss: 4.374014530879926\n",
            "Test accuracy: 0.49653808110781406\n",
            "Pesos Guardados!\n",
            "***************\n",
            "\n",
            "\n",
            "\n",
            "Entrenamiento 2\n",
            "Train on 5514 samples, validate on 613 samples\n",
            "Epoch 1/10\n",
            "5514/5514 [==============================] - 8s 1ms/step - loss: 0.0204 - acc: 0.9949 - val_loss: 4.8131 - val_acc: 0.4959\n",
            "Epoch 2/10\n",
            "5514/5514 [==============================] - 8s 1ms/step - loss: 0.0187 - acc: 0.9949 - val_loss: 4.8812 - val_acc: 0.4976\n",
            "Epoch 3/10\n",
            "5514/5514 [==============================] - 8s 1ms/step - loss: 0.0125 - acc: 0.9978 - val_loss: 4.9608 - val_acc: 0.4992\n",
            "Epoch 4/10\n",
            "5514/5514 [==============================] - 8s 1ms/step - loss: 0.0131 - acc: 0.9967 - val_loss: 5.0284 - val_acc: 0.4910\n",
            "Epoch 5/10\n",
            "5514/5514 [==============================] - 8s 1ms/step - loss: 0.0123 - acc: 0.9969 - val_loss: 4.9842 - val_acc: 0.5024\n",
            "\n",
            "Epoch 00005: ReduceLROnPlateau reducing learning rate to 1.0000000474974514e-05.\n",
            "Epoch 6/10\n",
            "5514/5514 [==============================] - 8s 1ms/step - loss: 0.0095 - acc: 0.9978 - val_loss: 5.0086 - val_acc: 0.5024\n",
            "Epoch 7/10\n",
            "5514/5514 [==============================] - 8s 1ms/step - loss: 0.0103 - acc: 0.9973 - val_loss: 5.0166 - val_acc: 0.5041\n",
            "Epoch 8/10\n",
            "5514/5514 [==============================] - 8s 1ms/step - loss: 0.0073 - acc: 0.9985 - val_loss: 5.0423 - val_acc: 0.4992\n",
            "Epoch 9/10\n",
            "5514/5514 [==============================] - 8s 1ms/step - loss: 0.0088 - acc: 0.9982 - val_loss: 5.0480 - val_acc: 0.5008\n",
            "\n",
            "Epoch 00009: ReduceLROnPlateau reducing learning rate to 1.0000000656873453e-06.\n",
            "Epoch 00009: early stopping\n",
            "dict_keys(['val_loss', 'val_acc', 'loss', 'acc', 'lr'])\n"
          ],
          "name": "stdout"
        },
        {
          "output_type": "display_data",
          "data": {
            "image/png": "[encoded data removed]",
            "text/plain": [
              "<Figure size 432x288 with 1 Axes>"
            ]
          },
          "metadata": {
            "tags": []
          }
        },
        {
          "output_type": "stream",
          "text": [
            "2022/2022 [==============================] - 2s 924us/step\n",
            "Test loss: 4.7105025042412185\n",
            "Test accuracy: 0.5\n",
            "Pesos Guardados!\n",
            "***************\n",
            "\n",
            "\n",
            "\n",
            "Entrenamiento 3\n",
            "Train on 5514 samples, validate on 613 samples\n",
            "Epoch 1/10\n",
            "5514/5514 [==============================] - 8s 1ms/step - loss: 0.0078 - acc: 0.9982 - val_loss: 5.0500 - val_acc: 0.5008\n",
            "Epoch 2/10\n",
            "5514/5514 [==============================] - 8s 1ms/step - loss: 0.0097 - acc: 0.9980 - val_loss: 5.0515 - val_acc: 0.5008\n",
            "Epoch 3/10\n",
            "5514/5514 [==============================] - 8s 1ms/step - loss: 0.0082 - acc: 0.9989 - val_loss: 5.0543 - val_acc: 0.4992\n",
            "Epoch 4/10\n",
            "5514/5514 [==============================] - 8s 1ms/step - loss: 0.0074 - acc: 0.9982 - val_loss: 5.0547 - val_acc: 0.5008\n",
            "Epoch 5/10\n",
            "5514/5514 [==============================] - 8s 1ms/step - loss: 0.0094 - acc: 0.9980 - val_loss: 5.0583 - val_acc: 0.4992\n",
            "\n",
            "Epoch 00005: ReduceLROnPlateau reducing learning rate to 1.0000001111620805e-07.\n",
            "Epoch 6/10\n",
            "5514/5514 [==============================] - 8s 1ms/step - loss: 0.0094 - acc: 0.9975 - val_loss: 5.0583 - val_acc: 0.4992\n",
            "Epoch 7/10\n",
            "5514/5514 [==============================] - 8s 1ms/step - loss: 0.0102 - acc: 0.9975 - val_loss: 5.0583 - val_acc: 0.4992\n",
            "Epoch 8/10\n",
            "5514/5514 [==============================] - 8s 1ms/step - loss: 0.0078 - acc: 0.9984 - val_loss: 5.0586 - val_acc: 0.4992\n",
            "Epoch 9/10\n",
            "5514/5514 [==============================] - 8s 1ms/step - loss: 0.0068 - acc: 0.9993 - val_loss: 5.0588 - val_acc: 0.4992\n",
            "\n",
            "Epoch 00009: ReduceLROnPlateau reducing learning rate to 1.000000082740371e-08.\n",
            "Epoch 00009: early stopping\n",
            "dict_keys(['val_loss', 'val_acc', 'loss', 'acc', 'lr'])\n"
          ],
          "name": "stdout"
        },
        {
          "output_type": "display_data",
          "data": {
            "image/png": "[encoded data removed]",
            "text/plain": [
              "<Figure size 432x288 with 1 Axes>"
            ]
          },
          "metadata": {
            "tags": []
          }
        },
        {
          "output_type": "stream",
          "text": [
            "2022/2022 [==============================] - 2s 933us/step\n",
            "Test loss: 4.720544273610403\n",
            "Test accuracy: 0.5004945598417408\n",
            "Pesos Guardados!\n",
            "***************\n",
            "\n",
            "\n",
            "\n",
            "Entrenamiento 4\n",
            "Train on 5514 samples, validate on 613 samples\n",
            "Epoch 1/10\n",
            "5514/5514 [==============================] - 8s 1ms/step - loss: 0.0090 - acc: 0.9980 - val_loss: 5.0588 - val_acc: 0.4992\n",
            "Epoch 2/10\n",
            "5514/5514 [==============================] - 8s 1ms/step - loss: 0.0079 - acc: 0.9982 - val_loss: 5.0588 - val_acc: 0.4992\n",
            "Epoch 3/10\n",
            "5514/5514 [==============================] - 8s 1ms/step - loss: 0.0082 - acc: 0.9987 - val_loss: 5.0588 - val_acc: 0.4992\n",
            "Epoch 4/10\n",
            "5514/5514 [==============================] - 8s 1ms/step - loss: 0.0075 - acc: 0.9987 - val_loss: 5.0588 - val_acc: 0.4992\n",
            "Epoch 5/10\n",
            "5514/5514 [==============================] - 8s 1ms/step - loss: 0.0096 - acc: 0.9980 - val_loss: 5.0588 - val_acc: 0.4992\n",
            "\n",
            "Epoch 00005: ReduceLROnPlateau reducing learning rate to 1.000000082740371e-09.\n",
            "Epoch 6/10\n",
            "5514/5514 [==============================] - 8s 1ms/step - loss: 0.0078 - acc: 0.9984 - val_loss: 5.0588 - val_acc: 0.4992\n",
            "Epoch 7/10\n",
            "5514/5514 [==============================] - 8s 1ms/step - loss: 0.0075 - acc: 0.9987 - val_loss: 5.0588 - val_acc: 0.4992\n",
            "Epoch 8/10\n",
            "5514/5514 [==============================] - 8s 1ms/step - loss: 0.0097 - acc: 0.9975 - val_loss: 5.0588 - val_acc: 0.4992\n",
            "Epoch 9/10\n",
            "5514/5514 [==============================] - 8s 1ms/step - loss: 0.0074 - acc: 0.9989 - val_loss: 5.0588 - val_acc: 0.4992\n",
            "\n",
            "Epoch 00009: ReduceLROnPlateau reducing learning rate to 1.000000082740371e-10.\n",
            "Epoch 00009: early stopping\n",
            "dict_keys(['val_loss', 'val_acc', 'loss', 'acc', 'lr'])\n"
          ],
          "name": "stdout"
        },
        {
          "output_type": "display_data",
          "data": {
            "image/png": "[encoded data removed]",
            "text/plain": [
              "<Figure size 432x288 with 1 Axes>"
            ]
          },
          "metadata": {
            "tags": []
          }
        },
        {
          "output_type": "stream",
          "text": [
            "2022/2022 [==============================] - 2s 923us/step\n",
            "Test loss: 4.72054418824193\n",
            "Test accuracy: 0.5004945598417408\n",
            "***************\n",
            "\n",
            "\n",
            "\n",
            "Entrenamiento 5\n",
            "Train on 5514 samples, validate on 613 samples\n",
            "Epoch 1/10\n",
            "5514/5514 [==============================] - 8s 1ms/step - loss: 0.0076 - acc: 0.9985 - val_loss: 5.0588 - val_acc: 0.4992\n",
            "Epoch 2/10\n",
            "5514/5514 [==============================] - 8s 1ms/step - loss: 0.0083 - acc: 0.9984 - val_loss: 5.0588 - val_acc: 0.4992\n",
            "Epoch 3/10\n",
            "5514/5514 [==============================] - 8s 1ms/step - loss: 0.0079 - acc: 0.9985 - val_loss: 5.0588 - val_acc: 0.4992\n",
            "Epoch 4/10\n",
            "5514/5514 [==============================] - 8s 1ms/step - loss: 0.0083 - acc: 0.9980 - val_loss: 5.0588 - val_acc: 0.4992\n",
            "Epoch 5/10\n",
            "5514/5514 [==============================] - 8s 1ms/step - loss: 0.0089 - acc: 0.9984 - val_loss: 5.0588 - val_acc: 0.4992\n",
            "\n",
            "Epoch 00005: ReduceLROnPlateau reducing learning rate to 1.000000082740371e-11.\n",
            "Epoch 6/10\n",
            "5514/5514 [==============================] - 8s 1ms/step - loss: 0.0075 - acc: 0.9984 - val_loss: 5.0588 - val_acc: 0.4992\n",
            "Epoch 7/10\n",
            "5514/5514 [==============================] - 8s 1ms/step - loss: 0.0072 - acc: 0.9984 - val_loss: 5.0588 - val_acc: 0.4992\n",
            "Epoch 8/10\n",
            "5514/5514 [==============================] - 8s 1ms/step - loss: 0.0081 - acc: 0.9987 - val_loss: 5.0588 - val_acc: 0.4992\n",
            "Epoch 9/10\n",
            "5514/5514 [==============================] - 8s 1ms/step - loss: 0.0088 - acc: 0.9982 - val_loss: 5.0588 - val_acc: 0.4992\n",
            "\n",
            "Epoch 00009: ReduceLROnPlateau reducing learning rate to 1.000000082740371e-12.\n",
            "Epoch 00009: early stopping\n",
            "dict_keys(['val_loss', 'val_acc', 'loss', 'acc', 'lr'])\n"
          ],
          "name": "stdout"
        },
        {
          "output_type": "display_data",
          "data": {
            "image/png": "[encoded data removed]",
            "text/plain": [
              "<Figure size 432x288 with 1 Axes>"
            ]
          },
          "metadata": {
            "tags": []
          }
        },
        {
          "output_type": "stream",
          "text": [
            "2022/2022 [==============================] - 2s 932us/step\n",
            "Test loss: 4.720544273138754\n",
            "Test accuracy: 0.5004945598417408\n",
            "***************\n",
            "\n",
            "\n",
            "\n",
            "Entrenamiento 6\n",
            "Train on 5514 samples, validate on 613 samples\n",
            "Epoch 1/10\n",
            "5514/5514 [==============================] - 8s 1ms/step - loss: 0.0079 - acc: 0.9984 - val_loss: 5.0588 - val_acc: 0.4992\n",
            "Epoch 2/10\n",
            "5514/5514 [==============================] - 8s 1ms/step - loss: 0.0076 - acc: 0.9985 - val_loss: 5.0588 - val_acc: 0.4992\n",
            "Epoch 3/10\n",
            "5514/5514 [==============================] - 8s 1ms/step - loss: 0.0076 - acc: 0.9987 - val_loss: 5.0588 - val_acc: 0.4992\n",
            "Epoch 4/10\n",
            "5514/5514 [==============================] - 8s 1ms/step - loss: 0.0091 - acc: 0.9976 - val_loss: 5.0588 - val_acc: 0.4992\n",
            "Epoch 5/10\n",
            "5514/5514 [==============================] - 8s 1ms/step - loss: 0.0079 - acc: 0.9982 - val_loss: 5.0588 - val_acc: 0.4992\n",
            "\n",
            "Epoch 00005: ReduceLROnPlateau reducing learning rate to 1.0000001044244145e-13.\n",
            "Epoch 6/10\n",
            "5514/5514 [==============================] - 8s 1ms/step - loss: 0.0096 - acc: 0.9989 - val_loss: 5.0588 - val_acc: 0.4992\n",
            "Epoch 7/10\n",
            "5514/5514 [==============================] - 8s 1ms/step - loss: 0.0081 - acc: 0.9984 - val_loss: 5.0588 - val_acc: 0.4992\n",
            "Epoch 8/10\n",
            "5514/5514 [==============================] - 8s 1ms/step - loss: 0.0089 - acc: 0.9985 - val_loss: 5.0588 - val_acc: 0.4992\n",
            "Epoch 9/10\n",
            "5514/5514 [==============================] - 8s 1ms/step - loss: 0.0096 - acc: 0.9978 - val_loss: 5.0588 - val_acc: 0.4992\n",
            "\n",
            "Epoch 00009: ReduceLROnPlateau reducing learning rate to 1.0000001179769417e-14.\n",
            "Epoch 00009: early stopping\n",
            "dict_keys(['val_loss', 'val_acc', 'loss', 'acc', 'lr'])\n"
          ],
          "name": "stdout"
        },
        {
          "output_type": "display_data",
          "data": {
            "image/png": "[encoded data removed]",
            "text/plain": [
              "<Figure size 432x288 with 1 Axes>"
            ]
          },
          "metadata": {
            "tags": []
          }
        },
        {
          "output_type": "stream",
          "text": [
            "2022/2022 [==============================] - 2s 933us/step\n",
            "Test loss: 4.720544273138754\n",
            "Test accuracy: 0.5004945598417408\n",
            "***************\n",
            "\n",
            "\n",
            "\n",
            "Entrenamiento 7\n",
            "Train on 5514 samples, validate on 613 samples\n",
            "Epoch 1/10\n",
            "5514/5514 [==============================] - 8s 1ms/step - loss: 0.0080 - acc: 0.9984 - val_loss: 5.0588 - val_acc: 0.4992\n",
            "Epoch 2/10\n",
            "5514/5514 [==============================] - 8s 1ms/step - loss: 0.0067 - acc: 0.9982 - val_loss: 5.0588 - val_acc: 0.4992\n",
            "Epoch 3/10\n",
            "5514/5514 [==============================] - 8s 1ms/step - loss: 0.0096 - acc: 0.9976 - val_loss: 5.0588 - val_acc: 0.4992\n",
            "Epoch 4/10\n",
            "5514/5514 [==============================] - 8s 1ms/step - loss: 0.0098 - acc: 0.9978 - val_loss: 5.0588 - val_acc: 0.4992\n",
            "Epoch 5/10\n",
            "5514/5514 [==============================] - 8s 1ms/step - loss: 0.0067 - acc: 0.9989 - val_loss: 5.0588 - val_acc: 0.4992\n",
            "\n",
            "Epoch 00005: ReduceLROnPlateau reducing learning rate to 1.0000001518582595e-15.\n",
            "Epoch 6/10\n",
            "5514/5514 [==============================] - 8s 1ms/step - loss: 0.0077 - acc: 0.9985 - val_loss: 5.0588 - val_acc: 0.4992\n",
            "Epoch 7/10\n",
            "5514/5514 [==============================] - 8s 1ms/step - loss: 0.0083 - acc: 0.9980 - val_loss: 5.0588 - val_acc: 0.4992\n",
            "Epoch 8/10\n",
            "5514/5514 [==============================] - 8s 1ms/step - loss: 0.0071 - acc: 0.9989 - val_loss: 5.0588 - val_acc: 0.4992\n",
            "Epoch 9/10\n",
            "5514/5514 [==============================] - 8s 1ms/step - loss: 0.0078 - acc: 0.9984 - val_loss: 5.0588 - val_acc: 0.4992\n",
            "\n",
            "Epoch 00009: ReduceLROnPlateau reducing learning rate to 1.0000001095066122e-16.\n",
            "Epoch 00009: early stopping\n",
            "dict_keys(['val_loss', 'val_acc', 'loss', 'acc', 'lr'])\n"
          ],
          "name": "stdout"
        },
        {
          "output_type": "display_data",
          "data": {
            "image/png": "[encoded data removed]",
            "text/plain": [
              "<Figure size 432x288 with 1 Axes>"
            ]
          },
          "metadata": {
            "tags": []
          }
        },
        {
          "output_type": "stream",
          "text": [
            "2022/2022 [==============================] - 2s 921us/step\n",
            "Test loss: 4.720544273138754\n",
            "Test accuracy: 0.5004945598417408\n",
            "***************\n",
            "\n",
            "\n",
            "\n",
            "Entrenamiento 8\n",
            "Train on 5514 samples, validate on 613 samples\n",
            "Epoch 1/10\n",
            "5514/5514 [==============================] - 8s 1ms/step - loss: 0.0085 - acc: 0.9984 - val_loss: 5.0588 - val_acc: 0.4992\n",
            "Epoch 2/10\n",
            "5514/5514 [==============================] - 8s 1ms/step - loss: 0.0083 - acc: 0.9978 - val_loss: 5.0588 - val_acc: 0.4992\n",
            "Epoch 3/10\n",
            "5514/5514 [==============================] - 8s 1ms/step - loss: 0.0078 - acc: 0.9984 - val_loss: 5.0588 - val_acc: 0.4992\n",
            "Epoch 4/10\n",
            "5514/5514 [==============================] - 8s 1ms/step - loss: 0.0091 - acc: 0.9976 - val_loss: 5.0588 - val_acc: 0.4992\n",
            "Epoch 5/10\n",
            "5514/5514 [==============================] - 8s 1ms/step - loss: 0.0076 - acc: 0.9980 - val_loss: 5.0588 - val_acc: 0.4992\n",
            "\n",
            "Epoch 00005: ReduceLROnPlateau reducing learning rate to 1.0000000830368326e-17.\n",
            "Epoch 6/10\n",
            "5514/5514 [==============================] - 8s 1ms/step - loss: 0.0102 - acc: 0.9978 - val_loss: 5.0588 - val_acc: 0.4992\n",
            "Epoch 7/10\n",
            "5514/5514 [==============================] - 8s 1ms/step - loss: 0.0088 - acc: 0.9976 - val_loss: 5.0588 - val_acc: 0.4992\n",
            "Epoch 8/10\n",
            "5514/5514 [==============================] - 8s 1ms/step - loss: 0.0071 - acc: 0.9989 - val_loss: 5.0588 - val_acc: 0.4992\n",
            "Epoch 9/10\n",
            "5514/5514 [==============================] - 8s 1ms/step - loss: 0.0072 - acc: 0.9989 - val_loss: 5.0588 - val_acc: 0.4992\n",
            "\n",
            "Epoch 00009: ReduceLROnPlateau reducing learning rate to 1.0000000664932204e-18.\n",
            "Epoch 00009: early stopping\n",
            "dict_keys(['val_loss', 'val_acc', 'loss', 'acc', 'lr'])\n"
          ],
          "name": "stdout"
        },
        {
          "output_type": "display_data",
          "data": {
            "image/png": "[encoded data removed]",
            "text/plain": [
              "<Figure size 432x288 with 1 Axes>"
            ]
          },
          "metadata": {
            "tags": []
          }
        },
        {
          "output_type": "stream",
          "text": [
            "2022/2022 [==============================] - 2s 930us/step\n",
            "Test loss: 4.720544273138754\n",
            "Test accuracy: 0.5004945598417408\n",
            "***************\n",
            "\n",
            "\n",
            "\n",
            "Entrenamiento 9\n",
            "Train on 5514 samples, validate on 613 samples\n",
            "Epoch 1/10\n",
            "5514/5514 [==============================] - 8s 1ms/step - loss: 0.0080 - acc: 0.9987 - val_loss: 5.0588 - val_acc: 0.4992\n",
            "Epoch 2/10\n",
            "5514/5514 [==============================] - 8s 1ms/step - loss: 0.0076 - acc: 0.9987 - val_loss: 5.0588 - val_acc: 0.4992\n",
            "Epoch 3/10\n",
            "5514/5514 [==============================] - 8s 1ms/step - loss: 0.0092 - acc: 0.9980 - val_loss: 5.0588 - val_acc: 0.4992\n",
            "Epoch 4/10\n",
            "5514/5514 [==============================] - 8s 1ms/step - loss: 0.0084 - acc: 0.9982 - val_loss: 5.0588 - val_acc: 0.4992\n",
            "Epoch 5/10\n",
            "5514/5514 [==============================] - 8s 1ms/step - loss: 0.0086 - acc: 0.9984 - val_loss: 5.0588 - val_acc: 0.4992\n",
            "\n",
            "Epoch 00005: ReduceLROnPlateau reducing learning rate to 1.000000045813705e-19.\n",
            "Epoch 6/10\n",
            "5514/5514 [==============================] - 8s 1ms/step - loss: 0.0108 - acc: 0.9984 - val_loss: 5.0588 - val_acc: 0.4992\n",
            "Epoch 7/10\n",
            "5514/5514 [==============================] - 8s 1ms/step - loss: 0.0073 - acc: 0.9989 - val_loss: 5.0588 - val_acc: 0.4992\n",
            "Epoch 8/10\n",
            "5514/5514 [==============================] - 8s 1ms/step - loss: 0.0097 - acc: 0.9980 - val_loss: 5.0588 - val_acc: 0.4992\n",
            "Epoch 9/10\n",
            "5514/5514 [==============================] - 8s 1ms/step - loss: 0.0082 - acc: 0.9985 - val_loss: 5.0588 - val_acc: 0.4992\n",
            "\n",
            "Epoch 00009: ReduceLROnPlateau reducing learning rate to 1.000000032889008e-20.\n",
            "Epoch 00009: early stopping\n",
            "dict_keys(['val_loss', 'val_acc', 'loss', 'acc', 'lr'])\n"
          ],
          "name": "stdout"
        },
        {
          "output_type": "display_data",
          "data": {
            "image/png": "[encoded data removed]",
            "text/plain": [
              "<Figure size 432x288 with 1 Axes>"
            ]
          },
          "metadata": {
            "tags": []
          }
        },
        {
          "output_type": "stream",
          "text": [
            "2022/2022 [==============================] - 2s 921us/step\n",
            "Test loss: 4.720544273138754\n",
            "Test accuracy: 0.5004945598417408\n",
            "***************\n",
            "\n",
            "\n",
            "\n",
            "Entrenamiento 10\n",
            "Train on 5514 samples, validate on 613 samples\n",
            "Epoch 1/10\n",
            "5514/5514 [==============================] - 8s 1ms/step - loss: 0.0104 - acc: 0.9966 - val_loss: 5.0588 - val_acc: 0.4992\n",
            "Epoch 2/10\n",
            "5514/5514 [==============================] - 8s 1ms/step - loss: 0.0085 - acc: 0.9984 - val_loss: 5.0588 - val_acc: 0.4992\n",
            "Epoch 3/10\n",
            "5514/5514 [==============================] - 8s 1ms/step - loss: 0.0089 - acc: 0.9984 - val_loss: 5.0588 - val_acc: 0.4992\n",
            "Epoch 4/10\n",
            "5514/5514 [==============================] - 8s 1ms/step - loss: 0.0084 - acc: 0.9984 - val_loss: 5.0588 - val_acc: 0.4992\n",
            "Epoch 5/10\n",
            "5514/5514 [==============================] - 8s 1ms/step - loss: 0.0078 - acc: 0.9987 - val_loss: 5.0588 - val_acc: 0.4992\n",
            "\n",
            "Epoch 00005: ReduceLROnPlateau reducing learning rate to 1.0000000490448793e-21.\n",
            "Epoch 6/10\n",
            "5514/5514 [==============================] - 8s 1ms/step - loss: 0.0078 - acc: 0.9984 - val_loss: 5.0588 - val_acc: 0.4992\n",
            "Epoch 7/10\n",
            "5514/5514 [==============================] - 8s 1ms/step - loss: 0.0085 - acc: 0.9985 - val_loss: 5.0588 - val_acc: 0.4992\n",
            "Epoch 8/10\n",
            "5514/5514 [==============================] - 8s 1ms/step - loss: 0.0091 - acc: 0.9978 - val_loss: 5.0588 - val_acc: 0.4992\n",
            "Epoch 9/10\n",
            "5514/5514 [==============================] - 8s 1ms/step - loss: 0.0079 - acc: 0.9980 - val_loss: 5.0588 - val_acc: 0.4992\n",
            "\n",
            "Epoch 00009: ReduceLROnPlateau reducing learning rate to 1.0000000692397185e-22.\n",
            "Epoch 00009: early stopping\n",
            "dict_keys(['val_loss', 'val_acc', 'loss', 'acc', 'lr'])\n"
          ],
          "name": "stdout"
        },
        {
          "output_type": "display_data",
          "data": {
            "image/png": "[encoded data removed]",
            "text/plain": [
              "<Figure size 432x288 with 1 Axes>"
            ]
          },
          "metadata": {
            "tags": []
          }
        },
        {
          "output_type": "stream",
          "text": [
            "2022/2022 [==============================] - 2s 918us/step\n",
            "Test loss: 4.720544273138754\n",
            "Test accuracy: 0.5004945598417408\n",
            "***************\n",
            "\n",
            "\n",
            "\n",
            "Entrenamiento 11\n",
            "Train on 5514 samples, validate on 613 samples\n",
            "Epoch 1/10\n",
            "5514/5514 [==============================] - 8s 1ms/step - loss: 0.0089 - acc: 0.9982 - val_loss: 5.0588 - val_acc: 0.4992\n",
            "Epoch 2/10\n",
            "5514/5514 [==============================] - 8s 1ms/step - loss: 0.0074 - acc: 0.9987 - val_loss: 5.0588 - val_acc: 0.4992\n",
            "Epoch 3/10\n",
            "5514/5514 [==============================] - 8s 1ms/step - loss: 0.0084 - acc: 0.9987 - val_loss: 5.0588 - val_acc: 0.4992\n",
            "Epoch 4/10\n",
            "5514/5514 [==============================] - 8s 1ms/step - loss: 0.0079 - acc: 0.9985 - val_loss: 5.0588 - val_acc: 0.4992\n",
            "Epoch 5/10\n",
            "5514/5514 [==============================] - 8s 1ms/step - loss: 0.0100 - acc: 0.9973 - val_loss: 5.0588 - val_acc: 0.4992\n",
            "\n",
            "Epoch 00005: ReduceLROnPlateau reducing learning rate to 1.0000000944832675e-23.\n",
            "Epoch 6/10\n",
            "5514/5514 [==============================] - 8s 1ms/step - loss: 0.0100 - acc: 0.9978 - val_loss: 5.0588 - val_acc: 0.4992\n",
            "Epoch 7/10\n",
            "5514/5514 [==============================] - 8s 1ms/step - loss: 0.0090 - acc: 0.9984 - val_loss: 5.0588 - val_acc: 0.4992\n",
            "Epoch 8/10\n",
            "5514/5514 [==============================] - 8s 1ms/step - loss: 0.0094 - acc: 0.9985 - val_loss: 5.0588 - val_acc: 0.4992\n",
            "Epoch 9/10\n",
            "5514/5514 [==============================] - 8s 1ms/step - loss: 0.0088 - acc: 0.9987 - val_loss: 5.0588 - val_acc: 0.4992\n",
            "\n",
            "Epoch 00009: ReduceLROnPlateau reducing learning rate to 1.0000000787060494e-24.\n",
            "Epoch 00009: early stopping\n",
            "dict_keys(['val_loss', 'val_acc', 'loss', 'acc', 'lr'])\n"
          ],
          "name": "stdout"
        },
        {
          "output_type": "display_data",
          "data": {
            "image/png": "[encoded data removed]",
            "text/plain": [
              "<Figure size 432x288 with 1 Axes>"
            ]
          },
          "metadata": {
            "tags": []
          }
        },
        {
          "output_type": "stream",
          "text": [
            "2022/2022 [==============================] - 2s 928us/step\n",
            "Test loss: 4.720544273138754\n",
            "Test accuracy: 0.5004945598417408\n",
            "***************\n",
            "\n",
            "\n",
            "\n",
            "Entrenamiento 12\n",
            "Train on 5514 samples, validate on 613 samples\n",
            "Epoch 1/10\n",
            "5514/5514 [==============================] - 8s 1ms/step - loss: 0.0072 - acc: 0.9984 - val_loss: 5.0588 - val_acc: 0.4992\n",
            "Epoch 2/10\n",
            "5514/5514 [==============================] - 8s 1ms/step - loss: 0.0085 - acc: 0.9982 - val_loss: 5.0588 - val_acc: 0.4992\n",
            "Epoch 3/10\n",
            "5514/5514 [==============================] - 8s 1ms/step - loss: 0.0094 - acc: 0.9984 - val_loss: 5.0588 - val_acc: 0.4992\n",
            "Epoch 4/10\n",
            "5514/5514 [==============================] - 8s 1ms/step - loss: 0.0065 - acc: 0.9991 - val_loss: 5.0588 - val_acc: 0.4992\n",
            "Epoch 5/10\n",
            "5514/5514 [==============================] - 8s 1ms/step - loss: 0.0092 - acc: 0.9980 - val_loss: 5.0588 - val_acc: 0.4992\n",
            "\n",
            "Epoch 00005: ReduceLROnPlateau reducing learning rate to 1.0000001181490946e-25.\n",
            "Epoch 6/10\n",
            "5514/5514 [==============================] - 8s 1ms/step - loss: 0.0086 - acc: 0.9982 - val_loss: 5.0588 - val_acc: 0.4992\n",
            "Epoch 7/10\n",
            "5514/5514 [==============================] - 8s 1ms/step - loss: 0.0078 - acc: 0.9989 - val_loss: 5.0588 - val_acc: 0.4992\n",
            "Epoch 8/10\n",
            "5514/5514 [==============================] - 8s 1ms/step - loss: 0.0087 - acc: 0.9980 - val_loss: 5.0588 - val_acc: 0.4992\n",
            "Epoch 9/10\n",
            "5514/5514 [==============================] - 8s 1ms/step - loss: 0.0086 - acc: 0.9984 - val_loss: 5.0588 - val_acc: 0.4992\n",
            "\n",
            "Epoch 00009: ReduceLROnPlateau reducing learning rate to 1.0000001428009978e-26.\n",
            "Epoch 00009: early stopping\n",
            "dict_keys(['val_loss', 'val_acc', 'loss', 'acc', 'lr'])\n"
          ],
          "name": "stdout"
        },
        {
          "output_type": "display_data",
          "data": {
            "image/png": "[encoded data removed]",
            "text/plain": [
              "<Figure size 432x288 with 1 Axes>"
            ]
          },
          "metadata": {
            "tags": []
          }
        },
        {
          "output_type": "stream",
          "text": [
            "2022/2022 [==============================] - 2s 920us/step\n",
            "Test loss: 4.720544273138754\n",
            "Test accuracy: 0.5004945598417408\n",
            "***************\n",
            "\n",
            "\n",
            "\n",
            "Entrenamiento 13\n",
            "Train on 5514 samples, validate on 613 samples\n",
            "Epoch 1/10\n",
            "5514/5514 [==============================] - 8s 1ms/step - loss: 0.0089 - acc: 0.9980 - val_loss: 5.0588 - val_acc: 0.4992\n",
            "Epoch 2/10\n",
            "5514/5514 [==============================] - 8s 1ms/step - loss: 0.0074 - acc: 0.9984 - val_loss: 5.0588 - val_acc: 0.4992\n",
            "Epoch 3/10\n",
            "5514/5514 [==============================] - 8s 1ms/step - loss: 0.0074 - acc: 0.9984 - val_loss: 5.0588 - val_acc: 0.4992\n",
            "Epoch 4/10\n",
            "5514/5514 [==============================] - 8s 1ms/step - loss: 0.0086 - acc: 0.9976 - val_loss: 5.0588 - val_acc: 0.4992\n",
            "Epoch 5/10\n",
            "5514/5514 [==============================] - 8s 1ms/step - loss: 0.0076 - acc: 0.9989 - val_loss: 5.0588 - val_acc: 0.4992\n",
            "\n",
            "Epoch 00005: ReduceLROnPlateau reducing learning rate to 1.000000142800998e-27.\n",
            "Epoch 6/10\n",
            "5514/5514 [==============================] - 8s 1ms/step - loss: 0.0070 - acc: 0.9989 - val_loss: 5.0588 - val_acc: 0.4992\n",
            "Epoch 7/10\n",
            "5514/5514 [==============================] - 8s 1ms/step - loss: 0.0099 - acc: 0.9978 - val_loss: 5.0588 - val_acc: 0.4992\n",
            "Epoch 8/10\n",
            "5514/5514 [==============================] - 8s 1ms/step - loss: 0.0108 - acc: 0.9975 - val_loss: 5.0588 - val_acc: 0.4992\n",
            "Epoch 9/10\n",
            "5514/5514 [==============================] - 8s 1ms/step - loss: 0.0066 - acc: 0.9991 - val_loss: 5.0588 - val_acc: 0.4992\n",
            "\n",
            "Epoch 00009: ReduceLROnPlateau reducing learning rate to 1.0000001235416984e-28.\n",
            "Epoch 00009: early stopping\n",
            "dict_keys(['val_loss', 'val_acc', 'loss', 'acc', 'lr'])\n"
          ],
          "name": "stdout"
        },
        {
          "output_type": "display_data",
          "data": {
            "image/png": "[encoded data removed]",
            "text/plain": [
              "<Figure size 432x288 with 1 Axes>"
            ]
          },
          "metadata": {
            "tags": []
          }
        },
        {
          "output_type": "stream",
          "text": [
            "2022/2022 [==============================] - 2s 921us/step\n",
            "Test loss: 4.720544273138754\n",
            "Test accuracy: 0.5004945598417408\n",
            "***************\n",
            "\n",
            "\n",
            "\n",
            "Entrenamiento 14\n",
            "Train on 5514 samples, validate on 613 samples\n",
            "Epoch 1/10\n",
            "5514/5514 [==============================] - 8s 1ms/step - loss: 0.0062 - acc: 0.9991 - val_loss: 5.0588 - val_acc: 0.4992\n",
            "Epoch 2/10\n",
            "5514/5514 [==============================] - 8s 1ms/step - loss: 0.0073 - acc: 0.9989 - val_loss: 5.0588 - val_acc: 0.4992\n",
            "Epoch 3/10\n",
            "5514/5514 [==============================] - 8s 1ms/step - loss: 0.0091 - acc: 0.9976 - val_loss: 5.0588 - val_acc: 0.4992\n",
            "Epoch 4/10\n",
            "5514/5514 [==============================] - 8s 1ms/step - loss: 0.0085 - acc: 0.9985 - val_loss: 5.0588 - val_acc: 0.4992\n",
            "Epoch 5/10\n",
            "5514/5514 [==============================] - 8s 1ms/step - loss: 0.0069 - acc: 0.9989 - val_loss: 5.0588 - val_acc: 0.4992\n",
            "\n",
            "Epoch 00005: ReduceLROnPlateau reducing learning rate to 1.0000001235416985e-29.\n",
            "Epoch 6/10\n",
            "5514/5514 [==============================] - 8s 1ms/step - loss: 0.0091 - acc: 0.9984 - val_loss: 5.0588 - val_acc: 0.4992\n",
            "Epoch 7/10\n",
            "5514/5514 [==============================] - 8s 1ms/step - loss: 0.0103 - acc: 0.9980 - val_loss: 5.0588 - val_acc: 0.4992\n",
            "Epoch 8/10\n",
            "5514/5514 [==============================] - 8s 1ms/step - loss: 0.0106 - acc: 0.9973 - val_loss: 5.0588 - val_acc: 0.4992\n",
            "Epoch 9/10\n",
            "5514/5514 [==============================] - 8s 1ms/step - loss: 0.0096 - acc: 0.9973 - val_loss: 5.0588 - val_acc: 0.4992\n",
            "\n",
            "Epoch 00009: ReduceLROnPlateau reducing learning rate to 1.0000001536343539e-30.\n",
            "Epoch 00009: early stopping\n",
            "dict_keys(['val_loss', 'val_acc', 'loss', 'acc', 'lr'])\n"
          ],
          "name": "stdout"
        },
        {
          "output_type": "display_data",
          "data": {
            "image/png": "[encoded data removed]",
            "text/plain": [
              "<Figure size 432x288 with 1 Axes>"
            ]
          },
          "metadata": {
            "tags": []
          }
        },
        {
          "output_type": "stream",
          "text": [
            "2022/2022 [==============================] - 2s 973us/step\n",
            "Test loss: 4.720544273138754\n",
            "Test accuracy: 0.5004945598417408\n",
            "***************\n",
            "\n",
            "\n",
            "\n",
            "Entrenamiento 15\n",
            "Train on 5514 samples, validate on 613 samples\n",
            "Epoch 1/10\n",
            "5514/5514 [==============================] - 8s 1ms/step - loss: 0.0096 - acc: 0.9984 - val_loss: 5.0588 - val_acc: 0.4992\n",
            "Epoch 2/10\n",
            "5514/5514 [==============================] - 8s 1ms/step - loss: 0.0073 - acc: 0.9984 - val_loss: 5.0588 - val_acc: 0.4992\n",
            "Epoch 3/10\n",
            "5514/5514 [==============================] - 8s 1ms/step - loss: 0.0100 - acc: 0.9982 - val_loss: 5.0588 - val_acc: 0.4992\n",
            "Epoch 4/10\n",
            "5514/5514 [==============================] - 8s 1ms/step - loss: 0.0086 - acc: 0.9982 - val_loss: 5.0588 - val_acc: 0.4992\n",
            "Epoch 5/10\n",
            "5514/5514 [==============================] - 8s 1ms/step - loss: 0.0085 - acc: 0.9984 - val_loss: 5.0588 - val_acc: 0.4992\n",
            "\n",
            "Epoch 00005: ReduceLROnPlateau reducing learning rate to 1.000000191250173e-31.\n",
            "Epoch 6/10\n",
            "5514/5514 [==============================] - 8s 1ms/step - loss: 0.0071 - acc: 0.9985 - val_loss: 5.0588 - val_acc: 0.4992\n",
            "Epoch 7/10\n",
            "5514/5514 [==============================] - 8s 1ms/step - loss: 0.0098 - acc: 0.9980 - val_loss: 5.0588 - val_acc: 0.4992\n",
            "Epoch 8/10\n",
            "5514/5514 [==============================] - 8s 1ms/step - loss: 0.0089 - acc: 0.9985 - val_loss: 5.0588 - val_acc: 0.4992\n",
            "Epoch 9/10\n",
            "5514/5514 [==============================] - 8s 1ms/step - loss: 0.0090 - acc: 0.9984 - val_loss: 5.0588 - val_acc: 0.4992\n",
            "\n",
            "Epoch 00009: ReduceLROnPlateau reducing learning rate to 1.0000002147600601e-32.\n",
            "Epoch 00009: early stopping\n",
            "dict_keys(['val_loss', 'val_acc', 'loss', 'acc', 'lr'])\n"
          ],
          "name": "stdout"
        },
        {
          "output_type": "display_data",
          "data": {
            "image/png": "[encoded data removed]",
            "text/plain": [
              "<Figure size 432x288 with 1 Axes>"
            ]
          },
          "metadata": {
            "tags": []
          }
        },
        {
          "output_type": "stream",
          "text": [
            "2022/2022 [==============================] - 2s 946us/step\n",
            "Test loss: 4.720544273138754\n",
            "Test accuracy: 0.5004945598417408\n",
            "***************\n",
            "\n",
            "\n",
            "\n",
            "Entrenamiento 16\n",
            "Train on 5514 samples, validate on 613 samples\n",
            "Epoch 1/10\n",
            "5514/5514 [==============================] - 8s 1ms/step - loss: 0.0098 - acc: 0.9982 - val_loss: 5.0588 - val_acc: 0.4992\n",
            "Epoch 2/10\n",
            "5514/5514 [==============================] - 8s 1ms/step - loss: 0.0081 - acc: 0.9985 - val_loss: 5.0588 - val_acc: 0.4992\n",
            "Epoch 3/10\n",
            "5514/5514 [==============================] - 8s 1ms/step - loss: 0.0085 - acc: 0.9982 - val_loss: 5.0588 - val_acc: 0.4992\n",
            "Epoch 4/10\n",
            "5514/5514 [==============================] - 8s 1ms/step - loss: 0.0096 - acc: 0.9975 - val_loss: 5.0588 - val_acc: 0.4992\n",
            "Epoch 5/10\n",
            "5514/5514 [==============================] - 8s 1ms/step - loss: 0.0101 - acc: 0.9976 - val_loss: 5.0588 - val_acc: 0.4992\n",
            "\n",
            "Epoch 00005: ReduceLROnPlateau reducing learning rate to 1.0000002441474188e-33.\n",
            "Epoch 6/10\n",
            "5514/5514 [==============================] - 8s 1ms/step - loss: 0.0084 - acc: 0.9980 - val_loss: 5.0588 - val_acc: 0.4992\n",
            "Epoch 7/10\n",
            "5514/5514 [==============================] - 8s 1ms/step - loss: 0.0097 - acc: 0.9982 - val_loss: 5.0588 - val_acc: 0.4992\n",
            "Epoch 8/10\n",
            "5514/5514 [==============================] - 8s 1ms/step - loss: 0.0087 - acc: 0.9987 - val_loss: 5.0588 - val_acc: 0.4992\n",
            "Epoch 9/10\n",
            "5514/5514 [==============================] - 8s 1ms/step - loss: 0.0077 - acc: 0.9984 - val_loss: 5.0588 - val_acc: 0.4992\n",
            "\n",
            "Epoch 00009: ReduceLROnPlateau reducing learning rate to 1.0000002074132203e-34.\n",
            "Epoch 00009: early stopping\n",
            "dict_keys(['val_loss', 'val_acc', 'loss', 'acc', 'lr'])\n"
          ],
          "name": "stdout"
        },
        {
          "output_type": "display_data",
          "data": {
            "image/png": "[encoded data removed]",
            "text/plain": [
              "<Figure size 432x288 with 1 Axes>"
            ]
          },
          "metadata": {
            "tags": []
          }
        },
        {
          "output_type": "stream",
          "text": [
            "2022/2022 [==============================] - 2s 934us/step\n",
            "Test loss: 4.720544273138754\n",
            "Test accuracy: 0.5004945598417408\n",
            "***************\n",
            "\n",
            "\n",
            "\n",
            "Entrenamiento 17\n",
            "Train on 5514 samples, validate on 613 samples\n",
            "Epoch 1/10\n",
            "5514/5514 [==============================] - 8s 1ms/step - loss: 0.0069 - acc: 0.9989 - val_loss: 5.0588 - val_acc: 0.4992\n",
            "Epoch 2/10\n",
            "5514/5514 [==============================] - 8s 1ms/step - loss: 0.0073 - acc: 0.9984 - val_loss: 5.0588 - val_acc: 0.4992\n",
            "Epoch 3/10\n",
            "5514/5514 [==============================] - 8s 1ms/step - loss: 0.0098 - acc: 0.9982 - val_loss: 5.0588 - val_acc: 0.4992\n",
            "Epoch 4/10\n",
            "5514/5514 [==============================] - 8s 1ms/step - loss: 0.0070 - acc: 0.9995 - val_loss: 5.0588 - val_acc: 0.4992\n",
            "Epoch 5/10\n",
            "5514/5514 [==============================] - 8s 1ms/step - loss: 0.0091 - acc: 0.9978 - val_loss: 5.0588 - val_acc: 0.4992\n",
            "\n",
            "Epoch 00005: ReduceLROnPlateau reducing learning rate to 1.0000001614954722e-35.\n",
            "Epoch 6/10\n",
            "5514/5514 [==============================] - 8s 1ms/step - loss: 0.0078 - acc: 0.9985 - val_loss: 5.0588 - val_acc: 0.4992\n",
            "Epoch 7/10\n",
            "5514/5514 [==============================] - 8s 1ms/step - loss: 0.0071 - acc: 0.9987 - val_loss: 5.0588 - val_acc: 0.4992\n",
            "Epoch 8/10\n",
            "5514/5514 [==============================] - 8s 1ms/step - loss: 0.0075 - acc: 0.9985 - val_loss: 5.0588 - val_acc: 0.4992\n",
            "Epoch 9/10\n",
            "5514/5514 [==============================] - 8s 1ms/step - loss: 0.0090 - acc: 0.9984 - val_loss: 5.0588 - val_acc: 0.4992\n",
            "\n",
            "Epoch 00009: ReduceLROnPlateau reducing learning rate to 1.0000001614954723e-36.\n",
            "Epoch 00009: early stopping\n",
            "dict_keys(['val_loss', 'val_acc', 'loss', 'acc', 'lr'])\n"
          ],
          "name": "stdout"
        },
        {
          "output_type": "display_data",
          "data": {
            "image/png": "[encoded data removed]",
            "text/plain": [
              "<Figure size 432x288 with 1 Axes>"
            ]
          },
          "metadata": {
            "tags": []
          }
        },
        {
          "output_type": "stream",
          "text": [
            "2022/2022 [==============================] - 2s 777us/step\n",
            "Test loss: 4.720544273138754\n",
            "Test accuracy: 0.5004945598417408\n",
            "***************\n",
            "\n",
            "\n",
            "\n",
            "Entrenamiento 18\n",
            "Train on 5514 samples, validate on 613 samples\n",
            "Epoch 1/10\n",
            "5514/5514 [==============================] - 8s 1ms/step - loss: 0.0090 - acc: 0.9980 - val_loss: 5.0588 - val_acc: 0.4992\n",
            "Epoch 2/10\n",
            "5514/5514 [==============================] - 8s 1ms/step - loss: 0.0078 - acc: 0.9985 - val_loss: 5.0588 - val_acc: 0.4992\n",
            "Epoch 3/10\n",
            "5514/5514 [==============================] - 8s 2ms/step - loss: 0.0082 - acc: 0.9980 - val_loss: 5.0588 - val_acc: 0.4992\n",
            "Epoch 4/10\n",
            "5514/5514 [==============================] - 8s 1ms/step - loss: 0.0085 - acc: 0.9989 - val_loss: 5.0588 - val_acc: 0.4992\n",
            "Epoch 5/10\n",
            "5514/5514 [==============================] - 8s 2ms/step - loss: 0.0071 - acc: 0.9989 - val_loss: 5.0588 - val_acc: 0.4992\n",
            "\n",
            "Epoch 00005: ReduceLROnPlateau reducing learning rate to 1.0000001256222317e-37.\n",
            "Epoch 6/10\n",
            "5514/5514 [==============================] - 8s 2ms/step - loss: 0.0079 - acc: 0.9985 - val_loss: 5.0588 - val_acc: 0.4992\n",
            "Epoch 7/10\n",
            "5514/5514 [==============================] - 8s 2ms/step - loss: 0.0107 - acc: 0.9971 - val_loss: 5.0588 - val_acc: 0.4992\n",
            "Epoch 8/10\n",
            "1664/5514 [========>.....................] - ETA: 5s - loss: 0.0050 - acc: 0.9994"
          ],
          "name": "stdout"
        },
        {
          "output_type": "error",
          "ename": "KeyboardInterrupt",
          "evalue": "ignored",
          "traceback": [
            "\u001b[0;31m---------------------------------------------------------------------------\u001b[0m",
            "\u001b[0;31mKeyboardInterrupt\u001b[0m                         Traceback (most recent call last)",
            "\u001b[0;32m<ipython-input-52-120e00e02636>\u001b[0m in \u001b[0;36m<module>\u001b[0;34m()\u001b[0m\n\u001b[1;32m     14\u001b[0m         \u001b[0mverbose\u001b[0m\u001b[0;34m=\u001b[0m\u001b[0;36m1\u001b[0m\u001b[0;34m,\u001b[0m\u001b[0;34m\u001b[0m\u001b[0;34m\u001b[0m\u001b[0m\n\u001b[1;32m     15\u001b[0m         \u001b[0mvalidation_data\u001b[0m\u001b[0;34m=\u001b[0m\u001b[0;34m(\u001b[0m\u001b[0mvalid_X\u001b[0m\u001b[0;34m,\u001b[0m \u001b[0mvalid_label\u001b[0m\u001b[0;34m)\u001b[0m\u001b[0;34m,\u001b[0m\u001b[0;34m\u001b[0m\u001b[0;34m\u001b[0m\u001b[0m\n\u001b[0;32m---> 16\u001b[0;31m         \u001b[0mcallbacks\u001b[0m\u001b[0;34m=\u001b[0m\u001b[0mDefineCallback\u001b[0m\u001b[0;34m(\u001b[0m\u001b[0;34m)\u001b[0m\u001b[0;34m\u001b[0m\u001b[0;34m\u001b[0m\u001b[0m\n\u001b[0m\u001b[1;32m     17\u001b[0m         )\n\u001b[1;32m     18\u001b[0m \u001b[0;34m\u001b[0m\u001b[0m\n",
            "\u001b[0;32m/usr/local/lib/python3.6/dist-packages/keras/engine/training.py\u001b[0m in \u001b[0;36mfit\u001b[0;34m(self, x, y, batch_size, epochs, verbose, callbacks, validation_split, validation_data, shuffle, class_weight, sample_weight, initial_epoch, steps_per_epoch, validation_steps, validation_freq, max_queue_size, workers, use_multiprocessing, **kwargs)\u001b[0m\n\u001b[1;32m   1176\u001b[0m                                         \u001b[0msteps_per_epoch\u001b[0m\u001b[0;34m=\u001b[0m\u001b[0msteps_per_epoch\u001b[0m\u001b[0;34m,\u001b[0m\u001b[0;34m\u001b[0m\u001b[0;34m\u001b[0m\u001b[0m\n\u001b[1;32m   1177\u001b[0m                                         \u001b[0mvalidation_steps\u001b[0m\u001b[0;34m=\u001b[0m\u001b[0mvalidation_steps\u001b[0m\u001b[0;34m,\u001b[0m\u001b[0;34m\u001b[0m\u001b[0;34m\u001b[0m\u001b[0m\n\u001b[0;32m-> 1178\u001b[0;31m                                         validation_freq=validation_freq)\n\u001b[0m\u001b[1;32m   1179\u001b[0m \u001b[0;34m\u001b[0m\u001b[0m\n\u001b[1;32m   1180\u001b[0m     def evaluate(self,\n",
            "\u001b[0;32m/usr/local/lib/python3.6/dist-packages/keras/engine/training_arrays.py\u001b[0m in \u001b[0;36mfit_loop\u001b[0;34m(model, fit_function, fit_inputs, out_labels, batch_size, epochs, verbose, callbacks, val_function, val_inputs, shuffle, callback_metrics, initial_epoch, steps_per_epoch, validation_steps, validation_freq)\u001b[0m\n\u001b[1;32m    185\u001b[0m             \u001b[0mbatches\u001b[0m \u001b[0;34m=\u001b[0m \u001b[0mmake_batches\u001b[0m\u001b[0;34m(\u001b[0m\u001b[0mnum_train_samples\u001b[0m\u001b[0;34m,\u001b[0m \u001b[0mbatch_size\u001b[0m\u001b[0;34m)\u001b[0m\u001b[0;34m\u001b[0m\u001b[0;34m\u001b[0m\u001b[0m\n\u001b[1;32m    186\u001b[0m             \u001b[0;32mfor\u001b[0m \u001b[0mbatch_index\u001b[0m\u001b[0;34m,\u001b[0m \u001b[0;34m(\u001b[0m\u001b[0mbatch_start\u001b[0m\u001b[0;34m,\u001b[0m \u001b[0mbatch_end\u001b[0m\u001b[0;34m)\u001b[0m \u001b[0;32min\u001b[0m \u001b[0menumerate\u001b[0m\u001b[0;34m(\u001b[0m\u001b[0mbatches\u001b[0m\u001b[0;34m)\u001b[0m\u001b[0;34m:\u001b[0m\u001b[0;34m\u001b[0m\u001b[0;34m\u001b[0m\u001b[0m\n\u001b[0;32m--> 187\u001b[0;31m                 \u001b[0mbatch_ids\u001b[0m \u001b[0;34m=\u001b[0m \u001b[0mindex_array\u001b[0m\u001b[0;34m[\u001b[0m\u001b[0mbatch_start\u001b[0m\u001b[0;34m:\u001b[0m\u001b[0mbatch_end\u001b[0m\u001b[0;34m]\u001b[0m\u001b[0;34m\u001b[0m\u001b[0;34m\u001b[0m\u001b[0m\n\u001b[0m\u001b[1;32m    188\u001b[0m                 \u001b[0;32mtry\u001b[0m\u001b[0;34m:\u001b[0m\u001b[0;34m\u001b[0m\u001b[0;34m\u001b[0m\u001b[0m\n\u001b[1;32m    189\u001b[0m                     \u001b[0;32mif\u001b[0m \u001b[0misinstance\u001b[0m\u001b[0;34m(\u001b[0m\u001b[0mfit_inputs\u001b[0m\u001b[0;34m[\u001b[0m\u001b[0;34m-\u001b[0m\u001b[0;36m1\u001b[0m\u001b[0;34m]\u001b[0m\u001b[0;34m,\u001b[0m \u001b[0mfloat\u001b[0m\u001b[0;34m)\u001b[0m\u001b[0;34m:\u001b[0m\u001b[0;34m\u001b[0m\u001b[0;34m\u001b[0m\u001b[0m\n",
            "\u001b[0;31mKeyboardInterrupt\u001b[0m: "
          ]
        }
      ]
    },
    {
      "cell_type": "code",
      "metadata": {
        "id": "l2M6jYjDP0Dw",
        "colab_type": "code",
        "outputId": "40e20bd3-e15d-42d0-e141-e3880bdee2e5",
        "colab": {
          "base_uri": "https://localhost:8080/",
          "height": 70
        }
      },
      "source": [
        "#valido el modelo\n",
        "test_eval = new_model.evaluate(X_test, y_test, verbose=1)\n",
        "print('Test loss:', test_eval[0])\n",
        "print('Test accuracy:', test_eval[1])"
      ],
      "execution_count": 53,
      "outputs": [
        {
          "output_type": "stream",
          "text": [
            "2022/2022 [==============================] - 1s 598us/step\n",
            "Test loss: 4.720544273138754\n",
            "Test accuracy: 0.5004945598417408\n"
          ],
          "name": "stdout"
        }
      ]
    },
    {
      "cell_type": "code",
      "metadata": {
        "id": "SMBVJgXmSs6_",
        "colab_type": "code",
        "outputId": "e698bc52-8205-4f38-ec2f-665617764444",
        "colab": {
          "base_uri": "https://localhost:8080/",
          "height": 52
        }
      },
      "source": [
        "modelExtern.GuardarPesosModelo()"
      ],
      "execution_count": 54,
      "outputs": [
        {
          "output_type": "stream",
          "text": [
            "Pesos Guardados!\n"
          ],
          "name": "stdout"
        },
        {
          "output_type": "execute_result",
          "data": {
            "text/plain": [
              "True"
            ]
          },
          "metadata": {
            "tags": []
          },
          "execution_count": 54
        }
      ]
    },
    {
      "cell_type": "markdown",
      "metadata": {
        "id": "afFipdWhTq01",
        "colab_type": "text"
      },
      "source": [
        "## Cargar Modelo Red Neuronal Guardado"
      ]
    },
    {
      "cell_type": "code",
      "metadata": {
        "id": "PBKMoPfRTvNX",
        "colab_type": "code",
        "outputId": "6d0d0360-3d32-4987-a26e-c7a0e71ad5eb",
        "colab": {
          "base_uri": "https://localhost:8080/",
          "height": 105
        }
      },
      "source": [
        "modeloCargado = modelExtern.CargarModeloGuardado(True)"
      ],
      "execution_count": 55,
      "outputs": [
        {
          "output_type": "stream",
          "text": [
            "Lectura del Json del modelo correcta\n",
            "<class 'str'>\n",
            "Modelo Cargado!\n",
            "Pesos Cargados!\n",
            "Modelo compilado!\n"
          ],
          "name": "stdout"
        }
      ]
    },
    {
      "cell_type": "code",
      "metadata": {
        "id": "9KKfHbGUU3fZ",
        "colab_type": "code",
        "outputId": "45561936-eb50-4a2f-89f3-82f550a5af9e",
        "colab": {
          "base_uri": "https://localhost:8080/",
          "height": 70
        }
      },
      "source": [
        "#valido el modelo\n",
        "test_eval = modeloCargado.evaluate(X_predic, y_predic, verbose=1)\n",
        "print('Test loss:', test_eval[0])\n",
        "print('Test accuracy:', test_eval[1])"
      ],
      "execution_count": 56,
      "outputs": [
        {
          "output_type": "stream",
          "text": [
            "996/996 [==============================] - 2s 2ms/step\n",
            "Test loss: 5.2087799899549365\n",
            "Test accuracy: 0.4779116465863454\n"
          ],
          "name": "stdout"
        }
      ]
    },
    {
      "cell_type": "markdown",
      "metadata": {
        "id": "-tAfR_p0LUz-",
        "colab_type": "text"
      },
      "source": [
        "# Reentrenar un modelo de ImageNet"
      ]
    },
    {
      "cell_type": "markdown",
      "metadata": {
        "id": "gDOpf9aWLau3",
        "colab_type": "text"
      },
      "source": [
        "## Cargar Modelo ImageNet"
      ]
    },
    {
      "cell_type": "code",
      "metadata": {
        "id": "fZ43mQRW7Qpt",
        "colab_type": "code",
        "outputId": "4952442a-f8bd-492b-89ab-8fd675b2be2d",
        "colab": {
          "base_uri": "https://localhost:8080/",
          "height": 1000
        }
      },
      "source": [
        "# VGG16, VGG19, ResNet50, \n",
        "#Xception, InceptionV3, InceptionResNetV2, \n",
        "#MobileNetV2, DenseNet, RasNet\n",
        "\n",
        "\n",
        "#https://www.learnopencv.com/keras-tutorial-fine-tuning-using-pre-trained-models/\n",
        "\n",
        "from keras.applications import VGG16 \n",
        "conv_base = VGG16(weights='imagenet',\n",
        "                 include_top=False, # Si se deben incluir o no las capas de salida originales del modelo\n",
        "                 input_shape=(128,128,3))\n",
        "\n",
        "congelarTodoModeloImagenet = False\n",
        "if congelarTodoModeloImagenet:\n",
        "  conv_base.trainable = False\n",
        "else:\n",
        "  # Freeze the layers except the last 4 layers\n",
        "  cantidadCapasFinalesDescongelar = 5\n",
        "  for layer in conv_base.layers[:-cantidadCapasFinalesDescongelar]:\n",
        "      layer.trainable = False\n",
        "      pass\n",
        "\n",
        "  # Check the trainable status of the individual layers\n",
        "  for layer in conv_base.layers:\n",
        "      pass\n",
        "      print(layer, layer.trainable)\n",
        "\n",
        "conv_base.summary()"
      ],
      "execution_count": 21,
      "outputs": [
        {
          "output_type": "stream",
          "text": [
            "Downloading data from https://github.com/fchollet/deep-learning-models/releases/download/v0.1/vgg16_weights_tf_dim_ordering_tf_kernels_notop.h5\n",
            "58892288/58889256 [==============================] - 2s 0us/step\n",
            "<keras.engine.input_layer.InputLayer object at 0x7f5ee4f75ef0> False\n",
            "<keras.layers.convolutional.Conv2D object at 0x7f5ee4f75fd0> False\n",
            "<keras.layers.convolutional.Conv2D object at 0x7f5ee4f7d080> False\n",
            "<keras.layers.pooling.MaxPooling2D object at 0x7f5ee4f865f8> False\n",
            "<keras.layers.convolutional.Conv2D object at 0x7f5ee4f8bc88> False\n",
            "<keras.layers.convolutional.Conv2D object at 0x7f5ee4f91780> False\n",
            "<keras.layers.pooling.MaxPooling2D object at 0x7f5ee4f994e0> False\n",
            "<keras.layers.convolutional.Conv2D object at 0x7f5ee4f9fc50> False\n",
            "<keras.layers.convolutional.Conv2D object at 0x7f5ee4fa6d30> False\n",
            "<keras.layers.convolutional.Conv2D object at 0x7f5ee50b8080> False\n",
            "<keras.layers.pooling.MaxPooling2D object at 0x7f5ee5078048> False\n",
            "<keras.layers.convolutional.Conv2D object at 0x7f5ee50db8d0> False\n",
            "<keras.layers.convolutional.Conv2D object at 0x7f5ee50e8198> False\n",
            "<keras.layers.convolutional.Conv2D object at 0x7f5ee50e2e80> False\n",
            "<keras.layers.pooling.MaxPooling2D object at 0x7f5ee507fcc0> True\n",
            "<keras.layers.convolutional.Conv2D object at 0x7f5ee50ff6d8> True\n",
            "<keras.layers.convolutional.Conv2D object at 0x7f5ee50f4390> True\n",
            "<keras.layers.convolutional.Conv2D object at 0x7f5ee50ed400> True\n",
            "<keras.layers.pooling.MaxPooling2D object at 0x7f5ee515e4e0> True\n",
            "Model: \"vgg16\"\n",
            "_________________________________________________________________\n",
            "Layer (type)                 Output Shape              Param #   \n",
            "=================================================================\n",
            "input_1 (InputLayer)         (None, 128, 128, 3)       0         \n",
            "_________________________________________________________________\n",
            "block1_conv1 (Conv2D)        (None, 128, 128, 64)      1792      \n",
            "_________________________________________________________________\n",
            "block1_conv2 (Conv2D)        (None, 128, 128, 64)      36928     \n",
            "_________________________________________________________________\n",
            "block1_pool (MaxPooling2D)   (None, 64, 64, 64)        0         \n",
            "_________________________________________________________________\n",
            "block2_conv1 (Conv2D)        (None, 64, 64, 128)       73856     \n",
            "_________________________________________________________________\n",
            "block2_conv2 (Conv2D)        (None, 64, 64, 128)       147584    \n",
            "_________________________________________________________________\n",
            "block2_pool (MaxPooling2D)   (None, 32, 32, 128)       0         \n",
            "_________________________________________________________________\n",
            "block3_conv1 (Conv2D)        (None, 32, 32, 256)       295168    \n",
            "_________________________________________________________________\n",
            "block3_conv2 (Conv2D)        (None, 32, 32, 256)       590080    \n",
            "_________________________________________________________________\n",
            "block3_conv3 (Conv2D)        (None, 32, 32, 256)       590080    \n",
            "_________________________________________________________________\n",
            "block3_pool (MaxPooling2D)   (None, 16, 16, 256)       0         \n",
            "_________________________________________________________________\n",
            "block4_conv1 (Conv2D)        (None, 16, 16, 512)       1180160   \n",
            "_________________________________________________________________\n",
            "block4_conv2 (Conv2D)        (None, 16, 16, 512)       2359808   \n",
            "_________________________________________________________________\n",
            "block4_conv3 (Conv2D)        (None, 16, 16, 512)       2359808   \n",
            "_________________________________________________________________\n",
            "block4_pool (MaxPooling2D)   (None, 8, 8, 512)         0         \n",
            "_________________________________________________________________\n",
            "block5_conv1 (Conv2D)        (None, 8, 8, 512)         2359808   \n",
            "_________________________________________________________________\n",
            "block5_conv2 (Conv2D)        (None, 8, 8, 512)         2359808   \n",
            "_________________________________________________________________\n",
            "block5_conv3 (Conv2D)        (None, 8, 8, 512)         2359808   \n",
            "_________________________________________________________________\n",
            "block5_pool (MaxPooling2D)   (None, 4, 4, 512)         0         \n",
            "=================================================================\n",
            "Total params: 14,714,688\n",
            "Trainable params: 7,079,424\n",
            "Non-trainable params: 7,635,264\n",
            "_________________________________________________________________\n"
          ],
          "name": "stdout"
        }
      ]
    },
    {
      "cell_type": "markdown",
      "metadata": {
        "id": "Xx926sqBLk0z",
        "colab_type": "text"
      },
      "source": [
        "## Crear nuestro modelo e incluirle el modelo de imageNet"
      ]
    },
    {
      "cell_type": "code",
      "metadata": {
        "id": "tFV7dCp27QnE",
        "colab_type": "code",
        "colab": {}
      },
      "source": [
        "modeloTrasnferenciaConocimiento = ModeloExterno(nombreModelo=\"wisrovi-transferLearning\", rutaBase=BASE_FOLDER)"
      ],
      "execution_count": 0,
      "outputs": []
    },
    {
      "cell_type": "code",
      "metadata": {
        "id": "5soqPRWlDcZ3",
        "colab_type": "code",
        "outputId": "d060748e-94d5-4183-c542-6810e6d854cf",
        "colab": {
          "base_uri": "https://localhost:8080/",
          "height": 439
        }
      },
      "source": [
        "pre_trained_model = models.Sequential()\n",
        "pre_trained_model.add(conv_base)\n",
        "\n",
        "pre_trained_model.add(Dropout(0.25)) #apagar un 25% de manera aleatoria para reducir la cantidad de parametros\n",
        "\n",
        "\n",
        "pre_trained_model.add(\n",
        "    Conv2D(32,\n",
        "           kernel_size=(3, 3),\n",
        "           activation='relu',\n",
        "           padding='same',\n",
        "           input_shape=(128,128,3)\n",
        "           )\n",
        "    )\n",
        "\n",
        "pre_trained_model.add( Conv2D(32, kernel_size=(3, 3), activation='relu', padding='same'  ) )\n",
        "\n",
        "pre_trained_model.add(Dropout(0.25)) #apagar un 25% de manera aleatoria para reducir la cantidad de parametros\n",
        "\n",
        "#para aplanar todas las capas\n",
        "#esto se hace debido a que el modelo de VG16 nos da 4 dimensiones de salida, y con esto reducimos las dimensiones a dos: numero datos, numero clases\n",
        "pre_trained_model.add(Flatten()) \n",
        "\n",
        "# conectarlo a nueva parte densa\n",
        "# Genero la capa final con la cantidad de neuronas segun la cantidad de opciones de clasificacion\n",
        "pre_trained_model.add(Dense(nClasses, activation='softmax')) \n",
        "\n",
        "pre_trained_model.summary()\n",
        "\n",
        "# compilar el modelo\n",
        "pre_trained_model.compile(optimizer='adam',\n",
        "               loss='categorical_crossentropy',\n",
        "               metrics=['accuracy'])\n",
        "\n",
        "modeloTrasnferenciaConocimiento.GuardarModelo(pre_trained_model)"
      ],
      "execution_count": 57,
      "outputs": [
        {
          "output_type": "stream",
          "text": [
            "Model: \"sequential_7\"\n",
            "_________________________________________________________________\n",
            "Layer (type)                 Output Shape              Param #   \n",
            "=================================================================\n",
            "vgg16 (Model)                (None, 4, 4, 512)         14714688  \n",
            "_________________________________________________________________\n",
            "dropout_18 (Dropout)         (None, 4, 4, 512)         0         \n",
            "_________________________________________________________________\n",
            "conv2d_18 (Conv2D)           (None, 4, 4, 32)          147488    \n",
            "_________________________________________________________________\n",
            "conv2d_19 (Conv2D)           (None, 4, 4, 32)          9248      \n",
            "_________________________________________________________________\n",
            "dropout_19 (Dropout)         (None, 4, 4, 32)          0         \n",
            "_________________________________________________________________\n",
            "flatten_7 (Flatten)          (None, 512)               0         \n",
            "_________________________________________________________________\n",
            "dense_28 (Dense)             (None, 102)               52326     \n",
            "=================================================================\n",
            "Total params: 14,923,750\n",
            "Trainable params: 7,288,486\n",
            "Non-trainable params: 7,635,264\n",
            "_________________________________________________________________\n",
            "Modelo guardado!\n"
          ],
          "name": "stdout"
        },
        {
          "output_type": "execute_result",
          "data": {
            "text/plain": [
              "True"
            ]
          },
          "metadata": {
            "tags": []
          },
          "execution_count": 57
        }
      ]
    },
    {
      "cell_type": "markdown",
      "metadata": {
        "id": "6QVfy9R-RleC",
        "colab_type": "text"
      },
      "source": [
        "## Entrenar Modelo Con conocimiento Transferido"
      ]
    },
    {
      "cell_type": "code",
      "metadata": {
        "id": "_EBapwPcQF5E",
        "colab_type": "code",
        "outputId": "3c744894-9a13-45fd-a190-6051f35f3ab7",
        "colab": {
          "base_uri": "https://localhost:8080/",
          "height": 1000
        }
      },
      "source": [
        "#Entreno el modelo\n",
        "\n",
        "#Al final de cada entrenamiento guardo los mejores pesos\n",
        "numeroEntrenamientos = 30\n",
        "\n",
        "#ciclos en los cuales evaluo los datos de entrenamiento para hallar los mejores pesos\n",
        "numeroEpocas = 15\n",
        "\n",
        "#ver datos entrenamiento\n",
        "print(\"Int: \", train_X.shape)\n",
        "print(\"Out: \", train_label.shape)\n",
        "\n",
        "oldModel = None\n",
        "oldAccuaricy = 0\n",
        "for i in range(numeroEntrenamientos):     \n",
        "    print()   \n",
        "    print()\n",
        "    print(\"Entrenamiento \" + str(i + 1))\n",
        "\n",
        "    history = pre_trained_model.fit(\n",
        "        train_X, train_label, \n",
        "        batch_size=64, # cantidad de imágenes que se toman a la vez en memoria\n",
        "        epochs=numeroEpocas,        \n",
        "        verbose=1,\n",
        "        validation_data=(valid_X, valid_label),\n",
        "        callbacks=DefineCallback()\n",
        "        )\n",
        "        \n",
        "    plot_history(history)   \n",
        "\n",
        "    test_eval = pre_trained_model.evaluate(X_test, y_test, verbose=1)\n",
        "    print('Test loss:', test_eval[0])\n",
        "    print('Test accuracy:', test_eval[1])\n",
        "\n",
        "    if oldAccuaricy < test_eval[1]:\n",
        "        oldAccuaricy = test_eval[1]\n",
        "        modeloTrasnferenciaConocimiento.GuardarPesosModelo()\n",
        "        oldModel = pre_trained_model\n",
        "    else:\n",
        "        pre_trained_model = oldModel\n",
        "    print(\"***************\")    \n",
        "    print()"
      ],
      "execution_count": 58,
      "outputs": [
        {
          "output_type": "stream",
          "text": [
            "Int:  (5514, 128, 128, 3)\n",
            "Out:  (5514, 102)\n",
            "\n",
            "\n",
            "Entrenamiento 1\n",
            "Train on 5514 samples, validate on 613 samples\n",
            "Epoch 1/15\n",
            "5514/5514 [==============================] - 10s 2ms/step - loss: 2.1243 - acc: 0.5600 - val_loss: 1.1829 - val_acc: 0.7227\n",
            "Epoch 2/15\n",
            "5514/5514 [==============================] - 8s 1ms/step - loss: 0.5904 - acc: 0.8517 - val_loss: 1.0002 - val_acc: 0.7781\n",
            "Epoch 3/15\n",
            "5514/5514 [==============================] - 8s 1ms/step - loss: 0.3172 - acc: 0.9148 - val_loss: 1.1441 - val_acc: 0.7716\n",
            "Epoch 4/15\n",
            "5514/5514 [==============================] - 8s 1ms/step - loss: 0.2039 - acc: 0.9440 - val_loss: 1.1199 - val_acc: 0.7847\n",
            "Epoch 5/15\n",
            "5514/5514 [==============================] - 8s 1ms/step - loss: 0.1723 - acc: 0.9505 - val_loss: 1.4249 - val_acc: 0.7553\n",
            "Epoch 6/15\n",
            "5514/5514 [==============================] - 8s 1ms/step - loss: 0.1931 - acc: 0.9577 - val_loss: 0.9978 - val_acc: 0.8042\n",
            "Epoch 7/15\n",
            "5514/5514 [==============================] - 8s 1ms/step - loss: 0.1870 - acc: 0.9543 - val_loss: 1.1186 - val_acc: 0.7732\n",
            "Epoch 8/15\n",
            "5514/5514 [==============================] - 8s 1ms/step - loss: 0.2393 - acc: 0.9403 - val_loss: 1.2383 - val_acc: 0.7781\n",
            "Epoch 9/15\n",
            "5514/5514 [==============================] - 8s 1ms/step - loss: 0.1825 - acc: 0.9539 - val_loss: 1.0805 - val_acc: 0.7945\n",
            "Epoch 10/15\n",
            "5514/5514 [==============================] - 8s 1ms/step - loss: 0.1236 - acc: 0.9690 - val_loss: 1.1095 - val_acc: 0.8238\n",
            "\n",
            "Epoch 00010: ReduceLROnPlateau reducing learning rate to 0.00010000000474974513.\n",
            "Epoch 11/15\n",
            "5514/5514 [==============================] - 8s 1ms/step - loss: 0.0517 - acc: 0.9857 - val_loss: 0.8945 - val_acc: 0.8287\n",
            "Epoch 12/15\n",
            "5514/5514 [==============================] - 8s 1ms/step - loss: 0.0201 - acc: 0.9949 - val_loss: 0.8554 - val_acc: 0.8336\n",
            "Epoch 13/15\n",
            "5514/5514 [==============================] - 8s 1ms/step - loss: 0.0129 - acc: 0.9969 - val_loss: 0.8809 - val_acc: 0.8385\n",
            "Epoch 14/15\n",
            "5514/5514 [==============================] - 8s 1ms/step - loss: 0.0089 - acc: 0.9975 - val_loss: 0.8858 - val_acc: 0.8369\n",
            "Epoch 15/15\n",
            "5514/5514 [==============================] - 8s 1ms/step - loss: 0.0087 - acc: 0.9980 - val_loss: 0.8866 - val_acc: 0.8418\n",
            "dict_keys(['val_loss', 'val_acc', 'loss', 'acc', 'lr'])\n"
          ],
          "name": "stdout"
        },
        {
          "output_type": "display_data",
          "data": {
            "image/png": "[encoded data removed]",
            "text/plain": [
              "<Figure size 432x288 with 1 Axes>"
            ]
          },
          "metadata": {
            "tags": []
          }
        },
        {
          "output_type": "stream",
          "text": [
            "2022/2022 [==============================] - 2s 1ms/step\n",
            "Test loss: 1.088847250895967\n",
            "Test accuracy: 0.8239366963992133\n",
            "Pesos Guardados!\n",
            "***************\n",
            "\n",
            "\n",
            "\n",
            "Entrenamiento 2\n",
            "Train on 5514 samples, validate on 613 samples\n",
            "Epoch 1/15\n",
            "3328/5514 [=================>............] - ETA: 2s - loss: 0.0076 - acc: 0.9982"
          ],
          "name": "stdout"
        },
        {
          "output_type": "error",
          "ename": "KeyboardInterrupt",
          "evalue": "ignored",
          "traceback": [
            "\u001b[0;31m---------------------------------------------------------------------------\u001b[0m",
            "\u001b[0;31mKeyboardInterrupt\u001b[0m                         Traceback (most recent call last)",
            "\u001b[0;32m<ipython-input-58-b513b9847df6>\u001b[0m in \u001b[0;36m<module>\u001b[0;34m()\u001b[0m\n\u001b[1;32m     21\u001b[0m         \u001b[0mverbose\u001b[0m\u001b[0;34m=\u001b[0m\u001b[0;36m1\u001b[0m\u001b[0;34m,\u001b[0m\u001b[0;34m\u001b[0m\u001b[0;34m\u001b[0m\u001b[0m\n\u001b[1;32m     22\u001b[0m         \u001b[0mvalidation_data\u001b[0m\u001b[0;34m=\u001b[0m\u001b[0;34m(\u001b[0m\u001b[0mvalid_X\u001b[0m\u001b[0;34m,\u001b[0m \u001b[0mvalid_label\u001b[0m\u001b[0;34m)\u001b[0m\u001b[0;34m,\u001b[0m\u001b[0;34m\u001b[0m\u001b[0;34m\u001b[0m\u001b[0m\n\u001b[0;32m---> 23\u001b[0;31m         \u001b[0mcallbacks\u001b[0m\u001b[0;34m=\u001b[0m\u001b[0mDefineCallback\u001b[0m\u001b[0;34m(\u001b[0m\u001b[0;34m)\u001b[0m\u001b[0;34m\u001b[0m\u001b[0;34m\u001b[0m\u001b[0m\n\u001b[0m\u001b[1;32m     24\u001b[0m         )\n\u001b[1;32m     25\u001b[0m \u001b[0;34m\u001b[0m\u001b[0m\n",
            "\u001b[0;32m/usr/local/lib/python3.6/dist-packages/keras/engine/training.py\u001b[0m in \u001b[0;36mfit\u001b[0;34m(self, x, y, batch_size, epochs, verbose, callbacks, validation_split, validation_data, shuffle, class_weight, sample_weight, initial_epoch, steps_per_epoch, validation_steps, validation_freq, max_queue_size, workers, use_multiprocessing, **kwargs)\u001b[0m\n\u001b[1;32m   1176\u001b[0m                                         \u001b[0msteps_per_epoch\u001b[0m\u001b[0;34m=\u001b[0m\u001b[0msteps_per_epoch\u001b[0m\u001b[0;34m,\u001b[0m\u001b[0;34m\u001b[0m\u001b[0;34m\u001b[0m\u001b[0m\n\u001b[1;32m   1177\u001b[0m                                         \u001b[0mvalidation_steps\u001b[0m\u001b[0;34m=\u001b[0m\u001b[0mvalidation_steps\u001b[0m\u001b[0;34m,\u001b[0m\u001b[0;34m\u001b[0m\u001b[0;34m\u001b[0m\u001b[0m\n\u001b[0;32m-> 1178\u001b[0;31m                                         validation_freq=validation_freq)\n\u001b[0m\u001b[1;32m   1179\u001b[0m \u001b[0;34m\u001b[0m\u001b[0m\n\u001b[1;32m   1180\u001b[0m     def evaluate(self,\n",
            "\u001b[0;32m/usr/local/lib/python3.6/dist-packages/keras/engine/training_arrays.py\u001b[0m in \u001b[0;36mfit_loop\u001b[0;34m(model, fit_function, fit_inputs, out_labels, batch_size, epochs, verbose, callbacks, val_function, val_inputs, shuffle, callback_metrics, initial_epoch, steps_per_epoch, validation_steps, validation_freq)\u001b[0m\n\u001b[1;32m    202\u001b[0m                     \u001b[0mins_batch\u001b[0m\u001b[0;34m[\u001b[0m\u001b[0mi\u001b[0m\u001b[0;34m]\u001b[0m \u001b[0;34m=\u001b[0m \u001b[0mins_batch\u001b[0m\u001b[0;34m[\u001b[0m\u001b[0mi\u001b[0m\u001b[0;34m]\u001b[0m\u001b[0;34m.\u001b[0m\u001b[0mtoarray\u001b[0m\u001b[0;34m(\u001b[0m\u001b[0;34m)\u001b[0m\u001b[0;34m\u001b[0m\u001b[0;34m\u001b[0m\u001b[0m\n\u001b[1;32m    203\u001b[0m \u001b[0;34m\u001b[0m\u001b[0m\n\u001b[0;32m--> 204\u001b[0;31m                 \u001b[0mouts\u001b[0m \u001b[0;34m=\u001b[0m \u001b[0mfit_function\u001b[0m\u001b[0;34m(\u001b[0m\u001b[0mins_batch\u001b[0m\u001b[0;34m)\u001b[0m\u001b[0;34m\u001b[0m\u001b[0;34m\u001b[0m\u001b[0m\n\u001b[0m\u001b[1;32m    205\u001b[0m                 \u001b[0mouts\u001b[0m \u001b[0;34m=\u001b[0m \u001b[0mto_list\u001b[0m\u001b[0;34m(\u001b[0m\u001b[0mouts\u001b[0m\u001b[0;34m)\u001b[0m\u001b[0;34m\u001b[0m\u001b[0;34m\u001b[0m\u001b[0m\n\u001b[1;32m    206\u001b[0m                 \u001b[0;32mfor\u001b[0m \u001b[0ml\u001b[0m\u001b[0;34m,\u001b[0m \u001b[0mo\u001b[0m \u001b[0;32min\u001b[0m \u001b[0mzip\u001b[0m\u001b[0;34m(\u001b[0m\u001b[0mout_labels\u001b[0m\u001b[0;34m,\u001b[0m \u001b[0mouts\u001b[0m\u001b[0;34m)\u001b[0m\u001b[0;34m:\u001b[0m\u001b[0;34m\u001b[0m\u001b[0;34m\u001b[0m\u001b[0m\n",
            "\u001b[0;32m/usr/local/lib/python3.6/dist-packages/keras/backend/tensorflow_backend.py\u001b[0m in \u001b[0;36m__call__\u001b[0;34m(self, inputs)\u001b[0m\n\u001b[1;32m   2977\u001b[0m                     \u001b[0;32mreturn\u001b[0m \u001b[0mself\u001b[0m\u001b[0;34m.\u001b[0m\u001b[0m_legacy_call\u001b[0m\u001b[0;34m(\u001b[0m\u001b[0minputs\u001b[0m\u001b[0;34m)\u001b[0m\u001b[0;34m\u001b[0m\u001b[0;34m\u001b[0m\u001b[0m\n\u001b[1;32m   2978\u001b[0m \u001b[0;34m\u001b[0m\u001b[0m\n\u001b[0;32m-> 2979\u001b[0;31m             \u001b[0;32mreturn\u001b[0m \u001b[0mself\u001b[0m\u001b[0;34m.\u001b[0m\u001b[0m_call\u001b[0m\u001b[0;34m(\u001b[0m\u001b[0minputs\u001b[0m\u001b[0;34m)\u001b[0m\u001b[0;34m\u001b[0m\u001b[0;34m\u001b[0m\u001b[0m\n\u001b[0m\u001b[1;32m   2980\u001b[0m         \u001b[0;32melse\u001b[0m\u001b[0;34m:\u001b[0m\u001b[0;34m\u001b[0m\u001b[0;34m\u001b[0m\u001b[0m\n\u001b[1;32m   2981\u001b[0m             \u001b[0;32mif\u001b[0m \u001b[0mpy_any\u001b[0m\u001b[0;34m(\u001b[0m\u001b[0mis_tensor\u001b[0m\u001b[0;34m(\u001b[0m\u001b[0mx\u001b[0m\u001b[0;34m)\u001b[0m \u001b[0;32mfor\u001b[0m \u001b[0mx\u001b[0m \u001b[0;32min\u001b[0m \u001b[0minputs\u001b[0m\u001b[0;34m)\u001b[0m\u001b[0;34m:\u001b[0m\u001b[0;34m\u001b[0m\u001b[0;34m\u001b[0m\u001b[0m\n",
            "\u001b[0;32m/usr/local/lib/python3.6/dist-packages/keras/backend/tensorflow_backend.py\u001b[0m in \u001b[0;36m_call\u001b[0;34m(self, inputs)\u001b[0m\n\u001b[1;32m   2935\u001b[0m             \u001b[0mfetched\u001b[0m \u001b[0;34m=\u001b[0m \u001b[0mself\u001b[0m\u001b[0;34m.\u001b[0m\u001b[0m_callable_fn\u001b[0m\u001b[0;34m(\u001b[0m\u001b[0;34m*\u001b[0m\u001b[0marray_vals\u001b[0m\u001b[0;34m,\u001b[0m \u001b[0mrun_metadata\u001b[0m\u001b[0;34m=\u001b[0m\u001b[0mself\u001b[0m\u001b[0;34m.\u001b[0m\u001b[0mrun_metadata\u001b[0m\u001b[0;34m)\u001b[0m\u001b[0;34m\u001b[0m\u001b[0;34m\u001b[0m\u001b[0m\n\u001b[1;32m   2936\u001b[0m         \u001b[0;32melse\u001b[0m\u001b[0;34m:\u001b[0m\u001b[0;34m\u001b[0m\u001b[0;34m\u001b[0m\u001b[0m\n\u001b[0;32m-> 2937\u001b[0;31m             \u001b[0mfetched\u001b[0m \u001b[0;34m=\u001b[0m \u001b[0mself\u001b[0m\u001b[0;34m.\u001b[0m\u001b[0m_callable_fn\u001b[0m\u001b[0;34m(\u001b[0m\u001b[0;34m*\u001b[0m\u001b[0marray_vals\u001b[0m\u001b[0;34m)\u001b[0m\u001b[0;34m\u001b[0m\u001b[0;34m\u001b[0m\u001b[0m\n\u001b[0m\u001b[1;32m   2938\u001b[0m         \u001b[0;32mreturn\u001b[0m \u001b[0mfetched\u001b[0m\u001b[0;34m[\u001b[0m\u001b[0;34m:\u001b[0m\u001b[0mlen\u001b[0m\u001b[0;34m(\u001b[0m\u001b[0mself\u001b[0m\u001b[0;34m.\u001b[0m\u001b[0moutputs\u001b[0m\u001b[0;34m)\u001b[0m\u001b[0;34m]\u001b[0m\u001b[0;34m\u001b[0m\u001b[0;34m\u001b[0m\u001b[0m\n\u001b[1;32m   2939\u001b[0m \u001b[0;34m\u001b[0m\u001b[0m\n",
            "\u001b[0;32m/usr/local/lib/python3.6/dist-packages/tensorflow_core/python/client/session.py\u001b[0m in \u001b[0;36m__call__\u001b[0;34m(self, *args, **kwargs)\u001b[0m\n\u001b[1;32m   1470\u001b[0m         ret = tf_session.TF_SessionRunCallable(self._session._session,\n\u001b[1;32m   1471\u001b[0m                                                \u001b[0mself\u001b[0m\u001b[0;34m.\u001b[0m\u001b[0m_handle\u001b[0m\u001b[0;34m,\u001b[0m \u001b[0margs\u001b[0m\u001b[0;34m,\u001b[0m\u001b[0;34m\u001b[0m\u001b[0;34m\u001b[0m\u001b[0m\n\u001b[0;32m-> 1472\u001b[0;31m                                                run_metadata_ptr)\n\u001b[0m\u001b[1;32m   1473\u001b[0m         \u001b[0;32mif\u001b[0m \u001b[0mrun_metadata\u001b[0m\u001b[0;34m:\u001b[0m\u001b[0;34m\u001b[0m\u001b[0;34m\u001b[0m\u001b[0m\n\u001b[1;32m   1474\u001b[0m           \u001b[0mproto_data\u001b[0m \u001b[0;34m=\u001b[0m \u001b[0mtf_session\u001b[0m\u001b[0;34m.\u001b[0m\u001b[0mTF_GetBuffer\u001b[0m\u001b[0;34m(\u001b[0m\u001b[0mrun_metadata_ptr\u001b[0m\u001b[0;34m)\u001b[0m\u001b[0;34m\u001b[0m\u001b[0;34m\u001b[0m\u001b[0m\n",
            "\u001b[0;31mKeyboardInterrupt\u001b[0m: "
          ]
        }
      ]
    },
    {
      "cell_type": "code",
      "metadata": {
        "id": "ilio5dT7TYtM",
        "colab_type": "code",
        "outputId": "d337e3a2-86c7-40d9-e737-a084806d6dbe",
        "colab": {
          "base_uri": "https://localhost:8080/",
          "height": 105
        }
      },
      "source": [
        "modeloCargadoTransferenciaConocimiento = modeloTrasnferenciaConocimiento.CargarModeloGuardado(True)"
      ],
      "execution_count": 59,
      "outputs": [
        {
          "output_type": "stream",
          "text": [
            "Lectura del Json del modelo correcta\n",
            "<class 'str'>\n",
            "Modelo Cargado!\n",
            "Pesos Cargados!\n",
            "Modelo compilado!\n"
          ],
          "name": "stdout"
        }
      ]
    },
    {
      "cell_type": "code",
      "metadata": {
        "id": "SOLwmbY-TKdq",
        "colab_type": "code",
        "outputId": "0198e7f0-24b6-44da-8384-531cf85a4762",
        "colab": {
          "base_uri": "https://localhost:8080/",
          "height": 70
        }
      },
      "source": [
        "#valido el modelo\n",
        "test_eval = modeloCargadoTransferenciaConocimiento.evaluate(X_predic, y_predic, verbose=1)\n",
        "print('Test loss:', test_eval[0])\n",
        "print('Test accuracy:', test_eval[1])"
      ],
      "execution_count": 60,
      "outputs": [
        {
          "output_type": "stream",
          "text": [
            "996/996 [==============================] - 2s 2ms/step\n",
            "Test loss: 1.1554640588990177\n",
            "Test accuracy: 0.820281124497992\n"
          ],
          "name": "stdout"
        }
      ]
    },
    {
      "cell_type": "code",
      "metadata": {
        "id": "H278QBRSTgC4",
        "colab_type": "code",
        "colab": {}
      },
      "source": [
        ""
      ],
      "execution_count": 0,
      "outputs": []
    },
    {
      "cell_type": "code",
      "metadata": {
        "id": "wbZpgusGTgBe",
        "colab_type": "code",
        "colab": {}
      },
      "source": [
        ""
      ],
      "execution_count": 0,
      "outputs": []
    },
    {
      "cell_type": "code",
      "metadata": {
        "id": "XgKFnEXjTf-A",
        "colab_type": "code",
        "colab": {}
      },
      "source": [
        ""
      ],
      "execution_count": 0,
      "outputs": []
    },
    {
      "cell_type": "code",
      "metadata": {
        "id": "Ff8k9RjVTf7j",
        "colab_type": "code",
        "colab": {}
      },
      "source": [
        ""
      ],
      "execution_count": 0,
      "outputs": []
    },
    {
      "cell_type": "code",
      "metadata": {
        "id": "4BSV4uNvHHdp",
        "colab_type": "code",
        "colab": {}
      },
      "source": [
        ""
      ],
      "execution_count": 0,
      "outputs": []
    },
    {
      "cell_type": "code",
      "metadata": {
        "id": "7XhDjV1HHHYT",
        "colab_type": "code",
        "colab": {}
      },
      "source": [
        "url = 'https://www.aprendemachinelearning.com/clasificacion-de-imagenes-en-python/'"
      ],
      "execution_count": 0,
      "outputs": []
    },
    {
      "cell_type": "markdown",
      "metadata": {
        "id": "kEVXhpUYj5J8",
        "colab_type": "text"
      },
      "source": [
        "# Conclusiones"
      ]
    },
    {
      "cell_type": "markdown",
      "metadata": {
        "id": "UE0jz2pAj-oL",
        "colab_type": "text"
      },
      "source": [
        "Al usar la transferencia de conocimiento es más facil alcanzar un modelo de clasificacion óptimo para el objetivo propuesto en pocas epocas de reentrenamiento"
      ]
    },
    {
      "cell_type": "markdown",
      "metadata": {
        "id": "VgxTr9twkSS8",
        "colab_type": "text"
      },
      "source": [
        ""
      ]
    },
    {
      "cell_type": "markdown",
      "metadata": {
        "id": "LguJlC7gkSY5",
        "colab_type": "text"
      },
      "source": [
        ""
      ]
    },
    {
      "cell_type": "markdown",
      "metadata": {
        "id": "0pRDp79PkSQT",
        "colab_type": "text"
      },
      "source": [
        ""
      ]
    }
  ]
}