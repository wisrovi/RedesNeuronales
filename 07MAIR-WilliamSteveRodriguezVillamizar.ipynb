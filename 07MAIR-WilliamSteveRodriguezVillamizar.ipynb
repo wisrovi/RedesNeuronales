{
  "nbformat": 4,
  "nbformat_minor": 0,
  "metadata": {
    "colab": {
      "name": "Te damos la bienvenida a Colaboratory",
      "provenance": [],
      "collapsed_sections": [],
      "machine_shape": "hm",
      "include_colab_link": true
    },
    "kernelspec": {
      "name": "python3",
      "display_name": "Python 3"
    },
    "accelerator": "GPU"
  },
  "cells": [
    {
      "cell_type": "markdown",
      "metadata": {
        "id": "view-in-github",
        "colab_type": "text"
      },
      "source": [
        "<a href=\"https://colab.research.google.com/github/wisrovi/RedesNeuronales/blob/master/07MAIR-WilliamSteveRodriguezVillamizar.ipynb\" target=\"_parent\"><img src=\"https://colab.research.google.com/assets/colab-badge.svg\" alt=\"Open In Colab\"/></a>"
      ]
    },
    {
      "cell_type": "markdown",
      "metadata": {
        "id": "zqqRVNReQKkT",
        "colab_type": "text"
      },
      "source": [
        "# Bibliografia"
      ]
    },
    {
      "cell_type": "code",
      "metadata": {
        "id": "__eVaqBTw3T8",
        "colab_type": "code",
        "colab": {}
      },
      "source": [
        "#urlArchivos = \"https://drive.google.com/drive/folders/1w2w5dAF269C646RBwwU33YLNUG4JRfh9?usp=sharing\""
      ],
      "execution_count": 0,
      "outputs": []
    },
    {
      "cell_type": "code",
      "metadata": {
        "id": "nTrQGtyJQNaE",
        "colab_type": "code",
        "colab": {}
      },
      "source": [
        "#!pip install tensorflow==2.0.0-alpha0"
      ],
      "execution_count": 0,
      "outputs": []
    },
    {
      "cell_type": "code",
      "metadata": {
        "id": "PjFtuL8AMOG-",
        "colab_type": "code",
        "colab": {}
      },
      "source": [
        "#https://github.com/jbagnato/machine-learning\n",
        "#https://www.datacamp.com/community/tutorials/convolutional-neural-networks-python#cnn\n",
        "#https://www.datacamp.com/community/blog/keras-cheat-sheet\n",
        "#https://www.pyimagesearch.com/2018/12/24/how-to-use-keras-fit-and-fit_generator-a-hands-on-tutorial/"
      ],
      "execution_count": 0,
      "outputs": []
    },
    {
      "cell_type": "markdown",
      "metadata": {
        "id": "lMLXo3q98M3S",
        "colab_type": "text"
      },
      "source": [
        "# Importar Librerias"
      ]
    },
    {
      "cell_type": "code",
      "metadata": {
        "id": "8F6gZxIS7Kyp",
        "colab_type": "code",
        "outputId": "bb072710-4514-40d2-b1bf-51e319664650",
        "colab": {
          "base_uri": "https://localhost:8080/",
          "height": 81
        }
      },
      "source": [
        "#importo las librerias que se van a necesitar\n",
        "import pickle\n",
        "import matplotlib.pyplot as plt\n",
        "import numpy as np\n",
        "\n",
        "from keras import models\n",
        "from keras import layers\n",
        "\n",
        "from sklearn.model_selection import train_test_split\n",
        "\n",
        "from keras.utils import to_categorical #para que las salidas queden parametrizadas en binario\n",
        "\n",
        "from sklearn.metrics import classification_report #para ver parametros \n",
        "\n",
        "from keras.applications.inception_v3 import decode_predictions #para ver varios items de prediccion\n",
        "\n",
        "#para autoescalar la imagen al tamaño requerido por la red a reentrenar\n",
        "from keras.applications.inception_v3 import preprocess_input\n",
        "\n",
        "\n",
        "# Para las librerias para la red neuronal\n",
        "from keras.models import Sequential,Model\n",
        "from keras.layers import Dense, Dropout, Flatten\n",
        "from keras.layers import Conv2D, MaxPooling2D"
      ],
      "execution_count": 1,
      "outputs": [
        {
          "output_type": "stream",
          "text": [
            "Using TensorFlow backend.\n"
          ],
          "name": "stderr"
        },
        {
          "output_type": "display_data",
          "data": {
            "text/html": [
              "<p style=\"color: red;\">\n",
              "The default version of TensorFlow in Colab will soon switch to TensorFlow 2.x.<br>\n",
              "We recommend you <a href=\"https://www.tensorflow.org/guide/migrate\" target=\"_blank\">upgrade</a> now \n",
              "or ensure your notebook will continue to use TensorFlow 1.x via the <code>%tensorflow_version 1.x</code> magic:\n",
              "<a href=\"https://colab.research.google.com/notebooks/tensorflow_version.ipynb\" target=\"_blank\">more info</a>.</p>\n"
            ],
            "text/plain": [
              "<IPython.core.display.HTML object>"
            ]
          },
          "metadata": {
            "tags": []
          }
        }
      ]
    },
    {
      "cell_type": "markdown",
      "metadata": {
        "id": "iAiLv5Xp8BBN",
        "colab_type": "text"
      },
      "source": [
        "# Conexion con Google y Drive"
      ]
    },
    {
      "cell_type": "code",
      "metadata": {
        "id": "P_BsT13NeVYg",
        "colab_type": "code",
        "outputId": "ada42387-f089-43f3-d532-722522c2477b",
        "colab": {
          "base_uri": "https://localhost:8080/",
          "height": 125
        }
      },
      "source": [
        "from google.colab import drive\n",
        "drive.mount('/content/gdrive')"
      ],
      "execution_count": 2,
      "outputs": [
        {
          "output_type": "stream",
          "text": [
            "Go to this URL in a browser: https://accounts.google.com/o/oauth2/auth?client_id=947318989803-6bn6qk8qdgf4n4g3pfee6491hc0brc4i.apps.googleusercontent.com&redirect_uri=urn%3Aietf%3Awg%3Aoauth%3A2.0%3Aoob&scope=email%20https%3A%2F%2Fwww.googleapis.com%2Fauth%2Fdocs.test%20https%3A%2F%2Fwww.googleapis.com%2Fauth%2Fdrive%20https%3A%2F%2Fwww.googleapis.com%2Fauth%2Fdrive.photos.readonly%20https%3A%2F%2Fwww.googleapis.com%2Fauth%2Fpeopleapi.readonly&response_type=code\n",
            "\n",
            "Enter your authorization code:\n",
            "··········\n",
            "Mounted at /content/gdrive\n"
          ],
          "name": "stdout"
        }
      ]
    },
    {
      "cell_type": "code",
      "metadata": {
        "id": "XiJJMYSeqTR4",
        "colab_type": "code",
        "colab": {}
      },
      "source": [
        "###################################################################################################\n",
        "BASE_FOLDER = '/content/gdrive/My Drive/Master IA/Redes Neuronales/'\n",
        "###################################################################################################"
      ],
      "execution_count": 0,
      "outputs": []
    },
    {
      "cell_type": "code",
      "metadata": {
        "id": "qbb2hnaUtniZ",
        "colab_type": "code",
        "colab": {}
      },
      "source": [
        "#le indicamos al colaboratory que las importaciones de librerias propias se haran tambien desde el directorio base\n",
        "import sys\n",
        "sys.path.append(BASE_FOLDER)"
      ],
      "execution_count": 0,
      "outputs": []
    },
    {
      "cell_type": "markdown",
      "metadata": {
        "id": "-O_gtPMX8G0L",
        "colab_type": "text"
      },
      "source": [
        "# Importar Librerias propias"
      ]
    },
    {
      "cell_type": "code",
      "metadata": {
        "id": "7fM3bqw1unIk",
        "colab_type": "code",
        "colab": {}
      },
      "source": [
        "from ModeloExterno import ModeloExterno"
      ],
      "execution_count": 0,
      "outputs": []
    },
    {
      "cell_type": "markdown",
      "metadata": {
        "id": "PVmc76dP7v2k",
        "colab_type": "text"
      },
      "source": [
        "# Funciones"
      ]
    },
    {
      "cell_type": "code",
      "metadata": {
        "id": "M9QOVrN_7ejl",
        "colab_type": "code",
        "colab": {}
      },
      "source": [
        "#Algunas funciones utiles\n",
        "def plot_image(img, title=\"\"):\n",
        "    #plt.figure(figsize=(8, 8))\n",
        "    plt.imshow(img)\n",
        "    plt.title(title)\n",
        "    #plt.axis('off')\n",
        "    plt.show()\n",
        "\n",
        "def convertLabelsToNumbers(y_train):\n",
        "    # Transformando las labels de texto a valores numéricos\n",
        "    y = np.unique(y_train)\n",
        "    mapping = { key : value for key,value in zip(y,range(len(y)))}\n",
        "    processed_y = np.array([mapping[i] for i in y_train])\n",
        "    print(len(mapping))\n",
        "    return processed_y\n",
        "\n",
        "def DividirDatos_Train_Test_Predic(x, y, porcentaje=0.33, randomDiv=52):\n",
        "    # dividir los datos entre training, test y predic\n",
        "    X_train, X_test, y_train, y_test = train_test_split(\n",
        "        x_train_all, processed_y, \n",
        "        test_size=porcentaje, \n",
        "        random_state=randomDiv)\n",
        "\n",
        "    X_test, X_predic, y_test, y_predic = train_test_split(\n",
        "        X_test, y_test, \n",
        "        test_size=porcentaje, \n",
        "        random_state=randomDiv)\n",
        "    \n",
        "    #Hacemos el One-hot Encoding\n",
        "    train_Y_one_hot = to_categorical(y_train)\n",
        "    test_Y_one_hot = to_categorical(y_test)\n",
        "    predic_Y_one_hot = to_categorical(y_predic)\n",
        "\n",
        "    return (X_train, train_Y_one_hot), (X_test, test_Y_one_hot), (X_predic, predic_Y_one_hot)\n",
        "\n",
        "def plot_history(history):\n",
        "    # list all data in history\n",
        "    print(history.history.keys())\n",
        "    # summarize history for accuracy\n",
        "\n",
        "    # summarize history for loss\n",
        "    plt.plot(history.history['loss'])\n",
        "    plt.plot(history.history['acc'])\n",
        "    plt.title('model loss')\n",
        "    plt.ylabel('loss')\n",
        "    plt.xlabel('epoch')\n",
        "    plt.legend(['train', 'test'], loc='upper left')\n",
        "    plt.show()\n",
        "\n",
        "def plot_pred(pred):\n",
        "    plt.figure(figsize=(8, 2))\n",
        "    classes = [c[1] for c in pred]\n",
        "    probas = [c[2] for c in pred]\n",
        "    y_pos = np.arange(len(classes))\n",
        "    plt.barh(y_pos, probas, align='center')\n",
        "    plt.yticks(y_pos, classes)\n",
        "    plt.gca().invert_yaxis()\n",
        "    plt.xlabel('Probability')\n",
        "    plt.xlim(0, 1)"
      ],
      "execution_count": 0,
      "outputs": []
    },
    {
      "cell_type": "markdown",
      "metadata": {
        "id": "_43c4mc_8XTF",
        "colab_type": "text"
      },
      "source": [
        "# Importar Dataseet y clases"
      ]
    },
    {
      "cell_type": "code",
      "metadata": {
        "id": "JpNLDp__8daj",
        "colab_type": "code",
        "outputId": "67f658d2-6c18-4e5e-dafc-36a1046ae94c",
        "colab": {
          "base_uri": "https://localhost:8080/",
          "height": 52
        }
      },
      "source": [
        "#Cargo los archivos de clases y las imagenes\n",
        "with open(BASE_FOLDER+\"pickle_all_images_df-002.pickle\", \"rb\") as input_file:\n",
        "    x_train_all = pickle.load(input_file)\n",
        "with open(BASE_FOLDER+\"pickle_all_classes.pickle\", \"rb\") as input_file:\n",
        "    y_train_all = pickle.load(input_file)\n",
        "\n",
        "number_of_classes = len(y_train_all)\n",
        "\n",
        "print(\"Entradas: \",x_train_all.shape)\n",
        "print(\"Salidas: \", number_of_classes)"
      ],
      "execution_count": 8,
      "outputs": [
        {
          "output_type": "stream",
          "text": [
            "Entradas:  (9145, 128, 128, 3)\n",
            "Salidas:  9145\n"
          ],
          "name": "stdout"
        }
      ]
    },
    {
      "cell_type": "code",
      "metadata": {
        "id": "aAxLBVYlPrz2",
        "colab_type": "code",
        "colab": {}
      },
      "source": [
        "#show image\n",
        "#plot_image(x_train_all[imagen])"
      ],
      "execution_count": 0,
      "outputs": []
    },
    {
      "cell_type": "code",
      "metadata": {
        "id": "U8Z9nhlU8oLQ",
        "colab_type": "code",
        "outputId": "e7905828-d8a2-44f1-cfb2-140dc8c35b14",
        "colab": {
          "base_uri": "https://localhost:8080/",
          "height": 34
        }
      },
      "source": [
        "processed_y = convertLabelsToNumbers(y_train_all)"
      ],
      "execution_count": 9,
      "outputs": [
        {
          "output_type": "stream",
          "text": [
            "102\n"
          ],
          "name": "stdout"
        }
      ]
    },
    {
      "cell_type": "code",
      "metadata": {
        "id": "TqHrPX6fPmNA",
        "colab_type": "code",
        "colab": {}
      },
      "source": [
        "imagen = 250\n",
        "#print(processed_y[imagen], y_train_all[imagen])"
      ],
      "execution_count": 0,
      "outputs": []
    },
    {
      "cell_type": "code",
      "metadata": {
        "id": "YEKKoqBN8tU8",
        "colab_type": "code",
        "outputId": "92bf4646-9e2d-4482-a220-16c41962eec2",
        "colab": {
          "base_uri": "https://localhost:8080/",
          "height": 281
        }
      },
      "source": [
        "classes = np.unique(processed_y)\n",
        "nClasses = len(classes)\n",
        "print(\"Numero de clases diferenes:\", nClasses)\n",
        "print()\n",
        "\n",
        "(X_train, y_train), (X_test, y_test), (X_predic, y_predic) = DividirDatos_Train_Test_Predic(x_train_all, processed_y)\n",
        "\n",
        "print(\"Training (66.98%)\") \n",
        "print(\"X_train\", X_train.shape)\n",
        "print(\"y_train\", y_train.shape)\n",
        "print() \n",
        "print(\"Test (22.1%)\") \n",
        "print(\"X_test\", X_test.shape)\n",
        "print(\"y_test\", y_test.shape)\n",
        "print()\n",
        "print(\"Predict (10.89%)\") \n",
        "print(\"X_predic\", X_predic.shape)\n",
        "print(\"y_predic\", y_predic.shape)\n",
        "\n",
        "print()\n",
        "if y_predic.shape[1] == y_test.shape[1] and y_test.shape[1] == y_train.shape[1]:\n",
        "    print(\"Distribución correcta\")\n",
        "else:\n",
        "    print(\"Fallo en la distribución\")"
      ],
      "execution_count": 10,
      "outputs": [
        {
          "output_type": "stream",
          "text": [
            "Numero de clases diferenes: 102\n",
            "\n",
            "Training (66.98%)\n",
            "X_train (6127, 128, 128, 3)\n",
            "y_train (6127, 102)\n",
            "\n",
            "Test (22.1%)\n",
            "X_test (2022, 128, 128, 3)\n",
            "y_test (2022, 102)\n",
            "\n",
            "Predict (10.89%)\n",
            "X_predic (996, 128, 128, 3)\n",
            "y_predic (996, 102)\n",
            "\n",
            "Distribución correcta\n"
          ],
          "name": "stdout"
        }
      ]
    },
    {
      "cell_type": "code",
      "metadata": {
        "id": "5q42cnB1LCyS",
        "colab_type": "code",
        "colab": {
          "base_uri": "https://localhost:8080/",
          "height": 105
        },
        "outputId": "40d8a75c-fad9-414b-f242-8f8e7cf1b5dc"
      },
      "source": [
        "#Creamos el Set de Entrenamiento y Validación\n",
        "#divido los datos de entrenamiento en dos, un 80% para el entrenamiento y otro 20% para validacion\n",
        "train_X,valid_X,train_label,valid_label = train_test_split(\n",
        "    X_train, y_train, \n",
        "    test_size=0.1, random_state=43)\n",
        "\n",
        "print(train_X.shape)\n",
        "print(train_label.shape)\n",
        "print()\n",
        "print(valid_X.shape)\n",
        "print(valid_label.shape)"
      ],
      "execution_count": 11,
      "outputs": [
        {
          "output_type": "stream",
          "text": [
            "(5514, 128, 128, 3)\n",
            "(5514, 102)\n",
            "\n",
            "(613, 128, 128, 3)\n",
            "(613, 102)\n"
          ],
          "name": "stdout"
        }
      ]
    },
    {
      "cell_type": "markdown",
      "metadata": {
        "id": "llpE8UA871kq",
        "colab_type": "text"
      },
      "source": [
        "# Nueva Red Neuronal"
      ]
    },
    {
      "cell_type": "markdown",
      "metadata": {
        "id": "EPOLVRFpOSBW",
        "colab_type": "text"
      },
      "source": [
        "## Red Neuronal"
      ]
    },
    {
      "cell_type": "code",
      "metadata": {
        "id": "n5Puba0QN6nR",
        "colab_type": "code",
        "colab": {}
      },
      "source": [
        "modelExtern = ModeloExterno(nombreModelo=\"wisrovi\", rutaBase=BASE_FOLDER)"
      ],
      "execution_count": 0,
      "outputs": []
    },
    {
      "cell_type": "code",
      "metadata": {
        "id": "32aShwOn7QuE",
        "colab_type": "code",
        "outputId": "db9915ce-0ae7-422c-9f88-b389926e520b",
        "colab": {
          "base_uri": "https://localhost:8080/",
          "height": 178
        }
      },
      "source": [
        "print(\"********** Modelo *********\")\n",
        "\n",
        "new_model = Sequential()\n",
        "new_model.add(\n",
        "    Conv2D(32,\n",
        "           kernel_size=(3, 3),\n",
        "           activation='relu',\n",
        "           padding='same',\n",
        "           input_shape=(128,128,3)\n",
        "           )\n",
        "    )\n",
        "new_model.add(Dense(128, activation='relu'))\n",
        "new_model.add(MaxPooling2D((2, 2),padding='same'))\n",
        "new_model.add(Dropout(0.5))\n",
        "\n",
        "new_model.add(Dense(120, activation='relu'))\n",
        "new_model.add(Dropout(0.25)) #apagar un 25% de manera aleatoria para reducir la cantidad de parametros\n",
        "new_model.add(Dense(64, activation='relu'))\n",
        "new_model.add(Dense(64, activation='relu'))\n",
        "new_model.add(Flatten()) #para aplanar todas las capas\n",
        "new_model.add(Dense(64, activation='relu'))\n",
        "new_model.add(Dense(64, activation='relu'))\n",
        "new_model.add(Dense(87, activation='relu'))\n",
        "new_model.add(Dropout(0.5)) #apagar un 50% de manera aleatoria para reducir la cantidad de parametros\n",
        "new_model.add(Dense(nClasses, activation='softmax')) #Genero la capa final con la cantidad de neuronas segun la cantidad de opciones de clasificacion\n",
        "\n",
        "#new_model.summary()\n",
        "\n",
        "new_model.compile(optimizer='adam',\n",
        "               loss='categorical_crossentropy',\n",
        "               metrics=['accuracy'])\n",
        "\n",
        "modelExtern.GuardarModelo(new_model)"
      ],
      "execution_count": 29,
      "outputs": [
        {
          "output_type": "stream",
          "text": [
            "********** Modelo *********\n",
            "WARNING:tensorflow:From /usr/local/lib/python3.6/dist-packages/keras/backend/tensorflow_backend.py:148: The name tf.placeholder_with_default is deprecated. Please use tf.compat.v1.placeholder_with_default instead.\n",
            "\n",
            "WARNING:tensorflow:From /usr/local/lib/python3.6/dist-packages/keras/backend/tensorflow_backend.py:3733: calling dropout (from tensorflow.python.ops.nn_ops) with keep_prob is deprecated and will be removed in a future version.\n",
            "Instructions for updating:\n",
            "Please use `rate` instead of `keep_prob`. Rate should be set to `rate = 1 - keep_prob`.\n",
            "Modelo guardado!\n"
          ],
          "name": "stdout"
        },
        {
          "output_type": "execute_result",
          "data": {
            "text/plain": [
              "True"
            ]
          },
          "metadata": {
            "tags": []
          },
          "execution_count": 29
        }
      ]
    },
    {
      "cell_type": "markdown",
      "metadata": {
        "id": "llchrJsgXXfH",
        "colab_type": "text"
      },
      "source": [
        "## Entrenar el modelo"
      ]
    },
    {
      "cell_type": "code",
      "metadata": {
        "id": "LIjNMxQL7Qzz",
        "colab_type": "code",
        "outputId": "c6f3d5f5-6053-4648-962d-9b1d69e16950",
        "colab": {
          "base_uri": "https://localhost:8080/",
          "height": 1000
        }
      },
      "source": [
        "#Entreno el modelo\n",
        "\n",
        "#Al final de cada entrenamiento guardo los mejores pesos\n",
        "numeroEntrenamientos = 2 \n",
        "\n",
        "#ciclos en los cuales evaluo los datos de entrenamiento para hallar los mejores pesos\n",
        "numeroEpocas = 10\n",
        "\n",
        "for i in range(numeroEntrenamientos):     \n",
        "    print()   \n",
        "    print()\n",
        "    print(\"Entrenamiento \" + str(i + 1))\n",
        "\n",
        "    history = new_model.fit(\n",
        "        train_X, train_label, \n",
        "        batch_size=64, # cantidad de imágenes que se toman a la vez en memoria\n",
        "        epochs=numeroEpocas, \n",
        "        verbose=1,\n",
        "        validation_data=(valid_X, valid_label)\n",
        "        )\n",
        "        \n",
        "    plot_history(history)\n",
        "    modelExtern.GuardarPesosModelo()\n",
        "    test_eval = new_model.evaluate(X_test, y_test, verbose=1)\n",
        "    print('Test loss:', test_eval[0])\n",
        "    print('Test accuracy:', test_eval[1])\n",
        "    print(\"***************\")    \n",
        "    print()"
      ],
      "execution_count": 31,
      "outputs": [
        {
          "output_type": "stream",
          "text": [
            "\n",
            "\n",
            "Entrenamiento 1\n",
            "Train on 5514 samples, validate on 613 samples\n",
            "Epoch 1/10\n",
            "5514/5514 [==============================] - 25s 5ms/step - loss: 4.3398 - acc: 0.0725 - val_loss: 3.9404 - val_acc: 0.1990\n",
            "Epoch 2/10\n",
            "5514/5514 [==============================] - 25s 4ms/step - loss: 3.6923 - acc: 0.2285 - val_loss: 3.2941 - val_acc: 0.3263\n",
            "Epoch 3/10\n",
            "5514/5514 [==============================] - 25s 4ms/step - loss: 3.3140 - acc: 0.3199 - val_loss: 3.1591 - val_acc: 0.3638\n",
            "Epoch 4/10\n",
            "5514/5514 [==============================] - 25s 4ms/step - loss: 3.1549 - acc: 0.3337 - val_loss: 3.6119 - val_acc: 0.2496\n",
            "Epoch 5/10\n",
            "5514/5514 [==============================] - 25s 5ms/step - loss: 3.0708 - acc: 0.3361 - val_loss: 2.9135 - val_acc: 0.3736\n",
            "Epoch 6/10\n",
            "5514/5514 [==============================] - 25s 5ms/step - loss: 2.9596 - acc: 0.3480 - val_loss: 2.9571 - val_acc: 0.3556\n",
            "Epoch 7/10\n",
            "5514/5514 [==============================] - 25s 5ms/step - loss: 2.8763 - acc: 0.3560 - val_loss: 2.8819 - val_acc: 0.3638\n",
            "Epoch 8/10\n",
            "5514/5514 [==============================] - 25s 5ms/step - loss: 2.7682 - acc: 0.3651 - val_loss: 2.8344 - val_acc: 0.3801\n",
            "Epoch 9/10\n",
            "5514/5514 [==============================] - 25s 5ms/step - loss: 2.7131 - acc: 0.3705 - val_loss: 2.8005 - val_acc: 0.3670\n",
            "Epoch 10/10\n",
            "5514/5514 [==============================] - 25s 4ms/step - loss: 2.6416 - acc: 0.3876 - val_loss: 2.8233 - val_acc: 0.3654\n",
            "dict_keys(['val_loss', 'val_acc', 'loss', 'acc'])\n"
          ],
          "name": "stdout"
        },
        {
          "output_type": "display_data",
          "data": {
            "image/png": "[encoded data removed]",
            "text/plain": [
              "<Figure size 432x288 with 1 Axes>"
            ]
          },
          "metadata": {
            "tags": []
          }
        },
        {
          "output_type": "stream",
          "text": [
            "Pesos Guardados!\n",
            "2022/2022 [==============================] - 3s 1ms/step\n",
            "Test loss: 2.8680389300062443\n",
            "Test accuracy: 0.36795252228467096\n",
            "***************\n",
            "\n",
            "\n",
            "\n",
            "Entrenamiento 2\n",
            "Train on 5514 samples, validate on 613 samples\n",
            "Epoch 1/10\n",
            "5514/5514 [==============================] - 25s 5ms/step - loss: 2.5405 - acc: 0.3961 - val_loss: 2.7751 - val_acc: 0.3850\n",
            "Epoch 2/10\n",
            "5514/5514 [==============================] - 25s 5ms/step - loss: 2.4679 - acc: 0.4030 - val_loss: 2.8236 - val_acc: 0.3866\n",
            "Epoch 3/10\n",
            "5514/5514 [==============================] - 25s 5ms/step - loss: 2.3540 - acc: 0.4222 - val_loss: 2.8204 - val_acc: 0.3719\n",
            "Epoch 4/10\n",
            "5514/5514 [==============================] - 25s 5ms/step - loss: 2.2843 - acc: 0.4313 - val_loss: 2.8963 - val_acc: 0.3850\n",
            "Epoch 5/10\n",
            "5514/5514 [==============================] - 25s 4ms/step - loss: 2.1961 - acc: 0.4411 - val_loss: 2.9740 - val_acc: 0.3817\n",
            "Epoch 6/10\n",
            "5514/5514 [==============================] - 25s 5ms/step - loss: 2.1189 - acc: 0.4521 - val_loss: 3.2226 - val_acc: 0.3817\n",
            "Epoch 7/10\n",
            "5514/5514 [==============================] - 25s 4ms/step - loss: 2.0599 - acc: 0.4670 - val_loss: 3.0334 - val_acc: 0.3980\n",
            "Epoch 8/10\n",
            "5514/5514 [==============================] - 25s 4ms/step - loss: 1.9606 - acc: 0.4889 - val_loss: 3.1373 - val_acc: 0.3948\n",
            "Epoch 9/10\n",
            "5514/5514 [==============================] - 25s 4ms/step - loss: 1.8874 - acc: 0.5020 - val_loss: 3.1173 - val_acc: 0.3931\n",
            "Epoch 10/10\n",
            "5514/5514 [==============================] - 25s 4ms/step - loss: 1.7975 - acc: 0.5105 - val_loss: 3.3418 - val_acc: 0.3883\n",
            "dict_keys(['val_loss', 'val_acc', 'loss', 'acc'])\n"
          ],
          "name": "stdout"
        },
        {
          "output_type": "display_data",
          "data": {
            "image/png": "[encoded data removed]",
            "text/plain": [
              "<Figure size 432x288 with 1 Axes>"
            ]
          },
          "metadata": {
            "tags": []
          }
        },
        {
          "output_type": "stream",
          "text": [
            "Pesos Guardados!\n",
            "2022/2022 [==============================] - 3s 1ms/step\n",
            "Test loss: 3.377488514554017\n",
            "Test accuracy: 0.3778437191047489\n",
            "***************\n",
            "\n"
          ],
          "name": "stdout"
        }
      ]
    },
    {
      "cell_type": "code",
      "metadata": {
        "id": "l2M6jYjDP0Dw",
        "colab_type": "code",
        "outputId": "43217290-b626-4e31-f752-409fb7c5ede9",
        "colab": {
          "base_uri": "https://localhost:8080/",
          "height": 70
        }
      },
      "source": [
        "#valido el modelo\n",
        "test_eval = new_model.evaluate(X_test, y_test, verbose=1)\n",
        "print('Test loss:', test_eval[0])\n",
        "print('Test accuracy:', test_eval[1])"
      ],
      "execution_count": 32,
      "outputs": [
        {
          "output_type": "stream",
          "text": [
            "2022/2022 [==============================] - 3s 1ms/step\n",
            "Test loss: 3.377488514554017\n",
            "Test accuracy: 0.3778437191047489\n"
          ],
          "name": "stdout"
        }
      ]
    },
    {
      "cell_type": "code",
      "metadata": {
        "id": "SMBVJgXmSs6_",
        "colab_type": "code",
        "outputId": "f5e071b0-6cd3-42d2-a9b0-31a6bafeb8bb",
        "colab": {
          "base_uri": "https://localhost:8080/",
          "height": 52
        }
      },
      "source": [
        "modelExtern.GuardarPesosModelo()"
      ],
      "execution_count": 33,
      "outputs": [
        {
          "output_type": "stream",
          "text": [
            "Pesos Guardados!\n"
          ],
          "name": "stdout"
        },
        {
          "output_type": "execute_result",
          "data": {
            "text/plain": [
              "True"
            ]
          },
          "metadata": {
            "tags": []
          },
          "execution_count": 33
        }
      ]
    },
    {
      "cell_type": "markdown",
      "metadata": {
        "id": "afFipdWhTq01",
        "colab_type": "text"
      },
      "source": [
        "## Cargar Modelo Red Neuronal Guardado"
      ]
    },
    {
      "cell_type": "code",
      "metadata": {
        "id": "PBKMoPfRTvNX",
        "colab_type": "code",
        "outputId": "8d6541ee-d458-468d-f707-26d8f70623a6",
        "colab": {
          "base_uri": "https://localhost:8080/",
          "height": 105
        }
      },
      "source": [
        "modeloCargado = modelExtern.CargarModeloGuardado(True)"
      ],
      "execution_count": 34,
      "outputs": [
        {
          "output_type": "stream",
          "text": [
            "Lectura del Json del modelo correcta\n",
            "<class 'str'>\n",
            "Modelo Cargado!\n",
            "Pesos Cargados!\n",
            "Modelo compilado!\n"
          ],
          "name": "stdout"
        }
      ]
    },
    {
      "cell_type": "code",
      "metadata": {
        "id": "9KKfHbGUU3fZ",
        "colab_type": "code",
        "outputId": "a30dd40c-b9ab-410a-de1f-daa679171789",
        "colab": {
          "base_uri": "https://localhost:8080/",
          "height": 70
        }
      },
      "source": [
        "#valido el modelo\n",
        "test_eval = modeloCargado.evaluate(X_predic, y_predic, verbose=1)\n",
        "print('Test loss:', test_eval[0])\n",
        "print('Test accuracy:', test_eval[1])"
      ],
      "execution_count": 35,
      "outputs": [
        {
          "output_type": "stream",
          "text": [
            "996/996 [==============================] - 2s 2ms/step\n",
            "Test loss: 3.470456121437042\n",
            "Test accuracy: 0.357429718875502\n"
          ],
          "name": "stdout"
        }
      ]
    },
    {
      "cell_type": "markdown",
      "metadata": {
        "id": "-tAfR_p0LUz-",
        "colab_type": "text"
      },
      "source": [
        "# Reentrenar un modelo de ImageNet"
      ]
    },
    {
      "cell_type": "markdown",
      "metadata": {
        "id": "gDOpf9aWLau3",
        "colab_type": "text"
      },
      "source": [
        "## Cargar Modelo ImageNet"
      ]
    },
    {
      "cell_type": "code",
      "metadata": {
        "id": "fZ43mQRW7Qpt",
        "colab_type": "code",
        "colab": {
          "base_uri": "https://localhost:8080/",
          "height": 1000
        },
        "outputId": "3a8d350a-b5d3-4746-8d18-70cc4b8d2acc"
      },
      "source": [
        "# VGG16, VGG19, ResNet50, \n",
        "#Xception, InceptionV3, InceptionResNetV2, \n",
        "#MobileNetV2, DenseNet, RasNet\n",
        "\n",
        "\n",
        "#https://www.learnopencv.com/keras-tutorial-fine-tuning-using-pre-trained-models/\n",
        "\n",
        "from keras.applications import VGG16 \n",
        "conv_base = VGG16(weights='imagenet',\n",
        "                 include_top=False, # Si se deben incluir o no las capas de salida originales del modelo\n",
        "                 input_shape=(128,128,3))\n",
        "\n",
        "congelarTodoModeloImagenet = False\n",
        "if congelarTodoModeloImagenet:\n",
        "  conv_base.trainable = False\n",
        "else:\n",
        "  # Freeze the layers except the last 4 layers\n",
        "  cantidadCapasFinalesDescongelar = 4\n",
        "  for layer in conv_base.layers[:-cantidadCapasFinalesDescongelar]:\n",
        "      layer.trainable = False\n",
        "      pass\n",
        "\n",
        "  # Check the trainable status of the individual layers\n",
        "  for layer in conv_base.layers:\n",
        "      pass\n",
        "      print(layer, layer.trainable)\n",
        "\n",
        "conv_base.summary()"
      ],
      "execution_count": 12,
      "outputs": [
        {
          "output_type": "stream",
          "text": [
            "WARNING:tensorflow:From /usr/local/lib/python3.6/dist-packages/keras/backend/tensorflow_backend.py:66: The name tf.get_default_graph is deprecated. Please use tf.compat.v1.get_default_graph instead.\n",
            "\n",
            "WARNING:tensorflow:From /usr/local/lib/python3.6/dist-packages/keras/backend/tensorflow_backend.py:541: The name tf.placeholder is deprecated. Please use tf.compat.v1.placeholder instead.\n",
            "\n",
            "WARNING:tensorflow:From /usr/local/lib/python3.6/dist-packages/keras/backend/tensorflow_backend.py:4432: The name tf.random_uniform is deprecated. Please use tf.random.uniform instead.\n",
            "\n",
            "WARNING:tensorflow:From /usr/local/lib/python3.6/dist-packages/keras/backend/tensorflow_backend.py:4267: The name tf.nn.max_pool is deprecated. Please use tf.nn.max_pool2d instead.\n",
            "\n",
            "Downloading data from https://github.com/fchollet/deep-learning-models/releases/download/v0.1/vgg16_weights_tf_dim_ordering_tf_kernels_notop.h5\n",
            "58892288/58889256 [==============================] - 3s 0us/step\n",
            "WARNING:tensorflow:From /usr/local/lib/python3.6/dist-packages/keras/backend/tensorflow_backend.py:190: The name tf.get_default_session is deprecated. Please use tf.compat.v1.get_default_session instead.\n",
            "\n",
            "WARNING:tensorflow:From /usr/local/lib/python3.6/dist-packages/keras/backend/tensorflow_backend.py:197: The name tf.ConfigProto is deprecated. Please use tf.compat.v1.ConfigProto instead.\n",
            "\n",
            "WARNING:tensorflow:From /usr/local/lib/python3.6/dist-packages/keras/backend/tensorflow_backend.py:203: The name tf.Session is deprecated. Please use tf.compat.v1.Session instead.\n",
            "\n",
            "WARNING:tensorflow:From /usr/local/lib/python3.6/dist-packages/keras/backend/tensorflow_backend.py:207: The name tf.global_variables is deprecated. Please use tf.compat.v1.global_variables instead.\n",
            "\n",
            "WARNING:tensorflow:From /usr/local/lib/python3.6/dist-packages/keras/backend/tensorflow_backend.py:216: The name tf.is_variable_initialized is deprecated. Please use tf.compat.v1.is_variable_initialized instead.\n",
            "\n",
            "WARNING:tensorflow:From /usr/local/lib/python3.6/dist-packages/keras/backend/tensorflow_backend.py:223: The name tf.variables_initializer is deprecated. Please use tf.compat.v1.variables_initializer instead.\n",
            "\n",
            "<keras.engine.input_layer.InputLayer object at 0x7fb087fabd30> False\n",
            "<keras.layers.convolutional.Conv2D object at 0x7fb08787b4e0> False\n",
            "<keras.layers.convolutional.Conv2D object at 0x7fb08787b668> False\n",
            "<keras.layers.pooling.MaxPooling2D object at 0x7fb087864f28> False\n",
            "<keras.layers.convolutional.Conv2D object at 0x7fb08781ab00> False\n",
            "<keras.layers.convolutional.Conv2D object at 0x7fb087821400> False\n",
            "<keras.layers.pooling.MaxPooling2D object at 0x7fb087826208> False\n",
            "<keras.layers.convolutional.Conv2D object at 0x7fb0878297b8> False\n",
            "<keras.layers.convolutional.Conv2D object at 0x7fb087834908> False\n",
            "<keras.layers.convolutional.Conv2D object at 0x7fb087838668> False\n",
            "<keras.layers.pooling.MaxPooling2D object at 0x7fb0877c55c0> False\n",
            "<keras.layers.convolutional.Conv2D object at 0x7fb0877cc518> False\n",
            "<keras.layers.convolutional.Conv2D object at 0x7fb0877d2828> False\n",
            "<keras.layers.convolutional.Conv2D object at 0x7fb0877d9588> False\n",
            "<keras.layers.pooling.MaxPooling2D object at 0x7fb0877e5588> False\n",
            "<keras.layers.convolutional.Conv2D object at 0x7fb0877ebc50> True\n",
            "<keras.layers.convolutional.Conv2D object at 0x7fb0877f3748> True\n",
            "<keras.layers.convolutional.Conv2D object at 0x7fb0877f8668> True\n",
            "<keras.layers.pooling.MaxPooling2D object at 0x7fb0878044a8> True\n",
            "Model: \"vgg16\"\n",
            "_________________________________________________________________\n",
            "Layer (type)                 Output Shape              Param #   \n",
            "=================================================================\n",
            "input_1 (InputLayer)         (None, 128, 128, 3)       0         \n",
            "_________________________________________________________________\n",
            "block1_conv1 (Conv2D)        (None, 128, 128, 64)      1792      \n",
            "_________________________________________________________________\n",
            "block1_conv2 (Conv2D)        (None, 128, 128, 64)      36928     \n",
            "_________________________________________________________________\n",
            "block1_pool (MaxPooling2D)   (None, 64, 64, 64)        0         \n",
            "_________________________________________________________________\n",
            "block2_conv1 (Conv2D)        (None, 64, 64, 128)       73856     \n",
            "_________________________________________________________________\n",
            "block2_conv2 (Conv2D)        (None, 64, 64, 128)       147584    \n",
            "_________________________________________________________________\n",
            "block2_pool (MaxPooling2D)   (None, 32, 32, 128)       0         \n",
            "_________________________________________________________________\n",
            "block3_conv1 (Conv2D)        (None, 32, 32, 256)       295168    \n",
            "_________________________________________________________________\n",
            "block3_conv2 (Conv2D)        (None, 32, 32, 256)       590080    \n",
            "_________________________________________________________________\n",
            "block3_conv3 (Conv2D)        (None, 32, 32, 256)       590080    \n",
            "_________________________________________________________________\n",
            "block3_pool (MaxPooling2D)   (None, 16, 16, 256)       0         \n",
            "_________________________________________________________________\n",
            "block4_conv1 (Conv2D)        (None, 16, 16, 512)       1180160   \n",
            "_________________________________________________________________\n",
            "block4_conv2 (Conv2D)        (None, 16, 16, 512)       2359808   \n",
            "_________________________________________________________________\n",
            "block4_conv3 (Conv2D)        (None, 16, 16, 512)       2359808   \n",
            "_________________________________________________________________\n",
            "block4_pool (MaxPooling2D)   (None, 8, 8, 512)         0         \n",
            "_________________________________________________________________\n",
            "block5_conv1 (Conv2D)        (None, 8, 8, 512)         2359808   \n",
            "_________________________________________________________________\n",
            "block5_conv2 (Conv2D)        (None, 8, 8, 512)         2359808   \n",
            "_________________________________________________________________\n",
            "block5_conv3 (Conv2D)        (None, 8, 8, 512)         2359808   \n",
            "_________________________________________________________________\n",
            "block5_pool (MaxPooling2D)   (None, 4, 4, 512)         0         \n",
            "=================================================================\n",
            "Total params: 14,714,688\n",
            "Trainable params: 7,079,424\n",
            "Non-trainable params: 7,635,264\n",
            "_________________________________________________________________\n"
          ],
          "name": "stdout"
        }
      ]
    },
    {
      "cell_type": "markdown",
      "metadata": {
        "id": "Xx926sqBLk0z",
        "colab_type": "text"
      },
      "source": [
        "## Crear nuestro modelo e incluirle el modelo de imageNet"
      ]
    },
    {
      "cell_type": "code",
      "metadata": {
        "id": "tFV7dCp27QnE",
        "colab_type": "code",
        "colab": {}
      },
      "source": [
        "modeloTrasnferenciaConocimiento = ModeloExterno(nombreModelo=\"transfer-wisrovi\", rutaBase=BASE_FOLDER)"
      ],
      "execution_count": 0,
      "outputs": []
    },
    {
      "cell_type": "code",
      "metadata": {
        "id": "5soqPRWlDcZ3",
        "colab_type": "code",
        "colab": {
          "base_uri": "https://localhost:8080/",
          "height": 298
        },
        "outputId": "703acd16-0bae-43e8-dace-9debca087b49"
      },
      "source": [
        "pre_trained_model = models.Sequential()\n",
        "pre_trained_model.add(conv_base)\n",
        "\n",
        "#para aplanar todas las capas\n",
        "#esto se hace debido a que el modelo de VG16 nos da 4 dimensiones de salida, y con esto reducimos las dimensiones a dos: numero datos, numero clases\n",
        "pre_trained_model.add(Flatten()) \n",
        "\n",
        "# conectarlo a nueva parte densa\n",
        "# Genero la capa final con la cantidad de neuronas segun la cantidad de opciones de clasificacion\n",
        "pre_trained_model.add(Dense(nClasses, activation='softmax')) \n",
        "\n",
        "pre_trained_model.summary()\n",
        "\n",
        "# compilar el modelo\n",
        "pre_trained_model.compile(optimizer='adam',\n",
        "               loss='categorical_crossentropy',\n",
        "               metrics=['accuracy'])\n",
        "\n",
        "modeloTrasnferenciaConocimiento.GuardarModelo(pre_trained_model)"
      ],
      "execution_count": 21,
      "outputs": [
        {
          "output_type": "stream",
          "text": [
            "Model: \"sequential_2\"\n",
            "_________________________________________________________________\n",
            "Layer (type)                 Output Shape              Param #   \n",
            "=================================================================\n",
            "vgg16 (Model)                (None, 4, 4, 512)         14714688  \n",
            "_________________________________________________________________\n",
            "flatten_1 (Flatten)          (None, 8192)              0         \n",
            "_________________________________________________________________\n",
            "dense_2 (Dense)              (None, 102)               835686    \n",
            "=================================================================\n",
            "Total params: 15,550,374\n",
            "Trainable params: 7,915,110\n",
            "Non-trainable params: 7,635,264\n",
            "_________________________________________________________________\n",
            "Modelo guardado!\n"
          ],
          "name": "stdout"
        },
        {
          "output_type": "execute_result",
          "data": {
            "text/plain": [
              "True"
            ]
          },
          "metadata": {
            "tags": []
          },
          "execution_count": 21
        }
      ]
    },
    {
      "cell_type": "markdown",
      "metadata": {
        "id": "6QVfy9R-RleC",
        "colab_type": "text"
      },
      "source": [
        "## Entrenar Modelo Con conocimiento Transferido"
      ]
    },
    {
      "cell_type": "code",
      "metadata": {
        "id": "_EBapwPcQF5E",
        "colab_type": "code",
        "colab": {
          "base_uri": "https://localhost:8080/",
          "height": 1000
        },
        "outputId": "380d54a8-3b8b-4c48-b05a-3cbd8835c051"
      },
      "source": [
        "#Entreno el modelo\n",
        "\n",
        "#Al final de cada entrenamiento guardo los mejores pesos\n",
        "numeroEntrenamientos = 2\n",
        "\n",
        "#ciclos en los cuales evaluo los datos de entrenamiento para hallar los mejores pesos\n",
        "numeroEpocas = 10\n",
        "\n",
        "#ver datos entrenamiento\n",
        "print(\"Int: \", train_X.shape)\n",
        "print(\"Out: \", train_label.shape)\n",
        "\n",
        "for i in range(numeroEntrenamientos):     \n",
        "    print()   \n",
        "    print()\n",
        "    print(\"Entrenamiento \" + str(i + 1))\n",
        "\n",
        "    history = pre_trained_model.fit(\n",
        "        train_X, train_label, \n",
        "        batch_size=64, # cantidad de imágenes que se toman a la vez en memoria\n",
        "        epochs=numeroEpocas,        \n",
        "        verbose=1,\n",
        "        validation_data=(valid_X, valid_label)\n",
        "        )\n",
        "        \n",
        "    plot_history(history)\n",
        "    modeloTrasnferenciaConocimiento.GuardarPesosModelo()\n",
        "    \n",
        "    test_eval = pre_trained_model.evaluate(X_test, y_test, verbose=1)\n",
        "    print('Test loss:', test_eval[0])\n",
        "    print('Test accuracy:', test_eval[1])\n",
        "    print(\"***************\")    \n",
        "    print()"
      ],
      "execution_count": 25,
      "outputs": [
        {
          "output_type": "stream",
          "text": [
            "Int:  (5514, 128, 128, 3)\n",
            "Out:  (5514, 102)\n",
            "\n",
            "\n",
            "Entrenamiento 1\n",
            "Train on 5514 samples, validate on 613 samples\n",
            "Epoch 1/10\n",
            "5514/5514 [==============================] - 21s 4ms/step - loss: 0.5351 - acc: 0.8466 - val_loss: 1.0688 - val_acc: 0.7471\n",
            "Epoch 2/10\n",
            "5514/5514 [==============================] - 21s 4ms/step - loss: 0.3330 - acc: 0.8999 - val_loss: 1.1818 - val_acc: 0.7455\n",
            "Epoch 3/10\n",
            "5514/5514 [==============================] - 21s 4ms/step - loss: 0.2109 - acc: 0.9380 - val_loss: 1.1534 - val_acc: 0.7471\n",
            "Epoch 4/10\n",
            "5514/5514 [==============================] - 21s 4ms/step - loss: 0.1779 - acc: 0.9496 - val_loss: 1.2882 - val_acc: 0.7406\n",
            "Epoch 5/10\n",
            "5514/5514 [==============================] - 21s 4ms/step - loss: 0.1657 - acc: 0.9530 - val_loss: 1.2785 - val_acc: 0.7651\n",
            "Epoch 6/10\n",
            "5514/5514 [==============================] - 21s 4ms/step - loss: 0.0988 - acc: 0.9724 - val_loss: 1.3555 - val_acc: 0.7488\n",
            "Epoch 7/10\n",
            "5514/5514 [==============================] - 21s 4ms/step - loss: 0.0606 - acc: 0.9820 - val_loss: 1.4301 - val_acc: 0.7537\n",
            "Epoch 8/10\n",
            "5514/5514 [==============================] - 21s 4ms/step - loss: 0.1428 - acc: 0.9634 - val_loss: 1.7111 - val_acc: 0.7423\n",
            "Epoch 9/10\n",
            "5514/5514 [==============================] - 21s 4ms/step - loss: 0.1838 - acc: 0.9496 - val_loss: 1.5803 - val_acc: 0.7406\n",
            "Epoch 10/10\n",
            "5514/5514 [==============================] - 21s 4ms/step - loss: 0.1370 - acc: 0.9643 - val_loss: 1.5272 - val_acc: 0.7684\n",
            "dict_keys(['val_loss', 'val_acc', 'loss', 'acc'])\n"
          ],
          "name": "stdout"
        },
        {
          "output_type": "display_data",
          "data": {
            "image/png": "[encoded data removed]",
            "text/plain": [
              "<Figure size 432x288 with 1 Axes>"
            ]
          },
          "metadata": {
            "tags": []
          }
        },
        {
          "output_type": "stream",
          "text": [
            "Pesos Guardados!\n",
            "2022/2022 [==============================] - 6s 3ms/step\n",
            "Test loss: 1.608475419006409\n",
            "Test accuracy: 0.7675568743818002\n",
            "***************\n",
            "\n",
            "\n",
            "\n",
            "Entrenamiento 2\n",
            "Train on 5514 samples, validate on 613 samples\n",
            "Epoch 1/10\n",
            "5514/5514 [==============================] - 21s 4ms/step - loss: 0.1235 - acc: 0.9661 - val_loss: 1.6693 - val_acc: 0.7700\n",
            "Epoch 2/10\n",
            "5514/5514 [==============================] - 21s 4ms/step - loss: 0.1739 - acc: 0.9567 - val_loss: 1.8058 - val_acc: 0.7618\n",
            "Epoch 3/10\n",
            "5514/5514 [==============================] - 21s 4ms/step - loss: 0.1947 - acc: 0.9539 - val_loss: 1.6574 - val_acc: 0.7406\n",
            "Epoch 4/10\n",
            "5514/5514 [==============================] - 21s 4ms/step - loss: 0.0887 - acc: 0.9790 - val_loss: 1.4632 - val_acc: 0.7863\n",
            "Epoch 5/10\n",
            "5514/5514 [==============================] - 21s 4ms/step - loss: 0.0735 - acc: 0.9826 - val_loss: 1.6244 - val_acc: 0.7586\n",
            "Epoch 6/10\n",
            "5514/5514 [==============================] - 21s 4ms/step - loss: 0.1457 - acc: 0.9661 - val_loss: 1.6836 - val_acc: 0.7618\n",
            "Epoch 7/10\n",
            "5514/5514 [==============================] - 21s 4ms/step - loss: 0.1186 - acc: 0.9684 - val_loss: 1.5304 - val_acc: 0.7667\n",
            "Epoch 8/10\n",
            "5514/5514 [==============================] - 21s 4ms/step - loss: 0.0521 - acc: 0.9871 - val_loss: 1.8429 - val_acc: 0.7618\n",
            "Epoch 9/10\n",
            "5514/5514 [==============================] - 21s 4ms/step - loss: 0.0716 - acc: 0.9835 - val_loss: 1.8895 - val_acc: 0.7423\n",
            "Epoch 10/10\n",
            "5514/5514 [==============================] - 21s 4ms/step - loss: 0.1101 - acc: 0.9750 - val_loss: 2.1783 - val_acc: 0.7292\n",
            "dict_keys(['val_loss', 'val_acc', 'loss', 'acc'])\n"
          ],
          "name": "stdout"
        },
        {
          "output_type": "display_data",
          "data": {
            "image/png": "[encoded data removed]",
            "text/plain": [
              "<Figure size 432x288 with 1 Axes>"
            ]
          },
          "metadata": {
            "tags": []
          }
        },
        {
          "output_type": "stream",
          "text": [
            "Pesos Guardados!\n",
            "2022/2022 [==============================] - 6s 3ms/step\n",
            "Test loss: 2.1209165822046936\n",
            "Test accuracy: 0.7561819980217607\n",
            "***************\n",
            "\n"
          ],
          "name": "stdout"
        }
      ]
    },
    {
      "cell_type": "code",
      "metadata": {
        "id": "ilio5dT7TYtM",
        "colab_type": "code",
        "colab": {
          "base_uri": "https://localhost:8080/",
          "height": 105
        },
        "outputId": "789c3d94-7d33-447f-d252-1b48f318aa93"
      },
      "source": [
        "modeloCargadoTransferenciaConocimiento = modeloTrasnferenciaConocimiento.CargarModeloGuardado(True)"
      ],
      "execution_count": 26,
      "outputs": [
        {
          "output_type": "stream",
          "text": [
            "Lectura del Json del modelo correcta\n",
            "<class 'str'>\n",
            "Modelo Cargado!\n",
            "Pesos Cargados!\n",
            "Modelo compilado!\n"
          ],
          "name": "stdout"
        }
      ]
    },
    {
      "cell_type": "code",
      "metadata": {
        "id": "SOLwmbY-TKdq",
        "colab_type": "code",
        "colab": {
          "base_uri": "https://localhost:8080/",
          "height": 70
        },
        "outputId": "d22498d2-099e-47e5-d3e8-773cc0c03cf6"
      },
      "source": [
        "#valido el modelo\n",
        "test_eval = modeloCargadoTransferenciaConocimiento.evaluate(X_predic, y_predic, verbose=1)\n",
        "print('Test loss:', test_eval[0])\n",
        "print('Test accuracy:', test_eval[1])"
      ],
      "execution_count": 27,
      "outputs": [
        {
          "output_type": "stream",
          "text": [
            "996/996 [==============================] - 4s 4ms/step\n",
            "Test loss: 2.10583562161549\n",
            "Test accuracy: 0.7530120481927711\n"
          ],
          "name": "stdout"
        }
      ]
    },
    {
      "cell_type": "code",
      "metadata": {
        "id": "H278QBRSTgC4",
        "colab_type": "code",
        "colab": {}
      },
      "source": [
        ""
      ],
      "execution_count": 0,
      "outputs": []
    },
    {
      "cell_type": "code",
      "metadata": {
        "id": "wbZpgusGTgBe",
        "colab_type": "code",
        "colab": {}
      },
      "source": [
        ""
      ],
      "execution_count": 0,
      "outputs": []
    },
    {
      "cell_type": "code",
      "metadata": {
        "id": "XgKFnEXjTf-A",
        "colab_type": "code",
        "colab": {}
      },
      "source": [
        ""
      ],
      "execution_count": 0,
      "outputs": []
    },
    {
      "cell_type": "code",
      "metadata": {
        "id": "Ff8k9RjVTf7j",
        "colab_type": "code",
        "colab": {}
      },
      "source": [
        ""
      ],
      "execution_count": 0,
      "outputs": []
    },
    {
      "cell_type": "code",
      "metadata": {
        "id": "4BSV4uNvHHdp",
        "colab_type": "code",
        "colab": {}
      },
      "source": [
        ""
      ],
      "execution_count": 0,
      "outputs": []
    },
    {
      "cell_type": "code",
      "metadata": {
        "id": "7XhDjV1HHHYT",
        "colab_type": "code",
        "colab": {}
      },
      "source": [
        "url = 'https://www.aprendemachinelearning.com/clasificacion-de-imagenes-en-python/'"
      ],
      "execution_count": 0,
      "outputs": []
    }
  ]
}