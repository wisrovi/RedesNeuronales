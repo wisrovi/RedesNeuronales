{
  "nbformat": 4,
  "nbformat_minor": 0,
  "metadata": {
    "colab": {
      "name": "Te damos la bienvenida a Colaboratory",
      "provenance": [],
      "collapsed_sections": [],
      "toc_visible": true,
      "machine_shape": "hm",
      "include_colab_link": true
    },
    "kernelspec": {
      "name": "python3",
      "display_name": "Python 3"
    },
    "accelerator": "GPU"
  },
  "cells": [
    {
      "cell_type": "markdown",
      "metadata": {
        "id": "view-in-github",
        "colab_type": "text"
      },
      "source": [
        "<a href=\"https://colab.research.google.com/github/wisrovi/RedesNeuronales/blob/master/07MAIR-WilliamSteveRodriguezVillamizar.ipynb\" target=\"_parent\"><img src=\"https://colab.research.google.com/assets/colab-badge.svg\" alt=\"Open In Colab\"/></a>"
      ]
    },
    {
      "cell_type": "markdown",
      "metadata": {
        "id": "zqqRVNReQKkT",
        "colab_type": "text"
      },
      "source": [
        "# Bibliografia"
      ]
    },
    {
      "cell_type": "code",
      "metadata": {
        "id": "__eVaqBTw3T8",
        "colab_type": "code",
        "colab": {}
      },
      "source": [
        "#urlArchivos = \"https://drive.google.com/drive/folders/1w2w5dAF269C646RBwwU33YLNUG4JRfh9?usp=sharing\""
      ],
      "execution_count": 0,
      "outputs": []
    },
    {
      "cell_type": "code",
      "metadata": {
        "id": "nTrQGtyJQNaE",
        "colab_type": "code",
        "colab": {}
      },
      "source": [
        "#!pip install tensorflow==2.0.0-alpha0"
      ],
      "execution_count": 0,
      "outputs": []
    },
    {
      "cell_type": "code",
      "metadata": {
        "id": "PjFtuL8AMOG-",
        "colab_type": "code",
        "colab": {}
      },
      "source": [
        "#https://github.com/jbagnato/machine-learning\n",
        "#https://www.datacamp.com/community/tutorials/convolutional-neural-networks-python#cnn\n",
        "#https://www.datacamp.com/community/blog/keras-cheat-sheet\n",
        "#https://www.pyimagesearch.com/2018/12/24/how-to-use-keras-fit-and-fit_generator-a-hands-on-tutorial/"
      ],
      "execution_count": 0,
      "outputs": []
    },
    {
      "cell_type": "markdown",
      "metadata": {
        "id": "0AS0xQFPxgrA",
        "colab_type": "text"
      },
      "source": [
        "# Iniciar Sistema"
      ]
    },
    {
      "cell_type": "markdown",
      "metadata": {
        "id": "lMLXo3q98M3S",
        "colab_type": "text"
      },
      "source": [
        "## Importar Librerias"
      ]
    },
    {
      "cell_type": "code",
      "metadata": {
        "id": "8F6gZxIS7Kyp",
        "colab_type": "code",
        "outputId": "57578a2e-2ffd-43cf-f2e4-94373b2ed984",
        "colab": {
          "base_uri": "https://localhost:8080/",
          "height": 81
        }
      },
      "source": [
        "#importo las librerias que se van a necesitar\n",
        "import pickle\n",
        "import matplotlib.pyplot as plt\n",
        "import numpy as np\n",
        "\n",
        "from keras import models\n",
        "from keras import layers\n",
        "\n",
        "from sklearn.model_selection import train_test_split\n",
        "\n",
        "from keras.utils import to_categorical #para que las salidas queden parametrizadas en binario\n",
        "\n",
        "from sklearn.metrics import classification_report #para ver parametros \n",
        "\n",
        "from keras.applications.inception_v3 import decode_predictions #para ver varios items de prediccion\n",
        "\n",
        "#para autoescalar la imagen al tamaño requerido por la red a reentrenar\n",
        "from keras.applications.inception_v3 import preprocess_input\n",
        "\n",
        "#Incrementar el número de ejemplos para evitar overfitting (junto con dropout)\n",
        "#Generar datos a partir de los presentes, a través de transformaciones\n",
        "from keras.preprocessing.image import ImageDataGenerator\n",
        "\n",
        "\n",
        "\n",
        "# Para las librerias para la red neuronal\n",
        "from keras.models import Sequential,Model\n",
        "from keras.layers import Dense, Dropout, Flatten\n",
        "from keras.layers import Conv2D, MaxPooling2D\n",
        "\n",
        "#callback para mejorar los entrenamientos\n",
        "from keras.callbacks import EarlyStopping, ReduceLROnPlateau, ModelCheckpoint, Callback  "
      ],
      "execution_count": 1,
      "outputs": [
        {
          "output_type": "stream",
          "text": [
            "Using TensorFlow backend.\n"
          ],
          "name": "stderr"
        },
        {
          "output_type": "display_data",
          "data": {
            "text/html": [
              "<p style=\"color: red;\">\n",
              "The default version of TensorFlow in Colab will soon switch to TensorFlow 2.x.<br>\n",
              "We recommend you <a href=\"https://www.tensorflow.org/guide/migrate\" target=\"_blank\">upgrade</a> now \n",
              "or ensure your notebook will continue to use TensorFlow 1.x via the <code>%tensorflow_version 1.x</code> magic:\n",
              "<a href=\"https://colab.research.google.com/notebooks/tensorflow_version.ipynb\" target=\"_blank\">more info</a>.</p>\n"
            ],
            "text/plain": [
              "<IPython.core.display.HTML object>"
            ]
          },
          "metadata": {
            "tags": []
          }
        }
      ]
    },
    {
      "cell_type": "markdown",
      "metadata": {
        "id": "iAiLv5Xp8BBN",
        "colab_type": "text"
      },
      "source": [
        "## Conexion con Google y Drive"
      ]
    },
    {
      "cell_type": "code",
      "metadata": {
        "id": "P_BsT13NeVYg",
        "colab_type": "code",
        "outputId": "afd22e4e-e3b0-41ae-91ec-dfb1749c5dad",
        "colab": {
          "base_uri": "https://localhost:8080/",
          "height": 125
        }
      },
      "source": [
        "from google.colab import drive\n",
        "drive.mount('/content/gdrive')"
      ],
      "execution_count": 3,
      "outputs": [
        {
          "output_type": "stream",
          "text": [
            "Go to this URL in a browser: https://accounts.google.com/o/oauth2/auth?client_id=947318989803-6bn6qk8qdgf4n4g3pfee6491hc0brc4i.apps.googleusercontent.com&redirect_uri=urn%3aietf%3awg%3aoauth%3a2.0%3aoob&response_type=code&scope=email%20https%3a%2f%2fwww.googleapis.com%2fauth%2fdocs.test%20https%3a%2f%2fwww.googleapis.com%2fauth%2fdrive%20https%3a%2f%2fwww.googleapis.com%2fauth%2fdrive.photos.readonly%20https%3a%2f%2fwww.googleapis.com%2fauth%2fpeopleapi.readonly\n",
            "\n",
            "Enter your authorization code:\n",
            "··········\n",
            "Mounted at /content/gdrive\n"
          ],
          "name": "stdout"
        }
      ]
    },
    {
      "cell_type": "code",
      "metadata": {
        "id": "XiJJMYSeqTR4",
        "colab_type": "code",
        "colab": {}
      },
      "source": [
        "###################################################################################################\n",
        "BASE_FOLDER = '/content/gdrive/My Drive/Master IA/Redes Neuronales/'\n",
        "###################################################################################################"
      ],
      "execution_count": 0,
      "outputs": []
    },
    {
      "cell_type": "code",
      "metadata": {
        "id": "qbb2hnaUtniZ",
        "colab_type": "code",
        "colab": {}
      },
      "source": [
        "#le indicamos al colaboratory que las importaciones de librerias propias se haran tambien desde el directorio base\n",
        "import sys\n",
        "sys.path.append(BASE_FOLDER)"
      ],
      "execution_count": 0,
      "outputs": []
    },
    {
      "cell_type": "markdown",
      "metadata": {
        "id": "-O_gtPMX8G0L",
        "colab_type": "text"
      },
      "source": [
        "## Importar Librerias propias"
      ]
    },
    {
      "cell_type": "code",
      "metadata": {
        "id": "7fM3bqw1unIk",
        "colab_type": "code",
        "colab": {}
      },
      "source": [
        "from ModeloExterno import ModeloExterno"
      ],
      "execution_count": 0,
      "outputs": []
    },
    {
      "cell_type": "markdown",
      "metadata": {
        "id": "PVmc76dP7v2k",
        "colab_type": "text"
      },
      "source": [
        "## Funciones"
      ]
    },
    {
      "cell_type": "code",
      "metadata": {
        "id": "M9QOVrN_7ejl",
        "colab_type": "code",
        "colab": {}
      },
      "source": [
        "#Algunas funciones utiles\n",
        "def plot_image(img, title=\"\"):\n",
        "    #plt.figure(figsize=(8, 8))\n",
        "    plt.imshow(img)\n",
        "    plt.title(title)\n",
        "    #plt.axis('off')\n",
        "    plt.show()\n",
        "\n",
        "def convertLabelsToNumbers(y_train):\n",
        "    # Transformando las labels de texto a valores numéricos\n",
        "    y = np.unique(y_train)\n",
        "    mapping = { key : value for key,value in zip(y,range(len(y)))}\n",
        "    processed_y = np.array([mapping[i] for i in y_train])\n",
        "    #print(len(mapping))\n",
        "    return processed_y\n",
        "\n",
        "def DividirDatos_Train_Test_Predic(x, y, porcentaje=0.33, randomDiv=52):\n",
        "    # dividir los datos entre training, test y predic\n",
        "    X_train, X_test, y_train, y_test = train_test_split(\n",
        "        x_train_all, processed_y, \n",
        "        test_size=porcentaje, \n",
        "        random_state=randomDiv)\n",
        "\n",
        "    X_test, X_predic, y_test, y_predic = train_test_split(\n",
        "        X_test, y_test, \n",
        "        test_size=porcentaje, \n",
        "        random_state=randomDiv)\n",
        "    \n",
        "    #Hacemos el One-hot Encoding\n",
        "    train_Y_one_hot = to_categorical(y_train)\n",
        "    test_Y_one_hot = to_categorical(y_test)\n",
        "    predic_Y_one_hot = to_categorical(y_predic)\n",
        "\n",
        "    return (X_train, train_Y_one_hot), (X_test, test_Y_one_hot), (X_predic, predic_Y_one_hot)\n",
        "\n",
        "def plot_history(history):\n",
        "    # list all data in history\n",
        "    print(history.history.keys())\n",
        "    # summarize history for accuracy\n",
        "\n",
        "    # summarize history for loss\n",
        "    plt.plot(history.history['loss'])\n",
        "    plt.plot(history.history['acc'])\n",
        "    plt.title('model loss')\n",
        "    plt.ylabel('loss')\n",
        "    plt.xlabel('epoch')\n",
        "    plt.legend(['train', 'test'], loc='upper left')\n",
        "    plt.show()\n",
        "\n",
        "def plot_pred(pred):\n",
        "    plt.figure(figsize=(8, 2))\n",
        "    classes = [c[1] for c in pred]\n",
        "    probas = [c[2] for c in pred]\n",
        "    y_pos = np.arange(len(classes))\n",
        "    plt.barh(y_pos, probas, align='center')\n",
        "    plt.yticks(y_pos, classes)\n",
        "    plt.gca().invert_yaxis()\n",
        "    plt.xlabel('Probability')\n",
        "    plt.xlim(0, 1)\n",
        "\n",
        "def DefineCallback():\n",
        "    #EarlyStopping, para que el entrenamiento pare si ve que no mejora la función de coste tras determinados epochs\n",
        "    early_stop = EarlyStopping(monitor='val_loss', patience=8, verbose=1, min_delta=1e-4)  \n",
        "\n",
        "    #ReduceLROnPlateau, que si el entrenamiento no mejora tras unos epochs específicos, reduce el valor de learning rate del modelo\n",
        "    reduce_lr = ReduceLROnPlateau(monitor='val_loss', factor=0.1, patience=4, verbose=1, min_delta=1e-4)  \n",
        "    callbacks_list = [early_stop, reduce_lr]  \n",
        "    return callbacks_list"
      ],
      "execution_count": 0,
      "outputs": []
    },
    {
      "cell_type": "markdown",
      "metadata": {
        "id": "_43c4mc_8XTF",
        "colab_type": "text"
      },
      "source": [
        "## Importar Dataseet y clases"
      ]
    },
    {
      "cell_type": "code",
      "metadata": {
        "id": "JpNLDp__8daj",
        "colab_type": "code",
        "outputId": "e087b2f8-9300-414e-9078-ac8fa69ffb84",
        "colab": {
          "base_uri": "https://localhost:8080/",
          "height": 52
        }
      },
      "source": [
        "#Cargo los archivos de clases y las imagenes\n",
        "with open(BASE_FOLDER+\"pickle_all_images_df-002.pickle\", \"rb\") as input_file:\n",
        "    x_train_all = pickle.load(input_file)\n",
        "with open(BASE_FOLDER+\"pickle_all_classes.pickle\", \"rb\") as input_file:\n",
        "    y_train_all = pickle.load(input_file)\n",
        "\n",
        "number_of_classes = len(y_train_all)\n",
        "\n",
        "print(\"Entradas: \",x_train_all.shape)\n",
        "print(\"Salidas: \", number_of_classes)"
      ],
      "execution_count": 8,
      "outputs": [
        {
          "output_type": "stream",
          "text": [
            "Entradas:  (9145, 128, 128, 3)\n",
            "Salidas:  9145\n"
          ],
          "name": "stdout"
        }
      ]
    },
    {
      "cell_type": "code",
      "metadata": {
        "id": "aAxLBVYlPrz2",
        "colab_type": "code",
        "colab": {
          "base_uri": "https://localhost:8080/",
          "height": 268
        },
        "outputId": "5573564a-e43e-4000-cfd1-b058f0bd0002"
      },
      "source": [
        "#show image\n",
        "plot_image(x_train_all[15])"
      ],
      "execution_count": 9,
      "outputs": [
        {
          "output_type": "display_data",
          "data": {
            "image/png": "[encoded data removed]",
            "text/plain": [
              "<Figure size 432x288 with 1 Axes>"
            ]
          },
          "metadata": {
            "tags": []
          }
        }
      ]
    },
    {
      "cell_type": "code",
      "metadata": {
        "id": "gn5W0Yyz8LXW",
        "colab_type": "code",
        "colab": {
          "base_uri": "https://localhost:8080/",
          "height": 52
        },
        "outputId": "649e1167-cac9-4ba8-c4c5-63abe2ea9df6"
      },
      "source": [
        "processed_y = convertLabelsToNumbers(y_train_all)\n",
        "salidasCategoricas = to_categorical(processed_y)\n",
        "\n",
        "print(len(salidasCategoricas[1]))\n",
        "\n",
        "classesImageGenerator = np.unique(salidasCategoricas)\n",
        "nClassesImageGenerator = len(salidasCategoricas[1])\n",
        "print(nClassesImageGenerator)"
      ],
      "execution_count": 10,
      "outputs": [
        {
          "output_type": "stream",
          "text": [
            "102\n",
            "102\n"
          ],
          "name": "stdout"
        }
      ]
    },
    {
      "cell_type": "markdown",
      "metadata": {
        "id": "6Ih72Coy6Jis",
        "colab_type": "text"
      },
      "source": [
        "# Aumentar el set de datos con DataGenerator"
      ]
    },
    {
      "cell_type": "markdown",
      "metadata": {
        "id": "bHxbyzfq6PMV",
        "colab_type": "text"
      },
      "source": [
        "### Creando el modelo generador de datos"
      ]
    },
    {
      "cell_type": "code",
      "metadata": {
        "id": "AXfRIt1k8ce3",
        "colab_type": "code",
        "colab": {
          "base_uri": "https://localhost:8080/",
          "height": 52
        },
        "outputId": "ed94a546-df9e-4584-f721-23023c87d9bc"
      },
      "source": [
        "X_train_generator, X_test_generator, y_train_generator, y_test_generator = train_test_split(\n",
        "        x_train_all, salidasCategoricas, \n",
        "        test_size=0.33, \n",
        "        random_state=52)\n",
        "\n",
        "print(X_train_generator.shape, y_train_generator.shape)\n",
        "print(X_test_generator.shape, y_test_generator.shape)"
      ],
      "execution_count": 15,
      "outputs": [
        {
          "output_type": "stream",
          "text": [
            "(6127, 128, 128, 3) (6127, 102)\n",
            "(3018, 128, 128, 3) (3018, 102)\n"
          ],
          "name": "stdout"
        }
      ]
    },
    {
      "cell_type": "code",
      "metadata": {
        "id": "q2WV8yK6-27D",
        "colab_type": "code",
        "colab": {}
      },
      "source": [
        "modelImageGenerator = ModeloExterno(nombreModelo=\"wisrovi-imageGenerator\", rutaBase=BASE_FOLDER)"
      ],
      "execution_count": 0,
      "outputs": []
    },
    {
      "cell_type": "code",
      "metadata": {
        "id": "I3ts5_LC3EMu",
        "colab_type": "code",
        "colab": {
          "base_uri": "https://localhost:8080/",
          "height": 580
        },
        "outputId": "131988f4-fe39-42b2-ffd6-f0cec7ca0027"
      },
      "source": [
        "#Aumentamos el dataset para tener mas datos que procesar\n",
        "datagen = ImageDataGenerator(\n",
        "    rotation_range=25, # grados de rotacion aleatoria\n",
        "    width_shift_range=0.2, # fraccion del total (1) para mover la imagen\n",
        "    height_shift_range=0.2, # fraccion del total (1) para mover la imagen\n",
        "    shear_range=0.1, # deslizamiento\n",
        "    zoom_range=0.1, # rango de zoom\n",
        "    horizontal_flip=True, # girar las imagenes horizontalmente (eje vertical)\n",
        "    fill_mode='nearest', # como rellenar posibles nuevos pixeles\n",
        "    channel_shift_range=0.2 # cambios aleatorios en los canales de la imagen\n",
        ")\n",
        "\n",
        "convnet_augmentation = models.Sequential()\n",
        "convnet_augmentation.add(Conv2D(32,(3,3),input_shape=(128,128,3),activation='relu', padding='same'))\n",
        "convnet_augmentation.add(Conv2D(32,(3,3),activation='relu'))\n",
        "convnet_augmentation.add(MaxPooling2D((2, 2),padding='same'))\n",
        "convnet_augmentation.add(Dropout(0.5))\n",
        "convnet_augmentation.add(Conv2D(32,(3,3),activation='relu'))\n",
        "convnet_augmentation.add(MaxPooling2D((2,2)))\n",
        "convnet_augmentation.add(Flatten())\n",
        "convnet_augmentation.add(Dropout(0.25))\n",
        "convnet_augmentation.add(Dense(32,activation='relu'))\n",
        "convnet_augmentation.add(Dropout(0.5))\n",
        "convnet_augmentation.add(Dense(nClassesImageGenerator,activation='softmax'))\n",
        "\n",
        "convnet_augmentation.compile(optimizer='rmsprop',\n",
        "               loss='categorical_crossentropy', #para mas de dos clases de clasificación\n",
        "               metrics=['accuracy'])\n",
        "\n",
        "convnet_augmentation.summary()\n",
        "\n",
        "modelImageGenerator.GuardarModelo(convnet_augmentation)"
      ],
      "execution_count": 41,
      "outputs": [
        {
          "output_type": "stream",
          "text": [
            "Model: \"sequential_6\"\n",
            "_________________________________________________________________\n",
            "Layer (type)                 Output Shape              Param #   \n",
            "=================================================================\n",
            "conv2d_19 (Conv2D)           (None, 128, 128, 32)      896       \n",
            "_________________________________________________________________\n",
            "conv2d_20 (Conv2D)           (None, 126, 126, 32)      9248      \n",
            "_________________________________________________________________\n",
            "max_pooling2d_7 (MaxPooling2 (None, 63, 63, 32)        0         \n",
            "_________________________________________________________________\n",
            "dropout_16 (Dropout)         (None, 63, 63, 32)        0         \n",
            "_________________________________________________________________\n",
            "conv2d_21 (Conv2D)           (None, 61, 61, 32)        9248      \n",
            "_________________________________________________________________\n",
            "max_pooling2d_8 (MaxPooling2 (None, 30, 30, 32)        0         \n",
            "_________________________________________________________________\n",
            "flatten_6 (Flatten)          (None, 28800)             0         \n",
            "_________________________________________________________________\n",
            "dropout_17 (Dropout)         (None, 28800)             0         \n",
            "_________________________________________________________________\n",
            "dense_11 (Dense)             (None, 32)                921632    \n",
            "_________________________________________________________________\n",
            "dropout_18 (Dropout)         (None, 32)                0         \n",
            "_________________________________________________________________\n",
            "dense_12 (Dense)             (None, 102)               3366      \n",
            "=================================================================\n",
            "Total params: 944,390\n",
            "Trainable params: 944,390\n",
            "Non-trainable params: 0\n",
            "_________________________________________________________________\n",
            "Modelo guardado!\n"
          ],
          "name": "stdout"
        },
        {
          "output_type": "execute_result",
          "data": {
            "text/plain": [
              "True"
            ]
          },
          "metadata": {
            "tags": []
          },
          "execution_count": 41
        }
      ]
    },
    {
      "cell_type": "markdown",
      "metadata": {
        "id": "tK96RPvI6Vy3",
        "colab_type": "text"
      },
      "source": [
        "### Preparando y entrenando el modelo Generador de datos"
      ]
    },
    {
      "cell_type": "code",
      "metadata": {
        "id": "WuqvRObD3EJL",
        "colab_type": "code",
        "colab": {
          "base_uri": "https://localhost:8080/",
          "height": 1000
        },
        "outputId": "05f3a4dd-dd99-4c8d-a652-ffb8ff715896"
      },
      "source": [
        "# es necesario especificar el numero de steps cuando se usa un generator (para saber cuando dejar de generar datos en una epoca)\n",
        "batch_size = 32\n",
        "num_samples = x_train_all.shape[0] * 10 # multiplicar por 10 el numero de ejemplos\n",
        "pasos_por_epoca = num_samples//batch_size\n",
        "iterator_datagen_train = datagen.flow( X_train_generator, y_train_generator,  batch_size=batch_size  )\n",
        "print(pasos_por_epoca)\n",
        "\n",
        "numeroEntrenamientos = 30\n",
        "numeroEpocas = 10\n",
        "oldModel = None\n",
        "oldAccuaricy = 0\n",
        "for i in range(numeroEntrenamientos):     \n",
        "    print()   \n",
        "    print()\n",
        "    print(\"Entrenamiento \" + str(i + 1))\n",
        "\n",
        "    history_augmentation = convnet_augmentation.fit_generator(\n",
        "        iterator_datagen_train,\n",
        "        epochs=numeroEpocas,\n",
        "        validation_data=(\n",
        "            X_test_generator, y_test_generator\n",
        "        ),\n",
        "        workers=4,\n",
        "        steps_per_epoch=pasos_por_epoca,\n",
        "        callbacks=DefineCallback())\n",
        "        \n",
        "    plot_history(history_augmentation)\n",
        "    \n",
        "\n",
        "\n",
        "    test_eval = convnet_augmentation.evaluate(X_test_generator, y_test_generator, verbose=1)\n",
        "    print('Test loss:', test_eval[0])\n",
        "    print('Test accuracy:', test_eval[1])\n",
        "\n",
        "    if oldAccuaricy < test_eval[1]:\n",
        "        oldAccuaricy = test_eval[1]\n",
        "        modelImageGenerator.GuardarPesosModelo()\n",
        "        oldModel = convnet_augmentation\n",
        "    else:\n",
        "        convnet_augmentation = oldModel\n",
        "\n",
        "    print(\"***************\")    \n",
        "    print()"
      ],
      "execution_count": 0,
      "outputs": [
        {
          "output_type": "stream",
          "text": [
            "2857\n",
            "\n",
            "\n",
            "Entrenamiento 1\n",
            "Epoch 1/10\n",
            "2857/2857 [==============================] - 217s 76ms/step - loss: 3.6928 - acc: 0.2112 - val_loss: 3.4603 - val_acc: 0.2886\n",
            "Epoch 2/10\n",
            "2857/2857 [==============================] - 210s 73ms/step - loss: 3.5184 - acc: 0.2410 - val_loss: 3.5258 - val_acc: 0.2323\n",
            "Epoch 3/10\n",
            "2857/2857 [==============================] - 207s 72ms/step - loss: 3.4860 - acc: 0.2491 - val_loss: 3.5823 - val_acc: 0.2064\n",
            "Epoch 4/10\n",
            "2857/2857 [==============================] - 207s 73ms/step - loss: 3.4854 - acc: 0.2494 - val_loss: 3.6682 - val_acc: 0.1885\n",
            "Epoch 5/10\n",
            "2857/2857 [==============================] - 207s 73ms/step - loss: 3.5061 - acc: 0.2476 - val_loss: 3.8867 - val_acc: 0.1398\n",
            "Epoch 6/10\n",
            "2857/2857 [==============================] - 210s 73ms/step - loss: 3.5931 - acc: 0.2362 - val_loss: 3.9152 - val_acc: 0.1395\n",
            "Epoch 7/10\n",
            "2857/2857 [==============================] - 211s 74ms/step - loss: 3.6939 - acc: 0.2280 - val_loss: 3.6116 - val_acc: 0.2127\n",
            "Epoch 8/10\n",
            "2857/2857 [==============================] - 213s 75ms/step - loss: 3.7795 - acc: 0.2120 - val_loss: 3.7722 - val_acc: 0.1643\n",
            "Epoch 9/10\n",
            "2857/2857 [==============================] - 208s 73ms/step - loss: 3.8488 - acc: 0.1982 - val_loss: 3.7004 - val_acc: 0.1991\n",
            "Epoch 10/10\n",
            "2857/2857 [==============================] - 207s 73ms/step - loss: 3.9028 - acc: 0.1814 - val_loss: 3.7790 - val_acc: 0.2230\n",
            "dict_keys(['val_loss', 'val_acc', 'loss', 'acc'])\n"
          ],
          "name": "stdout"
        },
        {
          "output_type": "display_data",
          "data": {
            "image/png": "[encoded data removed]",
            "text/plain": [
              "<Figure size 432x288 with 1 Axes>"
            ]
          },
          "metadata": {
            "tags": []
          }
        },
        {
          "output_type": "stream",
          "text": [
            "3018/3018 [==============================] - 1s 349us/step\n",
            "Test loss: 3.779005428589757\n",
            "Test accuracy: 0.2229953611762102\n",
            "Pesos Guardados!\n",
            "***************\n",
            "\n",
            "\n",
            "\n",
            "Entrenamiento 2\n",
            "Epoch 1/10\n",
            "2857/2857 [==============================] - 209s 73ms/step - loss: 3.8775 - acc: 0.1790 - val_loss: 3.7397 - val_acc: 0.2021\n",
            "Epoch 2/10\n",
            "2857/2857 [==============================] - 208s 73ms/step - loss: 3.8395 - acc: 0.1880 - val_loss: 3.7440 - val_acc: 0.2111\n",
            "Epoch 3/10\n",
            "2857/2857 [==============================] - 208s 73ms/step - loss: 3.8398 - acc: 0.1898 - val_loss: 3.6295 - val_acc: 0.2826\n",
            "Epoch 4/10\n",
            "2857/2857 [==============================] - 213s 75ms/step - loss: 3.8442 - acc: 0.1862 - val_loss: 3.6603 - val_acc: 0.2684\n",
            "Epoch 5/10\n",
            "2857/2857 [==============================] - 212s 74ms/step - loss: 3.8401 - acc: 0.1835 - val_loss: 4.2430 - val_acc: 0.0524\n",
            "Epoch 6/10\n",
            "2857/2857 [==============================] - 208s 73ms/step - loss: 3.8450 - acc: 0.1875 - val_loss: 3.8596 - val_acc: 0.2011\n",
            "Epoch 7/10\n",
            "2857/2857 [==============================] - 211s 74ms/step - loss: 3.8223 - acc: 0.1850 - val_loss: 3.9648 - val_acc: 0.2323\n",
            "Epoch 8/10\n",
            "2857/2857 [==============================] - 210s 74ms/step - loss: 3.8074 - acc: 0.1896 - val_loss: 3.8297 - val_acc: 0.1972\n",
            "Epoch 9/10\n",
            "2857/2857 [==============================] - 215s 75ms/step - loss: 3.8116 - acc: 0.1885 - val_loss: 4.1089 - val_acc: 0.1027\n",
            "Epoch 10/10\n",
            "2857/2857 [==============================] - 212s 74ms/step - loss: 3.8092 - acc: 0.1902 - val_loss: 4.2560 - val_acc: 0.0729\n",
            "dict_keys(['val_loss', 'val_acc', 'loss', 'acc'])\n"
          ],
          "name": "stdout"
        },
        {
          "output_type": "display_data",
          "data": {
            "image/png": "[encoded data removed]",
            "text/plain": [
              "<Figure size 432x288 with 1 Axes>"
            ]
          },
          "metadata": {
            "tags": []
          }
        },
        {
          "output_type": "stream",
          "text": [
            "3018/3018 [==============================] - 1s 344us/step\n",
            "Test loss: 4.255956389716005\n",
            "Test accuracy: 0.07289595759768135\n",
            "***************\n",
            "\n",
            "\n",
            "\n",
            "Entrenamiento 3\n",
            "Epoch 1/10\n",
            "2857/2857 [==============================] - 209s 73ms/step - loss: 3.8093 - acc: 0.1878 - val_loss: 3.9607 - val_acc: 0.1193\n",
            "Epoch 2/10\n",
            "2857/2857 [==============================] - 209s 73ms/step - loss: 3.8016 - acc: 0.1908 - val_loss: 3.9837 - val_acc: 0.1995\n",
            "Epoch 3/10\n",
            "2857/2857 [==============================] - 205s 72ms/step - loss: 3.7937 - acc: 0.1899 - val_loss: 3.8828 - val_acc: 0.1690\n",
            "Epoch 4/10\n",
            "2857/2857 [==============================] - 209s 73ms/step - loss: 3.7879 - acc: 0.1920 - val_loss: 4.1694 - val_acc: 0.0636\n",
            "Epoch 5/10\n",
            "2857/2857 [==============================] - 206s 72ms/step - loss: 3.7862 - acc: 0.1927 - val_loss: 3.7950 - val_acc: 0.2114\n",
            "Epoch 6/10\n",
            "2857/2857 [==============================] - 207s 72ms/step - loss: 3.7873 - acc: 0.1934 - val_loss: 4.1373 - val_acc: 0.0742\n",
            "Epoch 7/10\n",
            "2857/2857 [==============================] - 205s 72ms/step - loss: 3.7773 - acc: 0.1938 - val_loss: 4.2210 - val_acc: 0.0577\n",
            "Epoch 8/10\n",
            "2857/2857 [==============================] - 209s 73ms/step - loss: 3.7619 - acc: 0.1996 - val_loss: 4.8117 - val_acc: 0.1378\n",
            "Epoch 9/10\n",
            "2857/2857 [==============================] - 215s 75ms/step - loss: 3.7492 - acc: 0.2049 - val_loss: 4.2362 - val_acc: 0.1461\n",
            "Epoch 10/10\n",
            "2857/2857 [==============================] - 205s 72ms/step - loss: 3.7579 - acc: 0.2017 - val_loss: 3.6753 - val_acc: 0.2604\n",
            "dict_keys(['val_loss', 'val_acc', 'loss', 'acc'])\n"
          ],
          "name": "stdout"
        },
        {
          "output_type": "display_data",
          "data": {
            "image/png": "[encoded data removed]",
            "text/plain": [
              "<Figure size 432x288 with 1 Axes>"
            ]
          },
          "metadata": {
            "tags": []
          }
        },
        {
          "output_type": "stream",
          "text": [
            "3018/3018 [==============================] - 1s 350us/step\n",
            "Test loss: 3.675317095319825\n",
            "Test accuracy: 0.2604373757850263\n",
            "Pesos Guardados!\n",
            "***************\n",
            "\n",
            "\n",
            "\n",
            "Entrenamiento 4\n",
            "Epoch 1/10\n",
            "2857/2857 [==============================] - 203s 71ms/step - loss: 3.7930 - acc: 0.2038 - val_loss: 3.9894 - val_acc: 0.1146\n",
            "Epoch 2/10\n",
            "2857/2857 [==============================] - 202s 71ms/step - loss: 4.0229 - acc: 0.2014 - val_loss: 4.5235 - val_acc: 0.1266\n",
            "Epoch 3/10\n",
            "2857/2857 [==============================] - 202s 71ms/step - loss: 3.7658 - acc: 0.2028 - val_loss: 3.7076 - val_acc: 0.2197\n",
            "Epoch 4/10\n",
            "2857/2857 [==============================] - 204s 71ms/step - loss: 3.7611 - acc: 0.2031 - val_loss: 3.8237 - val_acc: 0.1958\n",
            "Epoch 5/10\n",
            "2857/2857 [==============================] - 208s 73ms/step - loss: 3.7663 - acc: 0.1998 - val_loss: 4.1517 - val_acc: 0.0921\n",
            "Epoch 6/10\n",
            "2857/2857 [==============================] - 210s 74ms/step - loss: 3.7622 - acc: 0.2022 - val_loss: 3.6033 - val_acc: 0.2502\n",
            "Epoch 7/10\n",
            "2857/2857 [==============================] - 209s 73ms/step - loss: 3.7909 - acc: 0.1966 - val_loss: 3.9043 - val_acc: 0.1329\n",
            "Epoch 8/10\n",
            "2857/2857 [==============================] - 213s 75ms/step - loss: 3.7754 - acc: 0.1998 - val_loss: 4.2390 - val_acc: 0.0457\n",
            "Epoch 9/10\n",
            "2857/2857 [==============================] - 213s 75ms/step - loss: 3.7641 - acc: 0.2002 - val_loss: 4.1011 - val_acc: 0.1143\n",
            "Epoch 10/10\n",
            "2857/2857 [==============================] - 210s 74ms/step - loss: 3.7692 - acc: 0.1943 - val_loss: 3.9810 - val_acc: 0.1226\n",
            "dict_keys(['val_loss', 'val_acc', 'loss', 'acc'])\n"
          ],
          "name": "stdout"
        },
        {
          "output_type": "display_data",
          "data": {
            "image/png": "[encoded data removed]",
            "text/plain": [
              "<Figure size 432x288 with 1 Axes>"
            ]
          },
          "metadata": {
            "tags": []
          }
        },
        {
          "output_type": "stream",
          "text": [
            "3018/3018 [==============================] - 1s 346us/step\n",
            "Test loss: 3.980966988267134\n",
            "Test accuracy: 0.12259774685715744\n",
            "***************\n",
            "\n",
            "\n",
            "\n",
            "Entrenamiento 5\n",
            "Epoch 1/10\n",
            "2857/2857 [==============================] - 205s 72ms/step - loss: 3.7832 - acc: 0.1970 - val_loss: 4.4476 - val_acc: 0.0583\n",
            "Epoch 2/10\n",
            "2857/2857 [==============================] - 208s 73ms/step - loss: 3.7750 - acc: 0.1938 - val_loss: 3.9131 - val_acc: 0.1362\n",
            "Epoch 3/10\n",
            "2857/2857 [==============================] - 212s 74ms/step - loss: 3.7897 - acc: 0.1930 - val_loss: 4.3358 - val_acc: 0.1339\n",
            "Epoch 4/10\n",
            "2857/2857 [==============================] - 209s 73ms/step - loss: 3.7742 - acc: 0.1950 - val_loss: 4.1028 - val_acc: 0.1236\n",
            "Epoch 5/10\n",
            "2857/2857 [==============================] - 209s 73ms/step - loss: 3.7624 - acc: 0.1972 - val_loss: 4.1371 - val_acc: 0.1365\n",
            "Epoch 6/10\n",
            "2857/2857 [==============================] - 205s 72ms/step - loss: 3.7579 - acc: 0.1992 - val_loss: 3.9116 - val_acc: 0.1624\n",
            "Epoch 7/10\n",
            "2857/2857 [==============================] - 206s 72ms/step - loss: 3.7477 - acc: 0.1982 - val_loss: 4.1077 - val_acc: 0.1405\n",
            "Epoch 8/10\n",
            "2857/2857 [==============================] - 206s 72ms/step - loss: 3.7391 - acc: 0.2001 - val_loss: 4.1514 - val_acc: 0.1176\n",
            "Epoch 9/10\n",
            "2857/2857 [==============================] - 209s 73ms/step - loss: 3.7453 - acc: 0.2014 - val_loss: 3.9935 - val_acc: 0.1368\n",
            "Epoch 10/10\n",
            "2857/2857 [==============================] - 207s 72ms/step - loss: 3.7329 - acc: 0.2007 - val_loss: 3.9537 - val_acc: 0.1388\n",
            "dict_keys(['val_loss', 'val_acc', 'loss', 'acc'])\n"
          ],
          "name": "stdout"
        },
        {
          "output_type": "display_data",
          "data": {
            "image/png": "[encoded data removed]",
            "text/plain": [
              "<Figure size 432x288 with 1 Axes>"
            ]
          },
          "metadata": {
            "tags": []
          }
        },
        {
          "output_type": "stream",
          "text": [
            "3018/3018 [==============================] - 1s 322us/step\n",
            "Test loss: 3.9536834995504875\n",
            "Test accuracy: 0.13883366468846994\n",
            "***************\n",
            "\n",
            "\n",
            "\n",
            "Entrenamiento 6\n",
            "Epoch 1/10\n",
            "2857/2857 [==============================] - 205s 72ms/step - loss: 3.7327 - acc: 0.2024 - val_loss: 3.9282 - val_acc: 0.1398\n",
            "Epoch 2/10\n",
            "2857/2857 [==============================] - 206s 72ms/step - loss: 3.7294 - acc: 0.2035 - val_loss: 3.9361 - val_acc: 0.1501\n",
            "Epoch 3/10\n",
            "2857/2857 [==============================] - 205s 72ms/step - loss: 3.7245 - acc: 0.2036 - val_loss: 4.0646 - val_acc: 0.1233\n",
            "Epoch 4/10\n",
            "2857/2857 [==============================] - 205s 72ms/step - loss: 3.7343 - acc: 0.2037 - val_loss: 3.9268 - val_acc: 0.1524\n",
            "Epoch 5/10\n",
            "2857/2857 [==============================] - 205s 72ms/step - loss: 3.7497 - acc: 0.2003 - val_loss: 3.8542 - val_acc: 0.1650\n",
            "Epoch 6/10\n",
            "2857/2857 [==============================] - 206s 72ms/step - loss: 3.7339 - acc: 0.2030 - val_loss: 3.8066 - val_acc: 0.1865\n",
            "Epoch 7/10\n",
            "2857/2857 [==============================] - 205s 72ms/step - loss: 3.7310 - acc: 0.2023 - val_loss: 3.9238 - val_acc: 0.1478\n",
            "Epoch 8/10\n",
            "2857/2857 [==============================] - 206s 72ms/step - loss: 3.7478 - acc: 0.1995 - val_loss: 4.4729 - val_acc: 0.0520\n",
            "Epoch 9/10\n",
            "2857/2857 [==============================] - 205s 72ms/step - loss: 3.7435 - acc: 0.2016 - val_loss: 4.3557 - val_acc: 0.1968\n",
            "Epoch 10/10\n",
            "2857/2857 [==============================] - 202s 71ms/step - loss: 3.7487 - acc: 0.1986 - val_loss: 3.8863 - val_acc: 0.1484\n",
            "dict_keys(['val_loss', 'val_acc', 'loss', 'acc'])\n"
          ],
          "name": "stdout"
        },
        {
          "output_type": "display_data",
          "data": {
            "image/png": "[encoded data removed]",
            "text/plain": [
              "<Figure size 432x288 with 1 Axes>"
            ]
          },
          "metadata": {
            "tags": []
          }
        },
        {
          "output_type": "stream",
          "text": [
            "3018/3018 [==============================] - 1s 353us/step\n",
            "Test loss: 3.8862970061773017\n",
            "Test accuracy: 0.14844267730921448\n",
            "***************\n",
            "\n",
            "\n",
            "\n",
            "Entrenamiento 7\n",
            "Epoch 1/10\n",
            "2857/2857 [==============================] - 204s 71ms/step - loss: 3.7500 - acc: 0.1979 - val_loss: 3.8868 - val_acc: 0.1600\n",
            "Epoch 2/10\n",
            "2857/2857 [==============================] - 205s 72ms/step - loss: 3.7467 - acc: 0.1975 - val_loss: 3.7293 - val_acc: 0.1865\n",
            "Epoch 3/10\n",
            "2857/2857 [==============================] - 203s 71ms/step - loss: 3.7522 - acc: 0.1979 - val_loss: 4.2290 - val_acc: 0.1342\n",
            "Epoch 4/10\n",
            "2857/2857 [==============================] - 201s 70ms/step - loss: 3.7556 - acc: 0.1985 - val_loss: 4.0326 - val_acc: 0.1491\n",
            "Epoch 5/10\n",
            "2857/2857 [==============================] - 201s 70ms/step - loss: 3.7681 - acc: 0.1962 - val_loss: 4.0361 - val_acc: 0.1713\n",
            "Epoch 6/10\n",
            "2857/2857 [==============================] - 201s 70ms/step - loss: 3.7534 - acc: 0.1977 - val_loss: 4.8459 - val_acc: 0.1395\n",
            "Epoch 7/10\n",
            "2857/2857 [==============================] - 202s 71ms/step - loss: 3.8573 - acc: 0.1944 - val_loss: 3.7665 - val_acc: 0.1726\n",
            "Epoch 8/10\n",
            "2857/2857 [==============================] - 202s 71ms/step - loss: 3.7547 - acc: 0.1982 - val_loss: 4.6462 - val_acc: 0.1339\n",
            "Epoch 9/10\n",
            "2857/2857 [==============================] - 203s 71ms/step - loss: 3.7604 - acc: 0.1981 - val_loss: 3.8537 - val_acc: 0.1687\n",
            "Epoch 10/10\n",
            "2857/2857 [==============================] - 203s 71ms/step - loss: 3.7492 - acc: 0.1977 - val_loss: 3.9222 - val_acc: 0.1415\n",
            "dict_keys(['val_loss', 'val_acc', 'loss', 'acc'])\n"
          ],
          "name": "stdout"
        },
        {
          "output_type": "display_data",
          "data": {
            "image/png": "[encoded data removed]",
            "text/plain": [
              "<Figure size 432x288 with 1 Axes>"
            ]
          },
          "metadata": {
            "tags": []
          }
        },
        {
          "output_type": "stream",
          "text": [
            "3018/3018 [==============================] - 1s 346us/step\n",
            "Test loss: 3.922247505567183\n",
            "Test accuracy: 0.1414844267776346\n",
            "***************\n",
            "\n",
            "\n",
            "\n",
            "Entrenamiento 8\n",
            "Epoch 1/10\n",
            "2857/2857 [==============================] - 205s 72ms/step - loss: 3.7416 - acc: 0.1997 - val_loss: 4.1223 - val_acc: 0.1392\n",
            "Epoch 2/10\n",
            "2857/2857 [==============================] - 204s 72ms/step - loss: 3.7552 - acc: 0.1966 - val_loss: 4.0204 - val_acc: 0.1494\n",
            "Epoch 3/10\n",
            "2857/2857 [==============================] - 203s 71ms/step - loss: 3.7456 - acc: 0.1971 - val_loss: 4.1680 - val_acc: 0.0636\n",
            "Epoch 4/10\n",
            "2857/2857 [==============================] - 204s 71ms/step - loss: 3.7611 - acc: 0.1973 - val_loss: 3.8605 - val_acc: 0.1531\n",
            "Epoch 5/10\n",
            "2857/2857 [==============================] - 203s 71ms/step - loss: 3.7556 - acc: 0.1980 - val_loss: 4.1446 - val_acc: 0.1455\n",
            "Epoch 6/10\n",
            "2857/2857 [==============================] - 202s 71ms/step - loss: 3.7561 - acc: 0.1973 - val_loss: 4.2790 - val_acc: 0.0616\n",
            "Epoch 7/10\n",
            "2857/2857 [==============================] - 203s 71ms/step - loss: 3.7520 - acc: 0.1954 - val_loss: 3.7559 - val_acc: 0.1852\n",
            "Epoch 8/10\n",
            "2857/2857 [==============================] - 203s 71ms/step - loss: 3.7728 - acc: 0.1962 - val_loss: 5.5165 - val_acc: 0.0616\n",
            "Epoch 9/10\n",
            "2857/2857 [==============================] - 203s 71ms/step - loss: 3.7603 - acc: 0.1954 - val_loss: 3.9994 - val_acc: 0.2210\n",
            "Epoch 10/10\n",
            "2857/2857 [==============================] - 203s 71ms/step - loss: 3.7621 - acc: 0.1958 - val_loss: 4.9976 - val_acc: 0.0782\n",
            "dict_keys(['val_loss', 'val_acc', 'loss', 'acc'])\n"
          ],
          "name": "stdout"
        },
        {
          "output_type": "display_data",
          "data": {
            "image/png": "[encoded data removed]",
            "text/plain": [
              "<Figure size 432x288 with 1 Axes>"
            ]
          },
          "metadata": {
            "tags": []
          }
        },
        {
          "output_type": "stream",
          "text": [
            "3018/3018 [==============================] - 1s 326us/step\n",
            "Test loss: 4.997644195973755\n",
            "Test accuracy: 0.07819748181551003\n",
            "***************\n",
            "\n",
            "\n",
            "\n",
            "Entrenamiento 9\n",
            "Epoch 1/10\n",
            "2857/2857 [==============================] - 205s 72ms/step - loss: 3.7679 - acc: 0.1924 - val_loss: 3.9576 - val_acc: 0.1713\n",
            "Epoch 2/10\n",
            "2857/2857 [==============================] - 202s 71ms/step - loss: 3.7593 - acc: 0.1960 - val_loss: 3.8506 - val_acc: 0.1551\n",
            "Epoch 3/10\n",
            "2857/2857 [==============================] - 203s 71ms/step - loss: 3.7656 - acc: 0.1933 - val_loss: 3.8319 - val_acc: 0.1531\n",
            "Epoch 4/10\n",
            "2857/2857 [==============================] - 201s 70ms/step - loss: 3.7684 - acc: 0.1900 - val_loss: 4.5643 - val_acc: 0.0563\n",
            "Epoch 5/10\n",
            "2857/2857 [==============================] - 199s 70ms/step - loss: 3.7689 - acc: 0.1934 - val_loss: 4.9353 - val_acc: 0.0616\n",
            "Epoch 6/10\n",
            "2857/2857 [==============================] - 199s 70ms/step - loss: 3.7800 - acc: 0.1929 - val_loss: 3.9405 - val_acc: 0.1693\n",
            "Epoch 7/10\n",
            "2857/2857 [==============================] - 198s 69ms/step - loss: 3.7729 - acc: 0.1926 - val_loss: 4.0978 - val_acc: 0.0908\n",
            "Epoch 8/10\n",
            "2857/2857 [==============================] - 199s 70ms/step - loss: 3.7670 - acc: 0.1920 - val_loss: 3.9188 - val_acc: 0.1836\n",
            "Epoch 9/10\n",
            "2857/2857 [==============================] - 205s 72ms/step - loss: 3.7896 - acc: 0.1902 - val_loss: 4.1183 - val_acc: 0.1339\n",
            "Epoch 10/10\n",
            "2857/2857 [==============================] - 210s 73ms/step - loss: 3.7738 - acc: 0.1910 - val_loss: 3.8422 - val_acc: 0.1607\n",
            "dict_keys(['val_loss', 'val_acc', 'loss', 'acc'])\n"
          ],
          "name": "stdout"
        },
        {
          "output_type": "display_data",
          "data": {
            "image/png": "[encoded data removed]",
            "text/plain": [
              "<Figure size 432x288 with 1 Axes>"
            ]
          },
          "metadata": {
            "tags": []
          }
        },
        {
          "output_type": "stream",
          "text": [
            "3018/3018 [==============================] - 1s 408us/step\n",
            "Test loss: 3.842180002754773\n",
            "Test accuracy: 0.16070245199443647\n",
            "***************\n",
            "\n",
            "\n",
            "\n",
            "Entrenamiento 10\n",
            "Epoch 1/10\n",
            "2857/2857 [==============================] - 210s 73ms/step - loss: 3.7834 - acc: 0.1897 - val_loss: 3.7108 - val_acc: 0.2253\n",
            "Epoch 2/10\n",
            "2857/2857 [==============================] - 208s 73ms/step - loss: 3.7734 - acc: 0.1906 - val_loss: 4.0272 - val_acc: 0.1643\n",
            "Epoch 3/10\n",
            "2857/2857 [==============================] - 209s 73ms/step - loss: 3.7785 - acc: 0.1927 - val_loss: 4.8705 - val_acc: 0.1435\n",
            "Epoch 4/10\n",
            "2857/2857 [==============================] - 207s 73ms/step - loss: 3.7729 - acc: 0.1909 - val_loss: 4.6796 - val_acc: 0.1418\n",
            "Epoch 5/10\n",
            "2857/2857 [==============================] - 208s 73ms/step - loss: 3.7686 - acc: 0.1906 - val_loss: 5.4296 - val_acc: 0.1504\n",
            "Epoch 6/10\n",
            "2857/2857 [==============================] - 209s 73ms/step - loss: 3.7749 - acc: 0.1909 - val_loss: 4.0628 - val_acc: 0.1455\n",
            "Epoch 7/10\n",
            "2857/2857 [==============================] - 209s 73ms/step - loss: 3.7789 - acc: 0.1911 - val_loss: 3.9473 - val_acc: 0.1627\n",
            "Epoch 8/10\n",
            "2857/2857 [==============================] - 206s 72ms/step - loss: 3.7728 - acc: 0.1913 - val_loss: 3.9089 - val_acc: 0.1471\n",
            "Epoch 9/10\n",
            "2857/2857 [==============================] - 207s 73ms/step - loss: 3.7722 - acc: 0.1902 - val_loss: 4.5206 - val_acc: 0.1766\n",
            "Epoch 10/10\n",
            "2857/2857 [==============================] - 212s 74ms/step - loss: 3.7826 - acc: 0.1887 - val_loss: 3.8460 - val_acc: 0.1537\n",
            "dict_keys(['val_loss', 'val_acc', 'loss', 'acc'])\n"
          ],
          "name": "stdout"
        },
        {
          "output_type": "display_data",
          "data": {
            "image/png": "[encoded data removed]",
            "text/plain": [
              "<Figure size 432x288 with 1 Axes>"
            ]
          },
          "metadata": {
            "tags": []
          }
        },
        {
          "output_type": "stream",
          "text": [
            "3018/3018 [==============================] - 1s 412us/step\n",
            "Test loss: 3.846003374885928\n",
            "Test accuracy: 0.15374420146779402\n",
            "***************\n",
            "\n",
            "\n",
            "\n",
            "Entrenamiento 11\n",
            "Epoch 1/10\n",
            "2857/2857 [==============================] - 212s 74ms/step - loss: 3.7836 - acc: 0.1888 - val_loss: 3.9592 - val_acc: 0.1415\n",
            "Epoch 2/10\n",
            "2857/2857 [==============================] - 208s 73ms/step - loss: 3.7775 - acc: 0.1922 - val_loss: 4.1261 - val_acc: 0.0596\n",
            "Epoch 3/10\n",
            "2857/2857 [==============================] - 208s 73ms/step - loss: 3.7734 - acc: 0.1890 - val_loss: 3.9777 - val_acc: 0.1322\n",
            "Epoch 4/10\n",
            "2857/2857 [==============================] - 208s 73ms/step - loss: 3.7819 - acc: 0.1901 - val_loss: 3.8629 - val_acc: 0.1624\n",
            "Epoch 5/10\n",
            "2857/2857 [==============================] - 207s 73ms/step - loss: 3.7872 - acc: 0.1870 - val_loss: 4.2260 - val_acc: 0.0921\n",
            "Epoch 6/10\n",
            "2857/2857 [==============================] - 207s 73ms/step - loss: 3.7842 - acc: 0.1886 - val_loss: 3.8987 - val_acc: 0.1600\n",
            "Epoch 7/10\n",
            "2857/2857 [==============================] - 207s 72ms/step - loss: 3.8007 - acc: 0.1892 - val_loss: 4.3821 - val_acc: 0.1783\n",
            "Epoch 8/10\n",
            "2857/2857 [==============================] - 208s 73ms/step - loss: 3.7807 - acc: 0.1884 - val_loss: 3.9358 - val_acc: 0.1978\n",
            "Epoch 9/10\n",
            "2857/2857 [==============================] - 207s 72ms/step - loss: 3.7907 - acc: 0.1884 - val_loss: 3.9013 - val_acc: 0.1743\n",
            "Epoch 10/10\n",
            "2857/2857 [==============================] - 207s 73ms/step - loss: 3.7887 - acc: 0.1869 - val_loss: 4.0485 - val_acc: 0.1233\n",
            "dict_keys(['val_loss', 'val_acc', 'loss', 'acc'])\n"
          ],
          "name": "stdout"
        },
        {
          "output_type": "display_data",
          "data": {
            "image/png": "[encoded data removed]",
            "text/plain": [
              "<Figure size 432x288 with 1 Axes>"
            ]
          },
          "metadata": {
            "tags": []
          }
        },
        {
          "output_type": "stream",
          "text": [
            "3018/3018 [==============================] - 1s 416us/step\n",
            "Test loss: 4.048517630383066\n",
            "Test accuracy: 0.12326043741524496\n",
            "***************\n",
            "\n",
            "\n",
            "\n",
            "Entrenamiento 12\n",
            "Epoch 1/10\n",
            "2857/2857 [==============================] - 214s 75ms/step - loss: 3.7970 - acc: 0.1874 - val_loss: 4.9903 - val_acc: 0.0885\n",
            "Epoch 2/10\n",
            "2857/2857 [==============================] - 210s 74ms/step - loss: 3.7919 - acc: 0.1861 - val_loss: 3.9844 - val_acc: 0.1687\n",
            "Epoch 3/10\n",
            "2857/2857 [==============================] - 208s 73ms/step - loss: 3.7860 - acc: 0.1887 - val_loss: 4.1121 - val_acc: 0.1484\n",
            "Epoch 4/10\n",
            "2857/2857 [==============================] - 211s 74ms/step - loss: 3.7875 - acc: 0.1892 - val_loss: 4.1826 - val_acc: 0.0868\n",
            "Epoch 5/10\n",
            "2857/2857 [==============================] - 209s 73ms/step - loss: 3.7981 - acc: 0.1813 - val_loss: 3.7027 - val_acc: 0.1806\n",
            "Epoch 6/10\n",
            "2857/2857 [==============================] - 211s 74ms/step - loss: 3.7932 - acc: 0.1833 - val_loss: 3.9374 - val_acc: 0.1329\n",
            "Epoch 7/10\n",
            "2857/2857 [==============================] - 208s 73ms/step - loss: 3.8005 - acc: 0.1851 - val_loss: 3.9004 - val_acc: 0.1889\n",
            "Epoch 8/10\n",
            "2857/2857 [==============================] - 208s 73ms/step - loss: 3.8013 - acc: 0.1858 - val_loss: 4.0859 - val_acc: 0.1332\n",
            "Epoch 9/10\n",
            "2857/2857 [==============================] - 207s 72ms/step - loss: 3.7976 - acc: 0.1872 - val_loss: 3.8871 - val_acc: 0.1508\n",
            "Epoch 10/10\n",
            "2857/2857 [==============================] - 208s 73ms/step - loss: 3.8093 - acc: 0.1848 - val_loss: 4.6848 - val_acc: 0.1070\n",
            "dict_keys(['val_loss', 'val_acc', 'loss', 'acc'])\n"
          ],
          "name": "stdout"
        },
        {
          "output_type": "display_data",
          "data": {
            "image/png": "[encoded data removed]",
            "text/plain": [
              "<Figure size 432x288 with 1 Axes>"
            ]
          },
          "metadata": {
            "tags": []
          }
        },
        {
          "output_type": "stream",
          "text": [
            "3018/3018 [==============================] - 1s 385us/step\n",
            "Test loss: 4.684779443987321\n",
            "Test accuracy: 0.10702451958886988\n",
            "***************\n",
            "\n",
            "\n",
            "\n",
            "Entrenamiento 13\n",
            "Epoch 1/10\n",
            "2857/2857 [==============================] - 207s 72ms/step - loss: 3.8074 - acc: 0.1818 - val_loss: 4.4072 - val_acc: 0.1488\n",
            "Epoch 2/10\n",
            "2182/2857 [=====================>........] - ETA: 47s - loss: 3.7925 - acc: 0.1880"
          ],
          "name": "stdout"
        }
      ]
    },
    {
      "cell_type": "code",
      "metadata": {
        "id": "H58kju776ETH",
        "colab_type": "code",
        "colab": {}
      },
      "source": [
        "#falta terminar, mirar como con que modelo entrenado puedo generar las imagenes\n",
        "convnet_augmentation.eva"
      ],
      "execution_count": 0,
      "outputs": []
    },
    {
      "cell_type": "code",
      "metadata": {
        "id": "651SXoqz6EQm",
        "colab_type": "code",
        "colab": {}
      },
      "source": [
        "#falta terminar, mirar como puedo generar las imagenes sin tener que guardarlas en directorio \n",
        "#sino guardarlas en los archivos en las fuentes x_train_all y y_train_all\n",
        "datagen.flow"
      ],
      "execution_count": 0,
      "outputs": []
    },
    {
      "cell_type": "code",
      "metadata": {
        "id": "TOJrGoAS6EOc",
        "colab_type": "code",
        "colab": {}
      },
      "source": [
        "#falta terminar, buscar que en lugar de guardar en un archivo, guarde el vector\n",
        "imageGen = datagen.flow(X_test_generator[0], batch_size=1, save_to_dir=args[\"output\"],\n",
        "\tsave_prefix=\"image\", save_format=\"jpg\")\n",
        "\n",
        "for image in imageGen:\n",
        "\t# increment our counter\n",
        "\ttotal += 1\n",
        " \n",
        "\t# if we have reached the specified number of examples, break\n",
        "\t# from the loop\n",
        "\tif total == args[\"total\"]:\n",
        "\t\tbreak"
      ],
      "execution_count": 0,
      "outputs": []
    },
    {
      "cell_type": "code",
      "metadata": {
        "id": "f7HVyhpS6EMn",
        "colab_type": "code",
        "colab": {}
      },
      "source": [
        ""
      ],
      "execution_count": 0,
      "outputs": []
    },
    {
      "cell_type": "code",
      "metadata": {
        "id": "VxrgMdkf6EJI",
        "colab_type": "code",
        "colab": {}
      },
      "source": [
        ""
      ],
      "execution_count": 0,
      "outputs": []
    },
    {
      "cell_type": "markdown",
      "metadata": {
        "id": "bS_1wQUl6hlj",
        "colab_type": "text"
      },
      "source": [
        "# Repartiendo los datos entre Train, test, eval y predic"
      ]
    },
    {
      "cell_type": "code",
      "metadata": {
        "id": "TqHrPX6fPmNA",
        "colab_type": "code",
        "colab": {}
      },
      "source": [
        "imagen = 250\n",
        "#print(processed_y[imagen], y_train_all[imagen])"
      ],
      "execution_count": 0,
      "outputs": []
    },
    {
      "cell_type": "code",
      "metadata": {
        "id": "YEKKoqBN8tU8",
        "colab_type": "code",
        "outputId": "f6bc94dd-f3e3-4080-b7d9-fce5b1421903",
        "colab": {
          "base_uri": "https://localhost:8080/",
          "height": 281
        }
      },
      "source": [
        "classes = np.unique(processed_y)\n",
        "nClasses = len(classes)\n",
        "print(\"Numero de clases diferenes:\", nClasses)\n",
        "print()\n",
        "\n",
        "(X_train, y_train), (X_test, y_test), (X_predic, y_predic) = DividirDatos_Train_Test_Predic(x_train_all, processed_y)\n",
        "\n",
        "print(\"Training (66.98%)\") \n",
        "print(\"X_train\", X_train.shape)\n",
        "print(\"y_train\", y_train.shape)\n",
        "print() \n",
        "print(\"Test (22.1%)\") \n",
        "print(\"X_test\", X_test.shape)\n",
        "print(\"y_test\", y_test.shape)\n",
        "print()\n",
        "print(\"Predict (10.89%)\") \n",
        "print(\"X_predic\", X_predic.shape)\n",
        "print(\"y_predic\", y_predic.shape)\n",
        "\n",
        "print()\n",
        "if y_predic.shape[1] == y_test.shape[1] and y_test.shape[1] == y_train.shape[1]:\n",
        "    print(\"Distribución correcta\")\n",
        "else:\n",
        "    print(\"Fallo en la distribución\")"
      ],
      "execution_count": 12,
      "outputs": [
        {
          "output_type": "stream",
          "text": [
            "Numero de clases diferenes: 102\n",
            "\n",
            "Training (66.98%)\n",
            "X_train (6127, 128, 128, 3)\n",
            "y_train (6127, 102)\n",
            "\n",
            "Test (22.1%)\n",
            "X_test (2022, 128, 128, 3)\n",
            "y_test (2022, 102)\n",
            "\n",
            "Predict (10.89%)\n",
            "X_predic (996, 128, 128, 3)\n",
            "y_predic (996, 102)\n",
            "\n",
            "Distribución correcta\n"
          ],
          "name": "stdout"
        }
      ]
    },
    {
      "cell_type": "code",
      "metadata": {
        "id": "5q42cnB1LCyS",
        "colab_type": "code",
        "outputId": "956b6017-5bf8-4bce-cbca-e85f338ea896",
        "colab": {
          "base_uri": "https://localhost:8080/",
          "height": 140
        }
      },
      "source": [
        "#Creamos el Set de Entrenamiento y Validación\n",
        "#divido los datos de entrenamiento en dos, un 80% para el entrenamiento y otro 20% para validacion\n",
        "train_X,valid_X,train_label,valid_label = train_test_split(\n",
        "    X_train, y_train, \n",
        "    test_size=0.1, random_state=43)\n",
        "\n",
        "print(\"training\")\n",
        "print(train_X.shape)\n",
        "print(train_label.shape)\n",
        "print()\n",
        "print(\"Valid\")\n",
        "print(valid_X.shape)\n",
        "print(valid_label.shape)"
      ],
      "execution_count": 13,
      "outputs": [
        {
          "output_type": "stream",
          "text": [
            "training\n",
            "(5514, 128, 128, 3)\n",
            "(5514, 102)\n",
            "\n",
            "Valid\n",
            "(613, 128, 128, 3)\n",
            "(613, 102)\n"
          ],
          "name": "stdout"
        }
      ]
    },
    {
      "cell_type": "markdown",
      "metadata": {
        "id": "llpE8UA871kq",
        "colab_type": "text"
      },
      "source": [
        "# Nueva Red Neuronal"
      ]
    },
    {
      "cell_type": "markdown",
      "metadata": {
        "id": "EPOLVRFpOSBW",
        "colab_type": "text"
      },
      "source": [
        "## Red Neuronal"
      ]
    },
    {
      "cell_type": "code",
      "metadata": {
        "id": "n5Puba0QN6nR",
        "colab_type": "code",
        "colab": {}
      },
      "source": [
        "modelExtern = ModeloExterno(nombreModelo=\"wisrovi-nuevoModelo\", rutaBase=BASE_FOLDER)"
      ],
      "execution_count": 0,
      "outputs": []
    },
    {
      "cell_type": "code",
      "metadata": {
        "id": "32aShwOn7QuE",
        "colab_type": "code",
        "outputId": "31794a3f-5276-4aec-de2b-4c1d6de11103",
        "colab": {
          "base_uri": "https://localhost:8080/",
          "height": 389
        }
      },
      "source": [
        "print(\"********** Modelo *********\")\n",
        "\n",
        "new_model = Sequential()\n",
        "new_model.add(\n",
        "    Conv2D(32,\n",
        "           kernel_size=(3, 3),\n",
        "           activation='relu',\n",
        "           padding='same',\n",
        "           input_shape=(128,128,3)\n",
        "           )\n",
        "    )\n",
        "new_model.add(Dense(128, activation='relu'))\n",
        "new_model.add(MaxPooling2D((2, 2),padding='same'))\n",
        "new_model.add(Dropout(0.5))\n",
        "\n",
        "new_model.add(Dense(120, activation='relu'))\n",
        "new_model.add(Dropout(0.25)) #apagar un 25% de manera aleatoria para reducir la cantidad de parametros\n",
        "new_model.add(Dense(64, activation='relu'))\n",
        "new_model.add(Dense(64, activation='relu'))\n",
        "new_model.add(Flatten()) #para aplanar todas las capas\n",
        "new_model.add(Dense(64, activation='relu'))\n",
        "new_model.add(Dense(64, activation='relu'))\n",
        "new_model.add(Dense(87, activation='relu'))\n",
        "new_model.add(Dropout(0.5)) #apagar un 50% de manera aleatoria para reducir la cantidad de parametros\n",
        "new_model.add(Dense(nClasses, activation='softmax')) #Genero la capa final con la cantidad de neuronas segun la cantidad de opciones de clasificacion\n",
        "\n",
        "#new_model.summary()\n",
        "\n",
        "new_model.compile(optimizer='adam',\n",
        "               loss='categorical_crossentropy',\n",
        "               metrics=['accuracy'])\n",
        "\n",
        "modelExtern.GuardarModelo(new_model)"
      ],
      "execution_count": 15,
      "outputs": [
        {
          "output_type": "stream",
          "text": [
            "********** Modelo *********\n",
            "WARNING:tensorflow:From /usr/local/lib/python3.6/dist-packages/keras/backend/tensorflow_backend.py:66: The name tf.get_default_graph is deprecated. Please use tf.compat.v1.get_default_graph instead.\n",
            "\n",
            "WARNING:tensorflow:From /usr/local/lib/python3.6/dist-packages/keras/backend/tensorflow_backend.py:541: The name tf.placeholder is deprecated. Please use tf.compat.v1.placeholder instead.\n",
            "\n",
            "WARNING:tensorflow:From /usr/local/lib/python3.6/dist-packages/keras/backend/tensorflow_backend.py:4432: The name tf.random_uniform is deprecated. Please use tf.random.uniform instead.\n",
            "\n",
            "WARNING:tensorflow:From /usr/local/lib/python3.6/dist-packages/keras/backend/tensorflow_backend.py:4267: The name tf.nn.max_pool is deprecated. Please use tf.nn.max_pool2d instead.\n",
            "\n",
            "WARNING:tensorflow:From /usr/local/lib/python3.6/dist-packages/keras/backend/tensorflow_backend.py:148: The name tf.placeholder_with_default is deprecated. Please use tf.compat.v1.placeholder_with_default instead.\n",
            "\n",
            "WARNING:tensorflow:From /usr/local/lib/python3.6/dist-packages/keras/backend/tensorflow_backend.py:3733: calling dropout (from tensorflow.python.ops.nn_ops) with keep_prob is deprecated and will be removed in a future version.\n",
            "Instructions for updating:\n",
            "Please use `rate` instead of `keep_prob`. Rate should be set to `rate = 1 - keep_prob`.\n",
            "WARNING:tensorflow:From /usr/local/lib/python3.6/dist-packages/keras/optimizers.py:793: The name tf.train.Optimizer is deprecated. Please use tf.compat.v1.train.Optimizer instead.\n",
            "\n",
            "WARNING:tensorflow:From /usr/local/lib/python3.6/dist-packages/keras/backend/tensorflow_backend.py:3576: The name tf.log is deprecated. Please use tf.math.log instead.\n",
            "\n",
            "Modelo guardado!\n"
          ],
          "name": "stdout"
        },
        {
          "output_type": "execute_result",
          "data": {
            "text/plain": [
              "True"
            ]
          },
          "metadata": {
            "tags": []
          },
          "execution_count": 15
        }
      ]
    },
    {
      "cell_type": "markdown",
      "metadata": {
        "id": "llchrJsgXXfH",
        "colab_type": "text"
      },
      "source": [
        "## Entrenar el modelo"
      ]
    },
    {
      "cell_type": "code",
      "metadata": {
        "id": "LIjNMxQL7Qzz",
        "colab_type": "code",
        "outputId": "01bd3241-2034-4d9a-a960-ad04c270ea3b",
        "colab": {
          "base_uri": "https://localhost:8080/",
          "height": 1000
        }
      },
      "source": [
        "#Entreno el modelo\n",
        "numeroEntrenamientos = 30 #Al final de cada entrenamiento guardo los mejores pesos\n",
        "numeroEpocas = 10  #ciclos en los cuales evaluo los datos de entrenamiento para hallar los mejores pesos\n",
        "oldModel = None\n",
        "oldAccuaricy = 0\n",
        "for i in range(numeroEntrenamientos):     \n",
        "    print()   \n",
        "    print()\n",
        "    print(\"Entrenamiento \" + str(i + 1))\n",
        "\n",
        "    history = new_model.fit(\n",
        "        train_X, train_label, \n",
        "        batch_size=64, # cantidad de imágenes que se toman a la vez en memoria\n",
        "        epochs=numeroEpocas, \n",
        "        verbose=1,\n",
        "        validation_data=(valid_X, valid_label),\n",
        "        callbacks=DefineCallback()\n",
        "        )\n",
        "        \n",
        "    plot_history(history)\n",
        "    \n",
        "    test_eval = new_model.evaluate(X_test, y_test, verbose=1)\n",
        "    print('Test loss:', test_eval[0])\n",
        "    print('Test accuracy:', test_eval[1])\n",
        "\n",
        "    if oldAccuaricy < test_eval[1]:\n",
        "        oldAccuaricy = test_eval[1]\n",
        "        modelExtern.GuardarPesosModelo()\n",
        "        oldModel = new_model\n",
        "    else:\n",
        "        new_model = oldModel\n",
        "    print(\"***************\")    \n",
        "    print()"
      ],
      "execution_count": 0,
      "outputs": [
        {
          "output_type": "stream",
          "text": [
            "\n",
            "\n",
            "Entrenamiento 1\n",
            "WARNING:tensorflow:From /usr/local/lib/python3.6/dist-packages/tensorflow_core/python/ops/math_grad.py:1424: where (from tensorflow.python.ops.array_ops) is deprecated and will be removed in a future version.\n",
            "Instructions for updating:\n",
            "Use tf.where in 2.0, which has the same broadcast rule as np.where\n",
            "WARNING:tensorflow:From /usr/local/lib/python3.6/dist-packages/keras/backend/tensorflow_backend.py:1033: The name tf.assign_add is deprecated. Please use tf.compat.v1.assign_add instead.\n",
            "\n",
            "WARNING:tensorflow:From /usr/local/lib/python3.6/dist-packages/keras/backend/tensorflow_backend.py:1020: The name tf.assign is deprecated. Please use tf.compat.v1.assign instead.\n",
            "\n",
            "WARNING:tensorflow:From /usr/local/lib/python3.6/dist-packages/keras/backend/tensorflow_backend.py:3005: The name tf.Session is deprecated. Please use tf.compat.v1.Session instead.\n",
            "\n",
            "Train on 5514 samples, validate on 613 samples\n",
            "Epoch 1/10\n",
            "WARNING:tensorflow:From /usr/local/lib/python3.6/dist-packages/keras/backend/tensorflow_backend.py:190: The name tf.get_default_session is deprecated. Please use tf.compat.v1.get_default_session instead.\n",
            "\n",
            "WARNING:tensorflow:From /usr/local/lib/python3.6/dist-packages/keras/backend/tensorflow_backend.py:197: The name tf.ConfigProto is deprecated. Please use tf.compat.v1.ConfigProto instead.\n",
            "\n",
            "WARNING:tensorflow:From /usr/local/lib/python3.6/dist-packages/keras/backend/tensorflow_backend.py:207: The name tf.global_variables is deprecated. Please use tf.compat.v1.global_variables instead.\n",
            "\n",
            "WARNING:tensorflow:From /usr/local/lib/python3.6/dist-packages/keras/backend/tensorflow_backend.py:216: The name tf.is_variable_initialized is deprecated. Please use tf.compat.v1.is_variable_initialized instead.\n",
            "\n",
            "WARNING:tensorflow:From /usr/local/lib/python3.6/dist-packages/keras/backend/tensorflow_backend.py:223: The name tf.variables_initializer is deprecated. Please use tf.compat.v1.variables_initializer instead.\n",
            "\n",
            "5514/5514 [==============================] - 17s 3ms/step - loss: 4.2469 - acc: 0.1095 - val_loss: 3.5843 - val_acc: 0.2561\n",
            "Epoch 2/10\n",
            "5514/5514 [==============================] - 9s 2ms/step - loss: 3.5145 - acc: 0.2695 - val_loss: 3.1922 - val_acc: 0.3377\n",
            "Epoch 3/10\n",
            "5514/5514 [==============================] - 9s 2ms/step - loss: 3.2200 - acc: 0.3188 - val_loss: 3.0968 - val_acc: 0.3524\n",
            "Epoch 4/10\n",
            "5514/5514 [==============================] - 9s 2ms/step - loss: 3.0473 - acc: 0.3448 - val_loss: 2.9667 - val_acc: 0.3638\n",
            "Epoch 5/10\n",
            "5514/5514 [==============================] - 9s 2ms/step - loss: 2.9047 - acc: 0.3618 - val_loss: 2.8362 - val_acc: 0.3703\n",
            "Epoch 6/10\n",
            "5514/5514 [==============================] - 9s 2ms/step - loss: 2.7726 - acc: 0.3754 - val_loss: 2.8238 - val_acc: 0.3834\n",
            "Epoch 7/10\n",
            "5514/5514 [==============================] - 9s 2ms/step - loss: 2.6671 - acc: 0.3915 - val_loss: 2.7631 - val_acc: 0.3834\n",
            "Epoch 8/10\n",
            "5514/5514 [==============================] - 9s 2ms/step - loss: 2.5563 - acc: 0.4055 - val_loss: 2.6861 - val_acc: 0.3980\n",
            "Epoch 9/10\n",
            "5514/5514 [==============================] - 9s 2ms/step - loss: 2.4044 - acc: 0.4258 - val_loss: 2.6517 - val_acc: 0.3997\n",
            "Epoch 10/10\n",
            "5514/5514 [==============================] - 9s 2ms/step - loss: 2.2756 - acc: 0.4443 - val_loss: 2.6103 - val_acc: 0.4160\n",
            "dict_keys(['val_loss', 'val_acc', 'loss', 'acc', 'lr'])\n"
          ],
          "name": "stdout"
        },
        {
          "output_type": "display_data",
          "data": {
            "image/png": "[encoded data removed]",
            "text/plain": [
              "<Figure size 432x288 with 1 Axes>"
            ]
          },
          "metadata": {
            "tags": []
          }
        },
        {
          "output_type": "stream",
          "text": [
            "2022/2022 [==============================] - 1s 704us/step\n",
            "Test loss: 2.6455393221918366\n",
            "Test accuracy: 0.41196834817012856\n",
            "Pesos Guardados!\n",
            "***************\n",
            "\n",
            "\n",
            "\n",
            "Entrenamiento 2\n",
            "Train on 5514 samples, validate on 613 samples\n",
            "Epoch 1/10\n",
            "5514/5514 [==============================] - 9s 2ms/step - loss: 2.0802 - acc: 0.4764 - val_loss: 2.7749 - val_acc: 0.4127\n",
            "Epoch 2/10\n",
            "5514/5514 [==============================] - 9s 2ms/step - loss: 1.9887 - acc: 0.4926 - val_loss: 2.7088 - val_acc: 0.4078\n",
            "Epoch 3/10\n",
            "5514/5514 [==============================] - 9s 2ms/step - loss: 1.8348 - acc: 0.5272 - val_loss: 2.7750 - val_acc: 0.4111\n",
            "Epoch 4/10\n",
            "5514/5514 [==============================] - 9s 2ms/step - loss: 1.7010 - acc: 0.5466 - val_loss: 2.8323 - val_acc: 0.3915\n",
            "Epoch 5/10\n",
            "5514/5514 [==============================] - 9s 2ms/step - loss: 1.5515 - acc: 0.5753 - val_loss: 2.9929 - val_acc: 0.4176\n",
            "Epoch 6/10\n",
            "5514/5514 [==============================] - 9s 2ms/step - loss: 1.4051 - acc: 0.6181 - val_loss: 3.3546 - val_acc: 0.4144\n",
            "\n",
            "Epoch 00006: ReduceLROnPlateau reducing learning rate to 0.00010000000474974513.\n",
            "Epoch 7/10\n",
            "5514/5514 [==============================] - 9s 2ms/step - loss: 1.1841 - acc: 0.6589 - val_loss: 3.2753 - val_acc: 0.4176\n",
            "Epoch 8/10\n",
            "5514/5514 [==============================] - 9s 2ms/step - loss: 1.0969 - acc: 0.6794 - val_loss: 3.4233 - val_acc: 0.4209\n",
            "Epoch 9/10\n",
            "5514/5514 [==============================] - 9s 2ms/step - loss: 1.0712 - acc: 0.6852 - val_loss: 3.4256 - val_acc: 0.4323\n",
            "Epoch 10/10\n",
            "5514/5514 [==============================] - 9s 2ms/step - loss: 1.0191 - acc: 0.7051 - val_loss: 3.5954 - val_acc: 0.4323\n",
            "\n",
            "Epoch 00010: ReduceLROnPlateau reducing learning rate to 1.0000000474974514e-05.\n",
            "Epoch 00010: early stopping\n",
            "dict_keys(['val_loss', 'val_acc', 'loss', 'acc', 'lr'])\n"
          ],
          "name": "stdout"
        },
        {
          "output_type": "display_data",
          "data": {
            "image/png": "[encoded data removed]",
            "text/plain": [
              "<Figure size 432x288 with 1 Axes>"
            ]
          },
          "metadata": {
            "tags": []
          }
        },
        {
          "output_type": "stream",
          "text": [
            "2022/2022 [==============================] - 1s 676us/step\n",
            "Test loss: 3.605577761294462\n",
            "Test accuracy: 0.4277942631353139\n",
            "Pesos Guardados!\n",
            "***************\n",
            "\n",
            "\n",
            "\n",
            "Entrenamiento 3\n",
            "Train on 5514 samples, validate on 613 samples\n",
            "Epoch 1/10\n",
            "5514/5514 [==============================] - 9s 2ms/step - loss: 0.9758 - acc: 0.7156 - val_loss: 3.5869 - val_acc: 0.4241\n",
            "Epoch 2/10\n",
            "5514/5514 [==============================] - 9s 2ms/step - loss: 0.9856 - acc: 0.7124 - val_loss: 3.5804 - val_acc: 0.4258\n",
            "Epoch 3/10\n",
            "5514/5514 [==============================] - 9s 2ms/step - loss: 0.9582 - acc: 0.7164 - val_loss: 3.5988 - val_acc: 0.4274\n",
            "Epoch 4/10\n",
            "5514/5514 [==============================] - 9s 2ms/step - loss: 0.9597 - acc: 0.7174 - val_loss: 3.6186 - val_acc: 0.4274\n",
            "Epoch 5/10\n",
            "3136/5514 [================>.............] - ETA: 3s - loss: 0.9436 - acc: 0.7223"
          ],
          "name": "stdout"
        }
      ]
    },
    {
      "cell_type": "code",
      "metadata": {
        "id": "l2M6jYjDP0Dw",
        "colab_type": "code",
        "colab": {}
      },
      "source": [
        "#valido el modelo\n",
        "test_eval = new_model.evaluate(X_test, y_test, verbose=1)\n",
        "print('Test loss:', test_eval[0])\n",
        "print('Test accuracy:', test_eval[1])"
      ],
      "execution_count": 0,
      "outputs": []
    },
    {
      "cell_type": "code",
      "metadata": {
        "id": "SMBVJgXmSs6_",
        "colab_type": "code",
        "colab": {}
      },
      "source": [
        "modelExtern.GuardarPesosModelo()"
      ],
      "execution_count": 0,
      "outputs": []
    },
    {
      "cell_type": "markdown",
      "metadata": {
        "id": "afFipdWhTq01",
        "colab_type": "text"
      },
      "source": [
        "## Cargar Modelo Red Neuronal Guardado"
      ]
    },
    {
      "cell_type": "code",
      "metadata": {
        "id": "PBKMoPfRTvNX",
        "colab_type": "code",
        "colab": {}
      },
      "source": [
        "modeloCargado = modelExtern.CargarModeloGuardado(True)"
      ],
      "execution_count": 0,
      "outputs": []
    },
    {
      "cell_type": "code",
      "metadata": {
        "id": "9KKfHbGUU3fZ",
        "colab_type": "code",
        "colab": {}
      },
      "source": [
        "#valido el modelo\n",
        "test_eval = modeloCargado.evaluate(X_predic, y_predic, verbose=1)\n",
        "print('Test loss:', test_eval[0])\n",
        "print('Test accuracy:', test_eval[1])"
      ],
      "execution_count": 0,
      "outputs": []
    },
    {
      "cell_type": "markdown",
      "metadata": {
        "id": "-tAfR_p0LUz-",
        "colab_type": "text"
      },
      "source": [
        "# Reentrenar un modelo de ImageNet"
      ]
    },
    {
      "cell_type": "markdown",
      "metadata": {
        "id": "gDOpf9aWLau3",
        "colab_type": "text"
      },
      "source": [
        "## Cargar Modelo ImageNet"
      ]
    },
    {
      "cell_type": "code",
      "metadata": {
        "id": "fZ43mQRW7Qpt",
        "colab_type": "code",
        "colab": {}
      },
      "source": [
        "# VGG16, VGG19, ResNet50, \n",
        "#Xception, InceptionV3, InceptionResNetV2, \n",
        "#MobileNetV2, DenseNet, RasNet\n",
        "\n",
        "\n",
        "#https://www.learnopencv.com/keras-tutorial-fine-tuning-using-pre-trained-models/\n",
        "\n",
        "from keras.applications import VGG16 \n",
        "conv_base = VGG16(weights='imagenet',\n",
        "                 include_top=False, # Si se deben incluir o no las capas de salida originales del modelo\n",
        "                 input_shape=(128,128,3))\n",
        "\n",
        "congelarTodoModeloImagenet = False\n",
        "if congelarTodoModeloImagenet:\n",
        "  conv_base.trainable = False\n",
        "else:\n",
        "  # Freeze the layers except the last 4 layers\n",
        "  cantidadCapasFinalesDescongelar = 5\n",
        "  for layer in conv_base.layers[:-cantidadCapasFinalesDescongelar]:\n",
        "      layer.trainable = False\n",
        "      pass\n",
        "\n",
        "  # Check the trainable status of the individual layers\n",
        "  for layer in conv_base.layers:\n",
        "      pass\n",
        "      print(layer, layer.trainable)\n",
        "\n",
        "conv_base.summary()"
      ],
      "execution_count": 0,
      "outputs": []
    },
    {
      "cell_type": "markdown",
      "metadata": {
        "id": "Xx926sqBLk0z",
        "colab_type": "text"
      },
      "source": [
        "## Crear nuestro modelo e incluirle el modelo de imageNet"
      ]
    },
    {
      "cell_type": "code",
      "metadata": {
        "id": "tFV7dCp27QnE",
        "colab_type": "code",
        "colab": {}
      },
      "source": [
        "modeloTrasnferenciaConocimiento = ModeloExterno(nombreModelo=\"wisrovi-transferLearning\", rutaBase=BASE_FOLDER)"
      ],
      "execution_count": 0,
      "outputs": []
    },
    {
      "cell_type": "code",
      "metadata": {
        "id": "5soqPRWlDcZ3",
        "colab_type": "code",
        "colab": {}
      },
      "source": [
        "pre_trained_model = models.Sequential()\n",
        "pre_trained_model.add(conv_base)\n",
        "\n",
        "pre_trained_model.add(Dropout(0.25)) #apagar un 25% de manera aleatoria para reducir la cantidad de parametros\n",
        "\n",
        "\n",
        "pre_trained_model.add(\n",
        "    Conv2D(32,\n",
        "           kernel_size=(3, 3),\n",
        "           activation='relu',\n",
        "           padding='same',\n",
        "           input_shape=(128,128,3)\n",
        "           )\n",
        "    )\n",
        "\n",
        "#para aplanar todas las capas\n",
        "#esto se hace debido a que el modelo de VG16 nos da 4 dimensiones de salida, y con esto reducimos las dimensiones a dos: numero datos, numero clases\n",
        "pre_trained_model.add(Flatten()) \n",
        "\n",
        "pre_trained_model.add(Dropout(0.25)) #apagar un 25% de manera aleatoria para reducir la cantidad de parametros\n",
        "\n",
        "# conectarlo a nueva parte densa\n",
        "# Genero la capa final con la cantidad de neuronas segun la cantidad de opciones de clasificacion\n",
        "pre_trained_model.add(Dense(nClasses, activation='softmax')) \n",
        "\n",
        "pre_trained_model.summary()\n",
        "\n",
        "# compilar el modelo\n",
        "pre_trained_model.compile(optimizer='adam',\n",
        "               loss='categorical_crossentropy',\n",
        "               metrics=['accuracy'])\n",
        "\n",
        "modeloTrasnferenciaConocimiento.GuardarModelo(pre_trained_model)"
      ],
      "execution_count": 0,
      "outputs": []
    },
    {
      "cell_type": "markdown",
      "metadata": {
        "id": "6QVfy9R-RleC",
        "colab_type": "text"
      },
      "source": [
        "## Entrenar Modelo Con conocimiento Transferido"
      ]
    },
    {
      "cell_type": "code",
      "metadata": {
        "id": "_EBapwPcQF5E",
        "colab_type": "code",
        "colab": {}
      },
      "source": [
        "#Entreno el modelo\n",
        "\n",
        "#Al final de cada entrenamiento guardo los mejores pesos\n",
        "numeroEntrenamientos = 1\n",
        "\n",
        "#ciclos en los cuales evaluo los datos de entrenamiento para hallar los mejores pesos\n",
        "numeroEpocas = 15\n",
        "\n",
        "#ver datos entrenamiento\n",
        "print(\"Int: \", train_X.shape)\n",
        "print(\"Out: \", train_label.shape)\n",
        "\n",
        "oldModel = None\n",
        "oldAccuaricy = 0\n",
        "for i in range(numeroEntrenamientos):     \n",
        "    print()   \n",
        "    print()\n",
        "    print(\"Entrenamiento \" + str(i + 1))\n",
        "\n",
        "    history = pre_trained_model.fit(\n",
        "        train_X, train_label, \n",
        "        batch_size=64, # cantidad de imágenes que se toman a la vez en memoria\n",
        "        epochs=numeroEpocas,        \n",
        "        verbose=1,\n",
        "        validation_data=(valid_X, valid_label),\n",
        "        callbacks=DefineCallback()\n",
        "        )\n",
        "        \n",
        "    plot_history(history)   \n",
        "\n",
        "    test_eval = pre_trained_model.evaluate(X_test, y_test, verbose=1)\n",
        "    print('Test loss:', test_eval[0])\n",
        "    print('Test accuracy:', test_eval[1])\n",
        "\n",
        "     if oldAccuaricy < test_eval[1]:\n",
        "        oldAccuaricy = test_eval[1]\n",
        "        modeloTrasnferenciaConocimiento.GuardarPesosModelo()\n",
        "        oldModel = pre_trained_model\n",
        "    else:\n",
        "        pre_trained_model = oldModel\n",
        "    print(\"***************\")    \n",
        "    print()"
      ],
      "execution_count": 0,
      "outputs": []
    },
    {
      "cell_type": "code",
      "metadata": {
        "id": "ilio5dT7TYtM",
        "colab_type": "code",
        "colab": {}
      },
      "source": [
        "modeloCargadoTransferenciaConocimiento = modeloTrasnferenciaConocimiento.CargarModeloGuardado(True)"
      ],
      "execution_count": 0,
      "outputs": []
    },
    {
      "cell_type": "code",
      "metadata": {
        "id": "SOLwmbY-TKdq",
        "colab_type": "code",
        "colab": {}
      },
      "source": [
        "#valido el modelo\n",
        "test_eval = modeloCargadoTransferenciaConocimiento.evaluate(X_predic, y_predic, verbose=1)\n",
        "print('Test loss:', test_eval[0])\n",
        "print('Test accuracy:', test_eval[1])"
      ],
      "execution_count": 0,
      "outputs": []
    },
    {
      "cell_type": "code",
      "metadata": {
        "id": "H278QBRSTgC4",
        "colab_type": "code",
        "colab": {}
      },
      "source": [
        ""
      ],
      "execution_count": 0,
      "outputs": []
    },
    {
      "cell_type": "code",
      "metadata": {
        "id": "wbZpgusGTgBe",
        "colab_type": "code",
        "colab": {}
      },
      "source": [
        ""
      ],
      "execution_count": 0,
      "outputs": []
    },
    {
      "cell_type": "code",
      "metadata": {
        "id": "XgKFnEXjTf-A",
        "colab_type": "code",
        "colab": {}
      },
      "source": [
        ""
      ],
      "execution_count": 0,
      "outputs": []
    },
    {
      "cell_type": "code",
      "metadata": {
        "id": "Ff8k9RjVTf7j",
        "colab_type": "code",
        "colab": {}
      },
      "source": [
        ""
      ],
      "execution_count": 0,
      "outputs": []
    },
    {
      "cell_type": "code",
      "metadata": {
        "id": "4BSV4uNvHHdp",
        "colab_type": "code",
        "colab": {}
      },
      "source": [
        ""
      ],
      "execution_count": 0,
      "outputs": []
    },
    {
      "cell_type": "code",
      "metadata": {
        "id": "7XhDjV1HHHYT",
        "colab_type": "code",
        "colab": {}
      },
      "source": [
        "url = 'https://www.aprendemachinelearning.com/clasificacion-de-imagenes-en-python/'"
      ],
      "execution_count": 0,
      "outputs": []
    }
  ]
}