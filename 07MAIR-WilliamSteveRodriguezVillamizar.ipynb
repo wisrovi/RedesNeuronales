{
  "nbformat": 4,
  "nbformat_minor": 0,
  "metadata": {
    "colab": {
      "name": "Te damos la bienvenida a Colaboratory",
      "provenance": [],
      "collapsed_sections": [],
      "machine_shape": "hm",
      "include_colab_link": true
    },
    "kernelspec": {
      "name": "python3",
      "display_name": "Python 3"
    },
    "accelerator": "GPU"
  },
  "cells": [
    {
      "cell_type": "markdown",
      "metadata": {
        "id": "view-in-github",
        "colab_type": "text"
      },
      "source": [
        "<a href=\"https://colab.research.google.com/github/wisrovi/RedesNeuronales/blob/master/07MAIR-WilliamSteveRodriguezVillamizar.ipynb\" target=\"_parent\"><img src=\"https://colab.research.google.com/assets/colab-badge.svg\" alt=\"Open In Colab\"/></a>"
      ]
    },
    {
      "cell_type": "markdown",
      "metadata": {
        "id": "zqqRVNReQKkT",
        "colab_type": "text"
      },
      "source": [
        "# Bibliografia"
      ]
    },
    {
      "cell_type": "code",
      "metadata": {
        "id": "__eVaqBTw3T8",
        "colab_type": "code",
        "colab": {}
      },
      "source": [
        "#urlArchivos = \"https://drive.google.com/drive/folders/1w2w5dAF269C646RBwwU33YLNUG4JRfh9?usp=sharing\""
      ],
      "execution_count": 0,
      "outputs": []
    },
    {
      "cell_type": "code",
      "metadata": {
        "id": "nTrQGtyJQNaE",
        "colab_type": "code",
        "colab": {}
      },
      "source": [
        "#!pip install tensorflow==2.0.0-alpha0"
      ],
      "execution_count": 0,
      "outputs": []
    },
    {
      "cell_type": "code",
      "metadata": {
        "id": "PjFtuL8AMOG-",
        "colab_type": "code",
        "colab": {}
      },
      "source": [
        "#https://github.com/jbagnato/machine-learning\n",
        "#https://www.datacamp.com/community/tutorials/convolutional-neural-networks-python#cnn\n",
        "#https://www.datacamp.com/community/blog/keras-cheat-sheet"
      ],
      "execution_count": 0,
      "outputs": []
    },
    {
      "cell_type": "markdown",
      "metadata": {
        "id": "lMLXo3q98M3S",
        "colab_type": "text"
      },
      "source": [
        "# Importar Librerias"
      ]
    },
    {
      "cell_type": "code",
      "metadata": {
        "id": "8F6gZxIS7Kyp",
        "colab_type": "code",
        "outputId": "bb072710-4514-40d2-b1bf-51e319664650",
        "colab": {
          "base_uri": "https://localhost:8080/",
          "height": 81
        }
      },
      "source": [
        "#importo las librerias que se van a necesitar\n",
        "import pickle\n",
        "import matplotlib.pyplot as plt\n",
        "import numpy as np\n",
        "\n",
        "from keras import models\n",
        "from keras import layers\n",
        "\n",
        "from sklearn.model_selection import train_test_split\n",
        "\n",
        "from keras.utils import to_categorical #para que las salidas queden parametrizadas en binario\n",
        "\n",
        "from sklearn.metrics import classification_report #para ver parametros \n",
        "\n",
        "from keras.applications.inception_v3 import decode_predictions #para ver varios items de prediccion\n",
        "\n",
        "#para autoescalar la imagen al tamaño requerido por la red a reentrenar\n",
        "from keras.applications.inception_v3 import preprocess_input\n",
        "\n",
        "\n",
        "# Para las librerias para la red neuronal\n",
        "from keras.models import Sequential,Model\n",
        "from keras.layers import Dense, Dropout, Flatten\n",
        "from keras.layers import Conv2D, MaxPooling2D"
      ],
      "execution_count": 1,
      "outputs": [
        {
          "output_type": "stream",
          "text": [
            "Using TensorFlow backend.\n"
          ],
          "name": "stderr"
        },
        {
          "output_type": "display_data",
          "data": {
            "text/html": [
              "<p style=\"color: red;\">\n",
              "The default version of TensorFlow in Colab will soon switch to TensorFlow 2.x.<br>\n",
              "We recommend you <a href=\"https://www.tensorflow.org/guide/migrate\" target=\"_blank\">upgrade</a> now \n",
              "or ensure your notebook will continue to use TensorFlow 1.x via the <code>%tensorflow_version 1.x</code> magic:\n",
              "<a href=\"https://colab.research.google.com/notebooks/tensorflow_version.ipynb\" target=\"_blank\">more info</a>.</p>\n"
            ],
            "text/plain": [
              "<IPython.core.display.HTML object>"
            ]
          },
          "metadata": {
            "tags": []
          }
        }
      ]
    },
    {
      "cell_type": "markdown",
      "metadata": {
        "id": "iAiLv5Xp8BBN",
        "colab_type": "text"
      },
      "source": [
        "# Conexion con Google y Drive"
      ]
    },
    {
      "cell_type": "code",
      "metadata": {
        "id": "P_BsT13NeVYg",
        "colab_type": "code",
        "outputId": "ada42387-f089-43f3-d532-722522c2477b",
        "colab": {
          "base_uri": "https://localhost:8080/",
          "height": 125
        }
      },
      "source": [
        "from google.colab import drive\n",
        "drive.mount('/content/gdrive')"
      ],
      "execution_count": 2,
      "outputs": [
        {
          "output_type": "stream",
          "text": [
            "Go to this URL in a browser: https://accounts.google.com/o/oauth2/auth?client_id=947318989803-6bn6qk8qdgf4n4g3pfee6491hc0brc4i.apps.googleusercontent.com&redirect_uri=urn%3Aietf%3Awg%3Aoauth%3A2.0%3Aoob&scope=email%20https%3A%2F%2Fwww.googleapis.com%2Fauth%2Fdocs.test%20https%3A%2F%2Fwww.googleapis.com%2Fauth%2Fdrive%20https%3A%2F%2Fwww.googleapis.com%2Fauth%2Fdrive.photos.readonly%20https%3A%2F%2Fwww.googleapis.com%2Fauth%2Fpeopleapi.readonly&response_type=code\n",
            "\n",
            "Enter your authorization code:\n",
            "··········\n",
            "Mounted at /content/gdrive\n"
          ],
          "name": "stdout"
        }
      ]
    },
    {
      "cell_type": "code",
      "metadata": {
        "id": "XiJJMYSeqTR4",
        "colab_type": "code",
        "colab": {}
      },
      "source": [
        "###################################################################################################\n",
        "BASE_FOLDER = '/content/gdrive/My Drive/Master IA/Redes Neuronales/'\n",
        "###################################################################################################"
      ],
      "execution_count": 0,
      "outputs": []
    },
    {
      "cell_type": "code",
      "metadata": {
        "id": "qbb2hnaUtniZ",
        "colab_type": "code",
        "colab": {}
      },
      "source": [
        "#le indicamos al colaboratory que las importaciones de librerias propias se haran tambien desde el directorio base\n",
        "import sys\n",
        "sys.path.append(BASE_FOLDER)"
      ],
      "execution_count": 0,
      "outputs": []
    },
    {
      "cell_type": "markdown",
      "metadata": {
        "id": "-O_gtPMX8G0L",
        "colab_type": "text"
      },
      "source": [
        "# Importar Librerias propias"
      ]
    },
    {
      "cell_type": "code",
      "metadata": {
        "id": "7fM3bqw1unIk",
        "colab_type": "code",
        "colab": {}
      },
      "source": [
        "from ModeloExterno import ModeloExterno"
      ],
      "execution_count": 0,
      "outputs": []
    },
    {
      "cell_type": "markdown",
      "metadata": {
        "id": "PVmc76dP7v2k",
        "colab_type": "text"
      },
      "source": [
        "# Funciones"
      ]
    },
    {
      "cell_type": "code",
      "metadata": {
        "id": "M9QOVrN_7ejl",
        "colab_type": "code",
        "colab": {}
      },
      "source": [
        "#Algunas funciones utiles\n",
        "def plot_image(img, title=\"\"):\n",
        "    #plt.figure(figsize=(8, 8))\n",
        "    plt.imshow(img)\n",
        "    plt.title(title)\n",
        "    #plt.axis('off')\n",
        "    plt.show()\n",
        "\n",
        "def convertLabelsToNumbers(y_train):\n",
        "    # Transformando las labels de texto a valores numéricos\n",
        "    y = np.unique(y_train)\n",
        "    mapping = { key : value for key,value in zip(y,range(len(y)))}\n",
        "    processed_y = np.array([mapping[i] for i in y_train])\n",
        "    print(len(mapping))\n",
        "    return processed_y\n",
        "\n",
        "def DividirDatos_Train_Test_Predic(x, y, porcentaje=0.33, randomDiv=52):\n",
        "    # dividir los datos entre training, test y predic\n",
        "    X_train, X_test, y_train, y_test = train_test_split(\n",
        "        x_train_all, processed_y, \n",
        "        test_size=porcentaje, \n",
        "        random_state=randomDiv)\n",
        "\n",
        "    X_test, X_predic, y_test, y_predic = train_test_split(\n",
        "        X_test, y_test, \n",
        "        test_size=porcentaje, \n",
        "        random_state=randomDiv)\n",
        "    \n",
        "    #Hacemos el One-hot Encoding\n",
        "    train_Y_one_hot = to_categorical(y_train)\n",
        "    test_Y_one_hot = to_categorical(y_test)\n",
        "    predic_Y_one_hot = to_categorical(y_predic)\n",
        "\n",
        "    return (X_train, train_Y_one_hot), (X_test, test_Y_one_hot), (X_predic, predic_Y_one_hot)\n",
        "\n",
        "def plot_history(history):\n",
        "    # list all data in history\n",
        "    print(history.history.keys())\n",
        "    # summarize history for accuracy\n",
        "\n",
        "    # summarize history for loss\n",
        "    plt.plot(history.history['loss'])\n",
        "    plt.plot(history.history['acc'])\n",
        "    plt.title('model loss')\n",
        "    plt.ylabel('loss')\n",
        "    plt.xlabel('epoch')\n",
        "    plt.legend(['train', 'test'], loc='upper left')\n",
        "    plt.show()\n",
        "\n",
        "def plot_pred(pred):\n",
        "    plt.figure(figsize=(8, 2))\n",
        "    classes = [c[1] for c in pred]\n",
        "    probas = [c[2] for c in pred]\n",
        "    y_pos = np.arange(len(classes))\n",
        "    plt.barh(y_pos, probas, align='center')\n",
        "    plt.yticks(y_pos, classes)\n",
        "    plt.gca().invert_yaxis()\n",
        "    plt.xlabel('Probability')\n",
        "    plt.xlim(0, 1)"
      ],
      "execution_count": 0,
      "outputs": []
    },
    {
      "cell_type": "markdown",
      "metadata": {
        "id": "_43c4mc_8XTF",
        "colab_type": "text"
      },
      "source": [
        "# Importar Dataseet y clases"
      ]
    },
    {
      "cell_type": "code",
      "metadata": {
        "id": "JpNLDp__8daj",
        "colab_type": "code",
        "outputId": "67f658d2-6c18-4e5e-dafc-36a1046ae94c",
        "colab": {
          "base_uri": "https://localhost:8080/",
          "height": 52
        }
      },
      "source": [
        "#Cargo los archivos de clases y las imagenes\n",
        "with open(BASE_FOLDER+\"pickle_all_images_df-002.pickle\", \"rb\") as input_file:\n",
        "    x_train_all = pickle.load(input_file)\n",
        "with open(BASE_FOLDER+\"pickle_all_classes.pickle\", \"rb\") as input_file:\n",
        "    y_train_all = pickle.load(input_file)\n",
        "\n",
        "number_of_classes = len(y_train_all)\n",
        "\n",
        "print(\"Entradas: \",x_train_all.shape)\n",
        "print(\"Salidas: \", number_of_classes)"
      ],
      "execution_count": 8,
      "outputs": [
        {
          "output_type": "stream",
          "text": [
            "Entradas:  (9145, 128, 128, 3)\n",
            "Salidas:  9145\n"
          ],
          "name": "stdout"
        }
      ]
    },
    {
      "cell_type": "code",
      "metadata": {
        "id": "aAxLBVYlPrz2",
        "colab_type": "code",
        "colab": {}
      },
      "source": [
        "#show image\n",
        "#plot_image(x_train_all[imagen])"
      ],
      "execution_count": 0,
      "outputs": []
    },
    {
      "cell_type": "code",
      "metadata": {
        "id": "U8Z9nhlU8oLQ",
        "colab_type": "code",
        "outputId": "e7905828-d8a2-44f1-cfb2-140dc8c35b14",
        "colab": {
          "base_uri": "https://localhost:8080/",
          "height": 34
        }
      },
      "source": [
        "processed_y = convertLabelsToNumbers(y_train_all)"
      ],
      "execution_count": 9,
      "outputs": [
        {
          "output_type": "stream",
          "text": [
            "102\n"
          ],
          "name": "stdout"
        }
      ]
    },
    {
      "cell_type": "code",
      "metadata": {
        "id": "TqHrPX6fPmNA",
        "colab_type": "code",
        "colab": {}
      },
      "source": [
        "imagen = 250\n",
        "#print(processed_y[imagen], y_train_all[imagen])"
      ],
      "execution_count": 0,
      "outputs": []
    },
    {
      "cell_type": "code",
      "metadata": {
        "id": "YEKKoqBN8tU8",
        "colab_type": "code",
        "outputId": "92bf4646-9e2d-4482-a220-16c41962eec2",
        "colab": {
          "base_uri": "https://localhost:8080/",
          "height": 281
        }
      },
      "source": [
        "classes = np.unique(processed_y)\n",
        "nClasses = len(classes)\n",
        "print(\"Numero de clases diferenes:\", nClasses)\n",
        "print()\n",
        "\n",
        "(X_train, y_train), (X_test, y_test), (X_predic, y_predic) = DividirDatos_Train_Test_Predic(x_train_all, processed_y)\n",
        "\n",
        "print(\"Training (66.98%)\") \n",
        "print(\"X_train\", X_train.shape)\n",
        "print(\"y_train\", y_train.shape)\n",
        "print() \n",
        "print(\"Test (22.1%)\") \n",
        "print(\"X_test\", X_test.shape)\n",
        "print(\"y_test\", y_test.shape)\n",
        "print()\n",
        "print(\"Predict (10.89%)\") \n",
        "print(\"X_predic\", X_predic.shape)\n",
        "print(\"y_predic\", y_predic.shape)\n",
        "\n",
        "print()\n",
        "if y_predic.shape[1] == y_test.shape[1] and y_test.shape[1] == y_train.shape[1]:\n",
        "    print(\"Distribución correcta\")\n",
        "else:\n",
        "    print(\"Fallo en la distribución\")"
      ],
      "execution_count": 10,
      "outputs": [
        {
          "output_type": "stream",
          "text": [
            "Numero de clases diferenes: 102\n",
            "\n",
            "Training (66.98%)\n",
            "X_train (6127, 128, 128, 3)\n",
            "y_train (6127, 102)\n",
            "\n",
            "Test (22.1%)\n",
            "X_test (2022, 128, 128, 3)\n",
            "y_test (2022, 102)\n",
            "\n",
            "Predict (10.89%)\n",
            "X_predic (996, 128, 128, 3)\n",
            "y_predic (996, 102)\n",
            "\n",
            "Distribución correcta\n"
          ],
          "name": "stdout"
        }
      ]
    },
    {
      "cell_type": "code",
      "metadata": {
        "id": "5q42cnB1LCyS",
        "colab_type": "code",
        "colab": {
          "base_uri": "https://localhost:8080/",
          "height": 105
        },
        "outputId": "40d8a75c-fad9-414b-f242-8f8e7cf1b5dc"
      },
      "source": [
        "#Creamos el Set de Entrenamiento y Validación\n",
        "#divido los datos de entrenamiento en dos, un 80% para el entrenamiento y otro 20% para validacion\n",
        "train_X,valid_X,train_label,valid_label = train_test_split(\n",
        "    X_train, y_train, \n",
        "    test_size=0.1, random_state=43)\n",
        "\n",
        "print(train_X.shape)\n",
        "print(train_label.shape)\n",
        "print()\n",
        "print(valid_X.shape)\n",
        "print(valid_label.shape)"
      ],
      "execution_count": 11,
      "outputs": [
        {
          "output_type": "stream",
          "text": [
            "(5514, 128, 128, 3)\n",
            "(5514, 102)\n",
            "\n",
            "(613, 128, 128, 3)\n",
            "(613, 102)\n"
          ],
          "name": "stdout"
        }
      ]
    },
    {
      "cell_type": "markdown",
      "metadata": {
        "id": "llpE8UA871kq",
        "colab_type": "text"
      },
      "source": [
        "# Nueva Red Neuronal"
      ]
    },
    {
      "cell_type": "markdown",
      "metadata": {
        "id": "EPOLVRFpOSBW",
        "colab_type": "text"
      },
      "source": [
        "## Red Neuronal"
      ]
    },
    {
      "cell_type": "code",
      "metadata": {
        "id": "n5Puba0QN6nR",
        "colab_type": "code",
        "colab": {}
      },
      "source": [
        "modelExtern = ModeloExterno(nombreModelo=\"wisrovi\", rutaBase=BASE_FOLDER)"
      ],
      "execution_count": 0,
      "outputs": []
    },
    {
      "cell_type": "code",
      "metadata": {
        "id": "32aShwOn7QuE",
        "colab_type": "code",
        "outputId": "a7f3dc7c-e123-4e2e-d3fd-2ec1ad7ad4d8",
        "colab": {
          "base_uri": "https://localhost:8080/",
          "height": 68
        }
      },
      "source": [
        "print(\"********** Modelo *********\")\n",
        "\n",
        "new_model = Sequential()\n",
        "new_model.add(\n",
        "    Conv2D(32,\n",
        "           kernel_size=(3, 3),\n",
        "           activation='relu',\n",
        "           padding='same',\n",
        "           input_shape=(128,128,3)\n",
        "           )\n",
        "    )\n",
        "new_model.add(Dense(128, activation='relu'))\n",
        "new_model.add(MaxPooling2D((2, 2),padding='same'))\n",
        "new_model.add(Dropout(0.5))\n",
        "\n",
        "new_model.add(Dense(120, activation='relu'))\n",
        "new_model.add(Dropout(0.25)) #apagar un 25% de manera aleatoria para reducir la cantidad de parametros\n",
        "new_model.add(Dense(64, activation='relu'))\n",
        "new_model.add(Dense(64, activation='relu'))\n",
        "new_model.add(Flatten()) #para aplanar todas las capas\n",
        "new_model.add(Dense(64, activation='relu'))\n",
        "new_model.add(Dense(64, activation='relu'))\n",
        "new_model.add(Dense(87, activation='relu'))\n",
        "new_model.add(Dropout(0.5)) #apagar un 50% de manera aleatoria para reducir la cantidad de parametros\n",
        "new_model.add(Dense(nClasses, activation='softmax')) #Genero la capa final con la cantidad de neuronas segun la cantidad de opciones de clasificacion\n",
        "\n",
        "#new_model.summary()\n",
        "\n",
        "new_model.compile(optimizer='adam',\n",
        "               loss='categorical_crossentropy',\n",
        "               metrics=['accuracy'])\n",
        "\n",
        "modelExtern.GuardarModelo(new_model)"
      ],
      "execution_count": 0,
      "outputs": [
        {
          "output_type": "stream",
          "text": [
            "********** Modelo *********\n",
            "Modelo guardado!\n"
          ],
          "name": "stdout"
        },
        {
          "output_type": "execute_result",
          "data": {
            "text/plain": [
              "True"
            ]
          },
          "metadata": {
            "tags": []
          },
          "execution_count": 27
        }
      ]
    },
    {
      "cell_type": "markdown",
      "metadata": {
        "id": "llchrJsgXXfH",
        "colab_type": "text"
      },
      "source": [
        "## Entrenar el modelo"
      ]
    },
    {
      "cell_type": "code",
      "metadata": {
        "id": "LIjNMxQL7Qzz",
        "colab_type": "code",
        "outputId": "d8056e61-49e5-44ca-ad4c-1751468de6d9",
        "colab": {
          "base_uri": "https://localhost:8080/",
          "height": 1000
        }
      },
      "source": [
        "#Entreno el modelo\n",
        "\n",
        "#Al final de cada entrenamiento guardo los mejores pesos\n",
        "numeroEntrenamientos = 10 \n",
        "\n",
        "#ciclos en los cuales evaluo los datos de entrenamiento para hallar los mejores pesos\n",
        "numeroEpocas = 25\n",
        "\n",
        "for i in range(numeroEntrenamientos):     \n",
        "    print()   \n",
        "    print()\n",
        "    print(\"Entrenamiento \" + str(i + 1))\n",
        "\n",
        "    history = new_model.fit(\n",
        "        train_X, train_label, \n",
        "        batch_size=64, # cantidad de imágenes que se toman a la vez en memoria\n",
        "        epochs=numeroEpocas, \n",
        "        verbose=1,\n",
        "        validation_data=(valid_X, valid_label)\n",
        "        )\n",
        "        \n",
        "    plot_history(history)\n",
        "    modelExtern.GuardarPesosModelo()\n",
        "    test_eval = new_model.evaluate(X_test, y_test, verbose=1)\n",
        "    print('Test loss:', test_eval[0])\n",
        "    print('Test accuracy:', test_eval[1])\n",
        "    print(\"***************\")    \n",
        "    print()"
      ],
      "execution_count": 0,
      "outputs": [
        {
          "output_type": "stream",
          "text": [
            "\n",
            "\n",
            "Entrenamiento 1\n",
            "Train on 5514 samples, validate on 613 samples\n",
            "Epoch 1/25\n",
            "5514/5514 [==============================] - 9s 2ms/step - loss: 4.3170 - acc: 0.1037 - val_loss: 3.5786 - val_acc: 0.2692\n",
            "Epoch 2/25\n",
            "5514/5514 [==============================] - 8s 2ms/step - loss: 3.6075 - acc: 0.2554 - val_loss: 3.5482 - val_acc: 0.2936\n",
            "Epoch 3/25\n",
            "5514/5514 [==============================] - 8s 2ms/step - loss: 3.3036 - acc: 0.3083 - val_loss: 3.0802 - val_acc: 0.3344\n",
            "Epoch 4/25\n",
            "5514/5514 [==============================] - 8s 2ms/step - loss: 3.1050 - acc: 0.3283 - val_loss: 3.0204 - val_acc: 0.3556\n",
            "Epoch 5/25\n",
            "5514/5514 [==============================] - 8s 2ms/step - loss: 2.9921 - acc: 0.3469 - val_loss: 2.9129 - val_acc: 0.3638\n",
            "Epoch 6/25\n",
            "5514/5514 [==============================] - 8s 2ms/step - loss: 2.8831 - acc: 0.3540 - val_loss: 2.8837 - val_acc: 0.3719\n",
            "Epoch 7/25\n",
            "5514/5514 [==============================] - 8s 2ms/step - loss: 2.7844 - acc: 0.3640 - val_loss: 2.8529 - val_acc: 0.3866\n",
            "Epoch 8/25\n",
            "5514/5514 [==============================] - 8s 2ms/step - loss: 2.6909 - acc: 0.3770 - val_loss: 2.8703 - val_acc: 0.3866\n",
            "Epoch 9/25\n",
            "5514/5514 [==============================] - 8s 2ms/step - loss: 2.6050 - acc: 0.3903 - val_loss: 2.8432 - val_acc: 0.3768\n",
            "Epoch 10/25\n",
            "5514/5514 [==============================] - 8s 2ms/step - loss: 2.4941 - acc: 0.4035 - val_loss: 2.8550 - val_acc: 0.3834\n",
            "Epoch 11/25\n",
            "5514/5514 [==============================] - 8s 2ms/step - loss: 2.4013 - acc: 0.4188 - val_loss: 2.8582 - val_acc: 0.3703\n",
            "Epoch 12/25\n",
            "5514/5514 [==============================] - 8s 2ms/step - loss: 2.3274 - acc: 0.4242 - val_loss: 2.8963 - val_acc: 0.3801\n",
            "Epoch 13/25\n",
            "5514/5514 [==============================] - 8s 2ms/step - loss: 2.2422 - acc: 0.4436 - val_loss: 3.0906 - val_acc: 0.3703\n",
            "Epoch 14/25\n",
            "5514/5514 [==============================] - 8s 2ms/step - loss: 2.1555 - acc: 0.4567 - val_loss: 2.9670 - val_acc: 0.3850\n",
            "Epoch 15/25\n",
            "5514/5514 [==============================] - 8s 2ms/step - loss: 2.0417 - acc: 0.4721 - val_loss: 3.1044 - val_acc: 0.3703\n",
            "Epoch 16/25\n",
            "5514/5514 [==============================] - 8s 2ms/step - loss: 1.9930 - acc: 0.4795 - val_loss: 3.1977 - val_acc: 0.3719\n",
            "Epoch 17/25\n",
            "5514/5514 [==============================] - 8s 2ms/step - loss: 1.8953 - acc: 0.5051 - val_loss: 3.2850 - val_acc: 0.3605\n",
            "Epoch 18/25\n",
            "5514/5514 [==============================] - 8s 2ms/step - loss: 1.8148 - acc: 0.5111 - val_loss: 3.3148 - val_acc: 0.3687\n",
            "Epoch 19/25\n",
            "5514/5514 [==============================] - 8s 2ms/step - loss: 1.7365 - acc: 0.5316 - val_loss: 3.3648 - val_acc: 0.3785\n",
            "Epoch 20/25\n",
            "5514/5514 [==============================] - 8s 2ms/step - loss: 1.6726 - acc: 0.5413 - val_loss: 3.6552 - val_acc: 0.3703\n",
            "Epoch 21/25\n",
            "5514/5514 [==============================] - 8s 2ms/step - loss: 1.6480 - acc: 0.5452 - val_loss: 3.6612 - val_acc: 0.3736\n",
            "Epoch 22/25\n",
            "5514/5514 [==============================] - 8s 2ms/step - loss: 1.5340 - acc: 0.5687 - val_loss: 4.1995 - val_acc: 0.3768\n",
            "Epoch 23/25\n",
            "5514/5514 [==============================] - 8s 2ms/step - loss: 1.4950 - acc: 0.5760 - val_loss: 3.8467 - val_acc: 0.3670\n",
            "Epoch 24/25\n",
            "5514/5514 [==============================] - 8s 2ms/step - loss: 1.4364 - acc: 0.5905 - val_loss: 3.8294 - val_acc: 0.3687\n",
            "Epoch 25/25\n",
            "5514/5514 [==============================] - 8s 2ms/step - loss: 1.3775 - acc: 0.6083 - val_loss: 4.2186 - val_acc: 0.3736\n",
            "dict_keys(['val_loss', 'val_acc', 'loss', 'acc'])\n"
          ],
          "name": "stdout"
        },
        {
          "output_type": "display_data",
          "data": {
            "image/png": "[encoded data removed]",
            "text/plain": [
              "<Figure size 432x288 with 1 Axes>"
            ]
          },
          "metadata": {
            "tags": []
          }
        },
        {
          "output_type": "stream",
          "text": [
            "Pesos Guardados!\n",
            "2022/2022 [==============================] - 1s 581us/step\n",
            "Test loss: 4.191599527051493\n",
            "Test accuracy: 0.3654797230759667\n",
            "***************\n",
            "\n",
            "\n",
            "\n",
            "Entrenamiento 2\n",
            "Train on 5514 samples, validate on 613 samples\n",
            "Epoch 1/25\n",
            "5514/5514 [==============================] - 8s 2ms/step - loss: 1.3338 - acc: 0.6088 - val_loss: 4.5741 - val_acc: 0.3605\n",
            "Epoch 2/25\n",
            "5514/5514 [==============================] - 8s 2ms/step - loss: 1.2550 - acc: 0.6279 - val_loss: 4.5717 - val_acc: 0.3817\n",
            "Epoch 3/25\n",
            "5514/5514 [==============================] - 8s 2ms/step - loss: 1.1980 - acc: 0.6420 - val_loss: 4.8991 - val_acc: 0.3589\n",
            "Epoch 4/25\n",
            "5514/5514 [==============================] - 8s 2ms/step - loss: 1.1872 - acc: 0.6473 - val_loss: 4.8912 - val_acc: 0.3605\n",
            "Epoch 5/25\n",
            "5514/5514 [==============================] - 8s 2ms/step - loss: 1.1546 - acc: 0.6605 - val_loss: 4.9582 - val_acc: 0.3622\n",
            "Epoch 6/25\n",
            "5514/5514 [==============================] - 8s 2ms/step - loss: 1.1341 - acc: 0.6636 - val_loss: 4.8455 - val_acc: 0.3703\n",
            "Epoch 7/25\n",
            "5514/5514 [==============================] - 8s 2ms/step - loss: 1.0743 - acc: 0.6723 - val_loss: 5.2206 - val_acc: 0.3687\n",
            "Epoch 8/25\n",
            "5514/5514 [==============================] - 8s 2ms/step - loss: 1.0678 - acc: 0.6919 - val_loss: 4.8433 - val_acc: 0.3589\n",
            "Epoch 9/25\n",
            "5514/5514 [==============================] - 8s 2ms/step - loss: 1.0229 - acc: 0.6946 - val_loss: 5.3469 - val_acc: 0.3654\n",
            "Epoch 10/25\n",
            "5514/5514 [==============================] - 8s 2ms/step - loss: 0.9686 - acc: 0.7038 - val_loss: 5.6648 - val_acc: 0.3409\n",
            "Epoch 11/25\n",
            "5514/5514 [==============================] - 8s 2ms/step - loss: 1.0045 - acc: 0.7022 - val_loss: 5.4264 - val_acc: 0.3638\n",
            "Epoch 12/25\n",
            "5514/5514 [==============================] - 8s 2ms/step - loss: 0.9532 - acc: 0.7140 - val_loss: 5.7299 - val_acc: 0.3556\n",
            "Epoch 13/25\n",
            "5514/5514 [==============================] - 8s 2ms/step - loss: 0.8542 - acc: 0.7399 - val_loss: 6.1104 - val_acc: 0.3524\n",
            "Epoch 14/25\n",
            "5514/5514 [==============================] - 8s 2ms/step - loss: 0.8739 - acc: 0.7352 - val_loss: 5.6686 - val_acc: 0.3687\n",
            "Epoch 15/25\n",
            "5514/5514 [==============================] - 8s 2ms/step - loss: 0.8466 - acc: 0.7349 - val_loss: 5.9557 - val_acc: 0.3638\n",
            "Epoch 16/25\n",
            "5514/5514 [==============================] - 8s 2ms/step - loss: 0.8325 - acc: 0.7466 - val_loss: 6.1792 - val_acc: 0.3605\n",
            "Epoch 17/25\n",
            "5514/5514 [==============================] - 8s 2ms/step - loss: 0.8274 - acc: 0.7476 - val_loss: 6.4320 - val_acc: 0.3605\n",
            "Epoch 18/25\n",
            "5514/5514 [==============================] - 8s 2ms/step - loss: 0.8238 - acc: 0.7546 - val_loss: 6.1227 - val_acc: 0.3622\n",
            "Epoch 19/25\n",
            "5514/5514 [==============================] - 8s 2ms/step - loss: 0.7915 - acc: 0.7617 - val_loss: 6.2230 - val_acc: 0.3524\n",
            "Epoch 20/25\n",
            "5514/5514 [==============================] - 8s 2ms/step - loss: 0.7660 - acc: 0.7711 - val_loss: 6.4769 - val_acc: 0.3622\n",
            "Epoch 21/25\n",
            "5514/5514 [==============================] - 8s 2ms/step - loss: 0.7509 - acc: 0.7717 - val_loss: 6.4769 - val_acc: 0.3589\n",
            "Epoch 22/25\n",
            "5514/5514 [==============================] - 8s 2ms/step - loss: 0.7442 - acc: 0.7768 - val_loss: 6.2004 - val_acc: 0.3605\n",
            "Epoch 23/25\n",
            "5514/5514 [==============================] - 8s 2ms/step - loss: 0.7611 - acc: 0.7729 - val_loss: 6.2926 - val_acc: 0.3524\n",
            "Epoch 24/25\n",
            "5514/5514 [==============================] - 8s 2ms/step - loss: 0.7208 - acc: 0.7887 - val_loss: 6.3912 - val_acc: 0.3573\n",
            "Epoch 25/25\n",
            "5514/5514 [==============================] - 8s 2ms/step - loss: 0.7085 - acc: 0.7836 - val_loss: 6.3331 - val_acc: 0.3573\n",
            "dict_keys(['val_loss', 'val_acc', 'loss', 'acc'])\n"
          ],
          "name": "stdout"
        },
        {
          "output_type": "display_data",
          "data": {
            "image/png": "[encoded data removed]",
            "text/plain": [
              "<Figure size 432x288 with 1 Axes>"
            ]
          },
          "metadata": {
            "tags": []
          }
        },
        {
          "output_type": "stream",
          "text": [
            "Pesos Guardados!\n",
            "2022/2022 [==============================] - 1s 592us/step\n",
            "Test loss: 6.271547363254838\n",
            "Test accuracy: 0.3506429278237412\n",
            "***************\n",
            "\n",
            "\n",
            "\n",
            "Entrenamiento 3\n",
            "Train on 5514 samples, validate on 613 samples\n",
            "Epoch 1/25\n",
            "5514/5514 [==============================] - 8s 2ms/step - loss: 0.6984 - acc: 0.7904 - val_loss: 6.5906 - val_acc: 0.3638\n",
            "Epoch 2/25\n",
            "5514/5514 [==============================] - 8s 2ms/step - loss: 0.6478 - acc: 0.8000 - val_loss: 6.4997 - val_acc: 0.3605\n",
            "Epoch 3/25\n",
            "5514/5514 [==============================] - 8s 2ms/step - loss: 0.6700 - acc: 0.8020 - val_loss: 6.9343 - val_acc: 0.3622\n",
            "Epoch 4/25\n",
            "5514/5514 [==============================] - 8s 2ms/step - loss: 0.6691 - acc: 0.8000 - val_loss: 6.6719 - val_acc: 0.3670\n",
            "Epoch 5/25\n",
            "5514/5514 [==============================] - 8s 2ms/step - loss: 0.6216 - acc: 0.8099 - val_loss: 6.7934 - val_acc: 0.3507\n",
            "Epoch 6/25\n",
            "5514/5514 [==============================] - 8s 2ms/step - loss: 0.6028 - acc: 0.8215 - val_loss: 6.9545 - val_acc: 0.3524\n",
            "Epoch 7/25\n",
            "5514/5514 [==============================] - 8s 2ms/step - loss: 0.6018 - acc: 0.8165 - val_loss: 6.8049 - val_acc: 0.3589\n",
            "Epoch 8/25\n",
            "5514/5514 [==============================] - 8s 2ms/step - loss: 0.5838 - acc: 0.8205 - val_loss: 7.0549 - val_acc: 0.3507\n",
            "Epoch 9/25\n",
            "5514/5514 [==============================] - 8s 2ms/step - loss: 0.5957 - acc: 0.8210 - val_loss: 6.9457 - val_acc: 0.3638\n",
            "Epoch 10/25\n",
            "5514/5514 [==============================] - 8s 2ms/step - loss: 0.6062 - acc: 0.8235 - val_loss: 6.8029 - val_acc: 0.3475\n",
            "Epoch 11/25\n",
            "5514/5514 [==============================] - 8s 2ms/step - loss: 0.5778 - acc: 0.8141 - val_loss: 6.8091 - val_acc: 0.3344\n",
            "Epoch 12/25\n",
            "5514/5514 [==============================] - 8s 2ms/step - loss: 0.6066 - acc: 0.8170 - val_loss: 7.0965 - val_acc: 0.3540\n",
            "Epoch 13/25\n",
            "5514/5514 [==============================] - 8s 2ms/step - loss: 0.5382 - acc: 0.8351 - val_loss: 7.1269 - val_acc: 0.3475\n",
            "Epoch 14/25\n",
            "5514/5514 [==============================] - 8s 2ms/step - loss: 0.5352 - acc: 0.8361 - val_loss: 7.2429 - val_acc: 0.3605\n",
            "Epoch 15/25\n",
            "5514/5514 [==============================] - 8s 2ms/step - loss: 0.5664 - acc: 0.8339 - val_loss: 6.9750 - val_acc: 0.3605\n",
            "Epoch 16/25\n",
            "5514/5514 [==============================] - 8s 2ms/step - loss: 0.5943 - acc: 0.8196 - val_loss: 7.3237 - val_acc: 0.3458\n",
            "Epoch 17/25\n",
            "5514/5514 [==============================] - 8s 2ms/step - loss: 0.5447 - acc: 0.8297 - val_loss: 7.2638 - val_acc: 0.3458\n",
            "Epoch 18/25\n",
            "5514/5514 [==============================] - 8s 2ms/step - loss: 0.5742 - acc: 0.8277 - val_loss: 7.0245 - val_acc: 0.3458\n",
            "Epoch 19/25\n",
            "5514/5514 [==============================] - 8s 2ms/step - loss: 0.5212 - acc: 0.8513 - val_loss: 7.4899 - val_acc: 0.3524\n",
            "Epoch 20/25\n",
            "5514/5514 [==============================] - 8s 2ms/step - loss: 0.5075 - acc: 0.8484 - val_loss: 7.4750 - val_acc: 0.3622\n",
            "Epoch 21/25\n",
            "5514/5514 [==============================] - 8s 2ms/step - loss: 0.5358 - acc: 0.8362 - val_loss: 7.5480 - val_acc: 0.3507\n",
            "Epoch 22/25\n",
            "5514/5514 [==============================] - 8s 2ms/step - loss: 0.5036 - acc: 0.8480 - val_loss: 7.4412 - val_acc: 0.3605\n",
            "Epoch 23/25\n",
            "5514/5514 [==============================] - 8s 2ms/step - loss: 0.4782 - acc: 0.8540 - val_loss: 7.4481 - val_acc: 0.3540\n",
            "Epoch 24/25\n",
            "5514/5514 [==============================] - 8s 2ms/step - loss: 0.4685 - acc: 0.8585 - val_loss: 7.3995 - val_acc: 0.3670\n",
            "Epoch 25/25\n",
            "5514/5514 [==============================] - 8s 2ms/step - loss: 0.4619 - acc: 0.8567 - val_loss: 7.6115 - val_acc: 0.3491\n",
            "dict_keys(['val_loss', 'val_acc', 'loss', 'acc'])\n"
          ],
          "name": "stdout"
        },
        {
          "output_type": "display_data",
          "data": {
            "image/png": "[encoded data removed]",
            "text/plain": [
              "<Figure size 432x288 with 1 Axes>"
            ]
          },
          "metadata": {
            "tags": []
          }
        },
        {
          "output_type": "stream",
          "text": [
            "Pesos Guardados!\n",
            "2022/2022 [==============================] - 1s 582us/step\n",
            "Test loss: 7.676006161494495\n",
            "Test accuracy: 0.34520276956459184\n",
            "***************\n",
            "\n",
            "\n",
            "\n",
            "Entrenamiento 4\n",
            "Train on 5514 samples, validate on 613 samples\n",
            "Epoch 1/25\n",
            "5514/5514 [==============================] - 8s 2ms/step - loss: 0.4781 - acc: 0.8576 - val_loss: 7.4386 - val_acc: 0.3540\n",
            "Epoch 2/25\n",
            "5514/5514 [==============================] - 8s 2ms/step - loss: 0.4905 - acc: 0.8613 - val_loss: 7.4216 - val_acc: 0.3589\n",
            "Epoch 3/25\n",
            "5514/5514 [==============================] - 8s 2ms/step - loss: 0.4715 - acc: 0.8653 - val_loss: 7.3933 - val_acc: 0.3605\n",
            "Epoch 4/25\n",
            "5514/5514 [==============================] - 8s 2ms/step - loss: 0.4909 - acc: 0.8596 - val_loss: 7.4937 - val_acc: 0.3589\n",
            "Epoch 5/25\n",
            "5514/5514 [==============================] - 8s 2ms/step - loss: 0.4540 - acc: 0.8645 - val_loss: 7.5117 - val_acc: 0.3573\n",
            "Epoch 6/25\n",
            "5514/5514 [==============================] - 8s 2ms/step - loss: 0.4434 - acc: 0.8678 - val_loss: 7.2824 - val_acc: 0.3589\n",
            "Epoch 7/25\n",
            "5514/5514 [==============================] - 8s 2ms/step - loss: 0.4849 - acc: 0.8598 - val_loss: 7.5469 - val_acc: 0.3491\n",
            "Epoch 8/25\n",
            "5514/5514 [==============================] - 8s 2ms/step - loss: 0.4460 - acc: 0.8700 - val_loss: 7.3624 - val_acc: 0.3589\n",
            "Epoch 9/25\n",
            "5514/5514 [==============================] - 8s 2ms/step - loss: 0.4500 - acc: 0.8731 - val_loss: 7.6343 - val_acc: 0.3442\n",
            "Epoch 10/25\n",
            "5514/5514 [==============================] - 8s 2ms/step - loss: 0.5049 - acc: 0.8529 - val_loss: 7.4062 - val_acc: 0.3507\n",
            "Epoch 11/25\n",
            "5514/5514 [==============================] - 8s 2ms/step - loss: 0.4772 - acc: 0.8613 - val_loss: 7.4812 - val_acc: 0.3426\n",
            "Epoch 12/25\n",
            "5514/5514 [==============================] - 8s 2ms/step - loss: 0.4541 - acc: 0.8672 - val_loss: 7.7810 - val_acc: 0.3475\n",
            "Epoch 13/25\n",
            "5514/5514 [==============================] - 8s 2ms/step - loss: 0.4506 - acc: 0.8680 - val_loss: 7.4247 - val_acc: 0.3622\n",
            "Epoch 14/25\n",
            "5514/5514 [==============================] - 8s 2ms/step - loss: 0.4220 - acc: 0.8754 - val_loss: 7.7472 - val_acc: 0.3507\n",
            "Epoch 15/25\n",
            "5514/5514 [==============================] - 8s 2ms/step - loss: 0.3962 - acc: 0.8747 - val_loss: 7.6625 - val_acc: 0.3622\n",
            "Epoch 16/25\n",
            "5514/5514 [==============================] - 8s 2ms/step - loss: 0.4301 - acc: 0.8720 - val_loss: 7.7225 - val_acc: 0.3507\n",
            "Epoch 17/25\n",
            "5514/5514 [==============================] - 8s 2ms/step - loss: 0.4100 - acc: 0.8783 - val_loss: 7.6366 - val_acc: 0.3458\n",
            "Epoch 18/25\n",
            "5514/5514 [==============================] - 8s 2ms/step - loss: 0.3942 - acc: 0.8841 - val_loss: 7.8243 - val_acc: 0.3573\n",
            "Epoch 19/25\n",
            "5514/5514 [==============================] - 8s 2ms/step - loss: 0.3909 - acc: 0.8859 - val_loss: 7.7951 - val_acc: 0.3638\n",
            "Epoch 20/25\n",
            "5514/5514 [==============================] - 8s 2ms/step - loss: 0.3754 - acc: 0.8912 - val_loss: 7.8644 - val_acc: 0.3475\n",
            "Epoch 21/25\n",
            "5514/5514 [==============================] - 8s 2ms/step - loss: 0.3922 - acc: 0.8861 - val_loss: 7.6365 - val_acc: 0.3491\n",
            "Epoch 22/25\n",
            "5514/5514 [==============================] - 8s 2ms/step - loss: 0.4145 - acc: 0.8761 - val_loss: 7.6845 - val_acc: 0.3573\n",
            "Epoch 23/25\n",
            "5514/5514 [==============================] - 8s 2ms/step - loss: 0.4245 - acc: 0.8779 - val_loss: 7.8915 - val_acc: 0.3573\n",
            "Epoch 24/25\n",
            "5514/5514 [==============================] - 8s 2ms/step - loss: 0.3996 - acc: 0.8805 - val_loss: 7.7659 - val_acc: 0.3475\n",
            "Epoch 25/25\n",
            "5514/5514 [==============================] - 8s 2ms/step - loss: 0.4071 - acc: 0.8792 - val_loss: 7.8405 - val_acc: 0.3475\n",
            "dict_keys(['val_loss', 'val_acc', 'loss', 'acc'])\n"
          ],
          "name": "stdout"
        },
        {
          "output_type": "display_data",
          "data": {
            "image/png": "[encoded data removed]",
            "text/plain": [
              "<Figure size 432x288 with 1 Axes>"
            ]
          },
          "metadata": {
            "tags": []
          }
        },
        {
          "output_type": "stream",
          "text": [
            "Pesos Guardados!\n",
            "2022/2022 [==============================] - 1s 590us/step\n",
            "Test loss: 7.802718506368756\n",
            "Test accuracy: 0.34817012861503693\n",
            "***************\n",
            "\n",
            "\n",
            "\n",
            "Entrenamiento 5\n",
            "Train on 5514 samples, validate on 613 samples\n",
            "Epoch 1/25\n",
            "5514/5514 [==============================] - 8s 2ms/step - loss: 0.3862 - acc: 0.8859 - val_loss: 7.7077 - val_acc: 0.3589\n",
            "Epoch 2/25\n",
            "5514/5514 [==============================] - 8s 2ms/step - loss: 0.4071 - acc: 0.8828 - val_loss: 7.6350 - val_acc: 0.3442\n",
            "Epoch 3/25\n",
            "5514/5514 [==============================] - 8s 2ms/step - loss: 0.4161 - acc: 0.8789 - val_loss: 7.7069 - val_acc: 0.3475\n",
            "Epoch 4/25\n",
            "5514/5514 [==============================] - 8s 2ms/step - loss: 0.3817 - acc: 0.8868 - val_loss: 7.9479 - val_acc: 0.3540\n",
            "Epoch 5/25\n",
            "5514/5514 [==============================] - 8s 2ms/step - loss: 0.3885 - acc: 0.8789 - val_loss: 7.7569 - val_acc: 0.3507\n",
            "Epoch 6/25\n",
            "5514/5514 [==============================] - 8s 2ms/step - loss: 0.3491 - acc: 0.8984 - val_loss: 7.9556 - val_acc: 0.3670\n",
            "Epoch 7/25\n",
            "5514/5514 [==============================] - 8s 2ms/step - loss: 0.4006 - acc: 0.8859 - val_loss: 7.6281 - val_acc: 0.3622\n",
            "Epoch 8/25\n",
            "5514/5514 [==============================] - 8s 2ms/step - loss: 0.3774 - acc: 0.8948 - val_loss: 7.8524 - val_acc: 0.3426\n",
            "Epoch 9/25\n",
            "5514/5514 [==============================] - 8s 2ms/step - loss: 0.3931 - acc: 0.8883 - val_loss: 8.1693 - val_acc: 0.3491\n",
            "Epoch 10/25\n",
            "5514/5514 [==============================] - 8s 2ms/step - loss: 0.3696 - acc: 0.8901 - val_loss: 7.8233 - val_acc: 0.3605\n",
            "Epoch 11/25\n",
            "5514/5514 [==============================] - 8s 2ms/step - loss: 0.3643 - acc: 0.8974 - val_loss: 8.0296 - val_acc: 0.3507\n",
            "Epoch 12/25\n",
            "5514/5514 [==============================] - 8s 2ms/step - loss: 0.4115 - acc: 0.8856 - val_loss: 7.7500 - val_acc: 0.3426\n",
            "Epoch 13/25\n",
            "5514/5514 [==============================] - 8s 2ms/step - loss: 0.3984 - acc: 0.8848 - val_loss: 7.9021 - val_acc: 0.3491\n",
            "Epoch 14/25\n",
            "5514/5514 [==============================] - 8s 2ms/step - loss: 0.3480 - acc: 0.8995 - val_loss: 7.9712 - val_acc: 0.3458\n",
            "Epoch 15/25\n",
            "5514/5514 [==============================] - 8s 2ms/step - loss: 0.3573 - acc: 0.8915 - val_loss: 8.0135 - val_acc: 0.3458\n",
            "Epoch 16/25\n",
            "5514/5514 [==============================] - 8s 2ms/step - loss: 0.3788 - acc: 0.8925 - val_loss: 7.8136 - val_acc: 0.3475\n",
            "Epoch 17/25\n",
            "5514/5514 [==============================] - 8s 2ms/step - loss: 0.3402 - acc: 0.8993 - val_loss: 7.9637 - val_acc: 0.3540\n",
            "Epoch 18/25\n",
            "5514/5514 [==============================] - 8s 2ms/step - loss: 0.3408 - acc: 0.8966 - val_loss: 7.7918 - val_acc: 0.3524\n",
            "Epoch 19/25\n",
            "5514/5514 [==============================] - 8s 2ms/step - loss: 0.3684 - acc: 0.8926 - val_loss: 7.8976 - val_acc: 0.3589\n",
            "Epoch 20/25\n",
            "5514/5514 [==============================] - 8s 2ms/step - loss: 0.3606 - acc: 0.8926 - val_loss: 7.8631 - val_acc: 0.3687\n",
            "Epoch 21/25\n",
            "5514/5514 [==============================] - 8s 2ms/step - loss: 0.3812 - acc: 0.8905 - val_loss: 7.9656 - val_acc: 0.3605\n",
            "Epoch 22/25\n",
            "5514/5514 [==============================] - 8s 2ms/step - loss: 0.3483 - acc: 0.8966 - val_loss: 7.8989 - val_acc: 0.3442\n",
            "Epoch 23/25\n",
            "5514/5514 [==============================] - 8s 2ms/step - loss: 0.3595 - acc: 0.8974 - val_loss: 8.0524 - val_acc: 0.3556\n",
            "Epoch 24/25\n",
            "5514/5514 [==============================] - 8s 2ms/step - loss: 0.3349 - acc: 0.9004 - val_loss: 8.2088 - val_acc: 0.3442\n",
            "Epoch 25/25\n",
            "5514/5514 [==============================] - 8s 2ms/step - loss: 0.3326 - acc: 0.9021 - val_loss: 8.1185 - val_acc: 0.3442\n",
            "dict_keys(['val_loss', 'val_acc', 'loss', 'acc'])\n"
          ],
          "name": "stdout"
        },
        {
          "output_type": "display_data",
          "data": {
            "image/png": "[encoded data removed]",
            "text/plain": [
              "<Figure size 432x288 with 1 Axes>"
            ]
          },
          "metadata": {
            "tags": []
          }
        },
        {
          "output_type": "stream",
          "text": [
            "Pesos Guardados!\n",
            "2022/2022 [==============================] - 1s 578us/step\n",
            "Test loss: 8.202442262575959\n",
            "Test accuracy: 0.34520276956459184\n",
            "***************\n",
            "\n",
            "\n",
            "\n",
            "Entrenamiento 6\n",
            "Train on 5514 samples, validate on 613 samples\n",
            "Epoch 1/25\n",
            "5514/5514 [==============================] - 8s 2ms/step - loss: 0.3506 - acc: 0.8950 - val_loss: 7.7823 - val_acc: 0.3556\n",
            "Epoch 2/25\n",
            "5514/5514 [==============================] - 8s 2ms/step - loss: 0.3350 - acc: 0.9006 - val_loss: 8.0022 - val_acc: 0.3524\n",
            "Epoch 3/25\n",
            "5514/5514 [==============================] - 8s 2ms/step - loss: 0.3125 - acc: 0.9077 - val_loss: 8.2633 - val_acc: 0.3556\n",
            "Epoch 4/25\n",
            "5514/5514 [==============================] - 8s 2ms/step - loss: 0.3322 - acc: 0.9022 - val_loss: 8.2615 - val_acc: 0.3605\n",
            "Epoch 5/25\n",
            "5514/5514 [==============================] - 8s 2ms/step - loss: 0.3095 - acc: 0.9131 - val_loss: 8.2484 - val_acc: 0.3491\n",
            "Epoch 6/25\n",
            "5514/5514 [==============================] - 8s 2ms/step - loss: 0.3396 - acc: 0.8997 - val_loss: 8.1610 - val_acc: 0.3377\n",
            "Epoch 7/25\n",
            "5514/5514 [==============================] - 8s 2ms/step - loss: 0.3294 - acc: 0.9077 - val_loss: 8.0853 - val_acc: 0.3670\n",
            "Epoch 8/25\n",
            "5514/5514 [==============================] - 8s 2ms/step - loss: 0.3627 - acc: 0.8975 - val_loss: 7.8047 - val_acc: 0.3573\n",
            "Epoch 9/25\n",
            "5514/5514 [==============================] - 8s 2ms/step - loss: 0.4017 - acc: 0.8872 - val_loss: 8.0991 - val_acc: 0.3703\n",
            "Epoch 10/25\n",
            "5514/5514 [==============================] - 8s 2ms/step - loss: 0.3533 - acc: 0.9030 - val_loss: 7.8242 - val_acc: 0.3622\n",
            "Epoch 11/25\n",
            "5514/5514 [==============================] - 8s 2ms/step - loss: 0.3373 - acc: 0.9035 - val_loss: 7.9266 - val_acc: 0.3622\n",
            "Epoch 12/25\n",
            "5514/5514 [==============================] - 8s 2ms/step - loss: 0.3504 - acc: 0.8977 - val_loss: 8.2256 - val_acc: 0.3622\n",
            "Epoch 13/25\n",
            "5514/5514 [==============================] - 8s 2ms/step - loss: 0.3342 - acc: 0.9066 - val_loss: 7.9808 - val_acc: 0.3475\n",
            "Epoch 14/25\n",
            "5514/5514 [==============================] - 8s 2ms/step - loss: 0.3267 - acc: 0.9095 - val_loss: 8.0818 - val_acc: 0.3524\n",
            "Epoch 15/25\n",
            "5514/5514 [==============================] - 8s 2ms/step - loss: 0.3122 - acc: 0.9066 - val_loss: 8.0359 - val_acc: 0.3638\n",
            "Epoch 16/25\n",
            "5514/5514 [==============================] - 8s 2ms/step - loss: 0.3305 - acc: 0.9039 - val_loss: 8.1826 - val_acc: 0.3638\n",
            "Epoch 17/25\n",
            "5514/5514 [==============================] - 8s 2ms/step - loss: 0.3182 - acc: 0.9122 - val_loss: 8.2106 - val_acc: 0.3475\n",
            "Epoch 18/25\n",
            "5514/5514 [==============================] - 8s 2ms/step - loss: 0.2975 - acc: 0.9140 - val_loss: 8.1082 - val_acc: 0.3736\n",
            "Epoch 19/25\n",
            "5514/5514 [==============================] - 8s 2ms/step - loss: 0.2969 - acc: 0.9142 - val_loss: 8.3114 - val_acc: 0.3573\n",
            "Epoch 20/25\n",
            "5514/5514 [==============================] - 8s 2ms/step - loss: 0.2998 - acc: 0.9153 - val_loss: 8.3219 - val_acc: 0.3622\n",
            "Epoch 21/25\n",
            "5514/5514 [==============================] - 8s 1ms/step - loss: 0.3411 - acc: 0.9059 - val_loss: 8.3397 - val_acc: 0.3442\n",
            "Epoch 22/25\n",
            "5514/5514 [==============================] - 8s 2ms/step - loss: 0.3321 - acc: 0.9015 - val_loss: 8.0755 - val_acc: 0.3703\n",
            "Epoch 23/25\n",
            "5514/5514 [==============================] - 8s 2ms/step - loss: 0.3051 - acc: 0.9135 - val_loss: 8.0980 - val_acc: 0.3491\n",
            "Epoch 24/25\n",
            "5514/5514 [==============================] - 8s 2ms/step - loss: 0.3007 - acc: 0.9149 - val_loss: 8.3850 - val_acc: 0.3556\n",
            "Epoch 25/25\n",
            "5514/5514 [==============================] - 8s 2ms/step - loss: 0.3199 - acc: 0.9079 - val_loss: 8.3307 - val_acc: 0.3491\n",
            "dict_keys(['val_loss', 'val_acc', 'loss', 'acc'])\n"
          ],
          "name": "stdout"
        },
        {
          "output_type": "display_data",
          "data": {
            "image/png": "[encoded data removed]",
            "text/plain": [
              "<Figure size 432x288 with 1 Axes>"
            ]
          },
          "metadata": {
            "tags": []
          }
        },
        {
          "output_type": "stream",
          "text": [
            "Pesos Guardados!\n",
            "2022/2022 [==============================] - 1s 565us/step\n",
            "Test loss: 8.366340355160919\n",
            "Test accuracy: 0.34520276956459184\n",
            "***************\n",
            "\n",
            "\n",
            "\n",
            "Entrenamiento 7\n",
            "Train on 5514 samples, validate on 613 samples\n",
            "Epoch 1/25\n",
            "5514/5514 [==============================] - 8s 2ms/step - loss: 0.2929 - acc: 0.9175 - val_loss: 8.3523 - val_acc: 0.3573\n",
            "Epoch 2/25\n",
            "5514/5514 [==============================] - 8s 2ms/step - loss: 0.2906 - acc: 0.9139 - val_loss: 8.2971 - val_acc: 0.3524\n",
            "Epoch 3/25\n",
            "5514/5514 [==============================] - 8s 2ms/step - loss: 0.3229 - acc: 0.9088 - val_loss: 8.2632 - val_acc: 0.3507\n",
            "Epoch 4/25\n",
            "5514/5514 [==============================] - 8s 2ms/step - loss: 0.3002 - acc: 0.9155 - val_loss: 8.2338 - val_acc: 0.3524\n",
            "Epoch 5/25\n",
            "5514/5514 [==============================] - 8s 2ms/step - loss: 0.3141 - acc: 0.9126 - val_loss: 8.1412 - val_acc: 0.3638\n",
            "Epoch 6/25\n",
            "5514/5514 [==============================] - 8s 2ms/step - loss: 0.3018 - acc: 0.9113 - val_loss: 8.3716 - val_acc: 0.3458\n",
            "Epoch 7/25\n",
            "5514/5514 [==============================] - 8s 2ms/step - loss: 0.2952 - acc: 0.9155 - val_loss: 8.1293 - val_acc: 0.3638\n",
            "Epoch 8/25\n",
            "5514/5514 [==============================] - 8s 1ms/step - loss: 0.3214 - acc: 0.9071 - val_loss: 8.2988 - val_acc: 0.3605\n",
            "Epoch 9/25\n",
            "5514/5514 [==============================] - 8s 1ms/step - loss: 0.2816 - acc: 0.9189 - val_loss: 8.3933 - val_acc: 0.3442\n",
            "Epoch 10/25\n",
            "5514/5514 [==============================] - 8s 2ms/step - loss: 0.3194 - acc: 0.9099 - val_loss: 8.0677 - val_acc: 0.3491\n",
            "Epoch 11/25\n",
            "5514/5514 [==============================] - 8s 1ms/step - loss: 0.2887 - acc: 0.9189 - val_loss: 8.1334 - val_acc: 0.3622\n",
            "Epoch 12/25\n",
            "5514/5514 [==============================] - 8s 1ms/step - loss: 0.3058 - acc: 0.9188 - val_loss: 8.2999 - val_acc: 0.3589\n",
            "Epoch 13/25\n",
            "5514/5514 [==============================] - 8s 1ms/step - loss: 0.2846 - acc: 0.9220 - val_loss: 8.0848 - val_acc: 0.3524\n",
            "Epoch 14/25\n",
            "5514/5514 [==============================] - 8s 2ms/step - loss: 0.2732 - acc: 0.9209 - val_loss: 8.0852 - val_acc: 0.3540\n",
            "Epoch 15/25\n",
            "5514/5514 [==============================] - 8s 2ms/step - loss: 0.3114 - acc: 0.9081 - val_loss: 8.4370 - val_acc: 0.3589\n",
            "Epoch 16/25\n",
            "5514/5514 [==============================] - 8s 2ms/step - loss: 0.2606 - acc: 0.9246 - val_loss: 8.3980 - val_acc: 0.3540\n",
            "Epoch 17/25\n",
            "5514/5514 [==============================] - 8s 2ms/step - loss: 0.2670 - acc: 0.9229 - val_loss: 8.2881 - val_acc: 0.3458\n",
            "Epoch 18/25\n",
            "5514/5514 [==============================] - 8s 2ms/step - loss: 0.2592 - acc: 0.9304 - val_loss: 8.2452 - val_acc: 0.3573\n",
            "Epoch 19/25\n",
            "5514/5514 [==============================] - 8s 1ms/step - loss: 0.2384 - acc: 0.9280 - val_loss: 8.3107 - val_acc: 0.3507\n",
            "Epoch 20/25\n",
            "5514/5514 [==============================] - 8s 2ms/step - loss: 0.2872 - acc: 0.9177 - val_loss: 8.1493 - val_acc: 0.3622\n",
            "Epoch 21/25\n",
            "5514/5514 [==============================] - 8s 2ms/step - loss: 0.3139 - acc: 0.9153 - val_loss: 8.2615 - val_acc: 0.3475\n",
            "Epoch 22/25\n",
            "5514/5514 [==============================] - 8s 2ms/step - loss: 0.2885 - acc: 0.9206 - val_loss: 8.2524 - val_acc: 0.3540\n",
            "Epoch 23/25\n",
            "5514/5514 [==============================] - 8s 2ms/step - loss: 0.2767 - acc: 0.9211 - val_loss: 8.2864 - val_acc: 0.3589\n",
            "Epoch 24/25\n",
            "5514/5514 [==============================] - 8s 2ms/step - loss: 0.2715 - acc: 0.9217 - val_loss: 8.3466 - val_acc: 0.3524\n",
            "Epoch 25/25\n",
            "5514/5514 [==============================] - 8s 2ms/step - loss: 0.2753 - acc: 0.9244 - val_loss: 8.4853 - val_acc: 0.3507\n",
            "dict_keys(['val_loss', 'val_acc', 'loss', 'acc'])\n"
          ],
          "name": "stdout"
        },
        {
          "output_type": "display_data",
          "data": {
            "image/png": "[encoded data removed]",
            "text/plain": [
              "<Figure size 432x288 with 1 Axes>"
            ]
          },
          "metadata": {
            "tags": []
          }
        },
        {
          "output_type": "stream",
          "text": [
            "Pesos Guardados!\n",
            "2022/2022 [==============================] - 1s 586us/step\n",
            "Test loss: 8.486599907087408\n",
            "Test accuracy: 0.35014836798200033\n",
            "***************\n",
            "\n",
            "\n",
            "\n",
            "Entrenamiento 8\n",
            "Train on 5514 samples, validate on 613 samples\n",
            "Epoch 1/25\n",
            "5514/5514 [==============================] - 8s 2ms/step - loss: 0.2764 - acc: 0.9267 - val_loss: 8.4111 - val_acc: 0.3540\n",
            "Epoch 2/25\n",
            "5514/5514 [==============================] - 8s 2ms/step - loss: 0.2757 - acc: 0.9253 - val_loss: 8.4860 - val_acc: 0.3540\n",
            "Epoch 3/25\n",
            "5514/5514 [==============================] - 8s 1ms/step - loss: 0.2842 - acc: 0.9222 - val_loss: 8.3501 - val_acc: 0.3589\n",
            "Epoch 4/25\n",
            "5514/5514 [==============================] - 8s 2ms/step - loss: 0.2967 - acc: 0.9211 - val_loss: 8.0969 - val_acc: 0.3475\n",
            "Epoch 5/25\n",
            "5514/5514 [==============================] - 8s 1ms/step - loss: 0.3129 - acc: 0.9135 - val_loss: 8.2850 - val_acc: 0.3605\n",
            "Epoch 6/25\n",
            "5514/5514 [==============================] - 8s 2ms/step - loss: 0.2667 - acc: 0.9224 - val_loss: 8.3122 - val_acc: 0.3491\n",
            "Epoch 7/25\n",
            "5514/5514 [==============================] - 8s 2ms/step - loss: 0.2517 - acc: 0.9305 - val_loss: 8.3159 - val_acc: 0.3426\n",
            "Epoch 8/25\n",
            "5514/5514 [==============================] - 8s 1ms/step - loss: 0.2869 - acc: 0.9217 - val_loss: 8.4201 - val_acc: 0.3556\n",
            "Epoch 9/25\n",
            "5514/5514 [==============================] - 8s 2ms/step - loss: 0.3158 - acc: 0.9129 - val_loss: 8.2942 - val_acc: 0.3556\n",
            "Epoch 10/25\n",
            "5514/5514 [==============================] - 8s 2ms/step - loss: 0.2877 - acc: 0.9211 - val_loss: 8.6335 - val_acc: 0.3540\n",
            "Epoch 11/25\n",
            "5514/5514 [==============================] - 8s 2ms/step - loss: 0.2736 - acc: 0.9287 - val_loss: 8.4397 - val_acc: 0.3524\n",
            "Epoch 12/25\n",
            "5514/5514 [==============================] - 8s 1ms/step - loss: 0.2985 - acc: 0.9220 - val_loss: 8.3569 - val_acc: 0.3426\n",
            "Epoch 13/25\n",
            "5514/5514 [==============================] - 8s 2ms/step - loss: 0.2657 - acc: 0.9314 - val_loss: 8.2268 - val_acc: 0.3573\n",
            "Epoch 14/25\n",
            "5514/5514 [==============================] - 8s 2ms/step - loss: 0.2785 - acc: 0.9251 - val_loss: 8.4266 - val_acc: 0.3540\n",
            "Epoch 15/25\n",
            "5514/5514 [==============================] - 8s 1ms/step - loss: 0.2740 - acc: 0.9266 - val_loss: 8.3236 - val_acc: 0.3719\n",
            "Epoch 16/25\n",
            "5514/5514 [==============================] - 8s 1ms/step - loss: 0.2647 - acc: 0.9260 - val_loss: 8.4427 - val_acc: 0.3622\n",
            "Epoch 17/25\n",
            "5514/5514 [==============================] - 8s 1ms/step - loss: 0.2766 - acc: 0.9220 - val_loss: 8.4227 - val_acc: 0.3442\n",
            "Epoch 18/25\n",
            "5514/5514 [==============================] - 8s 1ms/step - loss: 0.2428 - acc: 0.9324 - val_loss: 8.5229 - val_acc: 0.3687\n",
            "Epoch 19/25\n",
            "5514/5514 [==============================] - 8s 2ms/step - loss: 0.2433 - acc: 0.9338 - val_loss: 8.5002 - val_acc: 0.3622\n",
            "Epoch 20/25\n",
            "5514/5514 [==============================] - 8s 2ms/step - loss: 0.2255 - acc: 0.9351 - val_loss: 8.4154 - val_acc: 0.3589\n",
            "Epoch 21/25\n",
            "5514/5514 [==============================] - 8s 2ms/step - loss: 0.2462 - acc: 0.9284 - val_loss: 8.7578 - val_acc: 0.3491\n",
            "Epoch 22/25\n",
            "5514/5514 [==============================] - 8s 2ms/step - loss: 0.2546 - acc: 0.9275 - val_loss: 8.3098 - val_acc: 0.3687\n",
            "Epoch 23/25\n",
            "5514/5514 [==============================] - 8s 2ms/step - loss: 0.2585 - acc: 0.9298 - val_loss: 8.3498 - val_acc: 0.3524\n",
            "Epoch 24/25\n",
            "5514/5514 [==============================] - 8s 2ms/step - loss: 0.2471 - acc: 0.9362 - val_loss: 8.4895 - val_acc: 0.3540\n",
            "Epoch 25/25\n",
            "5514/5514 [==============================] - 8s 1ms/step - loss: 0.2429 - acc: 0.9322 - val_loss: 8.4467 - val_acc: 0.3556\n",
            "dict_keys(['val_loss', 'val_acc', 'loss', 'acc'])\n"
          ],
          "name": "stdout"
        },
        {
          "output_type": "display_data",
          "data": {
            "image/png": "[encoded data removed]",
            "text/plain": [
              "<Figure size 432x288 with 1 Axes>"
            ]
          },
          "metadata": {
            "tags": []
          }
        },
        {
          "output_type": "stream",
          "text": [
            "Pesos Guardados!\n",
            "2022/2022 [==============================] - 1s 581us/step\n",
            "Test loss: 8.703058077720694\n",
            "Test accuracy: 0.344708209722851\n",
            "***************\n",
            "\n",
            "\n",
            "\n",
            "Entrenamiento 9\n",
            "Train on 5514 samples, validate on 613 samples\n",
            "Epoch 1/25\n",
            "5514/5514 [==============================] - 8s 2ms/step - loss: 0.2536 - acc: 0.9325 - val_loss: 8.4877 - val_acc: 0.3524\n",
            "Epoch 2/25\n",
            "5514/5514 [==============================] - 8s 2ms/step - loss: 0.2664 - acc: 0.9240 - val_loss: 8.3657 - val_acc: 0.3556\n",
            "Epoch 3/25\n",
            "5514/5514 [==============================] - 8s 1ms/step - loss: 0.2641 - acc: 0.9271 - val_loss: 8.4258 - val_acc: 0.3605\n",
            "Epoch 4/25\n",
            "5514/5514 [==============================] - 8s 2ms/step - loss: 0.2398 - acc: 0.9325 - val_loss: 8.5365 - val_acc: 0.3540\n",
            "Epoch 5/25\n",
            "5514/5514 [==============================] - 8s 2ms/step - loss: 0.2292 - acc: 0.9373 - val_loss: 8.5610 - val_acc: 0.3638\n",
            "Epoch 6/25\n",
            "5514/5514 [==============================] - 8s 1ms/step - loss: 0.2264 - acc: 0.9345 - val_loss: 8.2636 - val_acc: 0.3377\n",
            "Epoch 7/25\n",
            "5514/5514 [==============================] - 8s 2ms/step - loss: 0.2536 - acc: 0.9275 - val_loss: 8.4396 - val_acc: 0.3556\n",
            "Epoch 8/25\n",
            "5514/5514 [==============================] - 8s 2ms/step - loss: 0.2281 - acc: 0.9334 - val_loss: 8.5682 - val_acc: 0.3622\n",
            "Epoch 9/25\n",
            "5514/5514 [==============================] - 8s 2ms/step - loss: 0.2393 - acc: 0.9307 - val_loss: 8.5319 - val_acc: 0.3573\n",
            "Epoch 10/25\n",
            "5514/5514 [==============================] - 8s 2ms/step - loss: 0.2783 - acc: 0.9242 - val_loss: 8.2897 - val_acc: 0.3638\n",
            "Epoch 11/25\n",
            "5514/5514 [==============================] - 8s 1ms/step - loss: 0.2573 - acc: 0.9282 - val_loss: 8.3286 - val_acc: 0.3442\n",
            "Epoch 12/25\n",
            "5514/5514 [==============================] - 8s 2ms/step - loss: 0.2581 - acc: 0.9309 - val_loss: 8.2890 - val_acc: 0.3638\n",
            "Epoch 13/25\n",
            "5514/5514 [==============================] - 8s 2ms/step - loss: 0.2345 - acc: 0.9322 - val_loss: 8.4523 - val_acc: 0.3491\n",
            "Epoch 14/25\n",
            "5514/5514 [==============================] - 8s 2ms/step - loss: 0.2224 - acc: 0.9369 - val_loss: 8.4619 - val_acc: 0.3589\n",
            "Epoch 15/25\n",
            "5514/5514 [==============================] - 8s 2ms/step - loss: 0.2412 - acc: 0.9304 - val_loss: 8.7585 - val_acc: 0.3458\n",
            "Epoch 16/25\n",
            "5514/5514 [==============================] - 8s 1ms/step - loss: 0.2656 - acc: 0.9325 - val_loss: 8.4400 - val_acc: 0.3605\n",
            "Epoch 17/25\n",
            "5514/5514 [==============================] - 8s 1ms/step - loss: 0.2190 - acc: 0.9398 - val_loss: 8.4833 - val_acc: 0.3507\n",
            "Epoch 18/25\n",
            "5514/5514 [==============================] - 8s 2ms/step - loss: 0.1983 - acc: 0.9443 - val_loss: 8.4416 - val_acc: 0.3458\n",
            "Epoch 19/25\n",
            "5514/5514 [==============================] - 8s 1ms/step - loss: 0.2569 - acc: 0.9278 - val_loss: 8.6793 - val_acc: 0.3475\n",
            "Epoch 20/25\n",
            "5514/5514 [==============================] - 8s 2ms/step - loss: 0.2251 - acc: 0.9383 - val_loss: 8.5391 - val_acc: 0.3687\n",
            "Epoch 21/25\n",
            "5514/5514 [==============================] - 8s 2ms/step - loss: 0.2254 - acc: 0.9383 - val_loss: 8.5568 - val_acc: 0.3507\n",
            "Epoch 22/25\n",
            "5514/5514 [==============================] - 8s 1ms/step - loss: 0.2301 - acc: 0.9363 - val_loss: 8.7344 - val_acc: 0.3491\n",
            "Epoch 23/25\n",
            "5514/5514 [==============================] - 8s 2ms/step - loss: 0.2394 - acc: 0.9340 - val_loss: 8.5321 - val_acc: 0.3573\n",
            "Epoch 24/25\n",
            "5514/5514 [==============================] - 8s 2ms/step - loss: 0.2516 - acc: 0.9320 - val_loss: 8.4597 - val_acc: 0.3573\n",
            "Epoch 25/25\n",
            "5514/5514 [==============================] - 8s 2ms/step - loss: 0.3814 - acc: 0.8988 - val_loss: 8.2470 - val_acc: 0.3638\n",
            "dict_keys(['val_loss', 'val_acc', 'loss', 'acc'])\n"
          ],
          "name": "stdout"
        },
        {
          "output_type": "display_data",
          "data": {
            "image/png": "[encoded data removed]",
            "text/plain": [
              "<Figure size 432x288 with 1 Axes>"
            ]
          },
          "metadata": {
            "tags": []
          }
        },
        {
          "output_type": "stream",
          "text": [
            "Pesos Guardados!\n",
            "2022/2022 [==============================] - 1s 605us/step\n",
            "Test loss: 8.333050862735858\n",
            "Test accuracy: 0.3476755687732961\n",
            "***************\n",
            "\n",
            "\n",
            "\n",
            "Entrenamiento 10\n",
            "Train on 5514 samples, validate on 613 samples\n",
            "Epoch 1/25\n",
            "5514/5514 [==============================] - 8s 2ms/step - loss: 0.2750 - acc: 0.9258 - val_loss: 8.3343 - val_acc: 0.3719\n",
            "Epoch 2/25\n",
            "5514/5514 [==============================] - 8s 2ms/step - loss: 0.2348 - acc: 0.9347 - val_loss: 8.2139 - val_acc: 0.3573\n",
            "Epoch 3/25\n",
            "5514/5514 [==============================] - 8s 2ms/step - loss: 0.2124 - acc: 0.9382 - val_loss: 8.5015 - val_acc: 0.3475\n",
            "Epoch 4/25\n",
            "5514/5514 [==============================] - 8s 2ms/step - loss: 0.2097 - acc: 0.9407 - val_loss: 8.4643 - val_acc: 0.3622\n",
            "Epoch 5/25\n",
            "5514/5514 [==============================] - 8s 1ms/step - loss: 0.1924 - acc: 0.9431 - val_loss: 8.6533 - val_acc: 0.3409\n",
            "Epoch 6/25\n",
            "5514/5514 [==============================] - 8s 1ms/step - loss: 0.1969 - acc: 0.9418 - val_loss: 8.8059 - val_acc: 0.3605\n",
            "Epoch 7/25\n",
            "5514/5514 [==============================] - 8s 2ms/step - loss: 0.2107 - acc: 0.9402 - val_loss: 8.6043 - val_acc: 0.3524\n",
            "Epoch 8/25\n",
            "5514/5514 [==============================] - 8s 1ms/step - loss: 0.2083 - acc: 0.9382 - val_loss: 8.5549 - val_acc: 0.3622\n",
            "Epoch 9/25\n",
            "5514/5514 [==============================] - 8s 2ms/step - loss: 0.1976 - acc: 0.9460 - val_loss: 8.6600 - val_acc: 0.3458\n",
            "Epoch 10/25\n",
            "5514/5514 [==============================] - 8s 2ms/step - loss: 0.2152 - acc: 0.9382 - val_loss: 8.5207 - val_acc: 0.3622\n",
            "Epoch 11/25\n",
            "5514/5514 [==============================] - 8s 1ms/step - loss: 0.2031 - acc: 0.9389 - val_loss: 8.6492 - val_acc: 0.3556\n",
            "Epoch 12/25\n",
            "5514/5514 [==============================] - 8s 2ms/step - loss: 0.1954 - acc: 0.9436 - val_loss: 8.3243 - val_acc: 0.3719\n",
            "Epoch 13/25\n",
            "5514/5514 [==============================] - 8s 2ms/step - loss: 0.2005 - acc: 0.9467 - val_loss: 8.9161 - val_acc: 0.3426\n",
            "Epoch 14/25\n",
            "5514/5514 [==============================] - 8s 2ms/step - loss: 0.2038 - acc: 0.9490 - val_loss: 8.7682 - val_acc: 0.3507\n",
            "Epoch 15/25\n",
            "5514/5514 [==============================] - 8s 2ms/step - loss: 0.2253 - acc: 0.9373 - val_loss: 8.6466 - val_acc: 0.3605\n",
            "Epoch 16/25\n",
            "5514/5514 [==============================] - 8s 2ms/step - loss: 0.2267 - acc: 0.9418 - val_loss: 8.7686 - val_acc: 0.3605\n",
            "Epoch 17/25\n",
            "5514/5514 [==============================] - 8s 2ms/step - loss: 0.2274 - acc: 0.9416 - val_loss: 8.6638 - val_acc: 0.3622\n",
            "Epoch 18/25\n",
            "5514/5514 [==============================] - 8s 2ms/step - loss: 0.2422 - acc: 0.9365 - val_loss: 8.4820 - val_acc: 0.3622\n",
            "Epoch 19/25\n",
            "5514/5514 [==============================] - 8s 2ms/step - loss: 0.2218 - acc: 0.9383 - val_loss: 8.5085 - val_acc: 0.3752\n",
            "Epoch 20/25\n",
            "5514/5514 [==============================] - 8s 2ms/step - loss: 0.2179 - acc: 0.9376 - val_loss: 8.5137 - val_acc: 0.3654\n",
            "Epoch 21/25\n",
            "5514/5514 [==============================] - 8s 2ms/step - loss: 0.2041 - acc: 0.9425 - val_loss: 8.7243 - val_acc: 0.3475\n",
            "Epoch 22/25\n",
            "5514/5514 [==============================] - 8s 1ms/step - loss: 0.2081 - acc: 0.9362 - val_loss: 8.4950 - val_acc: 0.3442\n",
            "Epoch 23/25\n",
            "5514/5514 [==============================] - 8s 1ms/step - loss: 0.2420 - acc: 0.9336 - val_loss: 8.6190 - val_acc: 0.3524\n",
            "Epoch 24/25\n",
            "5514/5514 [==============================] - 8s 2ms/step - loss: 0.2461 - acc: 0.9320 - val_loss: 8.4130 - val_acc: 0.3491\n",
            "Epoch 25/25\n",
            "5514/5514 [==============================] - 8s 2ms/step - loss: 0.2200 - acc: 0.9376 - val_loss: 8.7423 - val_acc: 0.3458\n",
            "dict_keys(['val_loss', 'val_acc', 'loss', 'acc'])\n"
          ],
          "name": "stdout"
        },
        {
          "output_type": "display_data",
          "data": {
            "image/png": "[encoded data removed]",
            "text/plain": [
              "<Figure size 432x288 with 1 Axes>"
            ]
          },
          "metadata": {
            "tags": []
          }
        },
        {
          "output_type": "stream",
          "text": [
            "Pesos Guardados!\n",
            "2022/2022 [==============================] - 1s 586us/step\n",
            "Test loss: 8.845816824485711\n",
            "Test accuracy: 0.35014836795252224\n",
            "***************\n",
            "\n"
          ],
          "name": "stdout"
        }
      ]
    },
    {
      "cell_type": "code",
      "metadata": {
        "id": "l2M6jYjDP0Dw",
        "colab_type": "code",
        "outputId": "a017bb44-36d5-49b8-9fe5-d1a92d6f0f3a",
        "colab": {
          "base_uri": "https://localhost:8080/",
          "height": 68
        }
      },
      "source": [
        "#valido el modelo\n",
        "test_eval = new_model.evaluate(X_test, y_test, verbose=1)\n",
        "print('Test loss:', test_eval[0])\n",
        "print('Test accuracy:', test_eval[1])"
      ],
      "execution_count": 0,
      "outputs": [
        {
          "output_type": "stream",
          "text": [
            "2022/2022 [==============================] - 1s 592us/step\n",
            "Test loss: 8.098143258269298\n",
            "Test accuracy: 0.37883283880296964\n"
          ],
          "name": "stdout"
        }
      ]
    },
    {
      "cell_type": "code",
      "metadata": {
        "id": "SMBVJgXmSs6_",
        "colab_type": "code",
        "outputId": "5f32061e-08ff-42f2-f293-fb8db95281e4",
        "colab": {
          "base_uri": "https://localhost:8080/",
          "height": 51
        }
      },
      "source": [
        "modelExtern.GuardarPesosModelo()"
      ],
      "execution_count": 0,
      "outputs": [
        {
          "output_type": "stream",
          "text": [
            "Pesos Guardados!\n"
          ],
          "name": "stdout"
        },
        {
          "output_type": "execute_result",
          "data": {
            "text/plain": [
              "True"
            ]
          },
          "metadata": {
            "tags": []
          },
          "execution_count": 24
        }
      ]
    },
    {
      "cell_type": "markdown",
      "metadata": {
        "id": "afFipdWhTq01",
        "colab_type": "text"
      },
      "source": [
        "## Cargar Modelo Red Neuronal Guardado"
      ]
    },
    {
      "cell_type": "code",
      "metadata": {
        "id": "PBKMoPfRTvNX",
        "colab_type": "code",
        "outputId": "20d13c61-462e-4465-d5a2-e36c71725424",
        "colab": {
          "base_uri": "https://localhost:8080/",
          "height": 102
        }
      },
      "source": [
        "modeloCargado = modelExtern.CargarModeloGuardado(True)"
      ],
      "execution_count": 0,
      "outputs": [
        {
          "output_type": "stream",
          "text": [
            "Lectura del Json del modelo correcta\n",
            "<class 'str'>\n",
            "Modelo Cargado!\n",
            "Pesos Cargados!\n",
            "Modelo compilado!\n"
          ],
          "name": "stdout"
        }
      ]
    },
    {
      "cell_type": "code",
      "metadata": {
        "id": "9KKfHbGUU3fZ",
        "colab_type": "code",
        "outputId": "ae32b274-cc8c-478d-b144-22200b2fb40f",
        "colab": {
          "base_uri": "https://localhost:8080/",
          "height": 68
        }
      },
      "source": [
        "#valido el modelo\n",
        "test_eval = modeloCargado.evaluate(X_predic, y_predic, verbose=1)\n",
        "print('Test loss:', test_eval[0])\n",
        "print('Test accuracy:', test_eval[1])"
      ],
      "execution_count": 0,
      "outputs": [
        {
          "output_type": "stream",
          "text": [
            "996/996 [==============================] - 1s 762us/step\n",
            "Test loss: 8.765370129581436\n",
            "Test accuracy: 0.34036144578313254\n"
          ],
          "name": "stdout"
        }
      ]
    },
    {
      "cell_type": "code",
      "metadata": {
        "id": "1swJ9erSU3Je",
        "colab_type": "code",
        "colab": {}
      },
      "source": [
        ""
      ],
      "execution_count": 0,
      "outputs": []
    },
    {
      "cell_type": "markdown",
      "metadata": {
        "id": "-tAfR_p0LUz-",
        "colab_type": "text"
      },
      "source": [
        "# Reentrenar un modelo de ImageNet"
      ]
    },
    {
      "cell_type": "markdown",
      "metadata": {
        "id": "gDOpf9aWLau3",
        "colab_type": "text"
      },
      "source": [
        "## Cargar Modelo ImageNet"
      ]
    },
    {
      "cell_type": "code",
      "metadata": {
        "id": "fZ43mQRW7Qpt",
        "colab_type": "code",
        "colab": {
          "base_uri": "https://localhost:8080/",
          "height": 1000
        },
        "outputId": "3a8d350a-b5d3-4746-8d18-70cc4b8d2acc"
      },
      "source": [
        "# VGG16, VGG19, ResNet50, \n",
        "#Xception, InceptionV3, InceptionResNetV2, \n",
        "#MobileNetV2, DenseNet, RasNet\n",
        "\n",
        "\n",
        "#https://www.learnopencv.com/keras-tutorial-fine-tuning-using-pre-trained-models/\n",
        "\n",
        "from keras.applications import VGG16 \n",
        "conv_base = VGG16(weights='imagenet',\n",
        "                 include_top=False, # Si se deben incluir o no las capas de salida originales del modelo\n",
        "                 input_shape=(128,128,3))\n",
        "\n",
        "congelarTodoModeloImagenet = False\n",
        "if congelarTodoModeloImagenet:\n",
        "  conv_base.trainable = False\n",
        "else:\n",
        "  # Freeze the layers except the last 4 layers\n",
        "  cantidadCapasFinalesDescongelar = 4\n",
        "  for layer in conv_base.layers[:-cantidadCapasFinalesDescongelar]:\n",
        "      layer.trainable = False\n",
        "      pass\n",
        "\n",
        "  # Check the trainable status of the individual layers\n",
        "  for layer in conv_base.layers:\n",
        "      pass\n",
        "      print(layer, layer.trainable)\n",
        "\n",
        "conv_base.summary()"
      ],
      "execution_count": 12,
      "outputs": [
        {
          "output_type": "stream",
          "text": [
            "WARNING:tensorflow:From /usr/local/lib/python3.6/dist-packages/keras/backend/tensorflow_backend.py:66: The name tf.get_default_graph is deprecated. Please use tf.compat.v1.get_default_graph instead.\n",
            "\n",
            "WARNING:tensorflow:From /usr/local/lib/python3.6/dist-packages/keras/backend/tensorflow_backend.py:541: The name tf.placeholder is deprecated. Please use tf.compat.v1.placeholder instead.\n",
            "\n",
            "WARNING:tensorflow:From /usr/local/lib/python3.6/dist-packages/keras/backend/tensorflow_backend.py:4432: The name tf.random_uniform is deprecated. Please use tf.random.uniform instead.\n",
            "\n",
            "WARNING:tensorflow:From /usr/local/lib/python3.6/dist-packages/keras/backend/tensorflow_backend.py:4267: The name tf.nn.max_pool is deprecated. Please use tf.nn.max_pool2d instead.\n",
            "\n",
            "Downloading data from https://github.com/fchollet/deep-learning-models/releases/download/v0.1/vgg16_weights_tf_dim_ordering_tf_kernels_notop.h5\n",
            "58892288/58889256 [==============================] - 3s 0us/step\n",
            "WARNING:tensorflow:From /usr/local/lib/python3.6/dist-packages/keras/backend/tensorflow_backend.py:190: The name tf.get_default_session is deprecated. Please use tf.compat.v1.get_default_session instead.\n",
            "\n",
            "WARNING:tensorflow:From /usr/local/lib/python3.6/dist-packages/keras/backend/tensorflow_backend.py:197: The name tf.ConfigProto is deprecated. Please use tf.compat.v1.ConfigProto instead.\n",
            "\n",
            "WARNING:tensorflow:From /usr/local/lib/python3.6/dist-packages/keras/backend/tensorflow_backend.py:203: The name tf.Session is deprecated. Please use tf.compat.v1.Session instead.\n",
            "\n",
            "WARNING:tensorflow:From /usr/local/lib/python3.6/dist-packages/keras/backend/tensorflow_backend.py:207: The name tf.global_variables is deprecated. Please use tf.compat.v1.global_variables instead.\n",
            "\n",
            "WARNING:tensorflow:From /usr/local/lib/python3.6/dist-packages/keras/backend/tensorflow_backend.py:216: The name tf.is_variable_initialized is deprecated. Please use tf.compat.v1.is_variable_initialized instead.\n",
            "\n",
            "WARNING:tensorflow:From /usr/local/lib/python3.6/dist-packages/keras/backend/tensorflow_backend.py:223: The name tf.variables_initializer is deprecated. Please use tf.compat.v1.variables_initializer instead.\n",
            "\n",
            "<keras.engine.input_layer.InputLayer object at 0x7fb087fabd30> False\n",
            "<keras.layers.convolutional.Conv2D object at 0x7fb08787b4e0> False\n",
            "<keras.layers.convolutional.Conv2D object at 0x7fb08787b668> False\n",
            "<keras.layers.pooling.MaxPooling2D object at 0x7fb087864f28> False\n",
            "<keras.layers.convolutional.Conv2D object at 0x7fb08781ab00> False\n",
            "<keras.layers.convolutional.Conv2D object at 0x7fb087821400> False\n",
            "<keras.layers.pooling.MaxPooling2D object at 0x7fb087826208> False\n",
            "<keras.layers.convolutional.Conv2D object at 0x7fb0878297b8> False\n",
            "<keras.layers.convolutional.Conv2D object at 0x7fb087834908> False\n",
            "<keras.layers.convolutional.Conv2D object at 0x7fb087838668> False\n",
            "<keras.layers.pooling.MaxPooling2D object at 0x7fb0877c55c0> False\n",
            "<keras.layers.convolutional.Conv2D object at 0x7fb0877cc518> False\n",
            "<keras.layers.convolutional.Conv2D object at 0x7fb0877d2828> False\n",
            "<keras.layers.convolutional.Conv2D object at 0x7fb0877d9588> False\n",
            "<keras.layers.pooling.MaxPooling2D object at 0x7fb0877e5588> False\n",
            "<keras.layers.convolutional.Conv2D object at 0x7fb0877ebc50> True\n",
            "<keras.layers.convolutional.Conv2D object at 0x7fb0877f3748> True\n",
            "<keras.layers.convolutional.Conv2D object at 0x7fb0877f8668> True\n",
            "<keras.layers.pooling.MaxPooling2D object at 0x7fb0878044a8> True\n",
            "Model: \"vgg16\"\n",
            "_________________________________________________________________\n",
            "Layer (type)                 Output Shape              Param #   \n",
            "=================================================================\n",
            "input_1 (InputLayer)         (None, 128, 128, 3)       0         \n",
            "_________________________________________________________________\n",
            "block1_conv1 (Conv2D)        (None, 128, 128, 64)      1792      \n",
            "_________________________________________________________________\n",
            "block1_conv2 (Conv2D)        (None, 128, 128, 64)      36928     \n",
            "_________________________________________________________________\n",
            "block1_pool (MaxPooling2D)   (None, 64, 64, 64)        0         \n",
            "_________________________________________________________________\n",
            "block2_conv1 (Conv2D)        (None, 64, 64, 128)       73856     \n",
            "_________________________________________________________________\n",
            "block2_conv2 (Conv2D)        (None, 64, 64, 128)       147584    \n",
            "_________________________________________________________________\n",
            "block2_pool (MaxPooling2D)   (None, 32, 32, 128)       0         \n",
            "_________________________________________________________________\n",
            "block3_conv1 (Conv2D)        (None, 32, 32, 256)       295168    \n",
            "_________________________________________________________________\n",
            "block3_conv2 (Conv2D)        (None, 32, 32, 256)       590080    \n",
            "_________________________________________________________________\n",
            "block3_conv3 (Conv2D)        (None, 32, 32, 256)       590080    \n",
            "_________________________________________________________________\n",
            "block3_pool (MaxPooling2D)   (None, 16, 16, 256)       0         \n",
            "_________________________________________________________________\n",
            "block4_conv1 (Conv2D)        (None, 16, 16, 512)       1180160   \n",
            "_________________________________________________________________\n",
            "block4_conv2 (Conv2D)        (None, 16, 16, 512)       2359808   \n",
            "_________________________________________________________________\n",
            "block4_conv3 (Conv2D)        (None, 16, 16, 512)       2359808   \n",
            "_________________________________________________________________\n",
            "block4_pool (MaxPooling2D)   (None, 8, 8, 512)         0         \n",
            "_________________________________________________________________\n",
            "block5_conv1 (Conv2D)        (None, 8, 8, 512)         2359808   \n",
            "_________________________________________________________________\n",
            "block5_conv2 (Conv2D)        (None, 8, 8, 512)         2359808   \n",
            "_________________________________________________________________\n",
            "block5_conv3 (Conv2D)        (None, 8, 8, 512)         2359808   \n",
            "_________________________________________________________________\n",
            "block5_pool (MaxPooling2D)   (None, 4, 4, 512)         0         \n",
            "=================================================================\n",
            "Total params: 14,714,688\n",
            "Trainable params: 7,079,424\n",
            "Non-trainable params: 7,635,264\n",
            "_________________________________________________________________\n"
          ],
          "name": "stdout"
        }
      ]
    },
    {
      "cell_type": "markdown",
      "metadata": {
        "id": "Xx926sqBLk0z",
        "colab_type": "text"
      },
      "source": [
        "## Crear nuestro modelo e incluirle el modelo de imageNet"
      ]
    },
    {
      "cell_type": "code",
      "metadata": {
        "id": "tFV7dCp27QnE",
        "colab_type": "code",
        "colab": {}
      },
      "source": [
        "modeloTrasnferenciaConocimiento = ModeloExterno(nombreModelo=\"transfer-wisrovi\", rutaBase=BASE_FOLDER)"
      ],
      "execution_count": 0,
      "outputs": []
    },
    {
      "cell_type": "code",
      "metadata": {
        "id": "5soqPRWlDcZ3",
        "colab_type": "code",
        "colab": {
          "base_uri": "https://localhost:8080/",
          "height": 298
        },
        "outputId": "703acd16-0bae-43e8-dace-9debca087b49"
      },
      "source": [
        "pre_trained_model = models.Sequential()\n",
        "pre_trained_model.add(conv_base)\n",
        "\n",
        "#para aplanar todas las capas\n",
        "#esto se hace debido a que el modelo de VG16 nos da 4 dimensiones de salida, y con esto reducimos las dimensiones a dos: numero datos, numero clases\n",
        "pre_trained_model.add(Flatten()) \n",
        "\n",
        "# conectarlo a nueva parte densa\n",
        "# Genero la capa final con la cantidad de neuronas segun la cantidad de opciones de clasificacion\n",
        "pre_trained_model.add(Dense(nClasses, activation='softmax')) \n",
        "\n",
        "pre_trained_model.summary()\n",
        "\n",
        "# compilar el modelo\n",
        "pre_trained_model.compile(optimizer='adam',\n",
        "               loss='categorical_crossentropy',\n",
        "               metrics=['accuracy'])\n",
        "\n",
        "modeloTrasnferenciaConocimiento.GuardarModelo(pre_trained_model)"
      ],
      "execution_count": 21,
      "outputs": [
        {
          "output_type": "stream",
          "text": [
            "Model: \"sequential_2\"\n",
            "_________________________________________________________________\n",
            "Layer (type)                 Output Shape              Param #   \n",
            "=================================================================\n",
            "vgg16 (Model)                (None, 4, 4, 512)         14714688  \n",
            "_________________________________________________________________\n",
            "flatten_1 (Flatten)          (None, 8192)              0         \n",
            "_________________________________________________________________\n",
            "dense_2 (Dense)              (None, 102)               835686    \n",
            "=================================================================\n",
            "Total params: 15,550,374\n",
            "Trainable params: 7,915,110\n",
            "Non-trainable params: 7,635,264\n",
            "_________________________________________________________________\n",
            "Modelo guardado!\n"
          ],
          "name": "stdout"
        },
        {
          "output_type": "execute_result",
          "data": {
            "text/plain": [
              "True"
            ]
          },
          "metadata": {
            "tags": []
          },
          "execution_count": 21
        }
      ]
    },
    {
      "cell_type": "markdown",
      "metadata": {
        "id": "6QVfy9R-RleC",
        "colab_type": "text"
      },
      "source": [
        "## Entrenar Modelo Con conocimiento Transferido"
      ]
    },
    {
      "cell_type": "code",
      "metadata": {
        "id": "_EBapwPcQF5E",
        "colab_type": "code",
        "colab": {
          "base_uri": "https://localhost:8080/",
          "height": 1000
        },
        "outputId": "380d54a8-3b8b-4c48-b05a-3cbd8835c051"
      },
      "source": [
        "#Entreno el modelo\n",
        "\n",
        "#Al final de cada entrenamiento guardo los mejores pesos\n",
        "numeroEntrenamientos = 2\n",
        "\n",
        "#ciclos en los cuales evaluo los datos de entrenamiento para hallar los mejores pesos\n",
        "numeroEpocas = 10\n",
        "\n",
        "#ver datos entrenamiento\n",
        "print(\"Int: \", train_X.shape)\n",
        "print(\"Out: \", train_label.shape)\n",
        "\n",
        "for i in range(numeroEntrenamientos):     \n",
        "    print()   \n",
        "    print()\n",
        "    print(\"Entrenamiento \" + str(i + 1))\n",
        "\n",
        "    history = pre_trained_model.fit(\n",
        "        train_X, train_label, \n",
        "        batch_size=64, # cantidad de imágenes que se toman a la vez en memoria\n",
        "        epochs=numeroEpocas,        \n",
        "        verbose=1,\n",
        "        validation_data=(valid_X, valid_label)\n",
        "        )\n",
        "        \n",
        "    plot_history(history)\n",
        "    modeloTrasnferenciaConocimiento.GuardarPesosModelo()\n",
        "    \n",
        "    test_eval = pre_trained_model.evaluate(X_test, y_test, verbose=1)\n",
        "    print('Test loss:', test_eval[0])\n",
        "    print('Test accuracy:', test_eval[1])\n",
        "    print(\"***************\")    \n",
        "    print()"
      ],
      "execution_count": 25,
      "outputs": [
        {
          "output_type": "stream",
          "text": [
            "Int:  (5514, 128, 128, 3)\n",
            "Out:  (5514, 102)\n",
            "\n",
            "\n",
            "Entrenamiento 1\n",
            "Train on 5514 samples, validate on 613 samples\n",
            "Epoch 1/10\n",
            "5514/5514 [==============================] - 21s 4ms/step - loss: 0.5351 - acc: 0.8466 - val_loss: 1.0688 - val_acc: 0.7471\n",
            "Epoch 2/10\n",
            "5514/5514 [==============================] - 21s 4ms/step - loss: 0.3330 - acc: 0.8999 - val_loss: 1.1818 - val_acc: 0.7455\n",
            "Epoch 3/10\n",
            "5514/5514 [==============================] - 21s 4ms/step - loss: 0.2109 - acc: 0.9380 - val_loss: 1.1534 - val_acc: 0.7471\n",
            "Epoch 4/10\n",
            "5514/5514 [==============================] - 21s 4ms/step - loss: 0.1779 - acc: 0.9496 - val_loss: 1.2882 - val_acc: 0.7406\n",
            "Epoch 5/10\n",
            "5514/5514 [==============================] - 21s 4ms/step - loss: 0.1657 - acc: 0.9530 - val_loss: 1.2785 - val_acc: 0.7651\n",
            "Epoch 6/10\n",
            "5514/5514 [==============================] - 21s 4ms/step - loss: 0.0988 - acc: 0.9724 - val_loss: 1.3555 - val_acc: 0.7488\n",
            "Epoch 7/10\n",
            "5514/5514 [==============================] - 21s 4ms/step - loss: 0.0606 - acc: 0.9820 - val_loss: 1.4301 - val_acc: 0.7537\n",
            "Epoch 8/10\n",
            "5514/5514 [==============================] - 21s 4ms/step - loss: 0.1428 - acc: 0.9634 - val_loss: 1.7111 - val_acc: 0.7423\n",
            "Epoch 9/10\n",
            "5514/5514 [==============================] - 21s 4ms/step - loss: 0.1838 - acc: 0.9496 - val_loss: 1.5803 - val_acc: 0.7406\n",
            "Epoch 10/10\n",
            "5514/5514 [==============================] - 21s 4ms/step - loss: 0.1370 - acc: 0.9643 - val_loss: 1.5272 - val_acc: 0.7684\n",
            "dict_keys(['val_loss', 'val_acc', 'loss', 'acc'])\n"
          ],
          "name": "stdout"
        },
        {
          "output_type": "display_data",
          "data": {
            "image/png": "[encoded data removed]",
            "text/plain": [
              "<Figure size 432x288 with 1 Axes>"
            ]
          },
          "metadata": {
            "tags": []
          }
        },
        {
          "output_type": "stream",
          "text": [
            "Pesos Guardados!\n",
            "2022/2022 [==============================] - 6s 3ms/step\n",
            "Test loss: 1.608475419006409\n",
            "Test accuracy: 0.7675568743818002\n",
            "***************\n",
            "\n",
            "\n",
            "\n",
            "Entrenamiento 2\n",
            "Train on 5514 samples, validate on 613 samples\n",
            "Epoch 1/10\n",
            "5514/5514 [==============================] - 21s 4ms/step - loss: 0.1235 - acc: 0.9661 - val_loss: 1.6693 - val_acc: 0.7700\n",
            "Epoch 2/10\n",
            "5514/5514 [==============================] - 21s 4ms/step - loss: 0.1739 - acc: 0.9567 - val_loss: 1.8058 - val_acc: 0.7618\n",
            "Epoch 3/10\n",
            "5514/5514 [==============================] - 21s 4ms/step - loss: 0.1947 - acc: 0.9539 - val_loss: 1.6574 - val_acc: 0.7406\n",
            "Epoch 4/10\n",
            "5514/5514 [==============================] - 21s 4ms/step - loss: 0.0887 - acc: 0.9790 - val_loss: 1.4632 - val_acc: 0.7863\n",
            "Epoch 5/10\n",
            "5514/5514 [==============================] - 21s 4ms/step - loss: 0.0735 - acc: 0.9826 - val_loss: 1.6244 - val_acc: 0.7586\n",
            "Epoch 6/10\n",
            "5514/5514 [==============================] - 21s 4ms/step - loss: 0.1457 - acc: 0.9661 - val_loss: 1.6836 - val_acc: 0.7618\n",
            "Epoch 7/10\n",
            "5514/5514 [==============================] - 21s 4ms/step - loss: 0.1186 - acc: 0.9684 - val_loss: 1.5304 - val_acc: 0.7667\n",
            "Epoch 8/10\n",
            "5514/5514 [==============================] - 21s 4ms/step - loss: 0.0521 - acc: 0.9871 - val_loss: 1.8429 - val_acc: 0.7618\n",
            "Epoch 9/10\n",
            "5514/5514 [==============================] - 21s 4ms/step - loss: 0.0716 - acc: 0.9835 - val_loss: 1.8895 - val_acc: 0.7423\n",
            "Epoch 10/10\n",
            "5514/5514 [==============================] - 21s 4ms/step - loss: 0.1101 - acc: 0.9750 - val_loss: 2.1783 - val_acc: 0.7292\n",
            "dict_keys(['val_loss', 'val_acc', 'loss', 'acc'])\n"
          ],
          "name": "stdout"
        },
        {
          "output_type": "display_data",
          "data": {
            "image/png": "[encoded data removed]",
            "text/plain": [
              "<Figure size 432x288 with 1 Axes>"
            ]
          },
          "metadata": {
            "tags": []
          }
        },
        {
          "output_type": "stream",
          "text": [
            "Pesos Guardados!\n",
            "2022/2022 [==============================] - 6s 3ms/step\n",
            "Test loss: 2.1209165822046936\n",
            "Test accuracy: 0.7561819980217607\n",
            "***************\n",
            "\n"
          ],
          "name": "stdout"
        }
      ]
    },
    {
      "cell_type": "code",
      "metadata": {
        "id": "ilio5dT7TYtM",
        "colab_type": "code",
        "colab": {
          "base_uri": "https://localhost:8080/",
          "height": 105
        },
        "outputId": "789c3d94-7d33-447f-d252-1b48f318aa93"
      },
      "source": [
        "modeloCargadoTransferenciaConocimiento = modeloTrasnferenciaConocimiento.CargarModeloGuardado(True)"
      ],
      "execution_count": 26,
      "outputs": [
        {
          "output_type": "stream",
          "text": [
            "Lectura del Json del modelo correcta\n",
            "<class 'str'>\n",
            "Modelo Cargado!\n",
            "Pesos Cargados!\n",
            "Modelo compilado!\n"
          ],
          "name": "stdout"
        }
      ]
    },
    {
      "cell_type": "code",
      "metadata": {
        "id": "SOLwmbY-TKdq",
        "colab_type": "code",
        "colab": {
          "base_uri": "https://localhost:8080/",
          "height": 70
        },
        "outputId": "d22498d2-099e-47e5-d3e8-773cc0c03cf6"
      },
      "source": [
        "#valido el modelo\n",
        "test_eval = modeloCargadoTransferenciaConocimiento.evaluate(X_predic, y_predic, verbose=1)\n",
        "print('Test loss:', test_eval[0])\n",
        "print('Test accuracy:', test_eval[1])"
      ],
      "execution_count": 27,
      "outputs": [
        {
          "output_type": "stream",
          "text": [
            "996/996 [==============================] - 4s 4ms/step\n",
            "Test loss: 2.10583562161549\n",
            "Test accuracy: 0.7530120481927711\n"
          ],
          "name": "stdout"
        }
      ]
    },
    {
      "cell_type": "code",
      "metadata": {
        "id": "H278QBRSTgC4",
        "colab_type": "code",
        "colab": {}
      },
      "source": [
        ""
      ],
      "execution_count": 0,
      "outputs": []
    },
    {
      "cell_type": "code",
      "metadata": {
        "id": "wbZpgusGTgBe",
        "colab_type": "code",
        "colab": {}
      },
      "source": [
        ""
      ],
      "execution_count": 0,
      "outputs": []
    },
    {
      "cell_type": "code",
      "metadata": {
        "id": "XgKFnEXjTf-A",
        "colab_type": "code",
        "colab": {}
      },
      "source": [
        ""
      ],
      "execution_count": 0,
      "outputs": []
    },
    {
      "cell_type": "code",
      "metadata": {
        "id": "Ff8k9RjVTf7j",
        "colab_type": "code",
        "colab": {}
      },
      "source": [
        ""
      ],
      "execution_count": 0,
      "outputs": []
    },
    {
      "cell_type": "code",
      "metadata": {
        "id": "4BSV4uNvHHdp",
        "colab_type": "code",
        "colab": {}
      },
      "source": [
        ""
      ],
      "execution_count": 0,
      "outputs": []
    },
    {
      "cell_type": "code",
      "metadata": {
        "id": "7XhDjV1HHHYT",
        "colab_type": "code",
        "colab": {}
      },
      "source": [
        "url = 'https://www.aprendemachinelearning.com/clasificacion-de-imagenes-en-python/'"
      ],
      "execution_count": 0,
      "outputs": []
    }
  ]
}