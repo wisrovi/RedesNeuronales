{
  "nbformat": 4,
  "nbformat_minor": 0,
  "metadata": {
    "colab": {
      "name": "Nuevo editor de código de Colab",
      "provenance": [],
      "collapsed_sections": [],
      "toc_visible": true,
      "include_colab_link": true
    },
    "kernelspec": {
      "name": "python3",
      "display_name": "Python 3"
    },
    "accelerator": "GPU"
  },
  "cells": [
    {
      "cell_type": "markdown",
      "metadata": {
        "id": "view-in-github",
        "colab_type": "text"
      },
      "source": [
        "<a href=\"https://colab.research.google.com/github/wisrovi/RedesNeuronales/blob/master/AprendizajePorRefuerzo-PongDeterministic2.ipynb\" target=\"_parent\"><img src=\"https://colab.research.google.com/assets/colab-badge.svg\" alt=\"Open In Colab\"/></a>"
      ]
    },
    {
      "cell_type": "markdown",
      "metadata": {
        "id": "dDELHJVDYxoA",
        "colab_type": "text"
      },
      "source": [
        "# Teoría"
      ]
    },
    {
      "cell_type": "markdown",
      "metadata": {
        "id": "vMDUzanRLoUS",
        "colab_type": "text"
      },
      "source": [
        "## Objetivo: \n",
        "Repasar los conceptos vistos en clase.\n",
        "\n",
        "La puntuación de este bloque es de 4 puntos sobre la nota final."
      ]
    },
    {
      "cell_type": "markdown",
      "metadata": {
        "id": "2AMo0eBLY1Gs",
        "colab_type": "text"
      },
      "source": [
        "**Define brevemente qué es el aprendizaje por refuerzo. ¿Qué diferencias hay entre aprendizaje supervisado, no supervisado y por refuerzo?**"
      ]
    },
    {
      "cell_type": "markdown",
      "metadata": {
        "id": "izoGROmUY1OO",
        "colab_type": "text"
      },
      "source": [
        ""
      ]
    },
    {
      "cell_type": "markdown",
      "metadata": {
        "id": "lug2H4ygZCGU",
        "colab_type": "text"
      },
      "source": [
        "**Define con tus palabras los conceptos de Entorno, Agente, Recompensa, Estado y Observación.**"
      ]
    },
    {
      "cell_type": "markdown",
      "metadata": {
        "id": "cd5veW0eZCO7",
        "colab_type": "text"
      },
      "source": [
        ""
      ]
    },
    {
      "cell_type": "markdown",
      "metadata": {
        "id": "FM6GMFSLZCLw",
        "colab_type": "text"
      },
      "source": [
        "**Dependiendo del algoritmo de aprendizaje por refuerzo que se use, ¿qué clasificaciones podemos encontrar? Coméntalas brevemente.**\n",
        "\n",
        "\n"
      ]
    },
    {
      "cell_type": "markdown",
      "metadata": {
        "id": "-cW1RBOpZCJ-",
        "colab_type": "text"
      },
      "source": [
        ""
      ]
    },
    {
      "cell_type": "markdown",
      "metadata": {
        "id": "kw-6C3J3Y1MJ",
        "colab_type": "text"
      },
      "source": [
        "**Lista tres diferencias entre los algoritmos de DQN y Policy Gradient**"
      ]
    },
    {
      "cell_type": "markdown",
      "metadata": {
        "id": "22_VeKRfZYXN",
        "colab_type": "text"
      },
      "source": [
        ""
      ]
    },
    {
      "cell_type": "markdown",
      "metadata": {
        "id": "98NdMWLxaQv-",
        "colab_type": "text"
      },
      "source": [
        ""
      ]
    },
    {
      "cell_type": "markdown",
      "metadata": {
        "id": "-FwICPIVaQ8N",
        "colab_type": "text"
      },
      "source": [
        ""
      ]
    },
    {
      "cell_type": "code",
      "metadata": {
        "id": "_iTYuIoLawAU",
        "colab_type": "code",
        "colab": {}
      },
      "source": [
        ""
      ],
      "execution_count": 0,
      "outputs": []
    },
    {
      "cell_type": "markdown",
      "metadata": {
        "id": "n_zXk0PXZYad",
        "colab_type": "text"
      },
      "source": [
        "# Práctica"
      ]
    },
    {
      "cell_type": "markdown",
      "metadata": {
        "id": "jkgoJNjdZ6U2",
        "colab_type": "text"
      },
      "source": [
        "Objetivo: Implementar una solución, usando keras-rl y basada en el algoritmo de DQN visto en clase, para que un agente aprenda una estrategia ganadora en el juego del Pong."
      ]
    },
    {
      "cell_type": "markdown",
      "metadata": {
        "id": "vI0finZIZ6R9",
        "colab_type": "text"
      },
      "source": [
        "La puntuación de este bloque es de 6 puntos sobre la nota final."
      ]
    },
    {
      "cell_type": "markdown",
      "metadata": {
        "id": "DXpPfxW3Y1Jw",
        "colab_type": "text"
      },
      "source": [
        "El entorno sobre el que trabajaremos será _PongDeterministic-v0_ y el algoritmo que usaremos será _DQN_.\n",
        "\n",
        "Para evaluar cómo lo está haciendo el agente, la recompensa en el _Pong_ oscila, aproximadamente, en el rango de valores **[-20, 20]**. La estrategia óptima de un agente estaría alrededor de una media de recompensa de 20.\n",
        "\n",
        "- **NOTA IMPORTANTE**: Si el agente no llegara a aprender una estrategia ganadora, responder sobre la mejor estrategia obtenida."
      ]
    },
    {
      "cell_type": "markdown",
      "metadata": {
        "id": "uOYtKZSVbMME",
        "colab_type": "text"
      },
      "source": [
        "# Drive"
      ]
    },
    {
      "cell_type": "code",
      "metadata": {
        "id": "IK7RPnuKQpgR",
        "colab_type": "code",
        "outputId": "eaece08d-984b-4be8-9bce-64f11284c44c",
        "colab": {
          "base_uri": "https://localhost:8080/",
          "height": 17
        }
      },
      "source": [
        "#https://medium.com/@shivamrawat_756/how-to-prevent-google-colab-from-disconnecting-717b88a128c0\n",
        "from IPython.display import display, HTML\n",
        "js = ('<script>function ConnectButton(){ '\n",
        "        'console.log(\"Connect pushed\"); '\n",
        "        'document.querySelector(\"#connect\").click()} '\n",
        "        'setInterval(ConnectButton,3000);</script>')\n",
        "display(HTML(js))"
      ],
      "execution_count": 27,
      "outputs": [
        {
          "output_type": "display_data",
          "data": {
            "text/html": [
              "<script>function ConnectButton(){ console.log(\"Connect pushed\"); document.querySelector(\"#connect\").click()} setInterval(ConnectButton,3000);</script>"
            ],
            "text/plain": [
              "<IPython.core.display.HTML object>"
            ]
          },
          "metadata": {
            "tags": []
          }
        }
      ]
    },
    {
      "cell_type": "code",
      "metadata": {
        "id": "T2KQ1oCCdwgE",
        "colab_type": "code",
        "colab": {}
      },
      "source": [
        "isColabGoogle = True\n",
        "enlazarGoogleDrive = False\n",
        "entrenar = True"
      ],
      "execution_count": 0,
      "outputs": []
    },
    {
      "cell_type": "code",
      "metadata": {
        "id": "8qN7SmbMbN40",
        "colab_type": "code",
        "colab": {}
      },
      "source": [
        "BASE_FOLDER = \"\"\n",
        "if enlazarGoogleDrive:\n",
        "    from google.colab import drive\n",
        "    drive.mount('/content/gdrive')\n",
        "    RUTA_GOOGLE = '/content/gdrive/My Drive/Master IA/AprendizajePorRefuerzo/'"
      ],
      "execution_count": 0,
      "outputs": []
    },
    {
      "cell_type": "code",
      "metadata": {
        "id": "HNE_e7W04nJ2",
        "colab_type": "code",
        "outputId": "3db91f48-02e0-48aa-9632-66f2d077a23c",
        "colab": {
          "base_uri": "https://localhost:8080/",
          "height": 34
        }
      },
      "source": [
        "!ls -la '/content/gdrive/My Drive/Master IA/AprendizajePorRefuerzo/'"
      ],
      "execution_count": 4,
      "outputs": [
        {
          "output_type": "stream",
          "text": [
            "ls: cannot access '/content/gdrive/My Drive/Master IA/AprendizajePorRefuerzo/': No such file or directory\n"
          ],
          "name": "stdout"
        }
      ]
    },
    {
      "cell_type": "markdown",
      "metadata": {
        "id": "10Jv4Riqa1AZ",
        "colab_type": "text"
      },
      "source": [
        "# Install and import"
      ]
    },
    {
      "cell_type": "markdown",
      "metadata": {
        "id": "aLBeG9qiRRYK",
        "colab_type": "text"
      },
      "source": [
        "### Install"
      ]
    },
    {
      "cell_type": "code",
      "metadata": {
        "id": "DPRbpTdwLE8T",
        "colab_type": "code",
        "outputId": "313db60f-f633-45e1-9bf0-6ea7c15272b5",
        "colab": {
          "base_uri": "https://localhost:8080/",
          "height": 921
        }
      },
      "source": [
        "!pip install keras-rl==0.4.2\n",
        "\n",
        "#!pip install tensorflow==1.13.1\n",
        "!pip install tensorflow-gpu==1.14\n",
        "\n",
        "!pip install gym\n",
        "!pip install gym[atari]\n",
        "!pip install h5py\n",
        "\n",
        "\n",
        "#creo son necesarias, pero no se ha comprobado que en su ausencia falle\n",
        "!pip install jupyter\n",
        "!pip install torch"
      ],
      "execution_count": 0,
      "outputs": [
        {
          "output_type": "stream",
          "text": [
            "Requirement already satisfied: keras-rl==0.4.2 in /usr/local/lib/python3.6/dist-packages (0.4.2)\n",
            "Requirement already satisfied: keras>=2.0.7 in /usr/local/lib/python3.6/dist-packages (from keras-rl==0.4.2) (2.2.5)\n",
            "Requirement already satisfied: keras-applications>=1.0.8 in /usr/local/lib/python3.6/dist-packages (from keras>=2.0.7->keras-rl==0.4.2) (1.0.8)\n",
            "Requirement already satisfied: pyyaml in /usr/local/lib/python3.6/dist-packages (from keras>=2.0.7->keras-rl==0.4.2) (3.13)\n",
            "Requirement already satisfied: numpy>=1.9.1 in /usr/local/lib/python3.6/dist-packages (from keras>=2.0.7->keras-rl==0.4.2) (1.17.4)\n",
            "Requirement already satisfied: six>=1.9.0 in /usr/local/lib/python3.6/dist-packages (from keras>=2.0.7->keras-rl==0.4.2) (1.12.0)\n",
            "Requirement already satisfied: scipy>=0.14 in /usr/local/lib/python3.6/dist-packages (from keras>=2.0.7->keras-rl==0.4.2) (1.3.3)\n",
            "Requirement already satisfied: keras-preprocessing>=1.1.0 in /usr/local/lib/python3.6/dist-packages (from keras>=2.0.7->keras-rl==0.4.2) (1.1.0)\n",
            "Requirement already satisfied: h5py in /usr/local/lib/python3.6/dist-packages (from keras>=2.0.7->keras-rl==0.4.2) (2.8.0)\n",
            "Requirement already satisfied: tensorflow-gpu==1.14 in /usr/local/lib/python3.6/dist-packages (1.14.0)\n",
            "Requirement already satisfied: tensorboard<1.15.0,>=1.14.0 in /usr/local/lib/python3.6/dist-packages (from tensorflow-gpu==1.14) (1.14.0)\n",
            "Requirement already satisfied: wrapt>=1.11.1 in /usr/local/lib/python3.6/dist-packages (from tensorflow-gpu==1.14) (1.11.2)\n",
            "Requirement already satisfied: google-pasta>=0.1.6 in /usr/local/lib/python3.6/dist-packages (from tensorflow-gpu==1.14) (0.1.8)\n",
            "Requirement already satisfied: six>=1.10.0 in /usr/local/lib/python3.6/dist-packages (from tensorflow-gpu==1.14) (1.12.0)\n",
            "Requirement already satisfied: protobuf>=3.6.1 in /usr/local/lib/python3.6/dist-packages (from tensorflow-gpu==1.14) (3.10.0)\n",
            "Requirement already satisfied: keras-applications>=1.0.6 in /usr/local/lib/python3.6/dist-packages (from tensorflow-gpu==1.14) (1.0.8)\n",
            "Requirement already satisfied: absl-py>=0.7.0 in /usr/local/lib/python3.6/dist-packages (from tensorflow-gpu==1.14) (0.8.1)\n",
            "Requirement already satisfied: wheel>=0.26 in /usr/local/lib/python3.6/dist-packages (from tensorflow-gpu==1.14) (0.33.6)\n",
            "Requirement already satisfied: grpcio>=1.8.6 in /usr/local/lib/python3.6/dist-packages (from tensorflow-gpu==1.14) (1.15.0)\n",
            "Requirement already satisfied: termcolor>=1.1.0 in /usr/local/lib/python3.6/dist-packages (from tensorflow-gpu==1.14) (1.1.0)\n",
            "Requirement already satisfied: gast>=0.2.0 in /usr/local/lib/python3.6/dist-packages (from tensorflow-gpu==1.14) (0.2.2)\n",
            "Requirement already satisfied: astor>=0.6.0 in /usr/local/lib/python3.6/dist-packages (from tensorflow-gpu==1.14) (0.8.0)\n",
            "Requirement already satisfied: numpy<2.0,>=1.14.5 in /usr/local/lib/python3.6/dist-packages (from tensorflow-gpu==1.14) (1.17.4)\n",
            "Requirement already satisfied: tensorflow-estimator<1.15.0rc0,>=1.14.0rc0 in /usr/local/lib/python3.6/dist-packages (from tensorflow-gpu==1.14) (1.14.0)\n",
            "Requirement already satisfied: keras-preprocessing>=1.0.5 in /usr/local/lib/python3.6/dist-packages (from tensorflow-gpu==1.14) (1.1.0)\n",
            "Requirement already satisfied: markdown>=2.6.8 in /usr/local/lib/python3.6/dist-packages (from tensorboard<1.15.0,>=1.14.0->tensorflow-gpu==1.14) (3.1.1)\n",
            "Requirement already satisfied: setuptools>=41.0.0 in /usr/local/lib/python3.6/dist-packages (from tensorboard<1.15.0,>=1.14.0->tensorflow-gpu==1.14) (42.0.1)\n",
            "Requirement already satisfied: werkzeug>=0.11.15 in /usr/local/lib/python3.6/dist-packages (from tensorboard<1.15.0,>=1.14.0->tensorflow-gpu==1.14) (0.16.0)\n",
            "Requirement already satisfied: h5py in /usr/local/lib/python3.6/dist-packages (from keras-applications>=1.0.6->tensorflow-gpu==1.14) (2.8.0)\n",
            "\u001b[31mERROR: Operation cancelled by user\u001b[0m\n",
            "Requirement already satisfied: gym in /usr/local/lib/python3.6/dist-packages (0.15.4)\n",
            "Requirement already satisfied: pyglet<=1.3.2,>=1.2.0 in /usr/local/lib/python3.6/dist-packages (from gym) (1.3.2)\n",
            "Requirement already satisfied: scipy in /usr/local/lib/python3.6/dist-packages (from gym) (1.3.3)\n",
            "Requirement already satisfied: cloudpickle~=1.2.0 in /usr/local/lib/python3.6/dist-packages (from gym) (1.2.2)\n",
            "Requirement already satisfied: six in /usr/local/lib/python3.6/dist-packages (from gym) (1.12.0)\n",
            "Requirement already satisfied: numpy>=1.10.4 in /usr/local/lib/python3.6/dist-packages (from gym) (1.17.4)\n",
            "Requirement already satisfied: opencv-python in /usr/local/lib/python3.6/dist-packages (from gym) (4.1.2.30)\n",
            "Requirement already satisfied: future in /usr/local/lib/python3.6/dist-packages (from pyglet<=1.3.2,>=1.2.0->gym) (0.16.0)\n",
            "Requirement already satisfied: gym[atari] in /usr/local/lib/python3.6/dist-packages (0.15.4)\n",
            "Requirement already satisfied: cloudpickle~=1.2.0 in /usr/local/lib/python3.6/dist-packages (from gym[atari]) (1.2.2)\n",
            "Requirement already satisfied: pyglet<=1.3.2,>=1.2.0 in /usr/local/lib/python3.6/dist-packages (from gym[atari]) (1.3.2)\n",
            "Requirement already satisfied: numpy>=1.10.4 in /usr/local/lib/python3.6/dist-packages (from gym[atari]) (1.17.4)\n",
            "Requirement already satisfied: six in /usr/local/lib/python3.6/dist-packages (from gym[atari]) (1.12.0)\n",
            "Requirement already satisfied: opencv-python in /usr/local/lib/python3.6/dist-packages (from gym[atari]) (4.1.2.30)\n",
            "Requirement already satisfied: scipy in /usr/local/lib/python3.6/dist-packages (from gym[atari]) (1.3.3)\n",
            "Requirement already satisfied: atari-py~=0.2.0; extra == \"atari\" in /usr/local/lib/python3.6/dist-packages (from gym[atari]) (0.2.6)\n",
            "Requirement already satisfied: Pillow; extra == \"atari\" in /usr/local/lib/python3.6/dist-packages (from gym[atari]) (4.3.0)\n",
            "Requirement already satisfied: future in /usr/local/lib/python3.6/dist-packages (from pyglet<=1.3.2,>=1.2.0->gym[atari]) (0.16.0)\n",
            "Requirement already satisfied: olefile in /usr/local/lib/python3.6/dist-packages (from Pillow; extra == \"atari\"->gym[atari]) (0.46)\n",
            "Requirement already satisfied: h5py in /usr/local/lib/python3.6/dist-packages (2.8.0)\n",
            "Requirement already satisfied: six in /usr/local/lib/python3.6/dist-packages (from h5py) (1.12.0)\n",
            "Requirement already satisfied: numpy>=1.7 in /usr/local/lib/python3.6/dist-packages (from h5py) (1.17.4)\n"
          ],
          "name": "stdout"
        }
      ]
    },
    {
      "cell_type": "markdown",
      "metadata": {
        "id": "TBf1tNuRRWkd",
        "colab_type": "text"
      },
      "source": [
        "### Import"
      ]
    },
    {
      "cell_type": "code",
      "metadata": {
        "id": "UbyoXvaEYwuT",
        "colab_type": "code",
        "colab": {}
      },
      "source": [
        "from PIL import Image\n",
        "\n",
        "import numpy as np\n",
        "import gym\n",
        "\n",
        "# Para las librerias para la red neuronal\n",
        "from keras.models import Sequential\n",
        "from keras.layers import Dense, Activation, Flatten, Convolution2D, Permute, Conv2D, MaxPooling2D, Dropout, BatchNormalization\n",
        "from keras.optimizers import Adam, SGD, RMSprop\n",
        "\n",
        "from rl.agents.dqn import DQNAgent\n",
        "from rl.policy import LinearAnnealedPolicy, EpsGreedyQPolicy\n",
        "from rl.memory import SequentialMemory\n",
        "from rl.core import Processor\n",
        "\n",
        "from rl.callbacks import FileLogger, ModelIntervalCheckpoint\n",
        "from keras.callbacks import TensorBoard\n",
        "import os "
      ],
      "execution_count": 0,
      "outputs": []
    },
    {
      "cell_type": "markdown",
      "metadata": {
        "id": "lkexVSv4RbnT",
        "colab_type": "text"
      },
      "source": [
        "### Init"
      ]
    },
    {
      "cell_type": "code",
      "metadata": {
        "id": "3JwqwV1RUO6x",
        "colab_type": "code",
        "outputId": "f9d15d94-3043-4de1-82b4-db497fd84ba3",
        "colab": {
          "base_uri": "https://localhost:8080/",
          "height": 0
        }
      },
      "source": [
        "ENV_NAME = 'PongDeterministic-v0'\n",
        "\n",
        "# Get the environment and extract the number of actions.\n",
        "env = gym.make(ENV_NAME)\n",
        "nb_actions = env.action_space.n\n",
        "\n",
        "# random seed\n",
        "np.random.seed(123)\n",
        "env.seed(123)"
      ],
      "execution_count": 3,
      "outputs": [
        {
          "output_type": "execute_result",
          "data": {
            "text/plain": [
              "[123, 151010689]"
            ]
          },
          "metadata": {
            "tags": []
          },
          "execution_count": 3
        }
      ]
    },
    {
      "cell_type": "code",
      "metadata": {
        "id": "IWfdcMqFUO-3",
        "colab_type": "code",
        "colab": {}
      },
      "source": [
        "# Define the input shape to resize the screen\n",
        "INPUT_SHAPE = (84, 84)\n",
        "WINDOW_LENGTH = 4\n",
        "\n",
        "# This processor will be similar to the Atari processor\n",
        "class PongProcessor(Processor):\n",
        "    def process_observation(self, observation):\n",
        "        assert observation.ndim == 3  # (height, width, channel)\n",
        "        \n",
        "        img = Image.fromarray(observation)\n",
        "        # resize and convert to grayscale\n",
        "        img = img.resize(INPUT_SHAPE).convert('L')\n",
        "        processed_observation = np.array(img)\n",
        "        \n",
        "        assert processed_observation.shape == INPUT_SHAPE\n",
        "        return processed_observation.astype('uint8')  # saves storage in experience memory\n",
        "\n",
        "    def process_state_batch(self, batch):\n",
        "        processed_batch = batch.astype('float32') / 255.\n",
        "        return processed_batch\n",
        "\n",
        "    def process_reward(self, reward):\n",
        "        return np.clip(reward, -1., 1.)"
      ],
      "execution_count": 0,
      "outputs": []
    },
    {
      "cell_type": "code",
      "metadata": {
        "id": "W6QI3zYOLOwj",
        "colab_type": "code",
        "colab": {}
      },
      "source": [
        "processor = PongProcessor()"
      ],
      "execution_count": 0,
      "outputs": []
    },
    {
      "cell_type": "markdown",
      "metadata": {
        "id": "tfGxs5qUaxo0",
        "colab_type": "text"
      },
      "source": [
        "# CNN"
      ]
    },
    {
      "cell_type": "code",
      "metadata": {
        "id": "c6GlW1ZUUO8_",
        "colab_type": "code",
        "colab": {}
      },
      "source": [
        "def createModel(transferModel = None):\n",
        "    input_shape = (WINDOW_LENGTH,) + INPUT_SHAPE\n",
        "\n",
        "    model = Sequential()\n",
        "    if transferModel is not None:\n",
        "        model.add(transferModel)\n",
        "    else:\n",
        "        model.add(Permute((2, 3, 1), input_shape=input_shape))\n",
        "\n",
        "    model.add(Convolution2D(32, (8, 8), strides=(4, 4)))\n",
        "    model.add(Activation('relu'))\n",
        "    model.add(Convolution2D(64, (4, 4), strides=(2, 2)))\n",
        "    model.add(Activation('relu'))\n",
        "    model.add(Convolution2D(64, (3, 3), strides=(1, 1)))\n",
        "    model.add(Activation('relu'))\n",
        "    model.add(Flatten())\n",
        "    model.add(Dense(512))\n",
        "    model.add(Activation('relu'))\n",
        "    model.add(Dense(nb_actions))\n",
        "    model.add(Activation('sigmoid'))  \n",
        "    return model\n"
      ],
      "execution_count": 0,
      "outputs": []
    },
    {
      "cell_type": "code",
      "metadata": {
        "id": "Gc9Tqn5sLT1z",
        "colab_type": "code",
        "outputId": "a0045a26-8178-45e9-d335-fc3bad33a1d3",
        "colab": {
          "base_uri": "https://localhost:8080/",
          "height": 0
        }
      },
      "source": [
        "model = createModel()\n",
        "print(model.summary())"
      ],
      "execution_count": 7,
      "outputs": [
        {
          "output_type": "stream",
          "text": [
            "WARNING:tensorflow:From /usr/local/lib/python3.6/dist-packages/keras/backend/tensorflow_backend.py:66: The name tf.get_default_graph is deprecated. Please use tf.compat.v1.get_default_graph instead.\n",
            "\n",
            "WARNING:tensorflow:From /usr/local/lib/python3.6/dist-packages/keras/backend/tensorflow_backend.py:541: The name tf.placeholder is deprecated. Please use tf.compat.v1.placeholder instead.\n",
            "\n",
            "WARNING:tensorflow:From /usr/local/lib/python3.6/dist-packages/keras/backend/tensorflow_backend.py:4432: The name tf.random_uniform is deprecated. Please use tf.random.uniform instead.\n",
            "\n",
            "Model: \"sequential_1\"\n",
            "_________________________________________________________________\n",
            "Layer (type)                 Output Shape              Param #   \n",
            "=================================================================\n",
            "permute_1 (Permute)          (None, 84, 84, 4)         0         \n",
            "_________________________________________________________________\n",
            "conv2d_1 (Conv2D)            (None, 20, 20, 32)        8224      \n",
            "_________________________________________________________________\n",
            "activation_1 (Activation)    (None, 20, 20, 32)        0         \n",
            "_________________________________________________________________\n",
            "conv2d_2 (Conv2D)            (None, 9, 9, 64)          32832     \n",
            "_________________________________________________________________\n",
            "activation_2 (Activation)    (None, 9, 9, 64)          0         \n",
            "_________________________________________________________________\n",
            "conv2d_3 (Conv2D)            (None, 7, 7, 64)          36928     \n",
            "_________________________________________________________________\n",
            "activation_3 (Activation)    (None, 7, 7, 64)          0         \n",
            "_________________________________________________________________\n",
            "flatten_1 (Flatten)          (None, 3136)              0         \n",
            "_________________________________________________________________\n",
            "dense_1 (Dense)              (None, 512)               1606144   \n",
            "_________________________________________________________________\n",
            "activation_4 (Activation)    (None, 512)               0         \n",
            "_________________________________________________________________\n",
            "dense_2 (Dense)              (None, 6)                 3078      \n",
            "_________________________________________________________________\n",
            "activation_5 (Activation)    (None, 6)                 0         \n",
            "=================================================================\n",
            "Total params: 1,687,206\n",
            "Trainable params: 1,687,206\n",
            "Non-trainable params: 0\n",
            "_________________________________________________________________\n",
            "None\n"
          ],
          "name": "stdout"
        }
      ]
    },
    {
      "cell_type": "markdown",
      "metadata": {
        "id": "0jjRvhJ6a7rv",
        "colab_type": "text"
      },
      "source": [
        "# Memory and policy"
      ]
    },
    {
      "cell_type": "code",
      "metadata": {
        "id": "Ni1mhPqvUO32",
        "colab_type": "code",
        "colab": {}
      },
      "source": [
        "memory = SequentialMemory(limit=1000000, window_length=WINDOW_LENGTH)\n",
        "\n",
        "policy = LinearAnnealedPolicy(EpsGreedyQPolicy(), attr='eps', value_max=1., value_min=.1, value_test=.05,\n",
        "                              nb_steps=1000000)\n",
        "\n",
        "#policy = BoltzmannQPolicy(tau=1.)"
      ],
      "execution_count": 0,
      "outputs": []
    },
    {
      "cell_type": "markdown",
      "metadata": {
        "id": "tKjMsMxaa_zw",
        "colab_type": "text"
      },
      "source": [
        "# Agente"
      ]
    },
    {
      "cell_type": "markdown",
      "metadata": {
        "id": "Rz6gy7ZKbCzg",
        "colab_type": "text"
      },
      "source": [
        "## Create"
      ]
    },
    {
      "cell_type": "code",
      "metadata": {
        "id": "mhrHpy3UUVSn",
        "colab_type": "code",
        "colab": {}
      },
      "source": [
        "dqn = DQNAgent(\n",
        "    nb_actions=nb_actions, \n",
        "    model=model, \n",
        "    policy=policy, \n",
        "    memory=memory,\n",
        "    processor=processor, \n",
        "    nb_steps_warmup=10000, \n",
        "    target_model_update=1e-2,\n",
        "    gamma=.99)\n"
      ],
      "execution_count": 0,
      "outputs": []
    },
    {
      "cell_type": "markdown",
      "metadata": {
        "id": "zkGwB8CfeWOn",
        "colab_type": "text"
      },
      "source": [
        "## Optimizer"
      ]
    },
    {
      "cell_type": "code",
      "metadata": {
        "id": "27SQvAKFeYUp",
        "colab_type": "code",
        "colab": {}
      },
      "source": [
        "optimizer = Adam(lr=.00025)\n",
        "optimizer = SGD()\n",
        "optimizer = RMSprop (lr = .00025, rho = 0.95, epsilon = 0.01)"
      ],
      "execution_count": 0,
      "outputs": []
    },
    {
      "cell_type": "markdown",
      "metadata": {
        "id": "5gev9xBjbGQT",
        "colab_type": "text"
      },
      "source": [
        "## Compile"
      ]
    },
    {
      "cell_type": "code",
      "metadata": {
        "id": "w_IJhPfUUVVP",
        "colab_type": "code",
        "outputId": "ff7a76ee-f809-4fd5-a9de-fa30ba647846",
        "colab": {
          "base_uri": "https://localhost:8080/",
          "height": 0
        }
      },
      "source": [
        "#compilar modelo\n",
        "dqn.compile(optimizer, metrics=['mae'])"
      ],
      "execution_count": 11,
      "outputs": [
        {
          "output_type": "stream",
          "text": [
            "WARNING:tensorflow:From /usr/local/lib/python3.6/dist-packages/keras/backend/tensorflow_backend.py:190: The name tf.get_default_session is deprecated. Please use tf.compat.v1.get_default_session instead.\n",
            "\n",
            "WARNING:tensorflow:From /usr/local/lib/python3.6/dist-packages/keras/backend/tensorflow_backend.py:197: The name tf.ConfigProto is deprecated. Please use tf.compat.v1.ConfigProto instead.\n",
            "\n",
            "WARNING:tensorflow:From /usr/local/lib/python3.6/dist-packages/keras/optimizers.py:793: The name tf.train.Optimizer is deprecated. Please use tf.compat.v1.train.Optimizer instead.\n",
            "\n"
          ],
          "name": "stdout"
        }
      ]
    },
    {
      "cell_type": "code",
      "metadata": {
        "id": "YYDq8IuL-gp4",
        "colab_type": "code",
        "colab": {}
      },
      "source": [
        "def GuardarPesos(nombreArchivo):\n",
        "    dqn.save_weights(BASE_FOLDER + nombreArchivo, overwrite=True)\n",
        "    if enlazarGoogleDrive:\n",
        "        dqn.save_weights(RUTA_GOOGLE + nombreArchivo, overwrite=True)   \n",
        "    print(\"Pesos guardados\") \n",
        "\n",
        "def TestGeneral(eposidiosEvaluar = 10, debugTest = False):\n",
        "    print()\n",
        "    acumuladorReward = 0\n",
        "    acumuladorSteps = 0\n",
        "\n",
        "    print(\"Ejecutando test\", end=\"\")\n",
        "    for i in range(eposidiosEvaluar):\n",
        "        print(\".\", end=\"\")\n",
        "        verLog = 0\n",
        "        if debugTest:\n",
        "            print(\"*******************************************************\")\n",
        "            print(\"*                        %d                             *\" %(i))\n",
        "            print(\"*******************************************************\")\n",
        "            verLog = 1\n",
        "\n",
        "        rta = dqn.test(env, \n",
        "                      nb_episodes=1, \n",
        "                      visualize=graficosVisualesGame,\n",
        "                      verbose=verLog).history\n",
        "        reward = rta['episode_reward'][0]\n",
        "        steps = rta['nb_steps'][0]\n",
        "\n",
        "        if debugTest:\n",
        "            print(\"episode_reward: \",reward)\n",
        "            print(\"nb_steps: \",steps)\n",
        "        \n",
        "        acumuladorReward += reward\n",
        "        acumuladorSteps += steps\n",
        "    print()\n",
        "    promedioSteps = acumuladorSteps / eposidiosEvaluar\n",
        "    promedioReward = acumuladorReward / eposidiosEvaluar\n",
        "\n",
        "    print(\"Promedio Reward: \",  promedioReward)\n",
        "    print(\"Promedio Steps: \",  promedioSteps)"
      ],
      "execution_count": 0,
      "outputs": []
    },
    {
      "cell_type": "markdown",
      "metadata": {
        "id": "msPKZklecYeQ",
        "colab_type": "text"
      },
      "source": [
        "## callbacks"
      ]
    },
    {
      "cell_type": "code",
      "metadata": {
        "id": "UVyUNsCQcdcL",
        "colab_type": "code",
        "colab": {}
      },
      "source": [
        "callbacksParametrizados = list()"
      ],
      "execution_count": 0,
      "outputs": []
    },
    {
      "cell_type": "code",
      "metadata": {
        "id": "Wg9-i8fhUVb0",
        "colab_type": "code",
        "colab": {}
      },
      "source": [
        "#Para algunos casos es importante saber cual entrenamiento fue mejor, \n",
        "#este callback guarda el modelo tras cada epoca completada con el fin de si luego se desea un registro de pesos para cada epoca\n",
        "#Se ha usado este callback para poder optener el mejor modelo de pesos, sobretodo en la red neuronal creada desde cero\n",
        "#siendo de gran utilidad para determinar el como ir modificando los layer hasta obtener el mejor modelo\n",
        "checkpoint_weights_filename = 'dqn_' + ENV_NAME + '_weights_{step}.h5f'\n",
        "guardarModeloCadaCiertoIntervaloDeSteps = ModelIntervalCheckpoint(checkpoint_weights_filename, interval=50000)\n",
        "\n",
        "callbacksParametrizados.append(guardarModeloCadaCiertoIntervaloDeSteps)"
      ],
      "execution_count": 0,
      "outputs": []
    },
    {
      "cell_type": "code",
      "metadata": {
        "id": "udkGJRdCcgvD",
        "colab_type": "code",
        "colab": {}
      },
      "source": [
        "log_filename = 'dqn_{}_log.json'.format(ENV_NAME)\n",
        "guardarModelo = FileLogger(log_filename, interval=100)\n",
        "\n",
        "callbacksParametrizados.append(guardarModelo)"
      ],
      "execution_count": 0,
      "outputs": []
    },
    {
      "cell_type": "code",
      "metadata": {
        "id": "oyORz4SFFEm6",
        "colab_type": "code",
        "colab": {}
      },
      "source": [
        "tb_log_dir = 'logs/tmp'\n",
        "tb_callback = TensorBoard(log_dir=tb_log_dir, histogram_freq=0, write_graph=True)\n",
        "\n",
        "callbacksParametrizados.append(tb_callback)"
      ],
      "execution_count": 0,
      "outputs": []
    },
    {
      "cell_type": "code",
      "metadata": {
        "id": "5IgkOgT63aVs",
        "colab_type": "code",
        "outputId": "f64f5083-529b-49f9-e56b-d47c3c8006da",
        "colab": {
          "base_uri": "https://localhost:8080/",
          "height": 0
        }
      },
      "source": [
        "\"\"\"\n",
        "#EarlyStopping, detener el entrenamiento una vez que su pérdida comienza a aumentar \n",
        "early_stop = EarlyStopping(\n",
        "    monitor='val_loss', \n",
        "    patience=5, #argumento de patience representa el número de épocas antes de detenerse una vez que su pérdida comienza a aumentar (deja de mejorar). \n",
        "    min_delta=0,  #es un umbral para cuantificar una pérdida en alguna época como mejora o no. Si la diferencia de pérdida es inferior a min_delta , se cuantifica como no mejora. Es mejor dejarlo como 0 ya que estamos interesados ​​en cuando la pérdida empeora.\n",
        "    mode='auto')\n",
        "\n",
        "callbacksParametrizados.append(early_stop)\n",
        "\"\"\""
      ],
      "execution_count": 17,
      "outputs": [
        {
          "output_type": "execute_result",
          "data": {
            "text/plain": [
              "\"\\n#EarlyStopping, detener el entrenamiento una vez que su pérdida comienza a aumentar \\nearly_stop = EarlyStopping(\\n    monitor='val_loss', \\n    patience=5, #argumento de patience representa el número de épocas antes de detenerse una vez que su pérdida comienza a aumentar (deja de mejorar). \\n    min_delta=0,  #es un umbral para cuantificar una pérdida en alguna época como mejora o no. Si la diferencia de pérdida es inferior a min_delta , se cuantifica como no mejora. Es mejor dejarlo como 0 ya que estamos interesados \\u200b\\u200ben cuando la pérdida empeora.\\n    mode='auto')\\n\\ncallbacksParametrizados.append(early_stop)\\n\""
            ]
          },
          "metadata": {
            "tags": []
          },
          "execution_count": 17
        }
      ]
    },
    {
      "cell_type": "code",
      "metadata": {
        "id": "YknGtovJ3lVp",
        "colab_type": "code",
        "outputId": "474cc6c5-6ed1-401f-bdce-ea174262f227",
        "colab": {
          "base_uri": "https://localhost:8080/",
          "height": 0
        }
      },
      "source": [
        "\"\"\"\n",
        "#ReduceLROnPlateau, que si el entrenamiento no mejora tras unos epochs específicos, reduce el valor de learning rate del modelo\n",
        "reduce_lr = ReduceLROnPlateau(\n",
        "    monitor='val_loss', \n",
        "    factor=0.1, \n",
        "    patience=5, \n",
        "    epsilon=1e-4, \n",
        "    mode='min')\n",
        "\n",
        "callbacksParametrizados.append(reduce_lr)\n",
        "\"\"\""
      ],
      "execution_count": 18,
      "outputs": [
        {
          "output_type": "execute_result",
          "data": {
            "text/plain": [
              "\"\\n#ReduceLROnPlateau, que si el entrenamiento no mejora tras unos epochs específicos, reduce el valor de learning rate del modelo\\nreduce_lr = ReduceLROnPlateau(\\n    monitor='val_loss', \\n    factor=0.1, \\n    patience=5, \\n    epsilon=1e-4, \\n    mode='min')\\n\\ncallbacksParametrizados.append(reduce_lr)\\n\""
            ]
          },
          "metadata": {
            "tags": []
          },
          "execution_count": 18
        }
      ]
    },
    {
      "cell_type": "code",
      "metadata": {
        "id": "zx7bjsbqcmR_",
        "colab_type": "code",
        "outputId": "02293af2-9092-4ed4-f23a-f577819b481f",
        "colab": {
          "base_uri": "https://localhost:8080/",
          "height": 0
        }
      },
      "source": [
        "len(callbacksParametrizados)"
      ],
      "execution_count": 19,
      "outputs": [
        {
          "output_type": "execute_result",
          "data": {
            "text/plain": [
              "3"
            ]
          },
          "metadata": {
            "tags": []
          },
          "execution_count": 19
        }
      ]
    },
    {
      "cell_type": "markdown",
      "metadata": {
        "id": "RtiWUrHcbTVL",
        "colab_type": "text"
      },
      "source": [
        "# Fit"
      ]
    },
    {
      "cell_type": "markdown",
      "metadata": {
        "id": "A_xnveJRF96g",
        "colab_type": "text"
      },
      "source": [
        "## Config"
      ]
    },
    {
      "cell_type": "code",
      "metadata": {
        "id": "hU1UN8Qbe9CN",
        "colab_type": "code",
        "colab": {}
      },
      "source": [
        "usarPesosEntrenados = True\n",
        "testearAlFinalEntrenamiento = False  #si se hace un testeo, se guarda solo si hay mejoria\n",
        "guardarSiempreDespuesCadaEntrenamiento = True\n",
        "graficosVisualesGame = False"
      ],
      "execution_count": 0,
      "outputs": []
    },
    {
      "cell_type": "code",
      "metadata": {
        "id": "KmMWtVozfM9E",
        "colab_type": "code",
        "colab": {}
      },
      "source": [
        "totalSteps = 500000\n",
        "intervalo = 5000\n",
        "\n",
        "cantidadEntrenamientos = 50 #cantidad de veces que repito el entrenamiento con el totalSteps\n",
        "\n",
        "#si totalSteps = 100000 y intervalo = 10000, entonces se haran 10 intervalos"
      ],
      "execution_count": 0,
      "outputs": []
    },
    {
      "cell_type": "code",
      "metadata": {
        "id": "G916NzbUgYiY",
        "colab_type": "code",
        "colab": {}
      },
      "source": [
        "#archivo guardar pesos\n",
        "weights_filename = 'dqn_' + ENV_NAME + '_weights3.h5f'"
      ],
      "execution_count": 0,
      "outputs": []
    },
    {
      "cell_type": "markdown",
      "metadata": {
        "id": "Qfu50LxlGDVN",
        "colab_type": "text"
      },
      "source": [
        "## Load old training"
      ]
    },
    {
      "cell_type": "code",
      "metadata": {
        "id": "3XoN6TgNE9NU",
        "colab_type": "code",
        "outputId": "83619b47-a243-4ff2-bcf4-320865162332",
        "colab": {
          "base_uri": "https://localhost:8080/",
          "height": 231
        }
      },
      "source": [
        "if isColabGoogle:\n",
        "    from google.colab import files\n",
        "\n",
        "    uploaded = files.upload()\n",
        "\n",
        "    for fn in uploaded.keys():\n",
        "      print('User uploaded file \"{name}\" with length {length} bytes'.format(\n",
        "          name=fn, length=len(uploaded[fn])))"
      ],
      "execution_count": 23,
      "outputs": [
        {
          "output_type": "error",
          "ename": "NameError",
          "evalue": "ignored",
          "traceback": [
            "\u001b[0;31m---------------------------------------------------------------------------\u001b[0m",
            "\u001b[0;31mNameError\u001b[0m                                 Traceback (most recent call last)",
            "\u001b[0;32m<ipython-input-23-702abf08cc56>\u001b[0m in \u001b[0;36m<module>\u001b[0;34m()\u001b[0m\n\u001b[0;32m----> 1\u001b[0;31m \u001b[0;32mif\u001b[0m \u001b[0misColabGoogle\u001b[0m\u001b[0;34m:\u001b[0m\u001b[0;34m\u001b[0m\u001b[0;34m\u001b[0m\u001b[0m\n\u001b[0m\u001b[1;32m      2\u001b[0m     \u001b[0;32mfrom\u001b[0m \u001b[0mgoogle\u001b[0m\u001b[0;34m.\u001b[0m\u001b[0mcolab\u001b[0m \u001b[0;32mimport\u001b[0m \u001b[0mfiles\u001b[0m\u001b[0;34m\u001b[0m\u001b[0;34m\u001b[0m\u001b[0m\n\u001b[1;32m      3\u001b[0m \u001b[0;34m\u001b[0m\u001b[0m\n\u001b[1;32m      4\u001b[0m     \u001b[0muploaded\u001b[0m \u001b[0;34m=\u001b[0m \u001b[0mfiles\u001b[0m\u001b[0;34m.\u001b[0m\u001b[0mupload\u001b[0m\u001b[0;34m(\u001b[0m\u001b[0;34m)\u001b[0m\u001b[0;34m\u001b[0m\u001b[0;34m\u001b[0m\u001b[0m\n\u001b[1;32m      5\u001b[0m \u001b[0;34m\u001b[0m\u001b[0m\n",
            "\u001b[0;31mNameError\u001b[0m: name 'isColabGoogle' is not defined"
          ]
        }
      ]
    },
    {
      "cell_type": "code",
      "metadata": {
        "id": "j9V3ZUZ52f0P",
        "colab_type": "code",
        "outputId": "83c2af48-77c4-4cff-d72d-f1b0ad40a302",
        "colab": {
          "base_uri": "https://localhost:8080/",
          "height": 85
        }
      },
      "source": [
        "primerTest = True\n",
        "if usarPesosEntrenados:    \n",
        "    if isColabGoogle:\n",
        "        print(\"Archivos disponibles: \")\n",
        "        !ls '/content/gdrive/My Drive/Master IA/AprendizajePorRefuerzo/'\n",
        "        print(\"Buscando archivo: \" + weights_filename)\n",
        "    try:              \n",
        "        dqn.load_weights(BASE_FOLDER + weights_filename)\n",
        "        print(\"Carga de archivo de pesos completa.\")\n",
        "        if primerTest:\n",
        "            #scoreOld = dqn.test(env, nb_episodes=5, visualize=graficosVisualesGame).history['episode_reward'][1]\n",
        "            #TestGeneral(10, True)\n",
        "            dqn.test(env, \n",
        "                nb_episodes=10, \n",
        "                visualize=graficosVisualesGame)\n",
        "    except:\n",
        "        scoreOld = -50\n",
        "        print(\"No se encontro archivos de pesos\")\n",
        "        pass"
      ],
      "execution_count": 28,
      "outputs": [
        {
          "output_type": "stream",
          "text": [
            "Archivos disponibles: \n",
            "ls: cannot access '/content/gdrive/My Drive/Master IA/AprendizajePorRefuerzo/': No such file or directory\n",
            "Buscando archivo: dqn_PongDeterministic-v0_weights3.h5f\n",
            "No se encontro archivos de pesos\n"
          ],
          "name": "stdout"
        }
      ]
    },
    {
      "cell_type": "markdown",
      "metadata": {
        "id": "zZ9J6q_DGLho",
        "colab_type": "text"
      },
      "source": [
        "## True Training"
      ]
    },
    {
      "cell_type": "code",
      "metadata": {
        "id": "NU_M13HL_Por",
        "colab_type": "code",
        "outputId": "66aaf146-d0d9-49eb-f8b4-2ade9afc593a",
        "colab": {
          "base_uri": "https://localhost:8080/",
          "height": 34
        }
      },
      "source": [
        "GuardarPesos(weights_filename)"
      ],
      "execution_count": 29,
      "outputs": [
        {
          "output_type": "stream",
          "text": [
            "Pesos guardados\n"
          ],
          "name": "stdout"
        }
      ]
    },
    {
      "cell_type": "code",
      "metadata": {
        "id": "Tfd2Asw22h-r",
        "colab_type": "code",
        "outputId": "9c357aad-c998-4889-b56d-f0a18d21d67f",
        "colab": {
          "base_uri": "https://localhost:8080/",
          "height": 649
        }
      },
      "source": [
        "if entrenar:    \n",
        "    try:\n",
        "        dqn.fit(env, \n",
        "                callbacks=callbacksParametrizados, \n",
        "                nb_steps=31000, \n",
        "                log_interval=intervalo, \n",
        "                visualize=graficosVisualesGame) #, \n",
        "                #verbose=2)\n",
        "    except:\n",
        "        pass\n",
        "    if primerTest:        \n",
        "        TestGeneral(5)\n",
        "    GuardarPesos(weights_filename)"
      ],
      "execution_count": 30,
      "outputs": [
        {
          "output_type": "stream",
          "text": [
            "WARNING:tensorflow:From /usr/local/lib/python3.6/dist-packages/keras/callbacks.py:1122: The name tf.summary.merge_all is deprecated. Please use tf.compat.v1.summary.merge_all instead.\n",
            "\n",
            "WARNING:tensorflow:From /usr/local/lib/python3.6/dist-packages/keras/callbacks.py:1125: The name tf.summary.FileWriter is deprecated. Please use tf.compat.v1.summary.FileWriter instead.\n",
            "\n",
            "Training for 31000 steps ...\n",
            "Interval 1 (0 steps performed)\n",
            "5000/5000 [==============================] - 18s 4ms/step - reward: -0.0224\n",
            "5 episodes - episode_reward: -20.600 [-21.000, -20.000] - ale.lives: 0.000\n",
            "\n",
            "Interval 2 (5000 steps performed)\n",
            "5000/5000 [==============================] - 17s 3ms/step - reward: -0.0224\n",
            "5 episodes - episode_reward: -20.400 [-21.000, -19.000] - ale.lives: 0.000\n",
            "\n",
            "Interval 3 (10000 steps performed)\n",
            "5000/5000 [==============================] - 141s 28ms/step - reward: -0.0212\n",
            "6 episodes - episode_reward: -20.667 [-21.000, -20.000] - loss: 0.012 - mean_absolute_error: 0.180 - mean_q: 0.215 - mean_eps: 0.989 - ale.lives: 0.000\n",
            "\n",
            "Interval 4 (15000 steps performed)\n",
            "5000/5000 [==============================] - 140s 28ms/step - reward: -0.0226\n",
            "5 episodes - episode_reward: -20.200 [-21.000, -20.000] - loss: 0.012 - mean_absolute_error: 0.005 - mean_q: 0.001 - mean_eps: 0.984 - ale.lives: 0.000\n",
            "\n",
            "Interval 5 (20000 steps performed)\n",
            "5000/5000 [==============================] - 142s 28ms/step - reward: -0.0226\n",
            "6 episodes - episode_reward: -20.500 [-21.000, -19.000] - loss: 0.012 - mean_absolute_error: 0.004 - mean_q: 0.000 - mean_eps: 0.980 - ale.lives: 0.000\n",
            "\n",
            "Interval 6 (25000 steps performed)\n",
            "5000/5000 [==============================] - 142s 28ms/step - reward: -0.0210\n",
            "5 episodes - episode_reward: -20.200 [-21.000, -19.000] - loss: 0.012 - mean_absolute_error: 0.004 - mean_q: 0.000 - mean_eps: 0.975 - ale.lives: 0.000\n",
            "\n",
            "Interval 7 (30000 steps performed)\n",
            " 999/5000 [====>.........................] - ETA: 1:53 - reward: -0.0220done, took 629.627 seconds\n",
            "\n",
            "Ejecutando test.....\n",
            "Promedio Reward:  -21.0\n",
            "Promedio Steps:  764.0\n",
            "Pesos guardados\n"
          ],
          "name": "stdout"
        }
      ]
    },
    {
      "cell_type": "code",
      "metadata": {
        "id": "EJVHCGUMUVe2",
        "colab_type": "code",
        "outputId": "67f6b7fe-8d53-420d-9990-6d8009575c83",
        "colab": {
          "base_uri": "https://localhost:8080/",
          "height": 1000
        }
      },
      "source": [
        "if entrenar:\n",
        "    conteo = 0\n",
        "    entrenar = False\n",
        "    agenteOld = None\n",
        "    for i in range(cantidadEntrenamientos):\n",
        "        print(\"*****************************************************\")\n",
        "        print(\"*****************************************************\")\n",
        "        print(\"**                                                 **\")\n",
        "        print(\"**                                                 **\")\n",
        "        print(\"**                                                 **\")\n",
        "        print(\"**                       %d                         **\" %(i))\n",
        "        print(\"**                                                 **\")\n",
        "        print(\"**                                                 **\")\n",
        "        print(\"**                                                 **\")\n",
        "        print(\"*****************************************************\")\n",
        "        print(\"*****************************************************\")\n",
        "        # Training part\n",
        "        try:\n",
        "            dqn.fit(env, \n",
        "                    callbacks=callbacksParametrizados, \n",
        "                    nb_steps=totalSteps, \n",
        "                    log_interval=intervalo, \n",
        "                    visualize=graficosVisualesGame) #, \n",
        "                    #verbose=2)            \n",
        "        except:\n",
        "            print(\"Error al entrenar, se ha interrumpido el fit\")\n",
        "            pass\n",
        "        \n",
        "        if guardarSiempreDespuesCadaEntrenamiento:\n",
        "            GuardarPesos(weights_filename)\n",
        "       \n",
        "        if testearAlFinalEntrenamiento:\n",
        "            testEval = dqn.test(env, nb_episodes=5, visualize=graficosVisualesGame).history['episode_reward'][1]       \n",
        "\n",
        "            if scoreOld < testEval:\n",
        "                scoreOld = testEval\n",
        "                agenteOld = dqn\n",
        "                GuardarPesos(\"Avanced-\" + weights_filename)\n",
        "                print(\"Guardando pesos\", scoreOld)\n",
        "            else:\n",
        "                print(\"No hubo mejora, no se guarda este modelo.\")\n",
        "                conteo += 1\n",
        "                if conteo > 3:\n",
        "                    pass\n",
        "                    break\n",
        "                dqn = agenteOld   \n",
        "        else:\n",
        "            GuardarPesos(weights_filename)\n",
        "            #dqn.test(env, nb_episodes=5, visualize=graficosVisualesGame)\n",
        "            TestGeneral(5)\n",
        "else:    \n",
        "    dqn.load_weights(weights_filename)"
      ],
      "execution_count": 0,
      "outputs": [
        {
          "output_type": "stream",
          "text": [
            "*****************************************************\n",
            "*****************************************************\n",
            "**                                                 **\n",
            "**                                                 **\n",
            "**                                                 **\n",
            "**                       0                         **\n",
            "**                                                 **\n",
            "**                                                 **\n",
            "**                                                 **\n",
            "*****************************************************\n",
            "*****************************************************\n",
            "Training for 500000 steps ...\n",
            "Interval 1 (0 steps performed)\n",
            "5000/5000 [==============================] - 17s 3ms/step - reward: -0.0226\n",
            "5 episodes - episode_reward: -20.400 [-21.000, -20.000] - ale.lives: 0.000\n",
            "\n",
            "Interval 2 (5000 steps performed)\n",
            "5000/5000 [==============================] - 17s 3ms/step - reward: -0.0214\n",
            "5 episodes - episode_reward: -20.200 [-21.000, -20.000] - ale.lives: 0.000\n",
            "\n",
            "Interval 3 (10000 steps performed)\n",
            "5000/5000 [==============================] - 140s 28ms/step - reward: -0.0254\n",
            "6 episodes - episode_reward: -20.833 [-21.000, -20.000] - loss: 0.012 - mean_absolute_error: 0.004 - mean_q: 0.000 - mean_eps: 0.989 - ale.lives: 0.000\n",
            "\n",
            "Interval 4 (15000 steps performed)\n",
            "5000/5000 [==============================] - 139s 28ms/step - reward: -0.0238\n",
            "6 episodes - episode_reward: -20.833 [-21.000, -20.000] - loss: 0.012 - mean_absolute_error: 0.004 - mean_q: 0.000 - mean_eps: 0.984 - ale.lives: 0.000\n",
            "\n",
            "Interval 5 (20000 steps performed)\n",
            "5000/5000 [==============================] - 140s 28ms/step - reward: -0.0240\n",
            "6 episodes - episode_reward: -21.000 [-21.000, -21.000] - loss: 0.012 - mean_absolute_error: 0.004 - mean_q: 0.000 - mean_eps: 0.980 - ale.lives: 0.000\n",
            "\n",
            "Interval 6 (25000 steps performed)\n",
            "4365/5000 [=========================>....] - ETA: 17s - reward: -0.0220Error al entrenar, se ha interrumpido el fit\n",
            "Pesos guardados\n",
            "Pesos guardados\n",
            "\n",
            "Ejecutando test.....\n",
            "Promedio Reward:  -21.0\n",
            "Promedio Steps:  764.0\n",
            "*****************************************************\n",
            "*****************************************************\n",
            "**                                                 **\n",
            "**                                                 **\n",
            "**                                                 **\n",
            "**                       1                         **\n",
            "**                                                 **\n",
            "**                                                 **\n",
            "**                                                 **\n",
            "*****************************************************\n",
            "*****************************************************\n",
            "Training for 500000 steps ...\n",
            "Interval 1 (0 steps performed)\n",
            "5000/5000 [==============================] - 17s 3ms/step - reward: -0.0228\n",
            "5 episodes - episode_reward: -20.400 [-21.000, -20.000] - ale.lives: 0.000\n",
            "\n",
            "Interval 2 (5000 steps performed)\n",
            "5000/5000 [==============================] - 17s 3ms/step - reward: -0.0232\n",
            "6 episodes - episode_reward: -20.667 [-21.000, -20.000] - ale.lives: 0.000\n",
            "\n",
            "Interval 3 (10000 steps performed)\n",
            "5000/5000 [==============================] - 139s 28ms/step - reward: -0.0234\n",
            "5 episodes - episode_reward: -20.800 [-21.000, -20.000] - loss: 0.012 - mean_absolute_error: 0.004 - mean_q: 0.000 - mean_eps: 0.989 - ale.lives: 0.000\n",
            "\n",
            "Interval 4 (15000 steps performed)\n",
            "5000/5000 [==============================] - 139s 28ms/step - reward: -0.0208\n",
            "6 episodes - episode_reward: -20.000 [-21.000, -19.000] - loss: 0.012 - mean_absolute_error: 0.004 - mean_q: 0.000 - mean_eps: 0.984 - ale.lives: 0.000\n",
            "\n",
            "Interval 5 (20000 steps performed)\n",
            "5000/5000 [==============================] - 139s 28ms/step - reward: -0.0200\n",
            "5 episodes - episode_reward: -19.600 [-21.000, -18.000] - loss: 0.012 - mean_absolute_error: 0.004 - mean_q: 0.000 - mean_eps: 0.980 - ale.lives: 0.000\n",
            "\n",
            "Interval 6 (25000 steps performed)\n",
            "5000/5000 [==============================] - 139s 28ms/step - reward: -0.0228\n",
            "5 episodes - episode_reward: -20.400 [-21.000, -20.000] - loss: 0.012 - mean_absolute_error: 0.004 - mean_q: 0.000 - mean_eps: 0.975 - ale.lives: 0.000\n",
            "\n",
            "Interval 7 (30000 steps performed)\n",
            " 183/5000 [>.............................] - ETA: 2:15 - reward: -0.0328Error al entrenar, se ha interrumpido el fit\n",
            "Pesos guardados\n",
            "Pesos guardados\n",
            "\n",
            "Ejecutando test.....\n",
            "Promedio Reward:  -21.0\n",
            "Promedio Steps:  764.0\n",
            "*****************************************************\n",
            "*****************************************************\n",
            "**                                                 **\n",
            "**                                                 **\n",
            "**                                                 **\n",
            "**                       2                         **\n",
            "**                                                 **\n",
            "**                                                 **\n",
            "**                                                 **\n",
            "*****************************************************\n",
            "*****************************************************\n",
            "Training for 500000 steps ...\n",
            "Interval 1 (0 steps performed)\n",
            "5000/5000 [==============================] - 17s 3ms/step - reward: -0.0202\n",
            "5 episodes - episode_reward: -20.400 [-21.000, -20.000] - ale.lives: 0.000\n",
            "\n",
            "Interval 2 (5000 steps performed)\n",
            "5000/5000 [==============================] - 17s 3ms/step - reward: -0.0210\n",
            "5 episodes - episode_reward: -20.000 [-21.000, -18.000] - ale.lives: 0.000\n",
            "\n",
            "Interval 3 (10000 steps performed)\n",
            "5000/5000 [==============================] - 140s 28ms/step - reward: -0.0206\n",
            "5 episodes - episode_reward: -20.000 [-21.000, -19.000] - loss: 0.012 - mean_absolute_error: 0.004 - mean_q: 0.000 - mean_eps: 0.989 - ale.lives: 0.000\n",
            "\n",
            "Interval 4 (15000 steps performed)\n",
            "5000/5000 [==============================] - 140s 28ms/step - reward: -0.0204\n",
            "5 episodes - episode_reward: -19.800 [-21.000, -18.000] - loss: 0.012 - mean_absolute_error: 0.004 - mean_q: 0.000 - mean_eps: 0.984 - ale.lives: 0.000\n",
            "\n",
            "Interval 5 (20000 steps performed)\n",
            "5000/5000 [==============================] - 140s 28ms/step - reward: -0.0228\n",
            "6 episodes - episode_reward: -20.500 [-21.000, -20.000] - loss: 0.012 - mean_absolute_error: 0.004 - mean_q: 0.000 - mean_eps: 0.980 - ale.lives: 0.000\n",
            "\n",
            "Interval 6 (25000 steps performed)\n",
            "5000/5000 [==============================] - 139s 28ms/step - reward: -0.0208\n",
            "5 episodes - episode_reward: -20.600 [-21.000, -19.000] - loss: 0.012 - mean_absolute_error: 0.004 - mean_q: 0.000 - mean_eps: 0.975 - ale.lives: 0.000\n",
            "\n",
            "Interval 7 (30000 steps performed)\n",
            "1837/5000 [==========>...................] - ETA: 1:27 - reward: -0.0201Error al entrenar, se ha interrumpido el fit\n",
            "Pesos guardados\n",
            "Pesos guardados\n",
            "\n",
            "Ejecutando test.....\n",
            "Promedio Reward:  -20.8\n",
            "Promedio Steps:  831.2\n",
            "*****************************************************\n",
            "*****************************************************\n",
            "**                                                 **\n",
            "**                                                 **\n",
            "**                                                 **\n",
            "**                       3                         **\n",
            "**                                                 **\n",
            "**                                                 **\n",
            "**                                                 **\n",
            "*****************************************************\n",
            "*****************************************************\n",
            "Training for 500000 steps ...\n",
            "Interval 1 (0 steps performed)\n",
            "5000/5000 [==============================] - 17s 3ms/step - reward: -0.0188\n",
            "4 episodes - episode_reward: -19.500 [-20.000, -18.000] - ale.lives: 0.000\n",
            "\n",
            "Interval 2 (5000 steps performed)\n",
            "5000/5000 [==============================] - 17s 3ms/step - reward: -0.0226\n",
            "6 episodes - episode_reward: -20.333 [-21.000, -19.000] - ale.lives: 0.000\n",
            "\n",
            "Interval 3 (10000 steps performed)\n",
            "5000/5000 [==============================] - 140s 28ms/step - reward: -0.0224\n",
            "5 episodes - episode_reward: -20.400 [-21.000, -19.000] - loss: 0.012 - mean_absolute_error: 0.004 - mean_q: 0.000 - mean_eps: 0.989 - ale.lives: 0.000\n",
            "\n",
            "Interval 4 (15000 steps performed)\n",
            "5000/5000 [==============================] - 139s 28ms/step - reward: -0.0244\n",
            "6 episodes - episode_reward: -20.667 [-21.000, -20.000] - loss: 0.012 - mean_absolute_error: 0.004 - mean_q: 0.000 - mean_eps: 0.984 - ale.lives: 0.000\n",
            "\n",
            "Interval 5 (20000 steps performed)\n",
            "5000/5000 [==============================] - 140s 28ms/step - reward: -0.0240\n",
            "6 episodes - episode_reward: -20.667 [-21.000, -20.000] - loss: 0.012 - mean_absolute_error: 0.004 - mean_q: 0.000 - mean_eps: 0.980 - ale.lives: 0.000\n",
            "\n",
            "Interval 6 (25000 steps performed)\n",
            "5000/5000 [==============================] - 142s 28ms/step - reward: -0.0224\n",
            "5 episodes - episode_reward: -21.000 [-21.000, -21.000] - loss: 0.012 - mean_absolute_error: 0.004 - mean_q: 0.000 - mean_eps: 0.975 - ale.lives: 0.000\n",
            "\n",
            "Interval 7 (30000 steps performed)\n",
            "  67/5000 [..............................] - ETA: 2:16 - reward: -0.0149Error al entrenar, se ha interrumpido el fit\n",
            "Pesos guardados\n",
            "Pesos guardados\n",
            "\n",
            "Ejecutando test.....\n",
            "Promedio Reward:  -12.6\n",
            "Promedio Steps:  1807.2\n",
            "*****************************************************\n",
            "*****************************************************\n",
            "**                                                 **\n",
            "**                                                 **\n",
            "**                                                 **\n",
            "**                       4                         **\n",
            "**                                                 **\n",
            "**                                                 **\n",
            "**                                                 **\n",
            "*****************************************************\n",
            "*****************************************************\n",
            "Training for 500000 steps ...\n",
            "Interval 1 (0 steps performed)\n",
            "5000/5000 [==============================] - 17s 3ms/step - reward: -0.0206\n",
            "5 episodes - episode_reward: -20.200 [-21.000, -20.000] - ale.lives: 0.000\n",
            "\n",
            "Interval 2 (5000 steps performed)\n",
            "5000/5000 [==============================] - 17s 3ms/step - reward: -0.0220\n",
            "5 episodes - episode_reward: -20.600 [-21.000, -19.000] - ale.lives: 0.000\n",
            "\n",
            "Interval 3 (10000 steps performed)\n",
            "5000/5000 [==============================] - 142s 28ms/step - reward: -0.0250\n",
            "6 episodes - episode_reward: -21.000 [-21.000, -21.000] - loss: 0.012 - mean_absolute_error: 0.004 - mean_q: 0.000 - mean_eps: 0.989 - ale.lives: 0.000\n",
            "\n",
            "Interval 4 (15000 steps performed)\n",
            "5000/5000 [==============================] - 143s 29ms/step - reward: -0.0220\n",
            "5 episodes - episode_reward: -19.800 [-21.000, -18.000] - loss: 0.012 - mean_absolute_error: 0.004 - mean_q: 0.000 - mean_eps: 0.984 - ale.lives: 0.000\n",
            "\n",
            "Interval 5 (20000 steps performed)\n",
            "5000/5000 [==============================] - 140s 28ms/step - reward: -0.0226\n",
            "6 episodes - episode_reward: -21.000 [-21.000, -21.000] - loss: 0.012 - mean_absolute_error: 0.004 - mean_q: 0.000 - mean_eps: 0.980 - ale.lives: 0.000\n",
            "\n",
            "Interval 6 (25000 steps performed)\n",
            "5000/5000 [==============================] - 139s 28ms/step - reward: -0.0230\n",
            "5 episodes - episode_reward: -20.600 [-21.000, -19.000] - loss: 0.012 - mean_absolute_error: 0.004 - mean_q: 0.000 - mean_eps: 0.975 - ale.lives: 0.000\n",
            "\n",
            "Interval 7 (30000 steps performed)\n",
            "  91/5000 [..............................] - ETA: 2:16 - reward: -0.0220Error al entrenar, se ha interrumpido el fit\n",
            "Pesos guardados\n",
            "Pesos guardados\n",
            "\n",
            "Ejecutando test.....\n",
            "Promedio Reward:  -21.0\n",
            "Promedio Steps:  812.0\n",
            "*****************************************************\n",
            "*****************************************************\n",
            "**                                                 **\n",
            "**                                                 **\n",
            "**                                                 **\n",
            "**                       5                         **\n",
            "**                                                 **\n",
            "**                                                 **\n",
            "**                                                 **\n",
            "*****************************************************\n",
            "*****************************************************\n",
            "Training for 500000 steps ...\n",
            "Interval 1 (0 steps performed)\n",
            "5000/5000 [==============================] - 17s 3ms/step - reward: -0.0202\n",
            "5 episodes - episode_reward: -20.200 [-21.000, -20.000] - ale.lives: 0.000\n",
            "\n",
            "Interval 2 (5000 steps performed)\n",
            "5000/5000 [==============================] - 17s 3ms/step - reward: -0.0216\n",
            "5 episodes - episode_reward: -20.200 [-21.000, -18.000] - ale.lives: 0.000\n",
            "\n",
            "Interval 3 (10000 steps performed)\n",
            "5000/5000 [==============================] - 139s 28ms/step - reward: -0.0226\n",
            "5 episodes - episode_reward: -20.400 [-21.000, -19.000] - loss: 0.012 - mean_absolute_error: 0.004 - mean_q: 0.000 - mean_eps: 0.989 - ale.lives: 0.000\n",
            "\n",
            "Interval 4 (15000 steps performed)\n",
            "5000/5000 [==============================] - 141s 28ms/step - reward: -0.0214\n",
            "6 episodes - episode_reward: -20.333 [-21.000, -20.000] - loss: 0.012 - mean_absolute_error: 0.004 - mean_q: 0.000 - mean_eps: 0.984 - ale.lives: 0.000\n",
            "\n",
            "Interval 5 (20000 steps performed)\n",
            "5000/5000 [==============================] - 144s 29ms/step - reward: -0.0234\n",
            "5 episodes - episode_reward: -20.600 [-21.000, -20.000] - loss: 0.011 - mean_absolute_error: 0.004 - mean_q: 0.000 - mean_eps: 0.980 - ale.lives: 0.000\n",
            "\n",
            "Interval 6 (25000 steps performed)\n",
            "5000/5000 [==============================] - 140s 28ms/step - reward: -0.0200\n",
            "5 episodes - episode_reward: -19.800 [-21.000, -15.000] - loss: 0.012 - mean_absolute_error: 0.004 - mean_q: 0.000 - mean_eps: 0.975 - ale.lives: 0.000\n",
            "\n",
            "Interval 7 (30000 steps performed)\n",
            " 930/5000 [====>.........................] - ETA: 1:53 - reward: -0.0237Error al entrenar, se ha interrumpido el fit\n",
            "Pesos guardados\n",
            "Pesos guardados\n",
            "\n",
            "Ejecutando test.....\n",
            "Promedio Reward:  -21.0\n",
            "Promedio Steps:  824.0\n",
            "*****************************************************\n",
            "*****************************************************\n",
            "**                                                 **\n",
            "**                                                 **\n",
            "**                                                 **\n",
            "**                       6                         **\n",
            "**                                                 **\n",
            "**                                                 **\n",
            "**                                                 **\n",
            "*****************************************************\n",
            "*****************************************************\n",
            "Training for 500000 steps ...\n",
            "Interval 1 (0 steps performed)\n",
            "5000/5000 [==============================] - 17s 3ms/step - reward: -0.0230\n",
            "5 episodes - episode_reward: -20.200 [-21.000, -20.000] - ale.lives: 0.000\n",
            "\n",
            "Interval 2 (5000 steps performed)\n",
            "5000/5000 [==============================] - 18s 4ms/step - reward: -0.0218\n",
            "6 episodes - episode_reward: -20.000 [-21.000, -18.000] - ale.lives: 0.000\n",
            "\n",
            "Interval 3 (10000 steps performed)\n",
            "5000/5000 [==============================] - 139s 28ms/step - reward: -0.0218\n",
            "5 episodes - episode_reward: -20.600 [-21.000, -20.000] - loss: 0.012 - mean_absolute_error: 0.004 - mean_q: 0.000 - mean_eps: 0.989 - ale.lives: 0.000\n",
            "\n",
            "Interval 4 (15000 steps performed)\n",
            "5000/5000 [==============================] - 140s 28ms/step - reward: -0.0220\n",
            "5 episodes - episode_reward: -20.000 [-21.000, -19.000] - loss: 0.012 - mean_absolute_error: 0.004 - mean_q: 0.000 - mean_eps: 0.984 - ale.lives: 0.000\n",
            "\n",
            "Interval 5 (20000 steps performed)\n",
            "5000/5000 [==============================] - 142s 28ms/step - reward: -0.0202\n",
            "6 episodes - episode_reward: -20.000 [-21.000, -19.000] - loss: 0.012 - mean_absolute_error: 0.004 - mean_q: 0.000 - mean_eps: 0.980 - ale.lives: 0.000\n",
            "\n",
            "Interval 6 (25000 steps performed)\n",
            "5000/5000 [==============================] - 140s 28ms/step - reward: -0.0236\n",
            "5 episodes - episode_reward: -21.000 [-21.000, -21.000] - loss: 0.012 - mean_absolute_error: 0.004 - mean_q: 0.000 - mean_eps: 0.975 - ale.lives: 0.000\n",
            "\n",
            "Interval 7 (30000 steps performed)\n",
            " 391/5000 [=>............................] - ETA: 2:06 - reward: -0.0179Error al entrenar, se ha interrumpido el fit\n",
            "Pesos guardados\n",
            "Pesos guardados\n",
            "\n",
            "Ejecutando test.....\n",
            "Promedio Reward:  -20.8\n",
            "Promedio Steps:  843.2\n",
            "*****************************************************\n",
            "*****************************************************\n",
            "**                                                 **\n",
            "**                                                 **\n",
            "**                                                 **\n",
            "**                       7                         **\n",
            "**                                                 **\n",
            "**                                                 **\n",
            "**                                                 **\n",
            "*****************************************************\n",
            "*****************************************************\n",
            "Training for 500000 steps ...\n",
            "Interval 1 (0 steps performed)\n",
            "5000/5000 [==============================] - 17s 3ms/step - reward: -0.0208\n",
            "5 episodes - episode_reward: -20.400 [-21.000, -20.000] - ale.lives: 0.000\n",
            "\n",
            "Interval 2 (5000 steps performed)\n",
            "5000/5000 [==============================] - 17s 3ms/step - reward: -0.0230\n",
            "5 episodes - episode_reward: -20.600 [-21.000, -19.000] - ale.lives: 0.000\n",
            "\n",
            "Interval 3 (10000 steps performed)\n",
            "5000/5000 [==============================] - 141s 28ms/step - reward: -0.0236\n",
            "6 episodes - episode_reward: -20.333 [-21.000, -20.000] - loss: 0.012 - mean_absolute_error: 0.004 - mean_q: 0.000 - mean_eps: 0.989 - ale.lives: 0.000\n",
            "\n",
            "Interval 4 (15000 steps performed)\n",
            "5000/5000 [==============================] - 141s 28ms/step - reward: -0.0222\n",
            "5 episodes - episode_reward: -20.800 [-21.000, -20.000] - loss: 0.012 - mean_absolute_error: 0.004 - mean_q: 0.000 - mean_eps: 0.984 - ale.lives: 0.000\n",
            "\n",
            "Interval 5 (20000 steps performed)\n",
            "5000/5000 [==============================] - 143s 29ms/step - reward: -0.0216\n",
            "6 episodes - episode_reward: -20.167 [-21.000, -20.000] - loss: 0.011 - mean_absolute_error: 0.004 - mean_q: 0.000 - mean_eps: 0.980 - ale.lives: 0.000\n",
            "\n",
            "Interval 6 (25000 steps performed)\n",
            "5000/5000 [==============================] - 140s 28ms/step - reward: -0.0190\n",
            "4 episodes - episode_reward: -19.750 [-21.000, -18.000] - loss: 0.012 - mean_absolute_error: 0.004 - mean_q: 0.000 - mean_eps: 0.975 - ale.lives: 0.000\n",
            "\n",
            "Interval 7 (30000 steps performed)\n",
            " 842/5000 [====>.........................] - ETA: 1:55 - reward: -0.0261Error al entrenar, se ha interrumpido el fit\n",
            "Pesos guardados\n",
            "Pesos guardados\n",
            "\n",
            "Ejecutando test.....\n",
            "Promedio Reward:  -12.6\n",
            "Promedio Steps:  1795.2\n",
            "*****************************************************\n",
            "*****************************************************\n",
            "**                                                 **\n",
            "**                                                 **\n",
            "**                                                 **\n",
            "**                       8                         **\n",
            "**                                                 **\n",
            "**                                                 **\n",
            "**                                                 **\n",
            "*****************************************************\n",
            "*****************************************************\n",
            "Training for 500000 steps ...\n",
            "Interval 1 (0 steps performed)\n",
            "5000/5000 [==============================] - 17s 3ms/step - reward: -0.0200\n",
            "5 episodes - episode_reward: -20.000 [-21.000, -19.000] - ale.lives: 0.000\n",
            "\n",
            "Interval 2 (5000 steps performed)\n",
            "5000/5000 [==============================] - 17s 3ms/step - reward: -0.0234\n",
            "5 episodes - episode_reward: -20.800 [-21.000, -20.000] - ale.lives: 0.000\n",
            "\n",
            "Interval 3 (10000 steps performed)\n",
            "5000/5000 [==============================] - 140s 28ms/step - reward: -0.0216\n",
            "5 episodes - episode_reward: -20.200 [-21.000, -20.000] - loss: 0.012 - mean_absolute_error: 0.004 - mean_q: 0.000 - mean_eps: 0.989 - ale.lives: 0.000\n",
            "\n",
            "Interval 4 (15000 steps performed)\n",
            "5000/5000 [==============================] - 139s 28ms/step - reward: -0.0238\n",
            "6 episodes - episode_reward: -21.000 [-21.000, -21.000] - loss: 0.012 - mean_absolute_error: 0.004 - mean_q: 0.000 - mean_eps: 0.984 - ale.lives: 0.000\n",
            "\n",
            "Interval 5 (20000 steps performed)\n",
            "5000/5000 [==============================] - 139s 28ms/step - reward: -0.0238\n",
            "6 episodes - episode_reward: -20.667 [-21.000, -20.000] - loss: 0.012 - mean_absolute_error: 0.004 - mean_q: 0.000 - mean_eps: 0.980 - ale.lives: 0.000\n",
            "\n",
            "Interval 6 (25000 steps performed)\n",
            "5000/5000 [==============================] - 139s 28ms/step - reward: -0.0222\n",
            "5 episodes - episode_reward: -20.600 [-21.000, -20.000] - loss: 0.012 - mean_absolute_error: 0.004 - mean_q: 0.000 - mean_eps: 0.975 - ale.lives: 0.000\n",
            "\n",
            "Interval 7 (30000 steps performed)\n",
            " 169/5000 [>.............................] - ETA: 2:16 - reward: -0.0237Error al entrenar, se ha interrumpido el fit\n",
            "Pesos guardados\n",
            "Pesos guardados\n",
            "\n",
            "Ejecutando test.....\n",
            "Promedio Reward:  4.2\n",
            "Promedio Steps:  3773.6\n",
            "*****************************************************\n",
            "*****************************************************\n",
            "**                                                 **\n",
            "**                                                 **\n",
            "**                                                 **\n",
            "**                       9                         **\n",
            "**                                                 **\n",
            "**                                                 **\n",
            "**                                                 **\n",
            "*****************************************************\n",
            "*****************************************************\n",
            "Training for 500000 steps ...\n",
            "Interval 1 (0 steps performed)\n",
            "5000/5000 [==============================] - 17s 3ms/step - reward: -0.0220\n",
            "5 episodes - episode_reward: -20.400 [-21.000, -19.000] - ale.lives: 0.000\n",
            "\n",
            "Interval 2 (5000 steps performed)\n",
            "5000/5000 [==============================] - 18s 4ms/step - reward: -0.0202\n",
            "5 episodes - episode_reward: -19.800 [-21.000, -19.000] - ale.lives: 0.000\n",
            "\n",
            "Interval 3 (10000 steps performed)\n",
            "5000/5000 [==============================] - 140s 28ms/step - reward: -0.0234\n",
            "6 episodes - episode_reward: -20.500 [-21.000, -19.000] - loss: 0.011 - mean_absolute_error: 0.004 - mean_q: 0.000 - mean_eps: 0.989 - ale.lives: 0.000\n",
            "\n",
            "Interval 4 (15000 steps performed)\n",
            "5000/5000 [==============================] - 139s 28ms/step - reward: -0.0220\n",
            "5 episodes - episode_reward: -20.400 [-21.000, -20.000] - loss: 0.012 - mean_absolute_error: 0.004 - mean_q: 0.000 - mean_eps: 0.984 - ale.lives: 0.000\n",
            "\n",
            "Interval 5 (20000 steps performed)\n",
            "5000/5000 [==============================] - 138s 28ms/step - reward: -0.0194\n",
            "5 episodes - episode_reward: -19.800 [-21.000, -18.000] - loss: 0.012 - mean_absolute_error: 0.004 - mean_q: 0.000 - mean_eps: 0.980 - ale.lives: 0.000\n",
            "\n",
            "Interval 6 (25000 steps performed)\n",
            "5000/5000 [==============================] - 138s 28ms/step - reward: -0.0232\n",
            "6 episodes - episode_reward: -20.333 [-21.000, -20.000] - loss: 0.012 - mean_absolute_error: 0.004 - mean_q: 0.000 - mean_eps: 0.975 - ale.lives: 0.000\n",
            "\n",
            "Interval 7 (30000 steps performed)\n",
            " 583/5000 [==>...........................] - ETA: 2:02 - reward: -0.0292Error al entrenar, se ha interrumpido el fit\n",
            "Pesos guardados\n",
            "Pesos guardados\n",
            "\n",
            "Ejecutando test.....\n",
            "Promedio Reward:  -21.0\n",
            "Promedio Steps:  812.0\n",
            "*****************************************************\n",
            "*****************************************************\n",
            "**                                                 **\n",
            "**                                                 **\n",
            "**                                                 **\n",
            "**                       10                         **\n",
            "**                                                 **\n",
            "**                                                 **\n",
            "**                                                 **\n",
            "*****************************************************\n",
            "*****************************************************\n",
            "Training for 500000 steps ...\n",
            "Interval 1 (0 steps performed)\n",
            "5000/5000 [==============================] - 17s 3ms/step - reward: -0.0222\n",
            "5 episodes - episode_reward: -20.400 [-21.000, -19.000] - ale.lives: 0.000\n",
            "\n",
            "Interval 2 (5000 steps performed)\n",
            "5000/5000 [==============================] - 17s 3ms/step - reward: -0.0242\n",
            "6 episodes - episode_reward: -20.667 [-21.000, -20.000] - ale.lives: 0.000\n",
            "\n",
            "Interval 3 (10000 steps performed)\n",
            "5000/5000 [==============================] - 137s 27ms/step - reward: -0.0224\n",
            "5 episodes - episode_reward: -20.400 [-21.000, -20.000] - loss: 0.012 - mean_absolute_error: 0.004 - mean_q: 0.000 - mean_eps: 0.989 - ale.lives: 0.000\n",
            "\n",
            "Interval 4 (15000 steps performed)\n",
            "5000/5000 [==============================] - 138s 28ms/step - reward: -0.0222\n",
            "6 episodes - episode_reward: -20.333 [-21.000, -18.000] - loss: 0.012 - mean_absolute_error: 0.004 - mean_q: 0.000 - mean_eps: 0.984 - ale.lives: 0.000\n",
            "\n",
            "Interval 5 (20000 steps performed)\n",
            "5000/5000 [==============================] - 138s 28ms/step - reward: -0.0224\n",
            "5 episodes - episode_reward: -20.800 [-21.000, -20.000] - loss: 0.012 - mean_absolute_error: 0.004 - mean_q: 0.000 - mean_eps: 0.980 - ale.lives: 0.000\n",
            "\n",
            "Interval 6 (25000 steps performed)\n",
            "5000/5000 [==============================] - 137s 27ms/step - reward: -0.0192\n",
            "5 episodes - episode_reward: -20.000 [-21.000, -19.000] - loss: 0.012 - mean_absolute_error: 0.004 - mean_q: 0.000 - mean_eps: 0.975 - ale.lives: 0.000\n",
            "\n",
            "Interval 7 (30000 steps performed)\n",
            " 609/5000 [==>...........................] - ETA: 2:00 - reward: -0.0164Error al entrenar, se ha interrumpido el fit\n",
            "Pesos guardados\n",
            "Pesos guardados\n",
            "\n",
            "Ejecutando test.....\n",
            "Promedio Reward:  -4.2\n",
            "Promedio Steps:  2778.4\n",
            "*****************************************************\n",
            "*****************************************************\n",
            "**                                                 **\n",
            "**                                                 **\n",
            "**                                                 **\n",
            "**                       11                         **\n",
            "**                                                 **\n",
            "**                                                 **\n",
            "**                                                 **\n",
            "*****************************************************\n",
            "*****************************************************\n",
            "Training for 500000 steps ...\n",
            "Interval 1 (0 steps performed)\n",
            "5000/5000 [==============================] - 17s 3ms/step - reward: -0.0246\n",
            "5 episodes - episode_reward: -20.800 [-21.000, -20.000] - ale.lives: 0.000\n",
            "\n",
            "Interval 2 (5000 steps performed)\n",
            "5000/5000 [==============================] - 17s 3ms/step - reward: -0.0224\n",
            "6 episodes - episode_reward: -20.333 [-21.000, -19.000] - ale.lives: 0.000\n",
            "\n",
            "Interval 3 (10000 steps performed)\n",
            "5000/5000 [==============================] - 136s 27ms/step - reward: -0.0224\n",
            "5 episodes - episode_reward: -20.600 [-21.000, -20.000] - loss: 0.012 - mean_absolute_error: 0.004 - mean_q: 0.000 - mean_eps: 0.989 - ale.lives: 0.000\n",
            "\n",
            "Interval 4 (15000 steps performed)\n",
            "5000/5000 [==============================] - 137s 27ms/step - reward: -0.0220\n",
            "6 episodes - episode_reward: -20.500 [-21.000, -20.000] - loss: 0.012 - mean_absolute_error: 0.004 - mean_q: 0.000 - mean_eps: 0.984 - ale.lives: 0.000\n",
            "\n",
            "Interval 5 (20000 steps performed)\n",
            "5000/5000 [==============================] - 137s 27ms/step - reward: -0.0232\n",
            "5 episodes - episode_reward: -20.800 [-21.000, -20.000] - loss: 0.012 - mean_absolute_error: 0.004 - mean_q: 0.000 - mean_eps: 0.980 - ale.lives: 0.000\n",
            "\n",
            "Interval 6 (25000 steps performed)\n",
            "4680/5000 [===========================>..] - ETA: 8s - reward: -0.0220Error al entrenar, se ha interrumpido el fit\n",
            "Pesos guardados\n",
            "Pesos guardados\n",
            "\n",
            "Ejecutando test.....\n",
            "Promedio Reward:  -21.0\n",
            "Promedio Steps:  812.0\n",
            "*****************************************************\n",
            "*****************************************************\n",
            "**                                                 **\n",
            "**                                                 **\n",
            "**                                                 **\n",
            "**                       12                         **\n",
            "**                                                 **\n",
            "**                                                 **\n",
            "**                                                 **\n",
            "*****************************************************\n",
            "*****************************************************\n",
            "Training for 500000 steps ...\n",
            "Interval 1 (0 steps performed)\n",
            "5000/5000 [==============================] - 17s 3ms/step - reward: -0.0220\n",
            "5 episodes - episode_reward: -20.200 [-21.000, -20.000] - ale.lives: 0.000\n",
            "\n",
            "Interval 2 (5000 steps performed)\n",
            "5000/5000 [==============================] - 17s 3ms/step - reward: -0.0222\n",
            "5 episodes - episode_reward: -20.800 [-21.000, -20.000] - ale.lives: 0.000\n",
            "\n",
            "Interval 3 (10000 steps performed)\n",
            "5000/5000 [==============================] - 137s 27ms/step - reward: -0.0220\n",
            "6 episodes - episode_reward: -20.000 [-21.000, -19.000] - loss: 0.012 - mean_absolute_error: 0.004 - mean_q: 0.000 - mean_eps: 0.989 - ale.lives: 0.000\n",
            "\n",
            "Interval 4 (15000 steps performed)\n",
            "2512/5000 [==============>...............] - ETA: 1:08 - reward: -0.0207"
          ],
          "name": "stdout"
        }
      ]
    },
    {
      "cell_type": "code",
      "metadata": {
        "id": "7pNCgyU12pUz",
        "colab_type": "code",
        "colab": {}
      },
      "source": [
        "GuardarPesos(weights_filename)"
      ],
      "execution_count": 0,
      "outputs": []
    },
    {
      "cell_type": "markdown",
      "metadata": {
        "id": "5-vBgn_sehsw",
        "colab_type": "text"
      },
      "source": [
        "## Test"
      ]
    },
    {
      "cell_type": "code",
      "metadata": {
        "id": "zPW1aaSfUVZ4",
        "colab_type": "code",
        "colab": {}
      },
      "source": [
        "TestGeneral(15)"
      ],
      "execution_count": 0,
      "outputs": []
    }
  ]
}